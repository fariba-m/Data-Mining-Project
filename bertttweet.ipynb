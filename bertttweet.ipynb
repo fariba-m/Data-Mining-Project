{
  "cells": [
    {
      "cell_type": "markdown",
      "metadata": {
        "id": "view-in-github",
        "colab_type": "text"
      },
      "source": [
        "<a href=\"https://colab.research.google.com/github/fariba-m/Data-Mining-Project/blob/main/bertttweet.ipynb\" target=\"_parent\"><img src=\"https://colab.research.google.com/assets/colab-badge.svg\" alt=\"Open In Colab\"/></a>"
      ]
    },
    {
      "cell_type": "code",
      "execution_count": null,
      "metadata": {
        "colab": {
          "background_save": true,
          "base_uri": "https://localhost:8080/"
        },
        "id": "ErGdyZBS78ys",
        "outputId": "b0b79fe9-1d28-49e8-80dd-912885010a1a"
      },
      "outputs": [
        {
          "name": "stdout",
          "output_type": "stream",
          "text": [
            "bzip2: (stdin) is not a bzip2 file.\n",
            "tar: Child returned status 2\n",
            "tar: Error is not recoverable: exiting now\n"
          ]
        }
      ],
      "source": [
        "!tar -xvf public_mm_linux_main_2020.tar.bz2\n"
      ]
    },
    {
      "cell_type": "code",
      "execution_count": null,
      "metadata": {
        "colab": {
          "base_uri": "https://localhost:8080/"
        },
        "id": "H-OmOVsyMPyV",
        "outputId": "a4c3f698-693c-43dc-e8c7-a6081887d643"
      },
      "outputs": [
        {
          "name": "stdout",
          "output_type": "stream",
          "text": [
            "/usr/bin/java\n"
          ]
        }
      ],
      "source": [
        "!which java\n"
      ]
    },
    {
      "cell_type": "code",
      "execution_count": null,
      "metadata": {
        "colab": {
          "base_uri": "https://localhost:8080/"
        },
        "id": "zoErLjNUUx9P",
        "outputId": "8a9a93ed-932f-4849-ec65-8c38293f6e26"
      },
      "outputs": [
        {
          "name": "stdout",
          "output_type": "stream",
          "text": [
            "[Errno 2] No such file or directory: 'public_mm'\n",
            "/content\n"
          ]
        }
      ],
      "source": [
        "%cd public_mm"
      ]
    },
    {
      "cell_type": "code",
      "execution_count": null,
      "metadata": {
        "id": "8XlqKNYcNUHz"
      },
      "outputs": [],
      "source": [
        "!export JAVA_HOME=/usr/jre1.8"
      ]
    },
    {
      "cell_type": "code",
      "execution_count": null,
      "metadata": {
        "colab": {
          "base_uri": "https://localhost:8080/"
        },
        "id": "CENJ9bdrQRGz",
        "outputId": "6e172235-9417-4373-d32f-fc59c2d32e0b"
      },
      "outputs": [
        {
          "name": "stdout",
          "output_type": "stream",
          "text": [
            "Looking in indexes: https://pypi.org/simple, https://us-python.pkg.dev/colab-wheels/public/simple/\n",
            "Collecting git+https://github.com/AnthonyMRios/pymetamap.git\n",
            "  Cloning https://github.com/AnthonyMRios/pymetamap.git to /tmp/pip-req-build-_nca1pwf\n",
            "  Running command git clone -q https://github.com/AnthonyMRios/pymetamap.git /tmp/pip-req-build-_nca1pwf\n",
            "Building wheels for collected packages: pymetamap\n",
            "  Building wheel for pymetamap (setup.py) ... \u001b[?25l\u001b[?25hdone\n",
            "  Created wheel for pymetamap: filename=pymetamap-0.2-py3-none-any.whl size=16517 sha256=d5a3a3d86de0cce053fda7f8e6dd546024651cf097f4ea5cbfa13094737ae192\n",
            "  Stored in directory: /tmp/pip-ephem-wheel-cache-b7k6xxih/wheels/28/70/f2/2adb2775d8d5f0477bea3191849699cabf25ab748036cc53cb\n",
            "Successfully built pymetamap\n",
            "Installing collected packages: pymetamap\n",
            "Successfully installed pymetamap-0.2\n"
          ]
        }
      ],
      "source": [
        "!pip install git+https://github.com/AnthonyMRios/pymetamap.git\n"
      ]
    },
    {
      "cell_type": "code",
      "execution_count": null,
      "metadata": {
        "id": "FMwwvAZbOmNL"
      },
      "outputs": [],
      "source": [
        "from pymetamap import MetaMap\n"
      ]
    },
    {
      "cell_type": "code",
      "execution_count": null,
      "metadata": {
        "colab": {
          "base_uri": "https://localhost:8080/"
        },
        "id": "1Sut07AdbqMJ",
        "outputId": "f26de06a-b918-47ab-b2d8-8dfb180f59d6"
      },
      "outputs": [
        {
          "name": "stdout",
          "output_type": "stream",
          "text": [
            "Looking in indexes: https://pypi.org/simple, https://us-python.pkg.dev/colab-wheels/public/simple/\n",
            "Collecting emoji\n",
            "  Downloading emoji-2.2.0.tar.gz (240 kB)\n",
            "\u001b[K     |████████████████████████████████| 240 kB 33.1 MB/s \n",
            "\u001b[?25hBuilding wheels for collected packages: emoji\n",
            "  Building wheel for emoji (setup.py) ... \u001b[?25l\u001b[?25hdone\n",
            "  Created wheel for emoji: filename=emoji-2.2.0-py3-none-any.whl size=234926 sha256=2068d286bd789b3a3feaf1af38450ea5a4d43d00f4e2fa6b47e30cbf29c89164\n",
            "  Stored in directory: /root/.cache/pip/wheels/86/62/9e/a6b27a681abcde69970dbc0326ff51955f3beac72f15696984\n",
            "Successfully built emoji\n",
            "Installing collected packages: emoji\n",
            "Successfully installed emoji-2.2.0\n"
          ]
        }
      ],
      "source": [
        "!pip install emoji"
      ]
    },
    {
      "cell_type": "code",
      "execution_count": null,
      "metadata": {
        "colab": {
          "background_save": true,
          "base_uri": "https://localhost:8080/"
        },
        "id": "rao87FEjBfMT",
        "outputId": "bd19033d-bdd3-48d9-ac4c-4e60c5173af9"
      },
      "outputs": [
        {
          "name": "stdout",
          "output_type": "stream",
          "text": [
            "Looking in indexes: https://pypi.org/simple, https://us-python.pkg.dev/colab-wheels/public/simple/\n",
            "Collecting transformers\n",
            "  Downloading transformers-4.25.1-py3-none-any.whl (5.8 MB)\n",
            "\u001b[K     |████████████████████████████████| 5.8 MB 31.3 MB/s \n",
            "\u001b[?25hRequirement already satisfied: requests in /usr/local/lib/python3.8/dist-packages (from transformers) (2.23.0)\n",
            "Requirement already satisfied: filelock in /usr/local/lib/python3.8/dist-packages (from transformers) (3.8.0)\n",
            "Requirement already satisfied: regex!=2019.12.17 in /usr/local/lib/python3.8/dist-packages (from transformers) (2022.6.2)\n",
            "Collecting tokenizers!=0.11.3,<0.14,>=0.11.1\n",
            "  Downloading tokenizers-0.13.2-cp38-cp38-manylinux_2_17_x86_64.manylinux2014_x86_64.whl (7.6 MB)\n",
            "\u001b[K     |████████████████████████████████| 7.6 MB 69.1 MB/s \n",
            "\u001b[?25hCollecting huggingface-hub<1.0,>=0.10.0\n",
            "  Downloading huggingface_hub-0.11.1-py3-none-any.whl (182 kB)\n",
            "\u001b[K     |████████████████████████████████| 182 kB 85.4 MB/s \n",
            "\u001b[?25hRequirement already satisfied: tqdm>=4.27 in /usr/local/lib/python3.8/dist-packages (from transformers) (4.64.1)\n",
            "Requirement already satisfied: packaging>=20.0 in /usr/local/lib/python3.8/dist-packages (from transformers) (21.3)\n",
            "Requirement already satisfied: numpy>=1.17 in /usr/local/lib/python3.8/dist-packages (from transformers) (1.21.6)\n",
            "Requirement already satisfied: pyyaml>=5.1 in /usr/local/lib/python3.8/dist-packages (from transformers) (6.0)\n",
            "Requirement already satisfied: typing-extensions>=3.7.4.3 in /usr/local/lib/python3.8/dist-packages (from huggingface-hub<1.0,>=0.10.0->transformers) (4.4.0)\n",
            "Requirement already satisfied: pyparsing!=3.0.5,>=2.0.2 in /usr/local/lib/python3.8/dist-packages (from packaging>=20.0->transformers) (3.0.9)\n",
            "Requirement already satisfied: certifi>=2017.4.17 in /usr/local/lib/python3.8/dist-packages (from requests->transformers) (2022.9.24)\n",
            "Requirement already satisfied: urllib3!=1.25.0,!=1.25.1,<1.26,>=1.21.1 in /usr/local/lib/python3.8/dist-packages (from requests->transformers) (1.24.3)\n",
            "Requirement already satisfied: chardet<4,>=3.0.2 in /usr/local/lib/python3.8/dist-packages (from requests->transformers) (3.0.4)\n",
            "Requirement already satisfied: idna<3,>=2.5 in /usr/local/lib/python3.8/dist-packages (from requests->transformers) (2.10)\n",
            "Installing collected packages: tokenizers, huggingface-hub, transformers\n",
            "Successfully installed huggingface-hub-0.11.1 tokenizers-0.13.2 transformers-4.25.1\n"
          ]
        }
      ],
      "source": [
        "!pip install transformers"
      ]
    },
    {
      "cell_type": "code",
      "execution_count": null,
      "metadata": {
        "colab": {
          "background_save": true
        },
        "id": "w6CBL8U0Boz5",
        "outputId": "ea779fc0-89ca-4c90-abbe-8c96086e9532"
      },
      "outputs": [
        {
          "name": "stdout",
          "output_type": "stream",
          "text": [
            "Looking in indexes: https://pypi.org/simple, https://us-python.pkg.dev/colab-wheels/public/simple/\n",
            "Requirement already satisfied: tokenizers in /usr/local/lib/python3.8/dist-packages (0.13.2)\n"
          ]
        }
      ],
      "source": [
        "!pip3 install tokenizers"
      ]
    },
    {
      "cell_type": "code",
      "execution_count": null,
      "metadata": {
        "colab": {
          "background_save": true
        },
        "id": "M96cisV4EUGh",
        "outputId": "c7d9e469-39ac-491e-c095-d6fa5073ba16"
      },
      "outputs": [
        {
          "name": "stdout",
          "output_type": "stream",
          "text": [
            "Looking in indexes: https://pypi.org/simple, https://us-python.pkg.dev/colab-wheels/public/simple/\n",
            "Collecting keybert\n",
            "  Downloading keybert-0.7.0.tar.gz (21 kB)\n",
            "Collecting sentence-transformers>=0.3.8\n",
            "  Downloading sentence-transformers-2.2.2.tar.gz (85 kB)\n",
            "\u001b[K     |████████████████████████████████| 85 kB 4.5 MB/s \n",
            "\u001b[?25hRequirement already satisfied: scikit-learn>=0.22.2 in /usr/local/lib/python3.8/dist-packages (from keybert) (1.0.2)\n",
            "Requirement already satisfied: numpy>=1.18.5 in /usr/local/lib/python3.8/dist-packages (from keybert) (1.21.6)\n",
            "Collecting rich>=10.4.0\n",
            "  Downloading rich-12.6.0-py3-none-any.whl (237 kB)\n",
            "\u001b[K     |████████████████████████████████| 237 kB 74.3 MB/s \n",
            "\u001b[?25hRequirement already satisfied: typing-extensions<5.0,>=4.0.0 in /usr/local/lib/python3.8/dist-packages (from rich>=10.4.0->keybert) (4.4.0)\n",
            "Requirement already satisfied: pygments<3.0.0,>=2.6.0 in /usr/local/lib/python3.8/dist-packages (from rich>=10.4.0->keybert) (2.6.1)\n",
            "Collecting commonmark<0.10.0,>=0.9.0\n",
            "  Downloading commonmark-0.9.1-py2.py3-none-any.whl (51 kB)\n",
            "\u001b[K     |████████████████████████████████| 51 kB 7.7 MB/s \n",
            "\u001b[?25hRequirement already satisfied: scipy>=1.1.0 in /usr/local/lib/python3.8/dist-packages (from scikit-learn>=0.22.2->keybert) (1.7.3)\n",
            "Requirement already satisfied: threadpoolctl>=2.0.0 in /usr/local/lib/python3.8/dist-packages (from scikit-learn>=0.22.2->keybert) (3.1.0)\n",
            "Requirement already satisfied: joblib>=0.11 in /usr/local/lib/python3.8/dist-packages (from scikit-learn>=0.22.2->keybert) (1.2.0)\n",
            "Requirement already satisfied: transformers<5.0.0,>=4.6.0 in /usr/local/lib/python3.8/dist-packages (from sentence-transformers>=0.3.8->keybert) (4.25.1)\n",
            "Requirement already satisfied: tqdm in /usr/local/lib/python3.8/dist-packages (from sentence-transformers>=0.3.8->keybert) (4.64.1)\n",
            "Requirement already satisfied: torch>=1.6.0 in /usr/local/lib/python3.8/dist-packages (from sentence-transformers>=0.3.8->keybert) (1.13.0+cu116)\n",
            "Requirement already satisfied: torchvision in /usr/local/lib/python3.8/dist-packages (from sentence-transformers>=0.3.8->keybert) (0.14.0+cu116)\n",
            "Requirement already satisfied: nltk in /usr/local/lib/python3.8/dist-packages (from sentence-transformers>=0.3.8->keybert) (3.7)\n",
            "Collecting sentencepiece\n",
            "  Downloading sentencepiece-0.1.97-cp38-cp38-manylinux_2_17_x86_64.manylinux2014_x86_64.whl (1.3 MB)\n",
            "\u001b[K     |████████████████████████████████| 1.3 MB 69.7 MB/s \n",
            "\u001b[?25hRequirement already satisfied: huggingface-hub>=0.4.0 in /usr/local/lib/python3.8/dist-packages (from sentence-transformers>=0.3.8->keybert) (0.11.1)\n",
            "Requirement already satisfied: requests in /usr/local/lib/python3.8/dist-packages (from huggingface-hub>=0.4.0->sentence-transformers>=0.3.8->keybert) (2.23.0)\n",
            "Requirement already satisfied: pyyaml>=5.1 in /usr/local/lib/python3.8/dist-packages (from huggingface-hub>=0.4.0->sentence-transformers>=0.3.8->keybert) (6.0)\n",
            "Requirement already satisfied: packaging>=20.9 in /usr/local/lib/python3.8/dist-packages (from huggingface-hub>=0.4.0->sentence-transformers>=0.3.8->keybert) (21.3)\n",
            "Requirement already satisfied: filelock in /usr/local/lib/python3.8/dist-packages (from huggingface-hub>=0.4.0->sentence-transformers>=0.3.8->keybert) (3.8.0)\n",
            "Requirement already satisfied: pyparsing!=3.0.5,>=2.0.2 in /usr/local/lib/python3.8/dist-packages (from packaging>=20.9->huggingface-hub>=0.4.0->sentence-transformers>=0.3.8->keybert) (3.0.9)\n",
            "Requirement already satisfied: regex!=2019.12.17 in /usr/local/lib/python3.8/dist-packages (from transformers<5.0.0,>=4.6.0->sentence-transformers>=0.3.8->keybert) (2022.6.2)\n",
            "Requirement already satisfied: tokenizers!=0.11.3,<0.14,>=0.11.1 in /usr/local/lib/python3.8/dist-packages (from transformers<5.0.0,>=4.6.0->sentence-transformers>=0.3.8->keybert) (0.13.2)\n",
            "Requirement already satisfied: click in /usr/local/lib/python3.8/dist-packages (from nltk->sentence-transformers>=0.3.8->keybert) (7.1.2)\n",
            "Requirement already satisfied: idna<3,>=2.5 in /usr/local/lib/python3.8/dist-packages (from requests->huggingface-hub>=0.4.0->sentence-transformers>=0.3.8->keybert) (2.10)\n",
            "Requirement already satisfied: urllib3!=1.25.0,!=1.25.1,<1.26,>=1.21.1 in /usr/local/lib/python3.8/dist-packages (from requests->huggingface-hub>=0.4.0->sentence-transformers>=0.3.8->keybert) (1.24.3)\n",
            "Requirement already satisfied: chardet<4,>=3.0.2 in /usr/local/lib/python3.8/dist-packages (from requests->huggingface-hub>=0.4.0->sentence-transformers>=0.3.8->keybert) (3.0.4)\n",
            "Requirement already satisfied: certifi>=2017.4.17 in /usr/local/lib/python3.8/dist-packages (from requests->huggingface-hub>=0.4.0->sentence-transformers>=0.3.8->keybert) (2022.9.24)\n",
            "Requirement already satisfied: pillow!=8.3.*,>=5.3.0 in /usr/local/lib/python3.8/dist-packages (from torchvision->sentence-transformers>=0.3.8->keybert) (7.1.2)\n",
            "Building wheels for collected packages: keybert, sentence-transformers\n",
            "  Building wheel for keybert (setup.py) ... \u001b[?25l\u001b[?25hdone\n",
            "  Created wheel for keybert: filename=keybert-0.7.0-py3-none-any.whl size=23800 sha256=1782e335213ef452aee27f9898e2414aec49fe56905e95d86dac9eb12bccdcca\n",
            "  Stored in directory: /root/.cache/pip/wheels/6c/bc/8b/a51bee77aec33895e6c8c236144b4cc10875659c4d2c80f070\n",
            "  Building wheel for sentence-transformers (setup.py) ... \u001b[?25l\u001b[?25hdone\n",
            "  Created wheel for sentence-transformers: filename=sentence_transformers-2.2.2-py3-none-any.whl size=125938 sha256=87f561e8468f5b3aa8fe5d7086d7a7397961bc4fe73d9239a64a6224a5fd2495\n",
            "  Stored in directory: /root/.cache/pip/wheels/5e/6f/8c/d88aec621f3f542d26fac0342bef5e693335d125f4e54aeffe\n",
            "Successfully built keybert sentence-transformers\n",
            "Installing collected packages: sentencepiece, commonmark, sentence-transformers, rich, keybert\n",
            "Successfully installed commonmark-0.9.1 keybert-0.7.0 rich-12.6.0 sentence-transformers-2.2.2 sentencepiece-0.1.97\n"
          ]
        }
      ],
      "source": [
        "!pip install keybert"
      ]
    },
    {
      "cell_type": "code",
      "execution_count": null,
      "metadata": {
        "colab": {
          "background_save": true,
          "base_uri": "https://localhost:8080/"
        },
        "id": "ovtBHJWseNpv",
        "outputId": "1ab4b04f-9a77-4a74-f7c7-51b0965aa432"
      },
      "outputs": [
        {
          "name": "stdout",
          "output_type": "stream",
          "text": [
            "Looking in indexes: https://pypi.org/simple, https://us-python.pkg.dev/colab-wheels/public/simple/\n",
            "Collecting flair\n",
            "  Downloading flair-0.11.3-py3-none-any.whl (401 kB)\n",
            "\u001b[K     |████████████████████████████████| 401 kB 28.8 MB/s \n",
            "\u001b[?25hRequirement already satisfied: gensim>=3.4.0 in /usr/local/lib/python3.8/dist-packages (from flair) (3.6.0)\n",
            "Collecting sentencepiece==0.1.95\n",
            "  Downloading sentencepiece-0.1.95-cp38-cp38-manylinux2014_x86_64.whl (1.2 MB)\n",
            "\u001b[K     |████████████████████████████████| 1.2 MB 59.0 MB/s \n",
            "\u001b[?25hRequirement already satisfied: huggingface-hub in /usr/local/lib/python3.8/dist-packages (from flair) (0.11.1)\n",
            "Requirement already satisfied: regex in /usr/local/lib/python3.8/dist-packages (from flair) (2022.6.2)\n",
            "Collecting conllu>=4.0\n",
            "  Downloading conllu-4.5.2-py2.py3-none-any.whl (16 kB)\n",
            "Collecting deprecated>=1.2.4\n",
            "  Downloading Deprecated-1.2.13-py2.py3-none-any.whl (9.6 kB)\n",
            "Collecting hyperopt>=0.2.7\n",
            "  Downloading hyperopt-0.2.7-py2.py3-none-any.whl (1.6 MB)\n",
            "\u001b[K     |████████████████████████████████| 1.6 MB 66.8 MB/s \n",
            "\u001b[?25hCollecting langdetect\n",
            "  Downloading langdetect-1.0.9.tar.gz (981 kB)\n",
            "\u001b[K     |████████████████████████████████| 981 kB 63.3 MB/s \n",
            "\u001b[?25hCollecting segtok>=1.5.7\n",
            "  Downloading segtok-1.5.11-py3-none-any.whl (24 kB)\n",
            "Requirement already satisfied: transformers>=4.0.0 in /usr/local/lib/python3.8/dist-packages (from flair) (4.25.1)\n",
            "Requirement already satisfied: tqdm>=4.26.0 in /usr/local/lib/python3.8/dist-packages (from flair) (4.64.1)\n",
            "Requirement already satisfied: tabulate in /usr/local/lib/python3.8/dist-packages (from flair) (0.8.10)\n",
            "Collecting ftfy\n",
            "  Downloading ftfy-6.1.1-py3-none-any.whl (53 kB)\n",
            "\u001b[K     |████████████████████████████████| 53 kB 1.8 MB/s \n",
            "\u001b[?25hRequirement already satisfied: gdown==4.4.0 in /usr/local/lib/python3.8/dist-packages (from flair) (4.4.0)\n",
            "Collecting janome\n",
            "  Downloading Janome-0.4.2-py2.py3-none-any.whl (19.7 MB)\n",
            "\u001b[K     |████████████████████████████████| 19.7 MB 1.2 MB/s \n",
            "\u001b[?25hRequirement already satisfied: python-dateutil>=2.6.1 in /usr/local/lib/python3.8/dist-packages (from flair) (2.8.2)\n",
            "Requirement already satisfied: more-itertools in /usr/local/lib/python3.8/dist-packages (from flair) (9.0.0)\n",
            "Collecting konoha<5.0.0,>=4.0.0\n",
            "  Downloading konoha-4.6.5-py3-none-any.whl (20 kB)\n",
            "Collecting mpld3==0.3\n",
            "  Downloading mpld3-0.3.tar.gz (788 kB)\n",
            "\u001b[K     |████████████████████████████████| 788 kB 74.7 MB/s \n",
            "\u001b[?25hRequirement already satisfied: lxml in /usr/local/lib/python3.8/dist-packages (from flair) (4.9.1)\n",
            "Collecting bpemb>=0.3.2\n",
            "  Downloading bpemb-0.3.4-py3-none-any.whl (19 kB)\n",
            "Collecting pptree\n",
            "  Downloading pptree-3.1.tar.gz (3.0 kB)\n",
            "Requirement already satisfied: scikit-learn>=0.21.3 in /usr/local/lib/python3.8/dist-packages (from flair) (1.0.2)\n",
            "Collecting wikipedia-api\n",
            "  Downloading Wikipedia-API-0.5.4.tar.gz (18 kB)\n",
            "Collecting sqlitedict>=1.6.0\n",
            "  Downloading sqlitedict-2.1.0.tar.gz (21 kB)\n",
            "Requirement already satisfied: torch!=1.8,>=1.5.0 in /usr/local/lib/python3.8/dist-packages (from flair) (1.13.0+cu116)\n",
            "Requirement already satisfied: matplotlib>=2.2.3 in /usr/local/lib/python3.8/dist-packages (from flair) (3.2.2)\n",
            "Requirement already satisfied: six in /usr/local/lib/python3.8/dist-packages (from gdown==4.4.0->flair) (1.15.0)\n",
            "Requirement already satisfied: requests[socks] in /usr/local/lib/python3.8/dist-packages (from gdown==4.4.0->flair) (2.23.0)\n",
            "Requirement already satisfied: beautifulsoup4 in /usr/local/lib/python3.8/dist-packages (from gdown==4.4.0->flair) (4.6.3)\n",
            "Requirement already satisfied: filelock in /usr/local/lib/python3.8/dist-packages (from gdown==4.4.0->flair) (3.8.0)\n",
            "Requirement already satisfied: numpy in /usr/local/lib/python3.8/dist-packages (from bpemb>=0.3.2->flair) (1.21.6)\n",
            "Requirement already satisfied: wrapt<2,>=1.10 in /usr/local/lib/python3.8/dist-packages (from deprecated>=1.2.4->flair) (1.14.1)\n",
            "Requirement already satisfied: scipy>=0.18.1 in /usr/local/lib/python3.8/dist-packages (from gensim>=3.4.0->flair) (1.7.3)\n",
            "Requirement already satisfied: smart-open>=1.2.1 in /usr/local/lib/python3.8/dist-packages (from gensim>=3.4.0->flair) (5.2.1)\n",
            "Requirement already satisfied: networkx>=2.2 in /usr/local/lib/python3.8/dist-packages (from hyperopt>=0.2.7->flair) (2.8.8)\n",
            "Collecting py4j\n",
            "  Downloading py4j-0.10.9.7-py2.py3-none-any.whl (200 kB)\n",
            "\u001b[K     |████████████████████████████████| 200 kB 68.9 MB/s \n",
            "\u001b[?25hRequirement already satisfied: cloudpickle in /usr/local/lib/python3.8/dist-packages (from hyperopt>=0.2.7->flair) (1.5.0)\n",
            "Requirement already satisfied: future in /usr/local/lib/python3.8/dist-packages (from hyperopt>=0.2.7->flair) (0.16.0)\n",
            "Collecting requests\n",
            "  Downloading requests-2.28.1-py3-none-any.whl (62 kB)\n",
            "\u001b[K     |████████████████████████████████| 62 kB 1.5 MB/s \n",
            "\u001b[?25hCollecting overrides<4.0.0,>=3.0.0\n",
            "  Downloading overrides-3.1.0.tar.gz (11 kB)\n",
            "Collecting importlib-metadata<4.0.0,>=3.7.0\n",
            "  Downloading importlib_metadata-3.10.1-py3-none-any.whl (14 kB)\n",
            "Requirement already satisfied: zipp>=0.5 in /usr/local/lib/python3.8/dist-packages (from importlib-metadata<4.0.0,>=3.7.0->konoha<5.0.0,>=4.0.0->flair) (3.11.0)\n",
            "Requirement already satisfied: kiwisolver>=1.0.1 in /usr/local/lib/python3.8/dist-packages (from matplotlib>=2.2.3->flair) (1.4.4)\n",
            "Requirement already satisfied: pyparsing!=2.0.4,!=2.1.2,!=2.1.6,>=2.0.1 in /usr/local/lib/python3.8/dist-packages (from matplotlib>=2.2.3->flair) (3.0.9)\n",
            "Requirement already satisfied: cycler>=0.10 in /usr/local/lib/python3.8/dist-packages (from matplotlib>=2.2.3->flair) (0.11.0)\n",
            "Requirement already satisfied: charset-normalizer<3,>=2 in /usr/local/lib/python3.8/dist-packages (from requests->bpemb>=0.3.2->flair) (2.1.1)\n",
            "Requirement already satisfied: certifi>=2017.4.17 in /usr/local/lib/python3.8/dist-packages (from requests->bpemb>=0.3.2->flair) (2022.9.24)\n",
            "Requirement already satisfied: urllib3<1.27,>=1.21.1 in /usr/local/lib/python3.8/dist-packages (from requests->bpemb>=0.3.2->flair) (1.24.3)\n",
            "Requirement already satisfied: idna<4,>=2.5 in /usr/local/lib/python3.8/dist-packages (from requests->bpemb>=0.3.2->flair) (2.10)\n",
            "Requirement already satisfied: threadpoolctl>=2.0.0 in /usr/local/lib/python3.8/dist-packages (from scikit-learn>=0.21.3->flair) (3.1.0)\n",
            "Requirement already satisfied: joblib>=0.11 in /usr/local/lib/python3.8/dist-packages (from scikit-learn>=0.21.3->flair) (1.2.0)\n",
            "Requirement already satisfied: typing-extensions in /usr/local/lib/python3.8/dist-packages (from torch!=1.8,>=1.5.0->flair) (4.4.0)\n",
            "Requirement already satisfied: pyyaml>=5.1 in /usr/local/lib/python3.8/dist-packages (from transformers>=4.0.0->flair) (6.0)\n",
            "Requirement already satisfied: packaging>=20.0 in /usr/local/lib/python3.8/dist-packages (from transformers>=4.0.0->flair) (21.3)\n",
            "Requirement already satisfied: tokenizers!=0.11.3,<0.14,>=0.11.1 in /usr/local/lib/python3.8/dist-packages (from transformers>=4.0.0->flair) (0.13.2)\n",
            "Requirement already satisfied: wcwidth>=0.2.5 in /usr/local/lib/python3.8/dist-packages (from ftfy->flair) (0.2.5)\n",
            "Requirement already satisfied: PySocks!=1.5.7,>=1.5.6 in /usr/local/lib/python3.8/dist-packages (from requests->bpemb>=0.3.2->flair) (1.7.1)\n",
            "Building wheels for collected packages: mpld3, overrides, sqlitedict, langdetect, pptree, wikipedia-api\n",
            "  Building wheel for mpld3 (setup.py) ... \u001b[?25l\u001b[?25hdone\n",
            "  Created wheel for mpld3: filename=mpld3-0.3-py3-none-any.whl size=116702 sha256=77dcf6dc5bef6ed0409da5be6373d8ae7a727e88e1e04adcccdb9169fe20c10c\n",
            "  Stored in directory: /root/.cache/pip/wheels/3d/9f/9d/d806a20bd97bc7076d724fa3e69fa5be61836ba16b2ffa6126\n",
            "  Building wheel for overrides (setup.py) ... \u001b[?25l\u001b[?25hdone\n",
            "  Created wheel for overrides: filename=overrides-3.1.0-py3-none-any.whl size=10187 sha256=38b4361e4d83aaa8ec2409cf97d26f4f3de3ac3f6c44e6142a87e7acb5d65e15\n",
            "  Stored in directory: /root/.cache/pip/wheels/6a/4f/72/28857f75625b263e2e3f5ab2fc4416c0a85960ac6485007eaa\n",
            "  Building wheel for sqlitedict (setup.py) ... \u001b[?25l\u001b[?25hdone\n",
            "  Created wheel for sqlitedict: filename=sqlitedict-2.1.0-py3-none-any.whl size=16869 sha256=192c9bb1979294f95efbb482efdb7b2479dcef298e183162d8e2ea54b32da064\n",
            "  Stored in directory: /root/.cache/pip/wheels/04/c6/16/46e174009277f9bccdaa7215a243939d2f70180804b249bf3a\n",
            "  Building wheel for langdetect (setup.py) ... \u001b[?25l\u001b[?25hdone\n",
            "  Created wheel for langdetect: filename=langdetect-1.0.9-py3-none-any.whl size=993242 sha256=409c567f84ff7fe37def31603264e1fbff89535771b246c61ef1a3f81cf6cbff\n",
            "  Stored in directory: /root/.cache/pip/wheels/13/c7/b0/79f66658626032e78fc1a83103690ef6797d551cb22e56e734\n",
            "  Building wheel for pptree (setup.py) ... \u001b[?25l\u001b[?25hdone\n",
            "  Created wheel for pptree: filename=pptree-3.1-py3-none-any.whl size=4629 sha256=3d70fb90143d3b80af4ce7e5516a9cdeb51b79b0d05b6a9d78939a8f99b39df0\n",
            "  Stored in directory: /root/.cache/pip/wheels/e1/8b/30/5b20240d3d13a9dfafb6a6dd49d1b541c86d39812cb3690edf\n",
            "  Building wheel for wikipedia-api (setup.py) ... \u001b[?25l\u001b[?25hdone\n",
            "  Created wheel for wikipedia-api: filename=Wikipedia_API-0.5.4-py3-none-any.whl size=13476 sha256=6b9fcd3d0691caa839db0c46246cdfa4cbb078b72e60fb744a2ce9d159a64989\n",
            "  Stored in directory: /root/.cache/pip/wheels/ed/88/e3/da3d4d73cb91d659488cfa25913b84bbc26febec99d257bce9\n",
            "Successfully built mpld3 overrides sqlitedict langdetect pptree wikipedia-api\n",
            "Installing collected packages: requests, sentencepiece, py4j, overrides, importlib-metadata, wikipedia-api, sqlitedict, segtok, pptree, mpld3, langdetect, konoha, janome, hyperopt, ftfy, deprecated, conllu, bpemb, flair\n",
            "  Attempting uninstall: requests\n",
            "    Found existing installation: requests 2.23.0\n",
            "    Uninstalling requests-2.23.0:\n",
            "      Successfully uninstalled requests-2.23.0\n",
            "  Attempting uninstall: sentencepiece\n",
            "    Found existing installation: sentencepiece 0.1.97\n",
            "    Uninstalling sentencepiece-0.1.97:\n",
            "      Successfully uninstalled sentencepiece-0.1.97\n",
            "  Attempting uninstall: importlib-metadata\n",
            "    Found existing installation: importlib-metadata 4.13.0\n",
            "    Uninstalling importlib-metadata-4.13.0:\n",
            "      Successfully uninstalled importlib-metadata-4.13.0\n",
            "  Attempting uninstall: hyperopt\n",
            "    Found existing installation: hyperopt 0.1.2\n",
            "    Uninstalling hyperopt-0.1.2:\n",
            "      Successfully uninstalled hyperopt-0.1.2\n",
            "\u001b[31mERROR: pip's dependency resolver does not currently take into account all the packages that are installed. This behaviour is the source of the following dependency conflicts.\n",
            "markdown 3.4.1 requires importlib-metadata>=4.4; python_version < \"3.10\", but you have importlib-metadata 3.10.1 which is incompatible.\n",
            "gym 0.25.2 requires importlib-metadata>=4.8.0; python_version < \"3.10\", but you have importlib-metadata 3.10.1 which is incompatible.\u001b[0m\n",
            "Successfully installed bpemb-0.3.4 conllu-4.5.2 deprecated-1.2.13 flair-0.11.3 ftfy-6.1.1 hyperopt-0.2.7 importlib-metadata-3.10.1 janome-0.4.2 konoha-4.6.5 langdetect-1.0.9 mpld3-0.3 overrides-3.1.0 pptree-3.1 py4j-0.10.9.7 requests-2.28.1 segtok-1.5.11 sentencepiece-0.1.95 sqlitedict-2.1.0 wikipedia-api-0.5.4\n"
          ]
        }
      ],
      "source": [
        "!pip install flair"
      ]
    },
    {
      "cell_type": "code",
      "execution_count": null,
      "metadata": {
        "colab": {
          "background_save": true,
          "base_uri": "https://localhost:8080/"
        },
        "id": "-WIMN_OjpeLz",
        "outputId": "5790c5a3-cf88-48f6-d71b-b1ec032fef28"
      },
      "outputs": [
        {
          "name": "stdout",
          "output_type": "stream",
          "text": [
            "Looking in indexes: https://pypi.org/simple, https://us-python.pkg.dev/colab-wheels/public/simple/\n",
            "Requirement already satisfied: spacy in /usr/local/lib/python3.8/dist-packages (3.4.3)\n",
            "Requirement already satisfied: pydantic!=1.8,!=1.8.1,<1.11.0,>=1.7.4 in /usr/local/lib/python3.8/dist-packages (from spacy) (1.10.2)\n",
            "Requirement already satisfied: langcodes<4.0.0,>=3.2.0 in /usr/local/lib/python3.8/dist-packages (from spacy) (3.3.0)\n",
            "Requirement already satisfied: typer<0.8.0,>=0.3.0 in /usr/local/lib/python3.8/dist-packages (from spacy) (0.7.0)\n",
            "Requirement already satisfied: tqdm<5.0.0,>=4.38.0 in /usr/local/lib/python3.8/dist-packages (from spacy) (4.64.1)\n",
            "Requirement already satisfied: srsly<3.0.0,>=2.4.3 in /usr/local/lib/python3.8/dist-packages (from spacy) (2.4.5)\n",
            "Requirement already satisfied: numpy>=1.15.0 in /usr/local/lib/python3.8/dist-packages (from spacy) (1.21.6)\n",
            "Requirement already satisfied: preshed<3.1.0,>=3.0.2 in /usr/local/lib/python3.8/dist-packages (from spacy) (3.0.8)\n",
            "Requirement already satisfied: spacy-legacy<3.1.0,>=3.0.10 in /usr/local/lib/python3.8/dist-packages (from spacy) (3.0.10)\n",
            "Requirement already satisfied: requests<3.0.0,>=2.13.0 in /usr/local/lib/python3.8/dist-packages (from spacy) (2.28.1)\n",
            "Requirement already satisfied: murmurhash<1.1.0,>=0.28.0 in /usr/local/lib/python3.8/dist-packages (from spacy) (1.0.9)\n",
            "Requirement already satisfied: jinja2 in /usr/local/lib/python3.8/dist-packages (from spacy) (2.11.3)\n",
            "Requirement already satisfied: setuptools in /usr/local/lib/python3.8/dist-packages (from spacy) (57.4.0)\n",
            "Requirement already satisfied: catalogue<2.1.0,>=2.0.6 in /usr/local/lib/python3.8/dist-packages (from spacy) (2.0.8)\n",
            "Requirement already satisfied: pathy>=0.3.5 in /usr/local/lib/python3.8/dist-packages (from spacy) (0.10.0)\n",
            "Requirement already satisfied: thinc<8.2.0,>=8.1.0 in /usr/local/lib/python3.8/dist-packages (from spacy) (8.1.5)\n",
            "Requirement already satisfied: packaging>=20.0 in /usr/local/lib/python3.8/dist-packages (from spacy) (21.3)\n",
            "Requirement already satisfied: wasabi<1.1.0,>=0.9.1 in /usr/local/lib/python3.8/dist-packages (from spacy) (0.10.1)\n",
            "Requirement already satisfied: spacy-loggers<2.0.0,>=1.0.0 in /usr/local/lib/python3.8/dist-packages (from spacy) (1.0.3)\n",
            "Requirement already satisfied: cymem<2.1.0,>=2.0.2 in /usr/local/lib/python3.8/dist-packages (from spacy) (2.0.7)\n",
            "Requirement already satisfied: pyparsing!=3.0.5,>=2.0.2 in /usr/local/lib/python3.8/dist-packages (from packaging>=20.0->spacy) (3.0.9)\n",
            "Requirement already satisfied: smart-open<6.0.0,>=5.2.1 in /usr/local/lib/python3.8/dist-packages (from pathy>=0.3.5->spacy) (5.2.1)\n",
            "Requirement already satisfied: typing-extensions>=4.1.0 in /usr/local/lib/python3.8/dist-packages (from pydantic!=1.8,!=1.8.1,<1.11.0,>=1.7.4->spacy) (4.4.0)\n",
            "Requirement already satisfied: urllib3<1.27,>=1.21.1 in /usr/local/lib/python3.8/dist-packages (from requests<3.0.0,>=2.13.0->spacy) (1.24.3)\n",
            "Requirement already satisfied: certifi>=2017.4.17 in /usr/local/lib/python3.8/dist-packages (from requests<3.0.0,>=2.13.0->spacy) (2022.9.24)\n",
            "Requirement already satisfied: charset-normalizer<3,>=2 in /usr/local/lib/python3.8/dist-packages (from requests<3.0.0,>=2.13.0->spacy) (2.1.1)\n",
            "Requirement already satisfied: idna<4,>=2.5 in /usr/local/lib/python3.8/dist-packages (from requests<3.0.0,>=2.13.0->spacy) (2.10)\n",
            "Requirement already satisfied: blis<0.8.0,>=0.7.8 in /usr/local/lib/python3.8/dist-packages (from thinc<8.2.0,>=8.1.0->spacy) (0.7.9)\n",
            "Requirement already satisfied: confection<1.0.0,>=0.0.1 in /usr/local/lib/python3.8/dist-packages (from thinc<8.2.0,>=8.1.0->spacy) (0.0.3)\n",
            "Requirement already satisfied: click<9.0.0,>=7.1.1 in /usr/local/lib/python3.8/dist-packages (from typer<0.8.0,>=0.3.0->spacy) (7.1.2)\n",
            "Requirement already satisfied: MarkupSafe>=0.23 in /usr/local/lib/python3.8/dist-packages (from jinja2->spacy) (2.0.1)\n"
          ]
        }
      ],
      "source": [
        "!pip install -U spacy\n"
      ]
    },
    {
      "cell_type": "code",
      "execution_count": null,
      "metadata": {
        "colab": {
          "background_save": true,
          "base_uri": "https://localhost:8080/"
        },
        "id": "HIYNN3OXrMWH",
        "outputId": "486eef4d-89df-48df-ed23-2e7188204769"
      },
      "outputs": [
        {
          "name": "stdout",
          "output_type": "stream",
          "text": [
            "Looking in indexes: https://pypi.org/simple, https://us-python.pkg.dev/colab-wheels/public/simple/\n",
            "Collecting scispacy\n",
            "  Downloading scispacy-0.5.1-py3-none-any.whl (44 kB)\n",
            "\u001b[K     |████████████████████████████████| 44 kB 3.0 MB/s \n",
            "\u001b[?25hRequirement already satisfied: spacy<3.5.0,>=3.4.0 in /usr/local/lib/python3.8/dist-packages (from scispacy) (3.4.3)\n",
            "Requirement already satisfied: joblib in /usr/local/lib/python3.8/dist-packages (from scispacy) (1.2.0)\n",
            "Collecting pysbd\n",
            "  Downloading pysbd-0.3.4-py3-none-any.whl (71 kB)\n",
            "\u001b[K     |████████████████████████████████| 71 kB 9.6 MB/s \n",
            "\u001b[?25hCollecting nmslib>=1.7.3.6\n",
            "  Downloading nmslib-2.1.1-cp38-cp38-manylinux2010_x86_64.whl (13.4 MB)\n",
            "\u001b[K     |████████████████████████████████| 13.4 MB 48.4 MB/s \n",
            "\u001b[?25hRequirement already satisfied: numpy in /usr/local/lib/python3.8/dist-packages (from scispacy) (1.21.6)\n",
            "Requirement already satisfied: requests<3.0.0,>=2.0.0 in /usr/local/lib/python3.8/dist-packages (from scispacy) (2.28.1)\n",
            "Requirement already satisfied: conllu in /usr/local/lib/python3.8/dist-packages (from scispacy) (4.5.2)\n",
            "Requirement already satisfied: scikit-learn>=0.20.3 in /usr/local/lib/python3.8/dist-packages (from scispacy) (1.0.2)\n",
            "Collecting pybind11<2.6.2\n",
            "  Downloading pybind11-2.6.1-py2.py3-none-any.whl (188 kB)\n",
            "\u001b[K     |████████████████████████████████| 188 kB 74.7 MB/s \n",
            "\u001b[?25hRequirement already satisfied: psutil in /usr/local/lib/python3.8/dist-packages (from nmslib>=1.7.3.6->scispacy) (5.4.8)\n",
            "Requirement already satisfied: urllib3<1.27,>=1.21.1 in /usr/local/lib/python3.8/dist-packages (from requests<3.0.0,>=2.0.0->scispacy) (1.24.3)\n",
            "Requirement already satisfied: certifi>=2017.4.17 in /usr/local/lib/python3.8/dist-packages (from requests<3.0.0,>=2.0.0->scispacy) (2022.9.24)\n",
            "Requirement already satisfied: charset-normalizer<3,>=2 in /usr/local/lib/python3.8/dist-packages (from requests<3.0.0,>=2.0.0->scispacy) (2.1.1)\n",
            "Requirement already satisfied: idna<4,>=2.5 in /usr/local/lib/python3.8/dist-packages (from requests<3.0.0,>=2.0.0->scispacy) (2.10)\n",
            "Requirement already satisfied: scipy>=1.1.0 in /usr/local/lib/python3.8/dist-packages (from scikit-learn>=0.20.3->scispacy) (1.7.3)\n",
            "Requirement already satisfied: threadpoolctl>=2.0.0 in /usr/local/lib/python3.8/dist-packages (from scikit-learn>=0.20.3->scispacy) (3.1.0)\n",
            "Requirement already satisfied: srsly<3.0.0,>=2.4.3 in /usr/local/lib/python3.8/dist-packages (from spacy<3.5.0,>=3.4.0->scispacy) (2.4.5)\n",
            "Requirement already satisfied: packaging>=20.0 in /usr/local/lib/python3.8/dist-packages (from spacy<3.5.0,>=3.4.0->scispacy) (21.3)\n",
            "Requirement already satisfied: spacy-legacy<3.1.0,>=3.0.10 in /usr/local/lib/python3.8/dist-packages (from spacy<3.5.0,>=3.4.0->scispacy) (3.0.10)\n",
            "Requirement already satisfied: pathy>=0.3.5 in /usr/local/lib/python3.8/dist-packages (from spacy<3.5.0,>=3.4.0->scispacy) (0.10.0)\n",
            "Requirement already satisfied: spacy-loggers<2.0.0,>=1.0.0 in /usr/local/lib/python3.8/dist-packages (from spacy<3.5.0,>=3.4.0->scispacy) (1.0.3)\n",
            "Requirement already satisfied: catalogue<2.1.0,>=2.0.6 in /usr/local/lib/python3.8/dist-packages (from spacy<3.5.0,>=3.4.0->scispacy) (2.0.8)\n",
            "Requirement already satisfied: pydantic!=1.8,!=1.8.1,<1.11.0,>=1.7.4 in /usr/local/lib/python3.8/dist-packages (from spacy<3.5.0,>=3.4.0->scispacy) (1.10.2)\n",
            "Requirement already satisfied: thinc<8.2.0,>=8.1.0 in /usr/local/lib/python3.8/dist-packages (from spacy<3.5.0,>=3.4.0->scispacy) (8.1.5)\n",
            "Requirement already satisfied: typer<0.8.0,>=0.3.0 in /usr/local/lib/python3.8/dist-packages (from spacy<3.5.0,>=3.4.0->scispacy) (0.7.0)\n",
            "Requirement already satisfied: tqdm<5.0.0,>=4.38.0 in /usr/local/lib/python3.8/dist-packages (from spacy<3.5.0,>=3.4.0->scispacy) (4.64.1)\n",
            "Requirement already satisfied: jinja2 in /usr/local/lib/python3.8/dist-packages (from spacy<3.5.0,>=3.4.0->scispacy) (2.11.3)\n",
            "Requirement already satisfied: langcodes<4.0.0,>=3.2.0 in /usr/local/lib/python3.8/dist-packages (from spacy<3.5.0,>=3.4.0->scispacy) (3.3.0)\n",
            "Requirement already satisfied: murmurhash<1.1.0,>=0.28.0 in /usr/local/lib/python3.8/dist-packages (from spacy<3.5.0,>=3.4.0->scispacy) (1.0.9)\n",
            "Requirement already satisfied: cymem<2.1.0,>=2.0.2 in /usr/local/lib/python3.8/dist-packages (from spacy<3.5.0,>=3.4.0->scispacy) (2.0.7)\n",
            "Requirement already satisfied: setuptools in /usr/local/lib/python3.8/dist-packages (from spacy<3.5.0,>=3.4.0->scispacy) (57.4.0)\n",
            "Requirement already satisfied: wasabi<1.1.0,>=0.9.1 in /usr/local/lib/python3.8/dist-packages (from spacy<3.5.0,>=3.4.0->scispacy) (0.10.1)\n",
            "Requirement already satisfied: preshed<3.1.0,>=3.0.2 in /usr/local/lib/python3.8/dist-packages (from spacy<3.5.0,>=3.4.0->scispacy) (3.0.8)\n",
            "Requirement already satisfied: pyparsing!=3.0.5,>=2.0.2 in /usr/local/lib/python3.8/dist-packages (from packaging>=20.0->spacy<3.5.0,>=3.4.0->scispacy) (3.0.9)\n",
            "Requirement already satisfied: smart-open<6.0.0,>=5.2.1 in /usr/local/lib/python3.8/dist-packages (from pathy>=0.3.5->spacy<3.5.0,>=3.4.0->scispacy) (5.2.1)\n",
            "Requirement already satisfied: typing-extensions>=4.1.0 in /usr/local/lib/python3.8/dist-packages (from pydantic!=1.8,!=1.8.1,<1.11.0,>=1.7.4->spacy<3.5.0,>=3.4.0->scispacy) (4.4.0)\n",
            "Requirement already satisfied: blis<0.8.0,>=0.7.8 in /usr/local/lib/python3.8/dist-packages (from thinc<8.2.0,>=8.1.0->spacy<3.5.0,>=3.4.0->scispacy) (0.7.9)\n",
            "Requirement already satisfied: confection<1.0.0,>=0.0.1 in /usr/local/lib/python3.8/dist-packages (from thinc<8.2.0,>=8.1.0->spacy<3.5.0,>=3.4.0->scispacy) (0.0.3)\n",
            "Requirement already satisfied: click<9.0.0,>=7.1.1 in /usr/local/lib/python3.8/dist-packages (from typer<0.8.0,>=0.3.0->spacy<3.5.0,>=3.4.0->scispacy) (7.1.2)\n",
            "Requirement already satisfied: MarkupSafe>=0.23 in /usr/local/lib/python3.8/dist-packages (from jinja2->spacy<3.5.0,>=3.4.0->scispacy) (2.0.1)\n",
            "Installing collected packages: pybind11, pysbd, nmslib, scispacy\n",
            "Successfully installed nmslib-2.1.1 pybind11-2.6.1 pysbd-0.3.4 scispacy-0.5.1\n"
          ]
        }
      ],
      "source": [
        "!pip install scispacy"
      ]
    },
    {
      "cell_type": "code",
      "execution_count": null,
      "metadata": {
        "colab": {
          "background_save": true,
          "base_uri": "https://localhost:8080/"
        },
        "id": "JAkdCxNu8GWY",
        "outputId": "4a00c093-83b6-4585-f1a7-9ebbba893be6"
      },
      "outputs": [
        {
          "name": "stdout",
          "output_type": "stream",
          "text": [
            "Looking in indexes: https://pypi.org/simple, https://us-python.pkg.dev/colab-wheels/public/simple/\n",
            "Collecting yake\n",
            "  Downloading yake-0.4.8-py2.py3-none-any.whl (60 kB)\n",
            "\u001b[K     |████████████████████████████████| 60 kB 6.4 MB/s \n",
            "\u001b[?25hRequirement already satisfied: tabulate in /usr/local/lib/python3.8/dist-packages (from yake) (0.8.10)\n",
            "Requirement already satisfied: numpy in /usr/local/lib/python3.8/dist-packages (from yake) (1.21.6)\n",
            "Requirement already satisfied: segtok in /usr/local/lib/python3.8/dist-packages (from yake) (1.5.11)\n",
            "Requirement already satisfied: click>=6.0 in /usr/local/lib/python3.8/dist-packages (from yake) (7.1.2)\n",
            "Collecting jellyfish\n",
            "  Downloading jellyfish-0.9.0.tar.gz (132 kB)\n",
            "\u001b[K     |████████████████████████████████| 132 kB 66.5 MB/s \n",
            "\u001b[?25hRequirement already satisfied: networkx in /usr/local/lib/python3.8/dist-packages (from yake) (2.8.8)\n",
            "Requirement already satisfied: regex in /usr/local/lib/python3.8/dist-packages (from segtok->yake) (2022.6.2)\n",
            "Building wheels for collected packages: jellyfish\n",
            "  Building wheel for jellyfish (setup.py) ... \u001b[?25l\u001b[?25hdone\n",
            "  Created wheel for jellyfish: filename=jellyfish-0.9.0-cp38-cp38-linux_x86_64.whl size=70595 sha256=d010c9ae587948fbff6898e2397f804cf2ccf204837885c50760f9df049a24a1\n",
            "  Stored in directory: /root/.cache/pip/wheels/f1/c7/3c/4c83132de76359e3a429fd09c08995945ca96c5290a41651d3\n",
            "Successfully built jellyfish\n",
            "Installing collected packages: jellyfish, yake\n",
            "Successfully installed jellyfish-0.9.0 yake-0.4.8\n"
          ]
        }
      ],
      "source": [
        "!pip install yake"
      ]
    },
    {
      "cell_type": "code",
      "execution_count": null,
      "metadata": {
        "colab": {
          "background_save": true,
          "base_uri": "https://localhost:8080/"
        },
        "id": "AcqDoLAT_Hyf",
        "outputId": "b24a15e6-b38d-4cfa-f62a-fec4342a9e0a"
      },
      "outputs": [
        {
          "name": "stdout",
          "output_type": "stream",
          "text": [
            "Looking in indexes: https://pypi.org/simple, https://us-python.pkg.dev/colab-wheels/public/simple/\n",
            "Collecting rake-nltk\n",
            "  Downloading rake_nltk-1.0.6-py3-none-any.whl (9.1 kB)\n",
            "Requirement already satisfied: nltk<4.0.0,>=3.6.2 in /usr/local/lib/python3.8/dist-packages (from rake-nltk) (3.7)\n",
            "Requirement already satisfied: tqdm in /usr/local/lib/python3.8/dist-packages (from nltk<4.0.0,>=3.6.2->rake-nltk) (4.64.1)\n",
            "Requirement already satisfied: click in /usr/local/lib/python3.8/dist-packages (from nltk<4.0.0,>=3.6.2->rake-nltk) (7.1.2)\n",
            "Requirement already satisfied: joblib in /usr/local/lib/python3.8/dist-packages (from nltk<4.0.0,>=3.6.2->rake-nltk) (1.2.0)\n",
            "Requirement already satisfied: regex>=2021.8.3 in /usr/local/lib/python3.8/dist-packages (from nltk<4.0.0,>=3.6.2->rake-nltk) (2022.6.2)\n",
            "Installing collected packages: rake-nltk\n",
            "Successfully installed rake-nltk-1.0.6\n"
          ]
        }
      ],
      "source": [
        "!pip install rake-nltk"
      ]
    },
    {
      "cell_type": "code",
      "execution_count": null,
      "metadata": {
        "id": "jLqFCKH-p4gR"
      },
      "outputs": [],
      "source": [
        "!python -m spacy download en_core_web_md\n",
        "!python -m spacy download en_core_sci_md"
      ]
    },
    {
      "cell_type": "code",
      "execution_count": null,
      "metadata": {
        "colab": {
          "base_uri": "https://localhost:8080/"
        },
        "id": "_A3ZzDAqrzWL",
        "outputId": "a1d34f6e-120a-45dd-8975-45c085e1f0b8"
      },
      "outputs": [
        {
          "name": "stdout",
          "output_type": "stream",
          "text": [
            "Looking in indexes: https://pypi.org/simple, https://us-python.pkg.dev/colab-wheels/public/simple/\n",
            "Collecting https://s3-us-west-2.amazonaws.com/ai2-s2-scispacy/releases/v0.5.1/en_core_sci_sm-0.5.1.tar.gz\n",
            "  Downloading https://s3-us-west-2.amazonaws.com/ai2-s2-scispacy/releases/v0.5.1/en_core_sci_sm-0.5.1.tar.gz (15.9 MB)\n",
            "\u001b[K     |████████████████████████████████| 15.9 MB 721 kB/s \n",
            "\u001b[?25hRequirement already satisfied: spacy<3.5.0,>=3.4.1 in /usr/local/lib/python3.8/dist-packages (from en-core-sci-sm==0.5.1) (3.4.3)\n",
            "Requirement already satisfied: murmurhash<1.1.0,>=0.28.0 in /usr/local/lib/python3.8/dist-packages (from spacy<3.5.0,>=3.4.1->en-core-sci-sm==0.5.1) (1.0.9)\n",
            "Requirement already satisfied: cymem<2.1.0,>=2.0.2 in /usr/local/lib/python3.8/dist-packages (from spacy<3.5.0,>=3.4.1->en-core-sci-sm==0.5.1) (2.0.7)\n",
            "Requirement already satisfied: thinc<8.2.0,>=8.1.0 in /usr/local/lib/python3.8/dist-packages (from spacy<3.5.0,>=3.4.1->en-core-sci-sm==0.5.1) (8.1.5)\n",
            "Requirement already satisfied: jinja2 in /usr/local/lib/python3.8/dist-packages (from spacy<3.5.0,>=3.4.1->en-core-sci-sm==0.5.1) (2.11.3)\n",
            "Requirement already satisfied: langcodes<4.0.0,>=3.2.0 in /usr/local/lib/python3.8/dist-packages (from spacy<3.5.0,>=3.4.1->en-core-sci-sm==0.5.1) (3.3.0)\n",
            "Requirement already satisfied: spacy-legacy<3.1.0,>=3.0.10 in /usr/local/lib/python3.8/dist-packages (from spacy<3.5.0,>=3.4.1->en-core-sci-sm==0.5.1) (3.0.10)\n",
            "Requirement already satisfied: srsly<3.0.0,>=2.4.3 in /usr/local/lib/python3.8/dist-packages (from spacy<3.5.0,>=3.4.1->en-core-sci-sm==0.5.1) (2.4.5)\n",
            "Requirement already satisfied: pathy>=0.3.5 in /usr/local/lib/python3.8/dist-packages (from spacy<3.5.0,>=3.4.1->en-core-sci-sm==0.5.1) (0.10.0)\n",
            "Requirement already satisfied: pydantic!=1.8,!=1.8.1,<1.11.0,>=1.7.4 in /usr/local/lib/python3.8/dist-packages (from spacy<3.5.0,>=3.4.1->en-core-sci-sm==0.5.1) (1.10.2)\n",
            "Requirement already satisfied: requests<3.0.0,>=2.13.0 in /usr/local/lib/python3.8/dist-packages (from spacy<3.5.0,>=3.4.1->en-core-sci-sm==0.5.1) (2.28.1)\n",
            "Requirement already satisfied: wasabi<1.1.0,>=0.9.1 in /usr/local/lib/python3.8/dist-packages (from spacy<3.5.0,>=3.4.1->en-core-sci-sm==0.5.1) (0.10.1)\n",
            "Requirement already satisfied: packaging>=20.0 in /usr/local/lib/python3.8/dist-packages (from spacy<3.5.0,>=3.4.1->en-core-sci-sm==0.5.1) (21.3)\n",
            "Requirement already satisfied: numpy>=1.15.0 in /usr/local/lib/python3.8/dist-packages (from spacy<3.5.0,>=3.4.1->en-core-sci-sm==0.5.1) (1.21.6)\n",
            "Requirement already satisfied: preshed<3.1.0,>=3.0.2 in /usr/local/lib/python3.8/dist-packages (from spacy<3.5.0,>=3.4.1->en-core-sci-sm==0.5.1) (3.0.8)\n",
            "Requirement already satisfied: catalogue<2.1.0,>=2.0.6 in /usr/local/lib/python3.8/dist-packages (from spacy<3.5.0,>=3.4.1->en-core-sci-sm==0.5.1) (2.0.8)\n",
            "Requirement already satisfied: spacy-loggers<2.0.0,>=1.0.0 in /usr/local/lib/python3.8/dist-packages (from spacy<3.5.0,>=3.4.1->en-core-sci-sm==0.5.1) (1.0.3)\n",
            "Requirement already satisfied: typer<0.8.0,>=0.3.0 in /usr/local/lib/python3.8/dist-packages (from spacy<3.5.0,>=3.4.1->en-core-sci-sm==0.5.1) (0.7.0)\n",
            "Requirement already satisfied: tqdm<5.0.0,>=4.38.0 in /usr/local/lib/python3.8/dist-packages (from spacy<3.5.0,>=3.4.1->en-core-sci-sm==0.5.1) (4.64.1)\n",
            "Requirement already satisfied: setuptools in /usr/local/lib/python3.8/dist-packages (from spacy<3.5.0,>=3.4.1->en-core-sci-sm==0.5.1) (57.4.0)\n",
            "Requirement already satisfied: pyparsing!=3.0.5,>=2.0.2 in /usr/local/lib/python3.8/dist-packages (from packaging>=20.0->spacy<3.5.0,>=3.4.1->en-core-sci-sm==0.5.1) (3.0.9)\n",
            "Requirement already satisfied: smart-open<6.0.0,>=5.2.1 in /usr/local/lib/python3.8/dist-packages (from pathy>=0.3.5->spacy<3.5.0,>=3.4.1->en-core-sci-sm==0.5.1) (5.2.1)\n",
            "Requirement already satisfied: typing-extensions>=4.1.0 in /usr/local/lib/python3.8/dist-packages (from pydantic!=1.8,!=1.8.1,<1.11.0,>=1.7.4->spacy<3.5.0,>=3.4.1->en-core-sci-sm==0.5.1) (4.4.0)\n",
            "Requirement already satisfied: charset-normalizer<3,>=2 in /usr/local/lib/python3.8/dist-packages (from requests<3.0.0,>=2.13.0->spacy<3.5.0,>=3.4.1->en-core-sci-sm==0.5.1) (2.1.1)\n",
            "Requirement already satisfied: certifi>=2017.4.17 in /usr/local/lib/python3.8/dist-packages (from requests<3.0.0,>=2.13.0->spacy<3.5.0,>=3.4.1->en-core-sci-sm==0.5.1) (2022.9.24)\n",
            "Requirement already satisfied: urllib3<1.27,>=1.21.1 in /usr/local/lib/python3.8/dist-packages (from requests<3.0.0,>=2.13.0->spacy<3.5.0,>=3.4.1->en-core-sci-sm==0.5.1) (1.24.3)\n",
            "Requirement already satisfied: idna<4,>=2.5 in /usr/local/lib/python3.8/dist-packages (from requests<3.0.0,>=2.13.0->spacy<3.5.0,>=3.4.1->en-core-sci-sm==0.5.1) (2.10)\n",
            "Requirement already satisfied: confection<1.0.0,>=0.0.1 in /usr/local/lib/python3.8/dist-packages (from thinc<8.2.0,>=8.1.0->spacy<3.5.0,>=3.4.1->en-core-sci-sm==0.5.1) (0.0.3)\n",
            "Requirement already satisfied: blis<0.8.0,>=0.7.8 in /usr/local/lib/python3.8/dist-packages (from thinc<8.2.0,>=8.1.0->spacy<3.5.0,>=3.4.1->en-core-sci-sm==0.5.1) (0.7.9)\n",
            "Requirement already satisfied: click<9.0.0,>=7.1.1 in /usr/local/lib/python3.8/dist-packages (from typer<0.8.0,>=0.3.0->spacy<3.5.0,>=3.4.1->en-core-sci-sm==0.5.1) (7.1.2)\n",
            "Requirement already satisfied: MarkupSafe>=0.23 in /usr/local/lib/python3.8/dist-packages (from jinja2->spacy<3.5.0,>=3.4.1->en-core-sci-sm==0.5.1) (2.0.1)\n",
            "Building wheels for collected packages: en-core-sci-sm\n",
            "  Building wheel for en-core-sci-sm (setup.py) ... \u001b[?25l\u001b[?25hdone\n",
            "  Created wheel for en-core-sci-sm: filename=en_core_sci_sm-0.5.1-py3-none-any.whl size=15870867 sha256=57ba8e33a351cd0ea1a0d45febf0515ca20795cc9dd541c91d3ed0e3ca7d0db1\n",
            "  Stored in directory: /root/.cache/pip/wheels/4a/a5/7a/386418a91842b00f876d34427bbe2d8f8d329f626eab850141\n",
            "Successfully built en-core-sci-sm\n",
            "Installing collected packages: en-core-sci-sm\n",
            "Successfully installed en-core-sci-sm-0.5.1\n"
          ]
        }
      ],
      "source": [
        "!pip install https://s3-us-west-2.amazonaws.com/ai2-s2-scispacy/releases/v0.5.1/en_core_sci_sm-0.5.1.tar.gz\n"
      ]
    },
    {
      "cell_type": "code",
      "execution_count": null,
      "metadata": {
        "colab": {
          "base_uri": "https://localhost:8080/"
        },
        "id": "FT2MZ-XDt1b_",
        "outputId": "19c3013b-b8a5-4021-ca43-d54f663b62be"
      },
      "outputs": [
        {
          "name": "stdout",
          "output_type": "stream",
          "text": [
            "Looking in indexes: https://pypi.org/simple, https://us-python.pkg.dev/colab-wheels/public/simple/\n",
            "Collecting https://s3-us-west-2.amazonaws.com/ai2-s2-scispacy/releases/v0.5.1/en_core_sci_md-0.5.1.tar.gz\n",
            "  Using cached https://s3-us-west-2.amazonaws.com/ai2-s2-scispacy/releases/v0.5.1/en_core_sci_md-0.5.1.tar.gz (120.2 MB)\n",
            "Requirement already satisfied: spacy<3.5.0,>=3.4.1 in /usr/local/lib/python3.8/dist-packages (from en-core-sci-md==0.5.1) (3.4.3)\n",
            "Requirement already satisfied: setuptools in /usr/local/lib/python3.8/dist-packages (from spacy<3.5.0,>=3.4.1->en-core-sci-md==0.5.1) (57.4.0)\n",
            "Requirement already satisfied: spacy-legacy<3.1.0,>=3.0.10 in /usr/local/lib/python3.8/dist-packages (from spacy<3.5.0,>=3.4.1->en-core-sci-md==0.5.1) (3.0.10)\n",
            "Requirement already satisfied: numpy>=1.15.0 in /usr/local/lib/python3.8/dist-packages (from spacy<3.5.0,>=3.4.1->en-core-sci-md==0.5.1) (1.21.6)\n",
            "Requirement already satisfied: pathy>=0.3.5 in /usr/local/lib/python3.8/dist-packages (from spacy<3.5.0,>=3.4.1->en-core-sci-md==0.5.1) (0.10.0)\n",
            "Requirement already satisfied: langcodes<4.0.0,>=3.2.0 in /usr/local/lib/python3.8/dist-packages (from spacy<3.5.0,>=3.4.1->en-core-sci-md==0.5.1) (3.3.0)\n",
            "Requirement already satisfied: pydantic!=1.8,!=1.8.1,<1.11.0,>=1.7.4 in /usr/local/lib/python3.8/dist-packages (from spacy<3.5.0,>=3.4.1->en-core-sci-md==0.5.1) (1.10.2)\n",
            "Requirement already satisfied: cymem<2.1.0,>=2.0.2 in /usr/local/lib/python3.8/dist-packages (from spacy<3.5.0,>=3.4.1->en-core-sci-md==0.5.1) (2.0.7)\n",
            "Requirement already satisfied: preshed<3.1.0,>=3.0.2 in /usr/local/lib/python3.8/dist-packages (from spacy<3.5.0,>=3.4.1->en-core-sci-md==0.5.1) (3.0.8)\n",
            "Requirement already satisfied: murmurhash<1.1.0,>=0.28.0 in /usr/local/lib/python3.8/dist-packages (from spacy<3.5.0,>=3.4.1->en-core-sci-md==0.5.1) (1.0.9)\n",
            "Requirement already satisfied: requests<3.0.0,>=2.13.0 in /usr/local/lib/python3.8/dist-packages (from spacy<3.5.0,>=3.4.1->en-core-sci-md==0.5.1) (2.28.1)\n",
            "Requirement already satisfied: spacy-loggers<2.0.0,>=1.0.0 in /usr/local/lib/python3.8/dist-packages (from spacy<3.5.0,>=3.4.1->en-core-sci-md==0.5.1) (1.0.3)\n",
            "Requirement already satisfied: srsly<3.0.0,>=2.4.3 in /usr/local/lib/python3.8/dist-packages (from spacy<3.5.0,>=3.4.1->en-core-sci-md==0.5.1) (2.4.5)\n",
            "Requirement already satisfied: typer<0.8.0,>=0.3.0 in /usr/local/lib/python3.8/dist-packages (from spacy<3.5.0,>=3.4.1->en-core-sci-md==0.5.1) (0.7.0)\n",
            "Requirement already satisfied: catalogue<2.1.0,>=2.0.6 in /usr/local/lib/python3.8/dist-packages (from spacy<3.5.0,>=3.4.1->en-core-sci-md==0.5.1) (2.0.8)\n",
            "Requirement already satisfied: packaging>=20.0 in /usr/local/lib/python3.8/dist-packages (from spacy<3.5.0,>=3.4.1->en-core-sci-md==0.5.1) (21.3)\n",
            "Requirement already satisfied: thinc<8.2.0,>=8.1.0 in /usr/local/lib/python3.8/dist-packages (from spacy<3.5.0,>=3.4.1->en-core-sci-md==0.5.1) (8.1.5)\n",
            "Requirement already satisfied: tqdm<5.0.0,>=4.38.0 in /usr/local/lib/python3.8/dist-packages (from spacy<3.5.0,>=3.4.1->en-core-sci-md==0.5.1) (4.64.1)\n",
            "Requirement already satisfied: jinja2 in /usr/local/lib/python3.8/dist-packages (from spacy<3.5.0,>=3.4.1->en-core-sci-md==0.5.1) (2.11.3)\n",
            "Requirement already satisfied: wasabi<1.1.0,>=0.9.1 in /usr/local/lib/python3.8/dist-packages (from spacy<3.5.0,>=3.4.1->en-core-sci-md==0.5.1) (0.10.1)\n",
            "Requirement already satisfied: pyparsing!=3.0.5,>=2.0.2 in /usr/local/lib/python3.8/dist-packages (from packaging>=20.0->spacy<3.5.0,>=3.4.1->en-core-sci-md==0.5.1) (3.0.9)\n",
            "Requirement already satisfied: smart-open<6.0.0,>=5.2.1 in /usr/local/lib/python3.8/dist-packages (from pathy>=0.3.5->spacy<3.5.0,>=3.4.1->en-core-sci-md==0.5.1) (5.2.1)\n",
            "Requirement already satisfied: typing-extensions>=4.1.0 in /usr/local/lib/python3.8/dist-packages (from pydantic!=1.8,!=1.8.1,<1.11.0,>=1.7.4->spacy<3.5.0,>=3.4.1->en-core-sci-md==0.5.1) (4.4.0)\n",
            "Requirement already satisfied: certifi>=2017.4.17 in /usr/local/lib/python3.8/dist-packages (from requests<3.0.0,>=2.13.0->spacy<3.5.0,>=3.4.1->en-core-sci-md==0.5.1) (2022.9.24)\n",
            "Requirement already satisfied: urllib3<1.27,>=1.21.1 in /usr/local/lib/python3.8/dist-packages (from requests<3.0.0,>=2.13.0->spacy<3.5.0,>=3.4.1->en-core-sci-md==0.5.1) (1.24.3)\n",
            "Requirement already satisfied: charset-normalizer<3,>=2 in /usr/local/lib/python3.8/dist-packages (from requests<3.0.0,>=2.13.0->spacy<3.5.0,>=3.4.1->en-core-sci-md==0.5.1) (2.1.1)\n",
            "Requirement already satisfied: idna<4,>=2.5 in /usr/local/lib/python3.8/dist-packages (from requests<3.0.0,>=2.13.0->spacy<3.5.0,>=3.4.1->en-core-sci-md==0.5.1) (2.10)\n",
            "Requirement already satisfied: blis<0.8.0,>=0.7.8 in /usr/local/lib/python3.8/dist-packages (from thinc<8.2.0,>=8.1.0->spacy<3.5.0,>=3.4.1->en-core-sci-md==0.5.1) (0.7.9)\n",
            "Requirement already satisfied: confection<1.0.0,>=0.0.1 in /usr/local/lib/python3.8/dist-packages (from thinc<8.2.0,>=8.1.0->spacy<3.5.0,>=3.4.1->en-core-sci-md==0.5.1) (0.0.3)\n",
            "Requirement already satisfied: click<9.0.0,>=7.1.1 in /usr/local/lib/python3.8/dist-packages (from typer<0.8.0,>=0.3.0->spacy<3.5.0,>=3.4.1->en-core-sci-md==0.5.1) (7.1.2)\n",
            "Requirement already satisfied: MarkupSafe>=0.23 in /usr/local/lib/python3.8/dist-packages (from jinja2->spacy<3.5.0,>=3.4.1->en-core-sci-md==0.5.1) (2.0.1)\n"
          ]
        }
      ],
      "source": [
        "!pip install https://s3-us-west-2.amazonaws.com/ai2-s2-scispacy/releases/v0.5.1/en_core_sci_md-0.5.1.tar.gz\n"
      ]
    },
    {
      "cell_type": "code",
      "execution_count": null,
      "metadata": {
        "id": "r-P4-eXQvQFq"
      },
      "outputs": [],
      "source": [
        "!pip install https://s3-us-west-2.amazonaws.com/ai2-s2-scispacy/releases/v0.5.1/en_core_sci_lg-0.5.1.tar.gz\n"
      ]
    },
    {
      "cell_type": "code",
      "execution_count": null,
      "metadata": {
        "colab": {
          "background_save": true
        },
        "id": "K7fMvJSUEp6N"
      },
      "outputs": [],
      "source": [
        "\n",
        "from transformers import AutoModel, AutoTokenizer, BertTokenizer\n",
        "#t = torch.tensor([])\n",
        "#eo = t.resize_(1000,3313)\n",
        "#exp = t.expand(34121, 3313)\n",
        "#t = torch.tensor()\n",
        "#print(eo)"
      ]
    },
    {
      "cell_type": "code",
      "execution_count": null,
      "metadata": {
        "colab": {
          "background_save": true,
          "base_uri": "https://localhost:8080/"
        },
        "id": "rtPtHWvcLDKv",
        "outputId": "dc35a8e2-9af3-47ab-c293-c677175ac424"
      },
      "outputs": [
        {
          "name": "stderr",
          "output_type": "stream",
          "text": [
            "[nltk_data] Downloading package stopwords to /root/nltk_data...\n",
            "[nltk_data]   Unzipping corpora/stopwords.zip.\n"
          ]
        }
      ],
      "source": [
        "import numpy\n",
        "import numpy as np\n",
        "from keybert import KeyBERT\n",
        "from flair.embeddings import TransformerDocumentEmbeddings\n",
        "from nltk.tokenize import TweetTokenizer\n",
        "import pandas as pd\n",
        "import pandas\n",
        "from google.colab import files\n",
        "from sklearn.svm import OneClassSVM\n",
        "from sklearn.metrics.pairwise import cosine_similarity\n",
        "import torch\n",
        "import nltk\n",
        "nltk.download('stopwords')\n",
        "from nltk.corpus import stopwords\n",
        "from nltk.tokenize import word_tokenize"
      ]
    },
    {
      "cell_type": "code",
      "execution_count": null,
      "metadata": {
        "colab": {
          "background_save": true,
          "base_uri": "https://localhost:8080/"
        },
        "id": "Zb9l7WB4bzU7",
        "outputId": "22fa01cb-44cf-4f88-9d5f-96e1f0e2ece6"
      },
      "outputs": [
        {
          "name": "stdout",
          "output_type": "stream",
          "text": [
            "Looking in indexes: https://pypi.org/simple, https://us-python.pkg.dev/colab-wheels/public/simple/\n",
            "Requirement already satisfied: sentence_transformers in /usr/local/lib/python3.8/dist-packages (2.2.2)\n",
            "Requirement already satisfied: huggingface-hub>=0.4.0 in /usr/local/lib/python3.8/dist-packages (from sentence_transformers) (0.11.1)\n",
            "Requirement already satisfied: torch>=1.6.0 in /usr/local/lib/python3.8/dist-packages (from sentence_transformers) (1.13.0+cu116)\n",
            "Requirement already satisfied: sentencepiece in /usr/local/lib/python3.8/dist-packages (from sentence_transformers) (0.1.95)\n",
            "Requirement already satisfied: transformers<5.0.0,>=4.6.0 in /usr/local/lib/python3.8/dist-packages (from sentence_transformers) (4.25.1)\n",
            "Requirement already satisfied: torchvision in /usr/local/lib/python3.8/dist-packages (from sentence_transformers) (0.14.0+cu116)\n",
            "Requirement already satisfied: nltk in /usr/local/lib/python3.8/dist-packages (from sentence_transformers) (3.7)\n",
            "Requirement already satisfied: scipy in /usr/local/lib/python3.8/dist-packages (from sentence_transformers) (1.7.3)\n",
            "Requirement already satisfied: numpy in /usr/local/lib/python3.8/dist-packages (from sentence_transformers) (1.21.6)\n",
            "Requirement already satisfied: scikit-learn in /usr/local/lib/python3.8/dist-packages (from sentence_transformers) (1.0.2)\n",
            "Requirement already satisfied: tqdm in /usr/local/lib/python3.8/dist-packages (from sentence_transformers) (4.64.1)\n",
            "Requirement already satisfied: typing-extensions>=3.7.4.3 in /usr/local/lib/python3.8/dist-packages (from huggingface-hub>=0.4.0->sentence_transformers) (4.4.0)\n",
            "Requirement already satisfied: requests in /usr/local/lib/python3.8/dist-packages (from huggingface-hub>=0.4.0->sentence_transformers) (2.28.1)\n",
            "Requirement already satisfied: packaging>=20.9 in /usr/local/lib/python3.8/dist-packages (from huggingface-hub>=0.4.0->sentence_transformers) (21.3)\n",
            "Requirement already satisfied: pyyaml>=5.1 in /usr/local/lib/python3.8/dist-packages (from huggingface-hub>=0.4.0->sentence_transformers) (6.0)\n",
            "Requirement already satisfied: filelock in /usr/local/lib/python3.8/dist-packages (from huggingface-hub>=0.4.0->sentence_transformers) (3.8.0)\n",
            "Requirement already satisfied: pyparsing!=3.0.5,>=2.0.2 in /usr/local/lib/python3.8/dist-packages (from packaging>=20.9->huggingface-hub>=0.4.0->sentence_transformers) (3.0.9)\n",
            "Requirement already satisfied: tokenizers!=0.11.3,<0.14,>=0.11.1 in /usr/local/lib/python3.8/dist-packages (from transformers<5.0.0,>=4.6.0->sentence_transformers) (0.13.2)\n",
            "Requirement already satisfied: regex!=2019.12.17 in /usr/local/lib/python3.8/dist-packages (from transformers<5.0.0,>=4.6.0->sentence_transformers) (2022.6.2)\n",
            "Requirement already satisfied: joblib in /usr/local/lib/python3.8/dist-packages (from nltk->sentence_transformers) (1.2.0)\n",
            "Requirement already satisfied: click in /usr/local/lib/python3.8/dist-packages (from nltk->sentence_transformers) (7.1.2)\n",
            "Requirement already satisfied: certifi>=2017.4.17 in /usr/local/lib/python3.8/dist-packages (from requests->huggingface-hub>=0.4.0->sentence_transformers) (2022.9.24)\n",
            "Requirement already satisfied: idna<4,>=2.5 in /usr/local/lib/python3.8/dist-packages (from requests->huggingface-hub>=0.4.0->sentence_transformers) (2.10)\n",
            "Requirement already satisfied: urllib3<1.27,>=1.21.1 in /usr/local/lib/python3.8/dist-packages (from requests->huggingface-hub>=0.4.0->sentence_transformers) (1.24.3)\n",
            "Requirement already satisfied: charset-normalizer<3,>=2 in /usr/local/lib/python3.8/dist-packages (from requests->huggingface-hub>=0.4.0->sentence_transformers) (2.1.1)\n",
            "Requirement already satisfied: threadpoolctl>=2.0.0 in /usr/local/lib/python3.8/dist-packages (from scikit-learn->sentence_transformers) (3.1.0)\n",
            "Requirement already satisfied: pillow!=8.3.*,>=5.3.0 in /usr/local/lib/python3.8/dist-packages (from torchvision->sentence_transformers) (7.1.2)\n"
          ]
        }
      ],
      "source": [
        "!pip install sentence_transformers\n",
        "from sentence_transformers import SentenceTransformer, util"
      ]
    },
    {
      "cell_type": "code",
      "execution_count": null,
      "metadata": {
        "id": "8Z9PS1lAcTkd"
      },
      "outputs": [],
      "source": [
        "!pip install -U sentence-transformers\n"
      ]
    },
    {
      "cell_type": "code",
      "execution_count": null,
      "metadata": {
        "id": "6wK0rYjXivXe"
      },
      "outputs": [],
      "source": [
        "!pip install import-ipynb\n",
        "import import_ipynb"
      ]
    },
    {
      "cell_type": "code",
      "execution_count": null,
      "metadata": {
        "colab": {
          "base_uri": "https://localhost:8080/",
          "height": 334
        },
        "id": "E1CGpyq-YqxY",
        "outputId": "cf59c166-d828-4744-bd3c-1d9a6482ee4e"
      },
      "outputs": [
        {
          "data": {
            "text/html": [
              "\n",
              "     <input type=\"file\" id=\"files-97ea5074-5302-4bd3-820e-86b5fa0b3044\" name=\"files[]\" multiple disabled\n",
              "        style=\"border:none\" />\n",
              "     <output id=\"result-97ea5074-5302-4bd3-820e-86b5fa0b3044\">\n",
              "      Upload widget is only available when the cell has been executed in the\n",
              "      current browser session. Please rerun this cell to enable.\n",
              "      </output>\n",
              "      <script>// Copyright 2017 Google LLC\n",
              "//\n",
              "// Licensed under the Apache License, Version 2.0 (the \"License\");\n",
              "// you may not use this file except in compliance with the License.\n",
              "// You may obtain a copy of the License at\n",
              "//\n",
              "//      http://www.apache.org/licenses/LICENSE-2.0\n",
              "//\n",
              "// Unless required by applicable law or agreed to in writing, software\n",
              "// distributed under the License is distributed on an \"AS IS\" BASIS,\n",
              "// WITHOUT WARRANTIES OR CONDITIONS OF ANY KIND, either express or implied.\n",
              "// See the License for the specific language governing permissions and\n",
              "// limitations under the License.\n",
              "\n",
              "/**\n",
              " * @fileoverview Helpers for google.colab Python module.\n",
              " */\n",
              "(function(scope) {\n",
              "function span(text, styleAttributes = {}) {\n",
              "  const element = document.createElement('span');\n",
              "  element.textContent = text;\n",
              "  for (const key of Object.keys(styleAttributes)) {\n",
              "    element.style[key] = styleAttributes[key];\n",
              "  }\n",
              "  return element;\n",
              "}\n",
              "\n",
              "// Max number of bytes which will be uploaded at a time.\n",
              "const MAX_PAYLOAD_SIZE = 100 * 1024;\n",
              "\n",
              "function _uploadFiles(inputId, outputId) {\n",
              "  const steps = uploadFilesStep(inputId, outputId);\n",
              "  const outputElement = document.getElementById(outputId);\n",
              "  // Cache steps on the outputElement to make it available for the next call\n",
              "  // to uploadFilesContinue from Python.\n",
              "  outputElement.steps = steps;\n",
              "\n",
              "  return _uploadFilesContinue(outputId);\n",
              "}\n",
              "\n",
              "// This is roughly an async generator (not supported in the browser yet),\n",
              "// where there are multiple asynchronous steps and the Python side is going\n",
              "// to poll for completion of each step.\n",
              "// This uses a Promise to block the python side on completion of each step,\n",
              "// then passes the result of the previous step as the input to the next step.\n",
              "function _uploadFilesContinue(outputId) {\n",
              "  const outputElement = document.getElementById(outputId);\n",
              "  const steps = outputElement.steps;\n",
              "\n",
              "  const next = steps.next(outputElement.lastPromiseValue);\n",
              "  return Promise.resolve(next.value.promise).then((value) => {\n",
              "    // Cache the last promise value to make it available to the next\n",
              "    // step of the generator.\n",
              "    outputElement.lastPromiseValue = value;\n",
              "    return next.value.response;\n",
              "  });\n",
              "}\n",
              "\n",
              "/**\n",
              " * Generator function which is called between each async step of the upload\n",
              " * process.\n",
              " * @param {string} inputId Element ID of the input file picker element.\n",
              " * @param {string} outputId Element ID of the output display.\n",
              " * @return {!Iterable<!Object>} Iterable of next steps.\n",
              " */\n",
              "function* uploadFilesStep(inputId, outputId) {\n",
              "  const inputElement = document.getElementById(inputId);\n",
              "  inputElement.disabled = false;\n",
              "\n",
              "  const outputElement = document.getElementById(outputId);\n",
              "  outputElement.innerHTML = '';\n",
              "\n",
              "  const pickedPromise = new Promise((resolve) => {\n",
              "    inputElement.addEventListener('change', (e) => {\n",
              "      resolve(e.target.files);\n",
              "    });\n",
              "  });\n",
              "\n",
              "  const cancel = document.createElement('button');\n",
              "  inputElement.parentElement.appendChild(cancel);\n",
              "  cancel.textContent = 'Cancel upload';\n",
              "  const cancelPromise = new Promise((resolve) => {\n",
              "    cancel.onclick = () => {\n",
              "      resolve(null);\n",
              "    };\n",
              "  });\n",
              "\n",
              "  // Wait for the user to pick the files.\n",
              "  const files = yield {\n",
              "    promise: Promise.race([pickedPromise, cancelPromise]),\n",
              "    response: {\n",
              "      action: 'starting',\n",
              "    }\n",
              "  };\n",
              "\n",
              "  cancel.remove();\n",
              "\n",
              "  // Disable the input element since further picks are not allowed.\n",
              "  inputElement.disabled = true;\n",
              "\n",
              "  if (!files) {\n",
              "    return {\n",
              "      response: {\n",
              "        action: 'complete',\n",
              "      }\n",
              "    };\n",
              "  }\n",
              "\n",
              "  for (const file of files) {\n",
              "    const li = document.createElement('li');\n",
              "    li.append(span(file.name, {fontWeight: 'bold'}));\n",
              "    li.append(span(\n",
              "        `(${file.type || 'n/a'}) - ${file.size} bytes, ` +\n",
              "        `last modified: ${\n",
              "            file.lastModifiedDate ? file.lastModifiedDate.toLocaleDateString() :\n",
              "                                    'n/a'} - `));\n",
              "    const percent = span('0% done');\n",
              "    li.appendChild(percent);\n",
              "\n",
              "    outputElement.appendChild(li);\n",
              "\n",
              "    const fileDataPromise = new Promise((resolve) => {\n",
              "      const reader = new FileReader();\n",
              "      reader.onload = (e) => {\n",
              "        resolve(e.target.result);\n",
              "      };\n",
              "      reader.readAsArrayBuffer(file);\n",
              "    });\n",
              "    // Wait for the data to be ready.\n",
              "    let fileData = yield {\n",
              "      promise: fileDataPromise,\n",
              "      response: {\n",
              "        action: 'continue',\n",
              "      }\n",
              "    };\n",
              "\n",
              "    // Use a chunked sending to avoid message size limits. See b/62115660.\n",
              "    let position = 0;\n",
              "    do {\n",
              "      const length = Math.min(fileData.byteLength - position, MAX_PAYLOAD_SIZE);\n",
              "      const chunk = new Uint8Array(fileData, position, length);\n",
              "      position += length;\n",
              "\n",
              "      const base64 = btoa(String.fromCharCode.apply(null, chunk));\n",
              "      yield {\n",
              "        response: {\n",
              "          action: 'append',\n",
              "          file: file.name,\n",
              "          data: base64,\n",
              "        },\n",
              "      };\n",
              "\n",
              "      let percentDone = fileData.byteLength === 0 ?\n",
              "          100 :\n",
              "          Math.round((position / fileData.byteLength) * 100);\n",
              "      percent.textContent = `${percentDone}% done`;\n",
              "\n",
              "    } while (position < fileData.byteLength);\n",
              "  }\n",
              "\n",
              "  // All done.\n",
              "  yield {\n",
              "    response: {\n",
              "      action: 'complete',\n",
              "    }\n",
              "  };\n",
              "}\n",
              "\n",
              "scope.google = scope.google || {};\n",
              "scope.google.colab = scope.google.colab || {};\n",
              "scope.google.colab._files = {\n",
              "  _uploadFiles,\n",
              "  _uploadFilesContinue,\n",
              "};\n",
              "})(self);\n",
              "</script> "
            ],
            "text/plain": [
              "<IPython.core.display.HTML object>"
            ]
          },
          "metadata": {},
          "output_type": "display_data"
        },
        {
          "ename": "KeyboardInterrupt",
          "evalue": "ignored",
          "output_type": "error",
          "traceback": [
            "\u001b[0;31m---------------------------------------------------------------------------\u001b[0m",
            "\u001b[0;31mKeyboardInterrupt\u001b[0m                         Traceback (most recent call last)",
            "\u001b[0;32m<ipython-input-5-ed2fd71b4a2f>\u001b[0m in \u001b[0;36m<module>\u001b[0;34m\u001b[0m\n\u001b[0;32m----> 1\u001b[0;31m \u001b[0muploaded\u001b[0m \u001b[0;34m=\u001b[0m \u001b[0mfiles\u001b[0m\u001b[0;34m.\u001b[0m\u001b[0mupload\u001b[0m\u001b[0;34m(\u001b[0m\u001b[0;34m)\u001b[0m\u001b[0;34m\u001b[0m\u001b[0;34m\u001b[0m\u001b[0m\n\u001b[0m",
            "\u001b[0;32m/usr/local/lib/python3.7/dist-packages/google/colab/files.py\u001b[0m in \u001b[0;36mupload\u001b[0;34m()\u001b[0m\n\u001b[1;32m     65\u001b[0m   \"\"\"\n\u001b[1;32m     66\u001b[0m \u001b[0;34m\u001b[0m\u001b[0m\n\u001b[0;32m---> 67\u001b[0;31m   \u001b[0muploaded_files\u001b[0m \u001b[0;34m=\u001b[0m \u001b[0m_upload_files\u001b[0m\u001b[0;34m(\u001b[0m\u001b[0mmultiple\u001b[0m\u001b[0;34m=\u001b[0m\u001b[0;32mTrue\u001b[0m\u001b[0;34m)\u001b[0m\u001b[0;34m\u001b[0m\u001b[0;34m\u001b[0m\u001b[0m\n\u001b[0m\u001b[1;32m     68\u001b[0m   \u001b[0;31m# Mapping from original filename to filename as saved locally.\u001b[0m\u001b[0;34m\u001b[0m\u001b[0;34m\u001b[0m\u001b[0;34m\u001b[0m\u001b[0m\n\u001b[1;32m     69\u001b[0m   \u001b[0mlocal_filenames\u001b[0m \u001b[0;34m=\u001b[0m \u001b[0mdict\u001b[0m\u001b[0;34m(\u001b[0m\u001b[0;34m)\u001b[0m\u001b[0;34m\u001b[0m\u001b[0;34m\u001b[0m\u001b[0m\n",
            "\u001b[0;32m/usr/local/lib/python3.7/dist-packages/google/colab/files.py\u001b[0m in \u001b[0;36m_upload_files\u001b[0;34m(multiple)\u001b[0m\n\u001b[1;32m    144\u001b[0m   result = _output.eval_js(\n\u001b[1;32m    145\u001b[0m       'google.colab._files._uploadFiles(\"{input_id}\", \"{output_id}\")'.format(\n\u001b[0;32m--> 146\u001b[0;31m           input_id=input_id, output_id=output_id))\n\u001b[0m\u001b[1;32m    147\u001b[0m   \u001b[0mfiles\u001b[0m \u001b[0;34m=\u001b[0m \u001b[0m_collections\u001b[0m\u001b[0;34m.\u001b[0m\u001b[0mdefaultdict\u001b[0m\u001b[0;34m(\u001b[0m\u001b[0mbytes\u001b[0m\u001b[0;34m)\u001b[0m\u001b[0;34m\u001b[0m\u001b[0;34m\u001b[0m\u001b[0m\n\u001b[1;32m    148\u001b[0m \u001b[0;34m\u001b[0m\u001b[0m\n",
            "\u001b[0;32m/usr/local/lib/python3.7/dist-packages/google/colab/output/_js.py\u001b[0m in \u001b[0;36meval_js\u001b[0;34m(script, ignore_result, timeout_sec)\u001b[0m\n\u001b[1;32m     38\u001b[0m   \u001b[0;32mif\u001b[0m \u001b[0mignore_result\u001b[0m\u001b[0;34m:\u001b[0m\u001b[0;34m\u001b[0m\u001b[0;34m\u001b[0m\u001b[0m\n\u001b[1;32m     39\u001b[0m     \u001b[0;32mreturn\u001b[0m\u001b[0;34m\u001b[0m\u001b[0;34m\u001b[0m\u001b[0m\n\u001b[0;32m---> 40\u001b[0;31m   \u001b[0;32mreturn\u001b[0m \u001b[0m_message\u001b[0m\u001b[0;34m.\u001b[0m\u001b[0mread_reply_from_input\u001b[0m\u001b[0;34m(\u001b[0m\u001b[0mrequest_id\u001b[0m\u001b[0;34m,\u001b[0m \u001b[0mtimeout_sec\u001b[0m\u001b[0;34m)\u001b[0m\u001b[0;34m\u001b[0m\u001b[0;34m\u001b[0m\u001b[0m\n\u001b[0m\u001b[1;32m     41\u001b[0m \u001b[0;34m\u001b[0m\u001b[0m\n\u001b[1;32m     42\u001b[0m \u001b[0;34m\u001b[0m\u001b[0m\n",
            "\u001b[0;32m/usr/local/lib/python3.7/dist-packages/google/colab/_message.py\u001b[0m in \u001b[0;36mread_reply_from_input\u001b[0;34m(message_id, timeout_sec)\u001b[0m\n\u001b[1;32m     95\u001b[0m     \u001b[0mreply\u001b[0m \u001b[0;34m=\u001b[0m \u001b[0m_read_next_input_message\u001b[0m\u001b[0;34m(\u001b[0m\u001b[0;34m)\u001b[0m\u001b[0;34m\u001b[0m\u001b[0;34m\u001b[0m\u001b[0m\n\u001b[1;32m     96\u001b[0m     \u001b[0;32mif\u001b[0m \u001b[0mreply\u001b[0m \u001b[0;34m==\u001b[0m \u001b[0m_NOT_READY\u001b[0m \u001b[0;32mor\u001b[0m \u001b[0;32mnot\u001b[0m \u001b[0misinstance\u001b[0m\u001b[0;34m(\u001b[0m\u001b[0mreply\u001b[0m\u001b[0;34m,\u001b[0m \u001b[0mdict\u001b[0m\u001b[0;34m)\u001b[0m\u001b[0;34m:\u001b[0m\u001b[0;34m\u001b[0m\u001b[0;34m\u001b[0m\u001b[0m\n\u001b[0;32m---> 97\u001b[0;31m       \u001b[0mtime\u001b[0m\u001b[0;34m.\u001b[0m\u001b[0msleep\u001b[0m\u001b[0;34m(\u001b[0m\u001b[0;36m0.025\u001b[0m\u001b[0;34m)\u001b[0m\u001b[0;34m\u001b[0m\u001b[0;34m\u001b[0m\u001b[0m\n\u001b[0m\u001b[1;32m     98\u001b[0m       \u001b[0;32mcontinue\u001b[0m\u001b[0;34m\u001b[0m\u001b[0;34m\u001b[0m\u001b[0m\n\u001b[1;32m     99\u001b[0m     if (reply.get('type') == 'colab_reply' and\n",
            "\u001b[0;31mKeyboardInterrupt\u001b[0m: "
          ]
        }
      ],
      "source": [
        "uploaded = files.upload()"
      ]
    },
    {
      "cell_type": "code",
      "execution_count": null,
      "metadata": {
        "colab": {
          "background_save": true,
          "base_uri": "https://localhost:8080/"
        },
        "id": "-BVlWe7lpEPs",
        "outputId": "93939567-176e-4c1c-f0a7-618bde19d0e2"
      },
      "outputs": [
        {
          "name": "stdout",
          "output_type": "stream",
          "text": [
            "                                               tweet\n",
            "0  Now states shall have wait for thier Vidhan Sa...\n",
            "1  @MisseeMonis They said vaccine for all but not...\n",
            "2  BJP really presenting \"free COVID vaccine\" as ...\n",
            "3  Another dose of daily miserablism from Planet ...\n",
            "4  The shame-facedness of the BJP has crossed all...\n"
          ]
        }
      ],
      "source": [
        "dfone = pd.read_csv('onlyone.csv')\n",
        "dfzero = pd.read_csv('zerodata.csv')\n",
        "#dfzero = pd.read_csv('onlyzero.csv')\n",
        "datareview = pd.read_csv('smallreview.csv')\n",
        "dfthree = pd.read_csv('sideeffect5.csv')\n",
        "label3 = dfthree.pop(\"label\")\n",
        "datathree = dfthree.drop([\"id\",\"username\",\"date\",\"time\",\"hashtags\"], axis=1)\n",
        "#dfreview = pd.read_csv('Book.csv', error_bad_lines=False)\n",
        "#dfreview = pd.read_csv('Book.csv', encoding_errors='ignore', low_memory=False)\n",
        "#datareview = dfreview.astype(str)\n",
        "#print(datareview)\n",
        "#print(dfzero)\n",
        "datareview=datareview.rename({\"SYMPTOM_TEXT\":\"tweet\"}, axis=1)\n",
        "dataone = dfone.drop([\"id\",\"username\",\"date\",\"time\",\"hashtags\",\"label\"], axis=1)\n",
        "#datazero = dfzero.drop([\"id\",\"username\",\"date\",\"time\",\"hashtags\"], axis=1)\n",
        "#datareview = dfreview.drop([\"id\",\"username\",\"date\",\"time\",\"hashtags\"], axis=1)\n",
        "\n",
        "#print(len(dataone))\n",
        "#print(len(datazero))\n",
        "datazero = dfzero.drop([\"label\"], axis=1)\n",
        "#datareview = dfreview.drop([\"label\"], axis=1)\n",
        "#print(datazero)\n",
        "#datazero = dfzero.drop([\"id\",\"username\",\"date\",\"time\",\"hashtags\"], axis=1)\n",
        "#datareview = dfreview.drop([\"VAERS_ID\",\"RECVDATE\",\"STATE\",\"AGE_YRS\",\"CAGE_YR\",\"CAGE_MO\",\"SEX\",\"RPT_DATE\",\"DIED\",\"DATEDIED\",\"L_THREAT\",\"ER_VISIT\",\"HOSPITAL\",\"HOSPDAYS\",\"X_STAY\",\"DISABLE\",\"RECOVD\",\"VAX_DATE\",\"ONSET_DATE\",\"NUMDAYS\",\"LAB_DATA\",\"V_ADMINBY\",\"V_FUNDBY\",\"OTHER_MEDS\",\"CUR_ILL\",\"HISTORY\",\"PRIOR_VAX\",\"SPLTTYPE\",\"FORM_VERS\",\"TODAYS_DATE\",\"BIRTH_DEFECT\",\"OFC_VISIT\",\"ER_ED_VISIT\",\"ALLERGIES\"\n",
        "#], axis=1)\n",
        "print(datazero.head(5))"
      ]
    },
    {
      "cell_type": "code",
      "execution_count": null,
      "metadata": {
        "colab": {
          "base_uri": "https://localhost:8080/",
          "height": 381
        },
        "id": "sm9YH2VxByCG",
        "outputId": "537c95fb-2533-4a40-8cdc-4611e42d8561"
      },
      "outputs": [
        {
          "ename": "MessageError",
          "evalue": "ignored",
          "output_type": "error",
          "traceback": [
            "\u001b[0;31m---------------------------------------------------------------------------\u001b[0m",
            "\u001b[0;31mMessageError\u001b[0m                              Traceback (most recent call last)",
            "\u001b[0;32m<ipython-input-17-faba9c5ca12c>\u001b[0m in \u001b[0;36m<module>\u001b[0;34m\u001b[0m\n\u001b[1;32m      1\u001b[0m \u001b[0;32mfrom\u001b[0m \u001b[0mgoogle\u001b[0m\u001b[0;34m.\u001b[0m\u001b[0mcolab\u001b[0m \u001b[0;32mimport\u001b[0m \u001b[0mdrive\u001b[0m\u001b[0;34m\u001b[0m\u001b[0;34m\u001b[0m\u001b[0m\n\u001b[0;32m----> 2\u001b[0;31m \u001b[0mdrive\u001b[0m\u001b[0;34m.\u001b[0m\u001b[0mmount\u001b[0m\u001b[0;34m(\u001b[0m\u001b[0;34m'/content/drive'\u001b[0m\u001b[0;34m,\u001b[0m \u001b[0mforce_remount\u001b[0m\u001b[0;34m=\u001b[0m\u001b[0;32mTrue\u001b[0m\u001b[0;34m)\u001b[0m\u001b[0;34m\u001b[0m\u001b[0;34m\u001b[0m\u001b[0m\n\u001b[0m\u001b[1;32m      3\u001b[0m \u001b[0;32mimport\u001b[0m \u001b[0msys\u001b[0m\u001b[0;34m\u001b[0m\u001b[0;34m\u001b[0m\u001b[0m\n\u001b[1;32m      4\u001b[0m \u001b[0mpath_to_module\u001b[0m \u001b[0;34m=\u001b[0m \u001b[0;34m'/content/drive/MyDrive/temp'\u001b[0m\u001b[0;34m\u001b[0m\u001b[0;34m\u001b[0m\u001b[0m\n\u001b[1;32m      5\u001b[0m \u001b[0msys\u001b[0m\u001b[0;34m.\u001b[0m\u001b[0mpath\u001b[0m\u001b[0;34m.\u001b[0m\u001b[0mappend\u001b[0m\u001b[0;34m(\u001b[0m\u001b[0mpath_to_module\u001b[0m\u001b[0;34m)\u001b[0m\u001b[0;34m\u001b[0m\u001b[0;34m\u001b[0m\u001b[0m\n",
            "\u001b[0;32m/usr/local/lib/python3.7/dist-packages/google/colab/drive.py\u001b[0m in \u001b[0;36mmount\u001b[0;34m(mountpoint, force_remount, timeout_ms, readonly)\u001b[0m\n\u001b[1;32m    104\u001b[0m       \u001b[0mtimeout_ms\u001b[0m\u001b[0;34m=\u001b[0m\u001b[0mtimeout_ms\u001b[0m\u001b[0;34m,\u001b[0m\u001b[0;34m\u001b[0m\u001b[0;34m\u001b[0m\u001b[0m\n\u001b[1;32m    105\u001b[0m       \u001b[0mephemeral\u001b[0m\u001b[0;34m=\u001b[0m\u001b[0;32mTrue\u001b[0m\u001b[0;34m,\u001b[0m\u001b[0;34m\u001b[0m\u001b[0;34m\u001b[0m\u001b[0m\n\u001b[0;32m--> 106\u001b[0;31m       readonly=readonly)\n\u001b[0m\u001b[1;32m    107\u001b[0m \u001b[0;34m\u001b[0m\u001b[0m\n\u001b[1;32m    108\u001b[0m \u001b[0;34m\u001b[0m\u001b[0m\n",
            "\u001b[0;32m/usr/local/lib/python3.7/dist-packages/google/colab/drive.py\u001b[0m in \u001b[0;36m_mount\u001b[0;34m(mountpoint, force_remount, timeout_ms, ephemeral, readonly)\u001b[0m\n\u001b[1;32m    123\u001b[0m   \u001b[0;32mif\u001b[0m \u001b[0mephemeral\u001b[0m\u001b[0;34m:\u001b[0m\u001b[0;34m\u001b[0m\u001b[0;34m\u001b[0m\u001b[0m\n\u001b[1;32m    124\u001b[0m     _message.blocking_request(\n\u001b[0;32m--> 125\u001b[0;31m         'request_auth', request={'authType': 'dfs_ephemeral'}, timeout_sec=None)\n\u001b[0m\u001b[1;32m    126\u001b[0m \u001b[0;34m\u001b[0m\u001b[0m\n\u001b[1;32m    127\u001b[0m   \u001b[0mmountpoint\u001b[0m \u001b[0;34m=\u001b[0m \u001b[0m_os\u001b[0m\u001b[0;34m.\u001b[0m\u001b[0mpath\u001b[0m\u001b[0;34m.\u001b[0m\u001b[0mexpanduser\u001b[0m\u001b[0;34m(\u001b[0m\u001b[0mmountpoint\u001b[0m\u001b[0;34m)\u001b[0m\u001b[0;34m\u001b[0m\u001b[0;34m\u001b[0m\u001b[0m\n",
            "\u001b[0;32m/usr/local/lib/python3.7/dist-packages/google/colab/_message.py\u001b[0m in \u001b[0;36mblocking_request\u001b[0;34m(request_type, request, timeout_sec, parent)\u001b[0m\n\u001b[1;32m    169\u001b[0m   request_id = send_request(\n\u001b[1;32m    170\u001b[0m       request_type, request, parent=parent, expect_reply=True)\n\u001b[0;32m--> 171\u001b[0;31m   \u001b[0;32mreturn\u001b[0m \u001b[0mread_reply_from_input\u001b[0m\u001b[0;34m(\u001b[0m\u001b[0mrequest_id\u001b[0m\u001b[0;34m,\u001b[0m \u001b[0mtimeout_sec\u001b[0m\u001b[0;34m)\u001b[0m\u001b[0;34m\u001b[0m\u001b[0;34m\u001b[0m\u001b[0m\n\u001b[0m",
            "\u001b[0;32m/usr/local/lib/python3.7/dist-packages/google/colab/_message.py\u001b[0m in \u001b[0;36mread_reply_from_input\u001b[0;34m(message_id, timeout_sec)\u001b[0m\n\u001b[1;32m    100\u001b[0m         reply.get('colab_msg_id') == message_id):\n\u001b[1;32m    101\u001b[0m       \u001b[0;32mif\u001b[0m \u001b[0;34m'error'\u001b[0m \u001b[0;32min\u001b[0m \u001b[0mreply\u001b[0m\u001b[0;34m:\u001b[0m\u001b[0;34m\u001b[0m\u001b[0;34m\u001b[0m\u001b[0m\n\u001b[0;32m--> 102\u001b[0;31m         \u001b[0;32mraise\u001b[0m \u001b[0mMessageError\u001b[0m\u001b[0;34m(\u001b[0m\u001b[0mreply\u001b[0m\u001b[0;34m[\u001b[0m\u001b[0;34m'error'\u001b[0m\u001b[0;34m]\u001b[0m\u001b[0;34m)\u001b[0m\u001b[0;34m\u001b[0m\u001b[0;34m\u001b[0m\u001b[0m\n\u001b[0m\u001b[1;32m    103\u001b[0m       \u001b[0;32mreturn\u001b[0m \u001b[0mreply\u001b[0m\u001b[0;34m.\u001b[0m\u001b[0mget\u001b[0m\u001b[0;34m(\u001b[0m\u001b[0;34m'data'\u001b[0m\u001b[0;34m,\u001b[0m \u001b[0;32mNone\u001b[0m\u001b[0;34m)\u001b[0m\u001b[0;34m\u001b[0m\u001b[0;34m\u001b[0m\u001b[0m\n\u001b[1;32m    104\u001b[0m \u001b[0;34m\u001b[0m\u001b[0m\n",
            "\u001b[0;31mMessageError\u001b[0m: Error: credential propagation was unsuccessful"
          ]
        }
      ],
      "source": [
        "from google.colab import drive\n",
        "drive.mount('/content/drive', force_remount=True)\n",
        "import sys\n",
        "path_to_module = '/content/drive/MyDrive/temp'\n",
        "sys.path.append(path_to_module)\n",
        "#import normalize\n",
        "from normalize import normalizeTweet\n",
        "from normalize import normalizeReview"
      ]
    },
    {
      "cell_type": "code",
      "execution_count": null,
      "metadata": {
        "colab": {
          "background_save": true
        },
        "id": "XPg7zZSV2uZf"
      },
      "outputs": [],
      "source": [
        "from emoji import demojize\n",
        "from nltk.tokenize import TweetTokenizer\n",
        "from nltk.corpus import stopwords\n",
        "from nltk.tokenize import word_tokenize\n",
        "\n",
        "\n",
        "\n",
        "tokenizer = TweetTokenizer()\n",
        "\n",
        "\n",
        "def normalizeToken(token):\n",
        "    lowercased_token = token.lower()\n",
        "    if lowercased_token.startswith(\"@\"):\n",
        "        return \"\"\n",
        "    elif lowercased_token.startswith(\"http\") or lowercased_token.startswith(\"www\"):\n",
        "        return \"\"\n",
        "    #elif token.startswith(\"#\"):\n",
        "        #return \"\"\n",
        "    elif len(token) == 1:\n",
        "        return demojize(token)\n",
        "    else:\n",
        "        if token == \"’\":\n",
        "            return \"\"\n",
        "        elif token == \"…\":\n",
        "            return \"\"\n",
        "        elif token == \",\":\n",
        "            return \"\"\n",
        "        else:\n",
        "            #print(token)\n",
        "            return token\n",
        "\n",
        "\n",
        "def normalizeTweet(tweets):\n",
        "    x = []\n",
        "    t = []\n",
        "    dt = pd.DataFrame()\n",
        "    dt['tweet'] = []\n",
        "    count = 0\n",
        "    for row in tweets.index:\n",
        "      #print(data['tweet'][row])\n",
        "      tokens = tokenizer.tokenize(tweets['tweet'][row].replace(\"’\", \"'\").replace(\"…\", \"\"))\n",
        "      stop_words = stopwords.words('english')\n",
        "      #newstopwords = [',','\"','?','!','$','%','/','.','=','+','-','*',':',\"he's\",\"i'm\",\"you're\",\"they're\",\"she's\",\"we're\",\n",
        "                      #';','..','#','(',')',\"[\",\"]\",'&',':)',':(',\"i'd\",\"we've\",\"you've\",\"tehy've\",'','etc','im','u',\"i've\",\"that's\",\"it's\",\"'\",\"_\",\"i'll\"]\n",
        "      #stop_words.extend(newstopwords)\n",
        "      filtered_sentence = [w for w in tokens if not w.lower() in stop_words]\n",
        "      #filtered_sentence = [w.lower() for w in tokens]\n",
        "      #print(filtered_sentence)\n",
        "      normTweet = \" \".join([normalizeToken(token) for token in filtered_sentence])\n",
        "      t = x.append(row)\n",
        "      #print(normTweet)\n",
        "      \"\"\"normTweet = (\n",
        "          normTweet.replace(\"cannot \", \"can not \")\n",
        "          .replace(\"n't \", \" n't \")\n",
        "          .replace(\"n 't \", \" n't \")\n",
        "          .replace(\"ca n't\", \"can't\")\n",
        "          .replace(\"ai n't\", \"ain't\")\n",
        "      )\n",
        "      #print(normTweet)\n",
        "      normTweet = (\n",
        "          normTweet.replace(\"'m \", \" 'm \")\n",
        "          .replace(\"'re \", \" 're \")\n",
        "          .replace(\"'s \", \" 's \")\n",
        "          .replace(\"'ll \", \" 'll \")\n",
        "          .replace(\"'d \", \" 'd \")\n",
        "          .replace(\"'ve \", \" 've \")\n",
        "      )\n",
        "      normTweet = (\n",
        "          normTweet.replace(\" p . m .\", \"  p.m.\")\n",
        "          .replace(\" p . m \", \" p.m \")\n",
        "          .replace(\" a . m .\", \" a.m.\")\n",
        "          .replace(\" a . m \", \" a.m \")\n",
        "      )\"\"\"\n",
        "      #print(\"norm\",normTweet)\n",
        "      #x.append(normTweet)\n",
        "\n",
        "      #dt.append(normTweet)\n",
        "      count+=1\n",
        "      #h = normTweet.split()\n",
        "      #print(normTweet)\n",
        "      #print(\"count\",count,normTweet)\n",
        "      dt.loc[len(dt)] = \" \".join(normTweet.split())\n",
        "    #print(normTweet)\n",
        "    return dt\n",
        "    #return \" \".join(normTweet.split())"
      ]
    },
    {
      "cell_type": "code",
      "execution_count": null,
      "metadata": {
        "colab": {
          "background_save": true,
          "base_uri": "https://localhost:8080/",
          "height": 296
        },
        "id": "XH5ICixT1Pl3",
        "outputId": "e0120995-fffc-4453-d0c0-1fef9f5934e6"
      },
      "outputs": [
        {
          "name": "stdout",
          "output_type": "stream",
          "text": [
            "                                                 tweet\n",
            "0    Adverse reactions COVID - 19 vaccines rare , s...\n",
            "1    Receive first shot anti-COVID - 19 vaccine . s...\n",
            "2    Got 1st covid - 19 vaccine shot yesterday morn...\n",
            "3    got 2nd dose Moderna COVID - 19 vaccine ! ! 2 ...\n",
            "4    got first shot Pfizer COVID - 19 vaccine yeste...\n",
            "..                                                 ...\n",
            "410  Looks like Moderna reaction Sinopharm . Sinoph...\n",
            "411  father ( 60 + ) reaction sinopharm , sore arm ...\n",
            "412  mother bad hypertensive reaction Sinopharm's 1...\n",
            "413  Someone know got days long feverish reaction ,...\n",
            "414  Parents 50 , got Sinopharm , know means lot he...\n",
            "\n",
            "[415 rows x 1 columns]\n"
          ]
        },
        {
          "data": {
            "application/vnd.google.colaboratory.intrinsic+json": {
              "type": "string"
            },
            "text/plain": [
              "'\\ntxtone = dataone[\"tweet\"].tolist()\\ntxtzero = datazero[\"tweet\"].tolist()\\ntxtreview = datareview[\"SYMPTOM_TEXT\"].tolist()\\ntxtthree = datathree[\"tweet\"].tolist()\\n#txtreview = datareview[\"tweet\"].tolist()\\nprint(txtone)'"
            ]
          },
          "execution_count": 29,
          "metadata": {},
          "output_type": "execute_result"
        }
      ],
      "source": [
        "import regex\n",
        "stop_words = stopwords.words('english')\n",
        "tweetsone = normalizeTweet(dataone)\n",
        "tweetszero = normalizeTweet(datazero)\n",
        "tweetsreview = normalizeTweet(datareview)\n",
        "tweetsthree = normalizeTweet(datathree)\n",
        "#tweetsreview = normalizeTweet(datareview)\n",
        "#tweetsreview = normalizeReview(dfreview)\n",
        "#print(tweets[[\"tweet\"]].values)\n",
        "#print(tweetsone)\n",
        "txtone = tweetsone[\"tweet\"].tolist()\n",
        "txtzero = tweetszero[\"tweet\"].tolist()\n",
        "txtreview = tweetsreview[\"tweet\"].tolist()\n",
        "txtthree = tweetsthree[\"tweet\"].tolist()\n",
        "#txtreview = datareview[\"SYMPTOM_TEXT\"].str.lower()\n",
        "#for i in stop_words :\n",
        "    #txtreview = txtreview.replace(to_replace=r'\\b%s\\b'%i, value=\"\",regex=True)\n",
        "#txtreview = txtreview.replace(to_replace=',',value='',regex=True).tolist()\n",
        "print(tweetsone)\n",
        "#txtreview = datareview[\"SYMPTOM_TEXT\"].tolist()\n",
        "#txtreview = tweetsreview[\"SYMPTOM_TEXT\"].tolist()\n",
        "#print(\"fariba\")\n",
        "#print(txtreview[50])\n",
        "#print(txtone[56])\n",
        "#for t in txt:\n",
        "  #print(\"t\",t,\"item\",t.item())\n",
        "\"\"\"\n",
        "txtone = dataone[\"tweet\"].tolist()\n",
        "txtzero = datazero[\"tweet\"].tolist()\n",
        "txtreview = datareview[\"SYMPTOM_TEXT\"].tolist()\n",
        "txtthree = datathree[\"tweet\"].tolist()\n",
        "#txtreview = datareview[\"tweet\"].tolist()\n",
        "print(txtone)\"\"\""
      ]
    },
    {
      "cell_type": "code",
      "execution_count": null,
      "metadata": {
        "id": "nDW2NsO8Arkb"
      },
      "outputs": [],
      "source": [
        "from transformers import pipeline\n",
        "model = \"justinqbui/bertweet-covid19-base-uncased-pretraining-covid-vaccine-tweets\"\n",
        "pipe = pipeline(\"fill-mask\", model = model)\n",
        "seq = \"covid vaccines are <mask> and effective\"\n",
        "pipe(seq)\n"
      ]
    },
    {
      "cell_type": "code",
      "execution_count": null,
      "metadata": {
        "colab": {
          "base_uri": "https://localhost:8080/",
          "height": 406,
          "referenced_widgets": [
            "6d1ce145bdc44acb80e7c82f6a431aa2",
            "f6eb1fd4012145a5a0f8a547eac11a23",
            "1acabd9f4a70431893b972228376e0f0",
            "b76f6218acd34de5856f13a5f7f9cff4",
            "e499f3487fd4464f9acde72369eafbcf",
            "bacbc844d6eb4aa18dc73846574171c0",
            "35560400f4bd44d29b0dbf55b978290d",
            "1f891242a1de49bca41656c5fc4d0ded",
            "e51171b86bea428f80e834d1f49b4ef3",
            "271fefa47e6f41a885665279ea9a28f0",
            "33e4e83d5aef47b5876f46f29ef28b1e",
            "0c06ed0a66c34c5da5614e98fd225152",
            "dcb0f61db07249168f6ed3a2682be516",
            "4e65b387a42a47ed93b43f57c273a41d",
            "613fc903a93f444287d6a7c5c3eabdd3",
            "dd4a5d8653b44f1c931658736ebd16e4",
            "1697b42719d44d6d92b25ae4441c8a51",
            "bf3821b36aa045bc9e6e4407f1ff8f3a",
            "a3852769ca2b4d858394bddc22943cdf",
            "bb9cdd2489f14b5f843283807a14285c",
            "3f42077bc0344675a811103d9c04f2c2",
            "7447f348e1714da28cf034db5d80a9e7",
            "53b15c7040564bdda2ae6c53f3aa9422",
            "5f6404db4dca40fda3e9d40d564974a9",
            "05265285583b4ab3bb01b99c5901efaf",
            "71e13b4fa9e6447483c140c7cbed12ef",
            "4d85106d4c4745fcb71604a3f441e14d",
            "246acdda88d04a169408b24f837b1667",
            "2082fb060cdd4d5d8ab0a2672d9664be",
            "fa144d58d3514122836503f240dd96b4",
            "fbdcbf2b3d284d28a6fdf0a565625f25",
            "e09a4b5627be492da80931953e149b3d",
            "44d61af4faf74718a494f3be30c2f526",
            "0307d81778f74c67a0791d22687a77b6",
            "c8477ae1ed92441a966da6a35bcab835",
            "47c67a3b20ac4683bfb2170fb125a32e",
            "98780fbd2e9146479dcdccd052ee2a00",
            "caf0b23a5f3d4e809847d5bc3df269eb",
            "338834df2ed44aec82fd5232c9f80c28",
            "42e3f70f30ab4dfeb545b033c0d2666a",
            "b00b64d59aee4e8aa9f1bf1b48a684af",
            "2d188c7bb13d460db59ee252cd4b1149",
            "9cf5ec984f3b4919960b2f3db8147970",
            "a0eff78aade24ed7bf9cf459ffcc39ad",
            "6cc6d5232386447b91afb972b496fad5",
            "253b4e03f6794567bf9f492bb7c33c82",
            "22a6a755cdcf42ca890e9d85d506757b",
            "a2f1470c389644ca921797428b7bcc8f",
            "a9e28fee887a42b296492c0698375cfc",
            "6e8fd37f265241f184097da39657840a",
            "2367e86ea5f94733a5062bd896f18c68",
            "fd09155cd2f446e9adcccea78124dd39",
            "fae13b903e3248f38fee68d53779efac",
            "ff06595be3df443fb6ee5ba08a800fe5",
            "20622f70f98e4d77a727b7ed09499216"
          ]
        },
        "id": "oHpOeV35CFFI",
        "outputId": "71ed13fe-d985-4cc9-bc48-709c9c5787e6"
      },
      "outputs": [
        {
          "data": {
            "application/vnd.jupyter.widget-view+json": {
              "model_id": "6d1ce145bdc44acb80e7c82f6a431aa2",
              "version_major": 2,
              "version_minor": 0
            },
            "text/plain": [
              "Downloading:   0%|          | 0.00/62.0 [00:00<?, ?B/s]"
            ]
          },
          "metadata": {},
          "output_type": "display_data"
        },
        {
          "data": {
            "application/vnd.jupyter.widget-view+json": {
              "model_id": "0c06ed0a66c34c5da5614e98fd225152",
              "version_major": 2,
              "version_minor": 0
            },
            "text/plain": [
              "Downloading:   0%|          | 0.00/421 [00:00<?, ?B/s]"
            ]
          },
          "metadata": {},
          "output_type": "display_data"
        },
        {
          "data": {
            "application/vnd.jupyter.widget-view+json": {
              "model_id": "53b15c7040564bdda2ae6c53f3aa9422",
              "version_major": 2,
              "version_minor": 0
            },
            "text/plain": [
              "Downloading:   0%|          | 0.00/232k [00:00<?, ?B/s]"
            ]
          },
          "metadata": {},
          "output_type": "display_data"
        },
        {
          "data": {
            "application/vnd.jupyter.widget-view+json": {
              "model_id": "0307d81778f74c67a0791d22687a77b6",
              "version_major": 2,
              "version_minor": 0
            },
            "text/plain": [
              "Downloading:   0%|          | 0.00/112 [00:00<?, ?B/s]"
            ]
          },
          "metadata": {},
          "output_type": "display_data"
        },
        {
          "data": {
            "application/vnd.jupyter.widget-view+json": {
              "model_id": "6cc6d5232386447b91afb972b496fad5",
              "version_major": 2,
              "version_minor": 0
            },
            "text/plain": [
              "Downloading:   0%|          | 0.00/1.35G [00:00<?, ?B/s]"
            ]
          },
          "metadata": {},
          "output_type": "display_data"
        },
        {
          "name": "stderr",
          "output_type": "stream",
          "text": [
            "Some weights of the model checkpoint at digitalepidemiologylab/covid-twitter-bert-v2 were not used when initializing BertModel: ['cls.predictions.bias', 'cls.predictions.transform.LayerNorm.weight', 'cls.predictions.decoder.weight', 'cls.seq_relationship.weight', 'cls.predictions.decoder.bias', 'cls.seq_relationship.bias', 'cls.predictions.transform.dense.bias', 'cls.predictions.transform.dense.weight', 'cls.predictions.transform.LayerNorm.bias']\n",
            "- This IS expected if you are initializing BertModel from the checkpoint of a model trained on another task or with another architecture (e.g. initializing a BertForSequenceClassification model from a BertForPreTraining model).\n",
            "- This IS NOT expected if you are initializing BertModel from the checkpoint of a model that you expect to be exactly identical (initializing a BertForSequenceClassification model from a BertForSequenceClassification model).\n"
          ]
        },
        {
          "name": "stdout",
          "output_type": "stream",
          "text": [
            "encoded_input 34 ['post', 'second', 'shot', 'of', 'co', '##vid', '-', '19', 'vaccine', '.', '.', '.', '.', 'got', 'that', 'fever', '&', 'amp', ';', 'headache', '[UNK]', 'https', ':', '/', '/', 't', '.', 'co', '/', 'ed', '##eum', '##t', '##da', '##oc']\n",
            "['di', '##zziness', 'dia', '##rr', '##hea', 'chill', '##s', ',', ',', ',', 'fever', 'fever', 'muscle', 'ache', '##s', 'pain', 'at', 'the', 'injection', 'site']\n"
          ]
        },
        {
          "data": {
            "application/vnd.google.colaboratory.intrinsic+json": {
              "type": "string"
            },
            "text/plain": [
              "' txtone = \"Got Moderna booster yesterday on top of J&amp;J vaccine I had in March. Today is rough. Fever of 100.5°, body aches everywhere (even my teeth hurt), slight headache, and slight nausea. But SO MUCH BETTER than getting severe COVID-19. #Booster #GetVaccinated\"\\ntxtzero = \"Moderna needs more black people for their  study. These folks should sign up today! They should have a drive for the cause. #BlacksForTrump #Trump2020 #sWork #19 #briefing #MAGA2020 #Republican #FoxAndFriends #tuckercarlsontonight @VP @Mike_Pence\"\\ntxtreview = \"Headache-persistent  Weakness x 48 hours Fatigue x48 hours  Body aches x48 hours Arm pain swelling and redness persistent\"\\ntweetsone = normalizeTweet(txtone)\\ntweetszero = normalizeTweet(txtzero)\\nencoded_input0 = tokenizer.tokenize(tweetszero)\\nencoded_input1 = tokenizer.tokenize(tweetsone)\\nencoded_input2 = tokenizer.tokenize(txtreview)\\nprint(\"encoded_input0\",len(encoded_input0),encoded_input0)\\nprint(\"encoded_input1\",len(encoded_input0),encoded_input1)\\nprint(\"encoded_input2\",encoded_input2)\\nencoded_input = tokenizer.encode(txtzero, padding=True, truncation=True, max_length=512, return_tensors=\\'pt\\')\\nprint(\"encoded_input\",len(encoded_input),encoded_input)\\nencoded_inputt = tokenizer(txtzero, padding=True, truncation=True, max_length=512, return_tensors=\\'pt\\')\\nprint(\"encoded_input sample\",len(encoded_inputt),encoded_inputt)\\nencoded_input1 = tokenizer(txtone, padding=True, truncation=True, max_length=512, return_tensors=\\'pt\\')\\nencoded_input2 = tokenizer(txtreview, padding=True, truncation=True, max_length=512, return_tensors=\\'pt\\')'"
            ]
          },
          "execution_count": 8,
          "metadata": {},
          "output_type": "execute_result"
        }
      ],
      "source": [
        "from sklearn.preprocessing import Normalizer\n",
        "from transformers import AutoTokenizer, AutoModel, AutoModelForMaskedLM\n",
        "tokenizer = AutoTokenizer.from_pretrained('digitalepidemiologylab/covid-twitter-bert-v2')\n",
        "model = AutoModel.from_pretrained('digitalepidemiologylab/covid-twitter-bert-v2')\n",
        "#print(tokenizer)\n",
        "#print(model.eval)\n",
        "s1 = \"i can’t be only one who get’s excited over a new toothbrush\"\n",
        "s2 = \"Soccer Ball Sports Pattern Soap Dispenser And Toothbrush Holder \"\n",
        "s3 = \"After my second dose of COVID-19 vaccine , I had malaise (general feeling of unwellness) and headache.  I took paracetamol and it resolved before the next morning What symptoms did you have when you took the vaccine? Do you have any fears about taking the vaccine?\"\n",
        "s4 = \"Side effects from the second Moderna Vaccine. I woke up with major body aches, headache, and fatigue. I will take it over getting COVID 19. I can not wait for 70% of the World is vaccinated.\"\n",
        "s5 = \"⛪ WretchedRadio: Join us on Facebook or YouTube this Friday at 8 PM ET for a very special event, \"\"Should Christians Take the ?\"\n",
        "s6 = \"@toastingtoaster This  promise is by Nirmala Tai only, I wonder she knows what she said. Smh\"\n",
        "s = [\"i can’t be only one who get’s excited over a new toothbrush\",\n",
        "\"Soccer Ball Sports Pattern Soap Dispenser And Toothbrush Holder \",\"After my second dose of COVID-19 vaccine , I had malaise (general feeling of unwellness) and headache.  I took paracetamol and it resolved before the next morning What symptoms did you have when you took the vaccine? Do you have any fears about taking the vaccine?\",\"Side effects from the second Moderna Vaccine. I woke up with major body aches, headache, and fatigue. I will take it over getting COVID 19. I can not wait for 70% of the World is vaccinated.\",\"⛪ WretchedRadio: Join us on Facebook or YouTube this Friday at 8 PM ET for a very special event, \"\"Should Christians Take the ?\" ,\"@toastingtoaster This  promise is by Nirmala Tai only, I wonder she knows what she said. Smh\"]\n",
        "encoded_input = tokenizer.tokenize(\"Post second shot of covid-19 vaccine....   Got that fever &amp; headache 😑😑  https://t.co/EDEUMtDAOc\", padding=True)\n",
        "print(\"encoded_input\",len(encoded_input),encoded_input)\n",
        "sentences = ['Dizziness chills, , ,Fever fever muscle aches pain at the injection site', 'Each sentence is converted']\n",
        "encoded_input1 = tokenizer.tokenize('Dizziness diarrhea chills, ,  , Fever fever muscle aches pain at the injection site')\n",
        "print(encoded_input1)\n",
        "encoded_input = tokenizer(sentences, padding=True, truncation=True, max_length=512)\n",
        "#print(\"encoded_input\",len(encoded_input),encoded_input)\n",
        "\"\"\" txtone = \"Got Moderna booster yesterday on top of J&amp;J vaccine I had in March. Today is rough. Fever of 100.5°, body aches everywhere (even my teeth hurt), slight headache, and slight nausea. But SO MUCH BETTER than getting severe COVID-19. #Booster #GetVaccinated\"\n",
        "txtzero = \"Moderna needs more black people for their  study. These folks should sign up today! They should have a drive for the cause. #BlacksForTrump #Trump2020 #sWork #19 #briefing #MAGA2020 #Republican #FoxAndFriends #tuckercarlsontonight @VP @Mike_Pence\"\n",
        "txtreview = \"Headache-persistent  Weakness x 48 hours Fatigue x48 hours  Body aches x48 hours Arm pain swelling and redness persistent\"\n",
        "tweetsone = normalizeTweet(txtone)\n",
        "tweetszero = normalizeTweet(txtzero)\n",
        "encoded_input0 = tokenizer.tokenize(tweetszero)\n",
        "encoded_input1 = tokenizer.tokenize(tweetsone)\n",
        "encoded_input2 = tokenizer.tokenize(txtreview)\n",
        "print(\"encoded_input0\",len(encoded_input0),encoded_input0)\n",
        "print(\"encoded_input1\",len(encoded_input0),encoded_input1)\n",
        "print(\"encoded_input2\",encoded_input2)\n",
        "encoded_input = tokenizer.encode(txtzero, padding=True, truncation=True, max_length=512, return_tensors='pt')\n",
        "print(\"encoded_input\",len(encoded_input),encoded_input)\n",
        "encoded_inputt = tokenizer(txtzero, padding=True, truncation=True, max_length=512, return_tensors='pt')\n",
        "print(\"encoded_input sample\",len(encoded_inputt),encoded_inputt)\n",
        "encoded_input1 = tokenizer(txtone, padding=True, truncation=True, max_length=512, return_tensors='pt')\n",
        "encoded_input2 = tokenizer(txtreview, padding=True, truncation=True, max_length=512, return_tensors='pt')\"\"\"\n"
      ]
    },
    {
      "cell_type": "code",
      "execution_count": null,
      "metadata": {
        "colab": {
          "background_save": true,
          "base_uri": "https://localhost:8080/",
          "height": 229,
          "referenced_widgets": [
            "91416d1a65724966b701347d0fa79d4f",
            "c1fab7403e544651bf51300d459cceab",
            "07a77b5d35424c989e3469c191e09490"
          ]
        },
        "id": "S99ShjBAqOOb",
        "outputId": "785711ac-a1f6-425a-e249-e4ea6b948097"
      },
      "outputs": [
        {
          "data": {
            "application/vnd.jupyter.widget-view+json": {
              "model_id": "91416d1a65724966b701347d0fa79d4f",
              "version_major": 2,
              "version_minor": 0
            },
            "text/plain": [
              "Downloading:   0%|          | 0.00/421 [00:00<?, ?B/s]"
            ]
          },
          "metadata": {},
          "output_type": "display_data"
        },
        {
          "data": {
            "application/vnd.jupyter.widget-view+json": {
              "model_id": "c1fab7403e544651bf51300d459cceab",
              "version_major": 2,
              "version_minor": 0
            },
            "text/plain": [
              "Downloading:   0%|          | 0.00/232k [00:00<?, ?B/s]"
            ]
          },
          "metadata": {},
          "output_type": "display_data"
        },
        {
          "data": {
            "application/vnd.jupyter.widget-view+json": {
              "model_id": "07a77b5d35424c989e3469c191e09490",
              "version_major": 2,
              "version_minor": 0
            },
            "text/plain": [
              "Downloading:   0%|          | 0.00/1.35G [00:00<?, ?B/s]"
            ]
          },
          "metadata": {},
          "output_type": "display_data"
        },
        {
          "name": "stderr",
          "output_type": "stream",
          "text": [
            "Some weights of the model checkpoint at digitalepidemiologylab/covid-twitter-bert were not used when initializing BertModel: ['cls.predictions.transform.LayerNorm.weight', 'cls.seq_relationship.weight', 'cls.predictions.transform.LayerNorm.bias', 'cls.predictions.decoder.bias', 'cls.predictions.bias', 'cls.predictions.transform.dense.weight', 'cls.predictions.transform.dense.bias', 'cls.predictions.decoder.weight', 'cls.seq_relationship.bias']\n",
            "- This IS expected if you are initializing BertModel from the checkpoint of a model trained on another task or with another architecture (e.g. initializing a BertForSequenceClassification model from a BertForPreTraining model).\n",
            "- This IS NOT expected if you are initializing BertModel from the checkpoint of a model that you expect to be exactly identical (initializing a BertForSequenceClassification model from a BertForSequenceClassification model).\n"
          ]
        },
        {
          "name": "stdout",
          "output_type": "stream",
          "text": [
            "1024\n"
          ]
        },
        {
          "data": {
            "application/vnd.google.colaboratory.intrinsic+json": {
              "type": "string"
            },
            "text/plain": [
              "'encoded_input0 = tokenizer.tokenize(txtzero)\\nencoded_input1 = tokenizer.tokenize(txtone)\\nencoded_input2 = tokenizer.tokenize(txtreview)\\nprint(\"encoded_input0\",len(encoded_input0),encoded_input0)\\nprint(\"encoded_input1\",encoded_input1)\\nprint(\"encoded_input2\",encoded_input2)\\nencoded_input = tokenizer.encode(txtzero, padding=True, truncation=True, max_length=512, return_tensors=\\'pt\\')\\nprint(\"encoded_input\",len(encoded_input),encoded_input)\\nencoded_inputt = tokenizer(txtzero, padding=True, truncation=True, max_length=512, return_tensors=\\'pt\\')\\nprint(\"encoded_input sample\",len(encoded_inputt),encoded_inputt)\\nencoded_input1 = tokenizer(txtone, padding=True, truncation=True, max_length=512, return_tensors=\\'pt\\')\\nencoded_input2 = tokenizer(txtreview, padding=True, truncation=True, max_length=512, return_tensors=\\'pt\\')'"
            ]
          },
          "execution_count": 16,
          "metadata": {},
          "output_type": "execute_result"
        }
      ],
      "source": [
        "#Mean Pooling - Take attention mask into account for correct averaging\n",
        "def mean_pooling(model_output, attention_mask):\n",
        "    token_embeddings = model_output[0] #First element of model_output contains all token embeddings\n",
        "    #print(token_embeddings)\n",
        "    input_mask_expanded = attention_mask.unsqueeze(-1).expand(token_embeddings.size()).float()\n",
        "    return torch.sum(token_embeddings * input_mask_expanded, 1) / torch.clamp(input_mask_expanded.sum(1), min=1e-9)\n",
        "from transformers import AutoTokenizer, AutoModel, AutoModelForMaskedLM\n",
        "tokenizer = AutoTokenizer.from_pretrained('digitalepidemiologylab/covid-twitter-bert')\n",
        "model = AutoModel.from_pretrained('digitalepidemiologylab/covid-twitter-bert')\n",
        "#print(model(**inputs))\n",
        "s1 = \"toothbrush\"\n",
        "s2 = \"Soccer Ball Sports Pattern Soap Dispenser And Toothbrush Holder \"\n",
        "s3 = \"After my second dose of COVID-19 vaccine , I had malaise (general feeling of unwellness) and headache.  I took paracetamol and it resolved before the next morning What symptoms did you have when you took the vaccine? Do you have any fears about taking the vaccine?\"\n",
        "s4 = \"Side effects from the second Moderna Vaccine. I woke up with major body aches, headache, and fatigue. I will take it over getting COVID 19. I can not wait for 70% of the World is vaccinated.\"\n",
        "s5 = \"⛪ WretchedRadio: Join us on Facebook or YouTube this Friday at 8 PM ET for a very special event, \"\"Should Christians Take the ?\"\n",
        "s6 = \"@toastingtoaster This  promise is by Nirmala Tai only, I wonder she knows what she said. Smh\"\n",
        "s7 = \"fever,headache,cold,itch,cough\"\n",
        "s = [\"i can’t be only one who get’s excited over a new toothbrush\",\n",
        "\"Soccer Ball Sports Pattern Soap Dispenser And Toothbrush Holder \",\"After my second dose of COVID-19 vaccine , I had malaise (general feeling of unwellness) and headache.  I took paracetamol and it resolved before the next morning What symptoms did you have when you took the vaccine? Do you have any fears about taking the vaccine?\",\"Side effects from the second Moderna Vaccine. I woke up with major body aches, headache, and fatigue. I will take it over getting COVID 19. I can not wait for 70% of the World is vaccinated.\",\"⛪ WretchedRadio: Join us on Facebook or YouTube this Friday at 8 PM ET for a very special event, \"\"Should Christians Take the ?\" ,\"@toastingtoaster This  promise is by Nirmala Tai only, I wonder she knows what she said. Smh\"]\n",
        "sentences = ['Dizziness chills, , ,Fever fever muscle aches pain at the injection site', 'Each sentence is converted']\n",
        "encoded_input = tokenizer.tokenize(\"Post second shot of covid-19 vaccine....   Got that fever &amp; headache 😑😑  https://t.co/EDEUMtDAOc\", padding=True)\n",
        "#print(\"encoded_input\",len(encoded_input),encoded_input)\n",
        "encoded_input1 = tokenizer.tokenize('Dizziness diarrhea chills, ,  , Fever fever muscle aches pain at the injection site')\n",
        "#print(encoded_input1)\n",
        "encoded_input1 = tokenizer(txtone, padding=True, return_tensors='pt')\n",
        "#print(encoded_input0)\n",
        "encoded_input0 = tokenizer(txtzero, padding=True, return_tensors='pt')\n",
        "#encoded_input3 = tokenizer(txtthree, padding=True, return_tensors='pt')\n",
        "encoded_input2 = tokenizer(txtreview, padding=True, return_tensors='pt')\n",
        "#encoded_input4 = tokenizer(s5, padding='max_length', truncation=True, max_length=80, return_tensors='pt')\n",
        "#encoded_input5 = tokenizer(s7, padding='max_length', truncation=True, max_length=80, return_tensors='pt')\n",
        "#print(encoded_input5)\n",
        "# Compute token embeddings\n",
        "with torch.no_grad():\n",
        "    model_output0 = model(**encoded_input0)\n",
        "    model_output1 = model(**encoded_input1)\n",
        "    model_output2 = model(**encoded_input2)\n",
        "    #model_output3 = model(**encoded_input3)\n",
        "    #model_output4 = model(**encoded_input4)\n",
        "    #model_output5 = model(**encoded_input5)\n",
        "print(len(model_output0[1][0]))\n",
        "#print(model_output1)\n",
        "#print(model_output2)\n",
        "# Perform pooling. In this case, mean pooling.\n",
        "\n",
        "#print(\"encoded_input\",len(encoded_input),encoded_input)\n",
        "#txtone = \"Got Moderna booster yesterday on top of J&amp;J vaccine I had in March. Today is rough. Fever of 100.5°, body aches everywhere (even my teeth hurt), slight headache, and slight nausea. But SO MUCH BETTER than getting severe COVID-19. #Booster #GetVaccinated\"\"\"\n",
        "#txtzero = \"Moderna needs more black people for their  study. These folks should sign up today! They should have a drive for the cause.#BlacksForTrump #Trump2020 #sWork #19 #briefing #MAGA2020 #Republican #FoxAndFriends #tuckercarlsontonight @VP @Mike_Pence\"\n",
        "#txtreview = \"Headache-persistent  Weakness x 48 hours Fatigue x48 hours  Body aches x48 hours Arm pain swelling and redness persistent\"\n",
        "\"\"\"encoded_input0 = tokenizer.tokenize(txtzero)\n",
        "encoded_input1 = tokenizer.tokenize(txtone)\n",
        "encoded_input2 = tokenizer.tokenize(txtreview)\n",
        "print(\"encoded_input0\",len(encoded_input0),encoded_input0)\n",
        "print(\"encoded_input1\",encoded_input1)\n",
        "print(\"encoded_input2\",encoded_input2)\n",
        "encoded_input = tokenizer.encode(txtzero, padding=True, truncation=True, max_length=512, return_tensors='pt')\n",
        "print(\"encoded_input\",len(encoded_input),encoded_input)\n",
        "encoded_inputt = tokenizer(txtzero, padding=True, truncation=True, max_length=512, return_tensors='pt')\n",
        "print(\"encoded_input sample\",len(encoded_inputt),encoded_inputt)\n",
        "encoded_input1 = tokenizer(txtone, padding=True, truncation=True, max_length=512, return_tensors='pt')\n",
        "encoded_input2 = tokenizer(txtreview, padding=True, truncation=True, max_length=512, return_tensors='pt')\"\"\""
      ]
    },
    {
      "cell_type": "code",
      "execution_count": null,
      "metadata": {
        "colab": {
          "background_save": true,
          "base_uri": "https://localhost:8080/"
        },
        "id": "l5JQ0N-4lWl7",
        "outputId": "86e911c2-2c22-49a3-c776-7eb9cb5a36ca"
      },
      "outputs": [
        {
          "name": "stdout",
          "output_type": "stream",
          "text": [
            "1024\n",
            "1 [[0.39957824 0.35869095 0.37368634 ... 0.4857127  0.3448252  0.39007956]\n",
            " [0.3714359  0.37317443 0.37354273 ... 0.47560528 0.3105298  0.513225  ]\n",
            " [0.42293587 0.5183719  0.47853434 ... 0.6408821  0.475054   0.5401419 ]\n",
            " ...\n",
            " [0.4285219  0.4080618  0.33690047 ... 0.5149633  0.31842005 0.38451666]\n",
            " [0.50773597 0.36464134 0.41113558 ... 0.54107463 0.34995732 0.44358158]\n",
            " [0.44591755 0.42931667 0.43718126 ... 0.5544024  0.4207974  0.51996654]]\n",
            "0,2 tensor([[0.2328, 0.2959, 0.2383,  ..., 0.3018, 0.2667, 0.2188],\n",
            "        [0.3300, 0.2636, 0.2905,  ..., 0.3921, 0.2297, 0.3605],\n",
            "        [0.3646, 0.3477, 0.2676,  ..., 0.4461, 0.2766, 0.3862],\n",
            "        ...,\n",
            "        [0.3403, 0.3573, 0.3461,  ..., 0.3424, 0.3460, 0.2818],\n",
            "        [0.1965, 0.1885, 0.2555,  ..., 0.2493, 0.2684, 0.2303],\n",
            "        [0.3862, 0.3549, 0.3344,  ..., 0.4940, 0.3335, 0.4105]])\n",
            "0,1 tensor([[0.3756, 0.3528, 0.3337,  ..., 0.3481, 0.3677, 0.3586],\n",
            "        [0.5000, 0.5662, 0.4369,  ..., 0.5027, 0.5100, 0.5207],\n",
            "        [0.5023, 0.5337, 0.4583,  ..., 0.5336, 0.5182, 0.5091],\n",
            "        ...,\n",
            "        [0.5390, 0.4412, 0.4970,  ..., 0.5350, 0.4937, 0.5181],\n",
            "        [0.5232, 0.4552, 0.4484,  ..., 0.3794, 0.4051, 0.4825],\n",
            "        [0.6425, 0.5689, 0.6511,  ..., 0.6687, 0.6339, 0.6884]])\n",
            "0,3 tensor([[0.3756, 0.3528, 0.3337,  ..., 0.3481, 0.3677, 0.3586],\n",
            "        [0.5000, 0.5662, 0.4369,  ..., 0.5027, 0.5100, 0.5207],\n",
            "        [0.5023, 0.5337, 0.4583,  ..., 0.5336, 0.5182, 0.5091],\n",
            "        ...,\n",
            "        [0.5390, 0.4412, 0.4970,  ..., 0.5350, 0.4937, 0.5181],\n",
            "        [0.5232, 0.4552, 0.4484,  ..., 0.3794, 0.4051, 0.4825],\n",
            "        [0.6425, 0.5689, 0.6511,  ..., 0.6687, 0.6339, 0.6884]])\n",
            "1,3 tensor([[0.3756, 0.3528, 0.3337,  ..., 0.3481, 0.3677, 0.3586],\n",
            "        [0.5000, 0.5662, 0.4369,  ..., 0.5027, 0.5100, 0.5207],\n",
            "        [0.5023, 0.5337, 0.4583,  ..., 0.5336, 0.5182, 0.5091],\n",
            "        ...,\n",
            "        [0.5390, 0.4412, 0.4970,  ..., 0.5350, 0.4937, 0.5181],\n",
            "        [0.5232, 0.4552, 0.4484,  ..., 0.3794, 0.4051, 0.4825],\n",
            "        [0.6425, 0.5689, 0.6511,  ..., 0.6687, 0.6339, 0.6884]])\n",
            "1,2 tensor([[0.3996, 0.3587, 0.3737,  ..., 0.4857, 0.3448, 0.3901],\n",
            "        [0.3714, 0.3732, 0.3735,  ..., 0.4756, 0.3105, 0.5132],\n",
            "        [0.4229, 0.5184, 0.4785,  ..., 0.6409, 0.4751, 0.5401],\n",
            "        ...,\n",
            "        [0.4285, 0.4081, 0.3369,  ..., 0.5150, 0.3184, 0.3845],\n",
            "        [0.5077, 0.3646, 0.4111,  ..., 0.5411, 0.3500, 0.4436],\n",
            "        [0.4459, 0.4293, 0.4372,  ..., 0.5544, 0.4208, 0.5200]])\n"
          ]
        }
      ],
      "source": [
        "sentence_embeddings0 = mean_pooling(model_output0, encoded_input0['attention_mask'])\n",
        "sentence_embeddings1 = mean_pooling(model_output1, encoded_input1['attention_mask'])\n",
        "sentence_embeddings2 = mean_pooling(model_output2, encoded_input2['attention_mask'])\n",
        "#sentence_embeddings3 = mean_pooling(model_output3, encoded_input3['attention_mask'])\n",
        "#sentence_embeddings4 = mean_pooling(model_output4, encoded_input4['attention_mask'])\n",
        "#sentence_embeddings5 = mean_pooling(model_output5, encoded_input5['attention_mask'])\n",
        "print(len(sentence_embeddings0[0]))\n",
        "\"\"\"cosine = cosine_similarity(sentence_embeddings0, sentence_embeddings5)\n",
        "print(\"0\",cosine)\n",
        "cosine = cosine_similarity(sentence_embeddings1, sentence_embeddings5)\n",
        "print(\"1\",cosine)\n",
        "#cosine = cosine_similarity()\n",
        "print(\"0\",cosine)\n",
        "cosine = cosine_similarity(sentence_embeddings1, sentence_embeddings5)\n",
        "print(\"1\",cosine)\n",
        "cosine = cosine_similarity(sentence_embeddings0, sentence_embeddings5)\n",
        "print(\"0\",cosine)\"\"\"\n",
        "cosine = cosine_similarity(sentence_embeddings1, sentence_embeddings2)\n",
        "print(\"1\",cosine)\n",
        "\n",
        "cosine_scores = util.cos_sim(sentence_embeddings0, sentence_embeddings2)\n",
        "print(\"0,2\",cosine_scores)\n",
        "cosine_scores = util.cos_sim(sentence_embeddings0, sentence_embeddings1)\n",
        "print(\"0,1\",cosine_scores)\n",
        "#cosine_scores = util.cos_sim(sentence_embeddings0, sentence_embeddings3)\n",
        "print(\"0,3\",cosine_scores)\n",
        "#cosine_scores = util.cos_sim(sentence_embeddings1, sentence_embeddings3)\n",
        "print(\"1,3\",cosine_scores)\n",
        "cosine_scores = util.cos_sim(sentence_embeddings1, sentence_embeddings2)\n",
        "print(\"1,2\",cosine_scores)"
      ]
    },
    {
      "cell_type": "code",
      "execution_count": null,
      "metadata": {
        "colab": {
          "base_uri": "https://localhost:8080/"
        },
        "id": "je8L4B6IgjBr",
        "outputId": "f91afc73-3d41-43c0-ee7c-a6d38dab42da"
      },
      "outputs": [
        {
          "name": "stderr",
          "output_type": "stream",
          "text": [
            "Special tokens have been added in the vocabulary, make sure the associated word embeddings are fine-tuned or trained.\n",
            "Some weights of the model checkpoint at vinai/bertweet-covid19-base-uncased were not used when initializing RobertaModel: ['lm_head.layer_norm.weight', 'lm_head.bias', 'lm_head.decoder.weight', 'lm_head.layer_norm.bias', 'lm_head.decoder.bias', 'lm_head.dense.bias', 'lm_head.dense.weight']\n",
            "- This IS expected if you are initializing RobertaModel from the checkpoint of a model trained on another task or with another architecture (e.g. initializing a BertForSequenceClassification model from a BertForPreTraining model).\n",
            "- This IS NOT expected if you are initializing RobertaModel from the checkpoint of a model that you expect to be exactly identical (initializing a BertForSequenceClassification model from a BertForSequenceClassification model).\n"
          ]
        },
        {
          "name": "stdout",
          "output_type": "stream",
          "text": [
            "['D@@', 'izz@@', 'iness', 'chills', 'fever', 'muscle', 'aches', 'pain', 'at', 'the', 'injection', 'site', '@USER']\n",
            "encoded_input tensor([[    0,   928, 27304,   880, 34160,   873,    24,   523,    15,  1286,\n",
            "            55,  1286, 16945,     8,   118,    16,  1282,     4,   643,    17,\n",
            "          4533,     4, 21236,    15,   930, 15514,  1067,     7,   716, 14050,\n",
            "          2701,    57,   132,    23,  3153,   887,    60,     7, 12981,  5743,\n",
            "             7,    13, 12981, 53348,     4,   192,   519,  1827,  7798,   149,\n",
            "           235,  9335,  2989,    34,   673,     4, 34560,  2893,  8303, 45477,\n",
            "         24836,     2]])\n",
            "62\n",
            "768\n",
            "Sentence embeddings:\n"
          ]
        }
      ],
      "source": [
        "from transformers import AutoTokenizer, AutoModel, AutoModelForMaskedLM, BertForPreTraining\n",
        "import torch\n",
        "\n",
        "\n",
        "#Mean Pooling - Take attention mask into account for correct averaging\n",
        "def mean_pooling(model_output, attention_mask):\n",
        "    token_embeddings = model_output[0] #First element of model_output contains all token embeddings\n",
        "    #print(token_embeddings)\n",
        "    input_mask_expanded = attention_mask.unsqueeze(-1).expand(token_embeddings.size()).float()\n",
        "    return torch.sum(token_embeddings * input_mask_expanded, 1) / torch.clamp(input_mask_expanded.sum(1), min=1e-9)\n",
        "\n",
        "\n",
        "# Sentences we want sentence embeddings for\n",
        "sentences = ['Dizziness chills    fever muscle aches pain at the injection site', 'Each sentence is converted']\n",
        "#txtone = \"Got Moderna booster yesterday on top of J&amp;J vaccine I had in March. Today is rough. Fever of 100.5°, body aches everywhere (even my teeth hurt), slight headache, and slight nausea. But SO MUCH BETTER than getting severe COVID-19. #Booster #GetVaccinated\"\"\"\n",
        "#txtzero = \"Moderna needs more black people for their  study. These folks should sign up today! They should have a drive for the cause. #BlacksForTrump #Trump2020 #sWork #19 #briefing #MAGA2020 #Republican #FoxAndFriends #tuckercarlsontonight @VP @Mike_Pence\"\n",
        "#txtreview = \"Headache-persistent  Weakness x 48 hours Fatigue x48 hours  Body aches x48 hours Arm pain swelling and redness persistent\"\n",
        "# Load model from HuggingFace Hub\n",
        "tokenizer = AutoTokenizer.from_pretrained('vinai/bertweet-covid19-base-uncased', normalization = True)\n",
        "model = AutoModel.from_pretrained('vinai/bertweet-covid19-base-uncased')\n",
        "#print(model.eval)\n",
        "# Tokenize sentences\n",
        "encoded_input0 = tokenizer('Dizziness chills    fever muscle aches pain at the injection site',padding=True,truncation=True,max_length=512,return_tensors='pt')\n",
        "encoded_input = tokenizer.tokenize('Dizziness chills    fever muscle aches pain at the injection site @ghgbjhb')\n",
        "print(encoded_input)\n",
        "encoded_input0 = tokenizer(txtzero, padding=True, return_tensors='pt')\n",
        "encoded_input1 = tokenizer(txtone, padding=True, return_tensors='pt')\n",
        "encoded_input2 = tokenizer(txtreview, padding=True, return_tensors='pt')\n",
        "encoded_input3 = tokenizer(txtthree, padding=True, return_tensors='pt')\n",
        "print(\"encoded_input\",encoded_input1['input_ids'])\n",
        "print(len(encoded_input1['input_ids'][0]))\n",
        "# Compute token embeddings\n",
        "with torch.no_grad():\n",
        "    model_output0 = model(**encoded_input0)\n",
        "    model_output1 = model(**encoded_input1)\n",
        "    #model_output2 = model(**encoded_input2)\n",
        "    model_output3 = model(**encoded_input3)\n",
        "print(len(model_output0[1][0]))\n",
        "#print(model_output1)\n",
        "#print(model_output2)\n",
        "# Perform pooling. In this case, mean pooling.\n",
        "sentence_embeddings0 = mean_pooling(model_output0, encoded_input0['attention_mask'])\n",
        "sentence_embeddings1 = mean_pooling(model_output1, encoded_input1['attention_mask'])\n",
        "#sentence_embeddings2 = mean_pooling(model_output2, encoded_input2['attention_mask'])\n",
        "sentence_embeddings3 = mean_pooling(model_output3, encoded_input3['attention_mask'])\n",
        "\n",
        "print(\"Sentence embeddings:\")\n",
        "#print(sentence_embeddings0[0])\n"
      ]
    },
    {
      "cell_type": "code",
      "execution_count": null,
      "metadata": {
        "colab": {
          "base_uri": "https://localhost:8080/"
        },
        "id": "Zp-rAh8YzHQI",
        "outputId": "84c3c33e-6254-46c0-cf61-916fc1aefab3"
      },
      "outputs": [
        {
          "name": "stdout",
          "output_type": "stream",
          "text": [
            "0 [[0.66299754 0.6856802  0.6016899  0.6969705  0.6828514  0.6300251\n",
            "  0.7026835  0.5920628  0.72377455 0.7171656 ]]\n",
            "1 [[0.7532803]]\n"
          ]
        }
      ],
      "source": [
        "cosine = cosine_similarity(sentence_embeddings0[:10], sentence_embeddings3[:10])\n",
        "print(\"0\",cosine)\n",
        "cosine = cosine_similarity(sentence_embeddings0[:10], sentence_embeddings1[:10])\n",
        "print(\"1\",cosine)"
      ]
    },
    {
      "cell_type": "code",
      "execution_count": null,
      "metadata": {
        "colab": {
          "base_uri": "https://localhost:8080/"
        },
        "id": "nV4hyg3Dsbvp",
        "outputId": "7312b9a0-df4f-4670-8bb1-63dba5a3a27a"
      },
      "outputs": [
        {
          "name": "stdout",
          "output_type": "stream",
          "text": [
            "0,1 368\n"
          ]
        }
      ],
      "source": [
        "cosine_scores = util.cos_sim(sentence_embeddings3[73:74], sentence_embeddings2)\n",
        "cosine_scores = cosine_scores.tolist()\n",
        "t=min(cosine_scores)\n",
        "print(\"0,1\",t.index(max(t)))\n",
        "cosine_scores = util.cos_sim(sentence_embeddings0, sentence_embeddings3)\n",
        "#print(\"0,3\",cosine_scores)\n",
        "cosine_scores = util.cos_sim(sentence_embeddings0, sentence_embeddings1)\n",
        "#print(\"1,3\",cosine_scores)"
      ]
    },
    {
      "cell_type": "code",
      "execution_count": null,
      "metadata": {
        "colab": {
          "base_uri": "https://localhost:8080/"
        },
        "id": "4Z3gnreMxuuN",
        "outputId": "2b1cff7a-6940-40f9-ba22-baa5360fcb88"
      },
      "outputs": [
        {
          "name": "stdout",
          "output_type": "stream",
          "text": [
            "[[0.38999998569488525, 0.38999998569488525, 0.4099999964237213, 0.4300000071525574, 0.4300000071525574], [0.5299999713897705, 0.5400000214576721, 0.5400000214576721, 0.5400000214576721, 0.5600000023841858], [0.5199999809265137, 0.5199999809265137, 0.5199999809265137, 0.5400000214576721, 0.550000011920929], [0.4300000071525574, 0.4399999976158142, 0.4399999976158142, 0.4399999976158142, 0.44999998807907104], [0.49000000953674316, 0.49000000953674316, 0.49000000953674316, 0.5099999904632568, 0.5400000214576721], [0.4699999988079071, 0.4699999988079071, 0.47999998927116394, 0.47999998927116394, 0.49000000953674316], [0.4099999964237213, 0.41999998688697815, 0.4300000071525574, 0.4300000071525574, 0.44999998807907104], [0.4300000071525574, 0.4300000071525574, 0.4300000071525574, 0.4399999976158142, 0.44999998807907104], [0.46000000834465027, 0.49000000953674316, 0.49000000953674316, 0.49000000953674316, 0.5099999904632568], [0.5, 0.5099999904632568, 0.5099999904632568, 0.5299999713897705, 0.5400000214576721], [0.5699999928474426, 0.5799999833106995, 0.5799999833106995, 0.5799999833106995, 0.6000000238418579], [0.44999998807907104, 0.44999998807907104, 0.46000000834465027, 0.4699999988079071, 0.4699999988079071], [0.4699999988079071, 0.4699999988079071, 0.4699999988079071, 0.4699999988079071, 0.5], [0.47999998927116394, 0.47999998927116394, 0.49000000953674316, 0.5, 0.5099999904632568], [0.46000000834465027, 0.46000000834465027, 0.4699999988079071, 0.4699999988079071, 0.47999998927116394], [0.4000000059604645, 0.4000000059604645, 0.4099999964237213, 0.4099999964237213, 0.4300000071525574], [0.4699999988079071, 0.49000000953674316, 0.5099999904632568, 0.6000000238418579, 0.7099999785423279], [0.3799999952316284, 0.3799999952316284, 0.38999998569488525, 0.38999998569488525, 0.4000000059604645], [0.41999998688697815, 0.4300000071525574, 0.46000000834465027, 0.47999998927116394, 0.49000000953674316], [0.44999998807907104, 0.46000000834465027, 0.47999998927116394, 0.47999998927116394, 0.5099999904632568], [0.4300000071525574, 0.44999998807907104, 0.44999998807907104, 0.4699999988079071, 0.49000000953674316], [0.5, 0.5299999713897705, 0.5699999928474426, 0.6100000143051147, 0.6399999856948853], [0.44999998807907104, 0.46000000834465027, 0.4699999988079071, 0.4699999988079071, 0.4699999988079071], [0.46000000834465027, 0.4699999988079071, 0.47999998927116394, 0.47999998927116394, 0.5299999713897705], [0.3700000047683716, 0.3700000047683716, 0.3799999952316284, 0.4099999964237213, 0.4399999976158142], [0.5199999809265137, 0.5199999809265137, 0.5199999809265137, 0.5400000214576721, 0.5699999928474426], [0.36000001430511475, 0.3700000047683716, 0.3700000047683716, 0.3700000047683716, 0.3700000047683716], [0.5199999809265137, 0.5299999713897705, 0.5400000214576721, 0.550000011920929, 0.5600000023841858], [0.36000001430511475, 0.36000001430511475, 0.36000001430511475, 0.3700000047683716, 0.3700000047683716], [0.5, 0.5, 0.5199999809265137, 0.5199999809265137, 0.5400000214576721], [0.49000000953674316, 0.49000000953674316, 0.5, 0.5, 0.5199999809265137], [0.4300000071525574, 0.4399999976158142, 0.4399999976158142, 0.4399999976158142, 0.46000000834465027], [0.47999998927116394, 0.47999998927116394, 0.47999998927116394, 0.5199999809265137, 0.5199999809265137], [0.44999998807907104, 0.47999998927116394, 0.47999998927116394, 0.47999998927116394, 0.5199999809265137], [0.4399999976158142, 0.4399999976158142, 0.44999998807907104, 0.44999998807907104, 0.46000000834465027], [0.5199999809265137, 0.5199999809265137, 0.5299999713897705, 0.5400000214576721, 0.5799999833106995], [0.41999998688697815, 0.41999998688697815, 0.4300000071525574, 0.4300000071525574, 0.4699999988079071], [0.49000000953674316, 0.5, 0.5299999713897705, 0.5299999713897705, 0.5400000214576721], [0.3799999952316284, 0.3799999952316284, 0.38999998569488525, 0.38999998569488525, 0.38999998569488525], [0.4300000071525574, 0.4399999976158142, 0.44999998807907104, 0.44999998807907104, 0.46000000834465027], [0.5699999928474426, 0.5699999928474426, 0.5699999928474426, 0.5799999833106995, 0.6100000143051147], [0.5, 0.5, 0.5400000214576721, 0.5400000214576721, 0.5799999833106995], [0.4699999988079071, 0.4699999988079071, 0.4699999988079071, 0.47999998927116394, 0.5], [0.6200000047683716, 0.6299999952316284, 0.6299999952316284, 0.6499999761581421, 0.6700000166893005], [0.5299999713897705, 0.5400000214576721, 0.5400000214576721, 0.550000011920929, 0.5699999928474426], [0.5199999809265137, 0.5199999809265137, 0.5299999713897705, 0.5299999713897705, 0.5400000214576721], [0.4699999988079071, 0.4699999988079071, 0.4699999988079071, 0.4699999988079071, 0.47999998927116394], [0.5099999904632568, 0.5299999713897705, 0.5400000214576721, 0.550000011920929, 0.550000011920929], [0.4399999976158142, 0.44999998807907104, 0.4699999988079071, 0.4699999988079071, 0.4699999988079071], [0.5, 0.5, 0.5099999904632568, 0.5099999904632568, 0.5099999904632568], [0.49000000953674316, 0.5, 0.5299999713897705, 0.5400000214576721, 0.5400000214576721], [0.5099999904632568, 0.5099999904632568, 0.5099999904632568, 0.5199999809265137, 0.5299999713897705], [0.4300000071525574, 0.4300000071525574, 0.4399999976158142, 0.46000000834465027, 0.47999998927116394], [0.5199999809265137, 0.5199999809265137, 0.5299999713897705, 0.550000011920929, 0.5899999737739563], [0.4699999988079071, 0.49000000953674316, 0.5, 0.5099999904632568, 0.5099999904632568], [0.46000000834465027, 0.46000000834465027, 0.4699999988079071, 0.47999998927116394, 0.5199999809265137], [0.5199999809265137, 0.5199999809265137, 0.5299999713897705, 0.5400000214576721, 0.550000011920929], [0.38999998569488525, 0.38999998569488525, 0.38999998569488525, 0.4000000059604645, 0.4300000071525574], [0.44999998807907104, 0.44999998807907104, 0.46000000834465027, 0.46000000834465027, 0.5], [0.38999998569488525, 0.38999998569488525, 0.4000000059604645, 0.4000000059604645, 0.4300000071525574], [0.3700000047683716, 0.3799999952316284, 0.3799999952316284, 0.41999998688697815, 0.41999998688697815], [0.4300000071525574, 0.4399999976158142, 0.4399999976158142, 0.44999998807907104, 0.44999998807907104], [0.47999998927116394, 0.47999998927116394, 0.47999998927116394, 0.47999998927116394, 0.47999998927116394], [0.5, 0.5099999904632568, 0.5099999904632568, 0.5299999713897705, 0.5400000214576721], [0.4000000059604645, 0.4000000059604645, 0.4000000059604645, 0.4000000059604645, 0.4000000059604645], [0.4300000071525574, 0.46000000834465027, 0.46000000834465027, 0.46000000834465027, 0.5], [0.4300000071525574, 0.4399999976158142, 0.44999998807907104, 0.44999998807907104, 0.44999998807907104], [0.41999998688697815, 0.41999998688697815, 0.41999998688697815, 0.4300000071525574, 0.4300000071525574], [0.44999998807907104, 0.44999998807907104, 0.46000000834465027, 0.4699999988079071, 0.4699999988079071], [0.5199999809265137, 0.5199999809265137, 0.5199999809265137, 0.5299999713897705, 0.5899999737739563], [0.5, 0.5099999904632568, 0.5099999904632568, 0.5299999713897705, 0.5400000214576721], [0.4699999988079071, 0.4699999988079071, 0.4699999988079071, 0.4699999988079071, 0.5], [0.5199999809265137, 0.5199999809265137, 0.5299999713897705, 0.5400000214576721, 0.550000011920929], [0.5699999928474426, 0.5799999833106995, 0.5799999833106995, 0.5799999833106995, 0.6299999952316284], [0.5299999713897705, 0.5299999713897705, 0.5400000214576721, 0.550000011920929, 0.6100000143051147], [0.46000000834465027, 0.46000000834465027, 0.46000000834465027, 0.4699999988079071, 0.47999998927116394], [0.5400000214576721, 0.550000011920929, 0.550000011920929, 0.550000011920929, 0.5600000023841858], [0.47999998927116394, 0.49000000953674316, 0.49000000953674316, 0.5, 0.5199999809265137], [0.44999998807907104, 0.44999998807907104, 0.44999998807907104, 0.47999998927116394, 0.47999998927116394], [0.5199999809265137, 0.5299999713897705, 0.5299999713897705, 0.5299999713897705, 0.550000011920929], [0.5, 0.5099999904632568, 0.5099999904632568, 0.5299999713897705, 0.5400000214576721], [0.4399999976158142, 0.4399999976158142, 0.44999998807907104, 0.44999998807907104, 0.4699999988079071], [0.3799999952316284, 0.3799999952316284, 0.3799999952316284, 0.38999998569488525, 0.4300000071525574], [0.5099999904632568, 0.5099999904632568, 0.5199999809265137, 0.5199999809265137, 0.5299999713897705], [0.47999998927116394, 0.47999998927116394, 0.5, 0.5099999904632568, 0.5099999904632568], [0.4000000059604645, 0.4099999964237213, 0.4099999964237213, 0.41999998688697815, 0.41999998688697815], [0.5099999904632568, 0.5199999809265137, 0.5199999809265137, 0.5299999713897705, 0.550000011920929], [0.4699999988079071, 0.47999998927116394, 0.47999998927116394, 0.49000000953674316, 0.5099999904632568], [0.5199999809265137, 0.5299999713897705, 0.5299999713897705, 0.550000011920929, 0.5600000023841858], [0.4699999988079071, 0.49000000953674316, 0.5199999809265137, 0.5299999713897705, 0.5400000214576721], [0.5, 0.5099999904632568, 0.5099999904632568, 0.5099999904632568, 0.5199999809265137], [0.5099999904632568, 0.5099999904632568, 0.5099999904632568, 0.5199999809265137, 0.550000011920929], [0.4699999988079071, 0.4699999988079071, 0.49000000953674316, 0.5099999904632568, 0.5099999904632568], [0.38999998569488525, 0.38999998569488525, 0.4000000059604645, 0.4000000059604645, 0.4300000071525574], [0.49000000953674316, 0.49000000953674316, 0.5, 0.5199999809265137, 0.5400000214576721], [0.4699999988079071, 0.47999998927116394, 0.49000000953674316, 0.49000000953674316, 0.49000000953674316], [0.5899999737739563, 0.6000000238418579, 0.6299999952316284, 0.6299999952316284, 0.6800000071525574], [0.5, 0.5099999904632568, 0.5199999809265137, 0.5299999713897705, 0.5400000214576721], [0.49000000953674316, 0.5099999904632568, 0.5099999904632568, 0.5099999904632568, 0.5199999809265137], [0.49000000953674316, 0.5, 0.5, 0.5299999713897705, 0.5699999928474426], [0.5299999713897705, 0.5299999713897705, 0.5299999713897705, 0.550000011920929, 0.550000011920929], [0.5, 0.5099999904632568, 0.5099999904632568, 0.5299999713897705, 0.5400000214576721], [0.5799999833106995, 0.5899999737739563, 0.6000000238418579, 0.6100000143051147, 0.6200000047683716], [0.5299999713897705, 0.5400000214576721, 0.550000011920929, 0.5600000023841858, 0.5899999737739563], [0.5299999713897705, 0.5400000214576721, 0.5400000214576721, 0.5600000023841858, 0.5600000023841858], [0.5099999904632568, 0.5099999904632568, 0.5199999809265137, 0.5199999809265137, 0.5400000214576721], [0.5699999928474426, 0.5699999928474426, 0.5699999928474426, 0.6000000238418579, 0.6200000047683716], [0.47999998927116394, 0.49000000953674316, 0.49000000953674316, 0.5199999809265137, 0.5299999713897705], [0.47999998927116394, 0.47999998927116394, 0.47999998927116394, 0.49000000953674316, 0.5], [0.550000011920929, 0.550000011920929, 0.5600000023841858, 0.5600000023841858, 0.5699999928474426], [0.47999998927116394, 0.47999998927116394, 0.49000000953674316, 0.49000000953674316, 0.5], [0.4399999976158142, 0.46000000834465027, 0.46000000834465027, 0.46000000834465027, 0.4699999988079071], [0.49000000953674316, 0.49000000953674316, 0.49000000953674316, 0.49000000953674316, 0.5199999809265137], [0.550000011920929, 0.550000011920929, 0.550000011920929, 0.5600000023841858, 0.5799999833106995], [0.5099999904632568, 0.550000011920929, 0.550000011920929, 0.5600000023841858, 0.5899999737739563], [0.5, 0.5, 0.5, 0.5, 0.5199999809265137], [0.5600000023841858, 0.5799999833106995, 0.5899999737739563, 0.5899999737739563, 0.6100000143051147], [0.4000000059604645, 0.4000000059604645, 0.4099999964237213, 0.44999998807907104, 0.49000000953674316], [0.5400000214576721, 0.5400000214576721, 0.550000011920929, 0.5600000023841858, 0.6000000238418579], [0.5799999833106995, 0.5899999737739563, 0.5899999737739563, 0.6000000238418579, 0.6000000238418579], [0.46000000834465027, 0.4699999988079071, 0.4699999988079071, 0.47999998927116394, 0.49000000953674316], [0.4300000071525574, 0.4399999976158142, 0.46000000834465027, 0.46000000834465027, 0.4699999988079071], [0.550000011920929, 0.550000011920929, 0.550000011920929, 0.5600000023841858, 0.5600000023841858], [0.5699999928474426, 0.5699999928474426, 0.5699999928474426, 0.5899999737739563, 0.6100000143051147], [0.49000000953674316, 0.5, 0.5, 0.5600000023841858, 0.5699999928474426], [0.5699999928474426, 0.5799999833106995, 0.5799999833106995, 0.5799999833106995, 0.6200000047683716], [0.4699999988079071, 0.47999998927116394, 0.47999998927116394, 0.5, 0.5], [0.46000000834465027, 0.46000000834465027, 0.46000000834465027, 0.4699999988079071, 0.47999998927116394], [0.4699999988079071, 0.47999998927116394, 0.49000000953674316, 0.5, 0.5], [0.5299999713897705, 0.550000011920929, 0.5600000023841858, 0.5600000023841858, 0.5699999928474426], [0.44999998807907104, 0.46000000834465027, 0.49000000953674316, 0.49000000953674316, 0.5], [0.5, 0.5, 0.5099999904632568, 0.5199999809265137, 0.5199999809265137], [0.5299999713897705, 0.5299999713897705, 0.5400000214576721, 0.5400000214576721, 0.5400000214576721], [0.5099999904632568, 0.5099999904632568, 0.5199999809265137, 0.5199999809265137, 0.5299999713897705], [0.550000011920929, 0.550000011920929, 0.550000011920929, 0.550000011920929, 0.550000011920929], [0.4099999964237213, 0.4099999964237213, 0.41999998688697815, 0.4300000071525574, 0.4699999988079071], [0.550000011920929, 0.550000011920929, 0.5600000023841858, 0.5699999928474426, 0.5799999833106995], [0.49000000953674316, 0.49000000953674316, 0.5, 0.5099999904632568, 0.5299999713897705], [0.5199999809265137, 0.5400000214576721, 0.5400000214576721, 0.5400000214576721, 0.5600000023841858], [0.5600000023841858, 0.5600000023841858, 0.5799999833106995, 0.5799999833106995, 0.5799999833106995], [0.6000000238418579, 0.6000000238418579, 0.6000000238418579, 0.6100000143051147, 0.6200000047683716], [0.5699999928474426, 0.5699999928474426, 0.5699999928474426, 0.5799999833106995, 0.5799999833106995], [0.5799999833106995, 0.5899999737739563, 0.6000000238418579, 0.6000000238418579, 0.6100000143051147], [0.5400000214576721, 0.5400000214576721, 0.5600000023841858, 0.5600000023841858, 0.6000000238418579], [0.5299999713897705, 0.5299999713897705, 0.5600000023841858, 0.5600000023841858, 0.5600000023841858], [0.5099999904632568, 0.5099999904632568, 0.5199999809265137, 0.5299999713897705, 0.5699999928474426], [0.5199999809265137, 0.5199999809265137, 0.5400000214576721, 0.5400000214576721, 0.5600000023841858], [0.5699999928474426, 0.5699999928474426, 0.5699999928474426, 0.5799999833106995, 0.5899999737739563], [0.5400000214576721, 0.5600000023841858, 0.5699999928474426, 0.5699999928474426, 0.5899999737739563], [0.5899999737739563, 0.5899999737739563, 0.6000000238418579, 0.6000000238418579, 0.6399999856948853], [0.550000011920929, 0.5699999928474426, 0.5699999928474426, 0.5799999833106995, 0.5799999833106995], [0.5600000023841858, 0.5600000023841858, 0.5699999928474426, 0.5799999833106995, 0.6000000238418579], [0.5299999713897705, 0.5299999713897705, 0.5299999713897705, 0.5299999713897705, 0.5400000214576721], [0.5199999809265137, 0.5199999809265137, 0.5199999809265137, 0.5400000214576721, 0.5600000023841858], [0.5699999928474426, 0.5699999928474426, 0.5799999833106995, 0.5799999833106995, 0.5899999737739563], [0.47999998927116394, 0.49000000953674316, 0.49000000953674316, 0.5, 0.5099999904632568], [0.5600000023841858, 0.5600000023841858, 0.5699999928474426, 0.5899999737739563, 0.5899999737739563], [0.550000011920929, 0.5600000023841858, 0.5600000023841858, 0.5600000023841858, 0.5699999928474426], [0.5099999904632568, 0.5199999809265137, 0.5199999809265137, 0.5199999809265137, 0.5400000214576721], [0.4000000059604645, 0.41999998688697815, 0.41999998688697815, 0.4300000071525574, 0.4300000071525574], [0.4399999976158142, 0.4399999976158142, 0.44999998807907104, 0.5, 0.5], [0.49000000953674316, 0.49000000953674316, 0.5, 0.5099999904632568, 0.5099999904632568], [0.44999998807907104, 0.44999998807907104, 0.46000000834465027, 0.4699999988079071, 0.47999998927116394], [0.6399999856948853, 0.6499999761581421, 0.6499999761581421, 0.6700000166893005, 0.6800000071525574], [0.44999998807907104, 0.44999998807907104, 0.4699999988079071, 0.5099999904632568, 0.5099999904632568], [0.5899999737739563, 0.6000000238418579, 0.6000000238418579, 0.6299999952316284, 0.6399999856948853], [0.5899999737739563, 0.5899999737739563, 0.5899999737739563, 0.5899999737739563, 0.6200000047683716], [0.5600000023841858, 0.5699999928474426, 0.5699999928474426, 0.5799999833106995, 0.5799999833106995], [0.46000000834465027, 0.46000000834465027, 0.4699999988079071, 0.4699999988079071, 0.5], [0.41999998688697815, 0.41999998688697815, 0.4300000071525574, 0.4300000071525574, 0.44999998807907104], [0.5400000214576721, 0.5400000214576721, 0.5699999928474426, 0.5799999833106995, 0.5799999833106995], [0.41999998688697815, 0.4300000071525574, 0.4399999976158142, 0.46000000834465027, 0.47999998927116394], [0.550000011920929, 0.5699999928474426, 0.5799999833106995, 0.5799999833106995, 0.5899999737739563], [0.49000000953674316, 0.49000000953674316, 0.5, 0.5, 0.5600000023841858], [0.5799999833106995, 0.5799999833106995, 0.5799999833106995, 0.5799999833106995, 0.5899999737739563], [0.550000011920929, 0.550000011920929, 0.550000011920929, 0.550000011920929, 0.5600000023841858], [0.5400000214576721, 0.5400000214576721, 0.550000011920929, 0.550000011920929, 0.5600000023841858], [0.550000011920929, 0.5699999928474426, 0.5699999928474426, 0.5799999833106995, 0.6000000238418579], [0.5299999713897705, 0.5400000214576721, 0.5400000214576721, 0.5400000214576721, 0.5699999928474426], [0.5699999928474426, 0.5699999928474426, 0.5799999833106995, 0.5899999737739563, 0.6200000047683716], [0.5400000214576721, 0.5600000023841858, 0.5699999928474426, 0.5699999928474426, 0.5699999928474426], [0.6100000143051147, 0.6100000143051147, 0.6200000047683716, 0.6200000047683716, 0.6299999952316284], [0.4699999988079071, 0.4699999988079071, 0.49000000953674316, 0.49000000953674316, 0.49000000953674316], [0.5299999713897705, 0.5299999713897705, 0.5400000214576721, 0.550000011920929, 0.5699999928474426], [0.5600000023841858, 0.5699999928474426, 0.5799999833106995, 0.5799999833106995, 0.6000000238418579], [0.4399999976158142, 0.44999998807907104, 0.44999998807907104, 0.44999998807907104, 0.4699999988079071], [0.4300000071525574, 0.4300000071525574, 0.4399999976158142, 0.4399999976158142, 0.4399999976158142], [0.6700000166893005, 0.6700000166893005, 0.6700000166893005, 0.6800000071525574, 0.6800000071525574], [0.47999998927116394, 0.47999998927116394, 0.49000000953674316, 0.5, 0.5099999904632568], [0.6100000143051147, 0.6100000143051147, 0.6100000143051147, 0.6100000143051147, 0.6499999761581421], [0.5699999928474426, 0.5699999928474426, 0.5799999833106995, 0.5899999737739563, 0.6000000238418579], [0.49000000953674316, 0.5, 0.5099999904632568, 0.5299999713897705, 0.5299999713897705], [0.5099999904632568, 0.5199999809265137, 0.5199999809265137, 0.5199999809265137, 0.5199999809265137], [0.5400000214576721, 0.550000011920929, 0.5600000023841858, 0.5699999928474426, 0.6100000143051147], [0.5600000023841858, 0.5699999928474426, 0.5699999928474426, 0.5699999928474426, 0.5899999737739563], [0.5, 0.5, 0.5, 0.5, 0.5099999904632568], [0.5600000023841858, 0.5600000023841858, 0.5600000023841858, 0.5699999928474426, 0.5799999833106995], [0.4699999988079071, 0.47999998927116394, 0.47999998927116394, 0.47999998927116394, 0.49000000953674316], [0.4399999976158142, 0.4699999988079071, 0.47999998927116394, 0.5199999809265137, 0.5400000214576721], [0.6100000143051147, 0.6200000047683716, 0.6299999952316284, 0.6299999952316284, 0.6399999856948853], [0.550000011920929, 0.550000011920929, 0.550000011920929, 0.5600000023841858, 0.5899999737739563], [0.550000011920929, 0.5699999928474426, 0.5699999928474426, 0.5799999833106995, 0.6000000238418579], [0.4699999988079071, 0.47999998927116394, 0.47999998927116394, 0.47999998927116394, 0.49000000953674316], [0.5099999904632568, 0.5099999904632568, 0.5199999809265137, 0.5199999809265137, 0.5199999809265137], [0.5299999713897705, 0.5299999713897705, 0.5299999713897705, 0.5400000214576721, 0.550000011920929], [0.5899999737739563, 0.5899999737739563, 0.5899999737739563, 0.6100000143051147, 0.6200000047683716], [0.550000011920929, 0.550000011920929, 0.550000011920929, 0.5899999737739563, 0.6499999761581421], [0.5099999904632568, 0.5199999809265137, 0.5199999809265137, 0.5400000214576721, 0.550000011920929], [0.47999998927116394, 0.5, 0.5, 0.5099999904632568, 0.5099999904632568], [0.5699999928474426, 0.5699999928474426, 0.6000000238418579, 0.6600000262260437, 0.699999988079071], [0.5199999809265137, 0.5199999809265137, 0.5299999713897705, 0.5400000214576721, 0.5400000214576721], [0.5, 0.5, 0.5099999904632568, 0.5099999904632568, 0.5299999713897705], [0.5600000023841858, 0.5699999928474426, 0.5699999928474426, 0.5799999833106995, 0.5899999737739563], [0.5199999809265137, 0.5299999713897705, 0.5299999713897705, 0.5299999713897705, 0.550000011920929], [0.5199999809265137, 0.5299999713897705, 0.550000011920929, 0.5600000023841858, 0.5699999928474426], [0.4099999964237213, 0.4099999964237213, 0.4300000071525574, 0.4300000071525574, 0.4399999976158142], [0.38999998569488525, 0.38999998569488525, 0.41999998688697815, 0.41999998688697815, 0.41999998688697815], [0.49000000953674316, 0.5099999904632568, 0.5099999904632568, 0.5199999809265137, 0.5199999809265137], [0.5099999904632568, 0.5199999809265137, 0.5299999713897705, 0.5400000214576721, 0.5400000214576721], [0.5899999737739563, 0.5899999737739563, 0.5899999737739563, 0.5899999737739563, 0.6200000047683716], [0.5099999904632568, 0.5099999904632568, 0.5199999809265137, 0.5299999713897705, 0.5400000214576721], [0.6200000047683716, 0.6200000047683716, 0.6200000047683716, 0.6299999952316284, 0.6399999856948853], [0.4399999976158142, 0.4399999976158142, 0.44999998807907104, 0.44999998807907104, 0.46000000834465027], [0.5400000214576721, 0.550000011920929, 0.550000011920929, 0.550000011920929, 0.5699999928474426], [0.5799999833106995, 0.5799999833106995, 0.5899999737739563, 0.5899999737739563, 0.6100000143051147], [0.5400000214576721, 0.550000011920929, 0.550000011920929, 0.550000011920929, 0.5600000023841858], [0.6100000143051147, 0.6100000143051147, 0.6200000047683716, 0.6299999952316284, 0.6399999856948853], [0.6000000238418579, 0.6000000238418579, 0.6000000238418579, 0.6200000047683716, 0.6200000047683716], [0.5799999833106995, 0.5899999737739563, 0.5899999737739563, 0.6000000238418579, 0.6000000238418579], [0.5600000023841858, 0.5799999833106995, 0.5799999833106995, 0.5899999737739563, 0.5899999737739563], [0.5600000023841858, 0.5600000023841858, 0.5699999928474426, 0.5699999928474426, 0.5899999737739563], [0.4099999964237213, 0.41999998688697815, 0.41999998688697815, 0.4399999976158142, 0.4399999976158142], [0.4399999976158142, 0.4399999976158142, 0.44999998807907104, 0.4699999988079071, 0.4699999988079071], [0.44999998807907104, 0.46000000834465027, 0.49000000953674316, 0.49000000953674316, 0.5], [0.550000011920929, 0.5600000023841858, 0.5600000023841858, 0.5699999928474426, 0.6000000238418579], [0.5299999713897705, 0.5400000214576721, 0.5400000214576721, 0.550000011920929, 0.5600000023841858], [0.47999998927116394, 0.5, 0.5, 0.5099999904632568, 0.5199999809265137], [0.6399999856948853, 0.6399999856948853, 0.6499999761581421, 0.6700000166893005, 0.6700000166893005], [0.5699999928474426, 0.5799999833106995, 0.5799999833106995, 0.6000000238418579, 0.6100000143051147], [0.49000000953674316, 0.5, 0.5199999809265137, 0.5299999713897705, 0.550000011920929], [0.5, 0.5, 0.5, 0.5099999904632568, 0.5299999713897705], [0.550000011920929, 0.550000011920929, 0.5600000023841858, 0.5799999833106995, 0.5899999737739563], [0.5799999833106995, 0.5899999737739563, 0.6100000143051147, 0.6299999952316284, 0.6499999761581421], [0.4699999988079071, 0.47999998927116394, 0.49000000953674316, 0.49000000953674316, 0.5099999904632568], [0.47999998927116394, 0.49000000953674316, 0.49000000953674316, 0.5099999904632568, 0.5199999809265137], [0.4399999976158142, 0.44999998807907104, 0.44999998807907104, 0.46000000834465027, 0.5099999904632568], [0.550000011920929, 0.550000011920929, 0.550000011920929, 0.5600000023841858, 0.6000000238418579], [0.46000000834465027, 0.47999998927116394, 0.47999998927116394, 0.49000000953674316, 0.5], [0.5799999833106995, 0.5799999833106995, 0.5799999833106995, 0.6100000143051147, 0.6100000143051147], [0.4699999988079071, 0.47999998927116394, 0.49000000953674316, 0.5, 0.5099999904632568], [0.4699999988079071, 0.47999998927116394, 0.49000000953674316, 0.5299999713897705, 0.5400000214576721], [0.4300000071525574, 0.4399999976158142, 0.4399999976158142, 0.44999998807907104, 0.44999998807907104], [0.4699999988079071, 0.4699999988079071, 0.47999998927116394, 0.5, 0.5199999809265137], [0.5400000214576721, 0.5400000214576721, 0.5600000023841858, 0.5699999928474426, 0.5899999737739563], [0.5199999809265137, 0.5199999809265137, 0.550000011920929, 0.550000011920929, 0.550000011920929], [0.4399999976158142, 0.44999998807907104, 0.46000000834465027, 0.46000000834465027, 0.49000000953674316], [0.44999998807907104, 0.46000000834465027, 0.46000000834465027, 0.4699999988079071, 0.5], [0.49000000953674316, 0.49000000953674316, 0.49000000953674316, 0.5099999904632568, 0.5699999928474426], [0.47999998927116394, 0.47999998927116394, 0.47999998927116394, 0.5199999809265137, 0.5699999928474426], [0.6000000238418579, 0.6100000143051147, 0.6100000143051147, 0.6200000047683716, 0.6499999761581421], [0.5099999904632568, 0.5199999809265137, 0.5400000214576721, 0.5400000214576721, 0.5699999928474426], [0.47999998927116394, 0.47999998927116394, 0.47999998927116394, 0.47999998927116394, 0.49000000953674316], [0.5199999809265137, 0.5299999713897705, 0.550000011920929, 0.5600000023841858, 0.5699999928474426], [0.47999998927116394, 0.5, 0.5, 0.5099999904632568, 0.5099999904632568], [0.6499999761581421, 0.6499999761581421, 0.6600000262260437, 0.6600000262260437, 0.6700000166893005], [0.5400000214576721, 0.5600000023841858, 0.5600000023841858, 0.5600000023841858, 0.5699999928474426], [0.5400000214576721, 0.5400000214576721, 0.5600000023841858, 0.5600000023841858, 0.6200000047683716], [0.5199999809265137, 0.5400000214576721, 0.5400000214576721, 0.5400000214576721, 0.5600000023841858], [0.5899999737739563, 0.5899999737739563, 0.6200000047683716, 0.6200000047683716, 0.6299999952316284], [0.5400000214576721, 0.550000011920929, 0.550000011920929, 0.5600000023841858, 0.5699999928474426], [0.5400000214576721, 0.5400000214576721, 0.5400000214576721, 0.550000011920929, 0.6000000238418579], [0.5, 0.5, 0.5099999904632568, 0.5099999904632568, 0.5199999809265137], [0.5199999809265137, 0.5199999809265137, 0.5299999713897705, 0.5299999713897705, 0.5400000214576721], [0.49000000953674316, 0.49000000953674316, 0.5, 0.5099999904632568, 0.5199999809265137], [0.6200000047683716, 0.6200000047683716, 0.6299999952316284, 0.6299999952316284, 0.6399999856948853], [0.44999998807907104, 0.44999998807907104, 0.46000000834465027, 0.47999998927116394, 0.49000000953674316], [0.46000000834465027, 0.46000000834465027, 0.4699999988079071, 0.47999998927116394, 0.5099999904632568], [0.5199999809265137, 0.5199999809265137, 0.5299999713897705, 0.5799999833106995, 0.6200000047683716], [0.5099999904632568, 0.5099999904632568, 0.5199999809265137, 0.5199999809265137, 0.5400000214576721], [0.4399999976158142, 0.44999998807907104, 0.4699999988079071, 0.4699999988079071, 0.47999998927116394], [0.49000000953674316, 0.5299999713897705, 0.5299999713897705, 0.5400000214576721, 0.5699999928474426], [0.46000000834465027, 0.46000000834465027, 0.4699999988079071, 0.47999998927116394, 0.47999998927116394], [0.5099999904632568, 0.5099999904632568, 0.5099999904632568, 0.5099999904632568, 0.5199999809265137], [0.5199999809265137, 0.5199999809265137, 0.5199999809265137, 0.5299999713897705, 0.5899999737739563], [0.5400000214576721, 0.550000011920929, 0.550000011920929, 0.5600000023841858, 0.5799999833106995], [0.550000011920929, 0.5699999928474426, 0.5699999928474426, 0.5699999928474426, 0.5699999928474426], [0.6200000047683716, 0.6200000047683716, 0.6200000047683716, 0.6299999952316284, 0.6299999952316284], [0.49000000953674316, 0.5, 0.5099999904632568, 0.5199999809265137, 0.5299999713897705], [0.5199999809265137, 0.5400000214576721, 0.550000011920929, 0.5799999833106995, 0.5799999833106995], [0.4699999988079071, 0.47999998927116394, 0.49000000953674316, 0.49000000953674316, 0.5], [0.5, 0.5099999904632568, 0.5199999809265137, 0.5600000023841858, 0.5699999928474426], [0.4399999976158142, 0.4399999976158142, 0.44999998807907104, 0.44999998807907104, 0.49000000953674316], [0.5299999713897705, 0.5299999713897705, 0.5400000214576721, 0.550000011920929, 0.5600000023841858], [0.6399999856948853, 0.6499999761581421, 0.6600000262260437, 0.6600000262260437, 0.6700000166893005], [0.5099999904632568, 0.5099999904632568, 0.5199999809265137, 0.5299999713897705, 0.5400000214576721], [0.6100000143051147, 0.6100000143051147, 0.6299999952316284, 0.6299999952316284, 0.6499999761581421], [0.6000000238418579, 0.6100000143051147, 0.6100000143051147, 0.6200000047683716, 0.6700000166893005], [0.5600000023841858, 0.5600000023841858, 0.5600000023841858, 0.6000000238418579, 0.6100000143051147], [0.5299999713897705, 0.5299999713897705, 0.5400000214576721, 0.5400000214576721, 0.550000011920929], [0.5299999713897705, 0.5299999713897705, 0.5299999713897705, 0.5400000214576721, 0.5400000214576721], [0.5299999713897705, 0.5299999713897705, 0.5400000214576721, 0.5400000214576721, 0.5400000214576721], [0.5099999904632568, 0.5099999904632568, 0.5199999809265137, 0.550000011920929, 0.550000011920929], [0.49000000953674316, 0.49000000953674316, 0.5, 0.5, 0.5099999904632568], [0.5299999713897705, 0.5299999713897705, 0.5299999713897705, 0.5299999713897705, 0.5600000023841858], [0.550000011920929, 0.5600000023841858, 0.5699999928474426, 0.5699999928474426, 0.5899999737739563], [0.5199999809265137, 0.5199999809265137, 0.5299999713897705, 0.5400000214576721, 0.5400000214576721], [0.5699999928474426, 0.5799999833106995, 0.5899999737739563, 0.6000000238418579, 0.6000000238418579], [0.5299999713897705, 0.5400000214576721, 0.5400000214576721, 0.5600000023841858, 0.5699999928474426], [0.41999998688697815, 0.4300000071525574, 0.4399999976158142, 0.46000000834465027, 0.49000000953674316], [0.5600000023841858, 0.5699999928474426, 0.5799999833106995, 0.5799999833106995, 0.6000000238418579], [0.49000000953674316, 0.49000000953674316, 0.49000000953674316, 0.5099999904632568, 0.5199999809265137], [0.6100000143051147, 0.6200000047683716, 0.6200000047683716, 0.6200000047683716, 0.6299999952316284], [0.4699999988079071, 0.4699999988079071, 0.5, 0.5, 0.5400000214576721], [0.5099999904632568, 0.5199999809265137, 0.5299999713897705, 0.5299999713897705, 0.5600000023841858], [0.5600000023841858, 0.5699999928474426, 0.5699999928474426, 0.5899999737739563, 0.6000000238418579], [0.6000000238418579, 0.6000000238418579, 0.6100000143051147, 0.6100000143051147, 0.6700000166893005], [0.5099999904632568, 0.5199999809265137, 0.5199999809265137, 0.5299999713897705, 0.5299999713897705], [0.5299999713897705, 0.5299999713897705, 0.5400000214576721, 0.5400000214576721, 0.5600000023841858], [0.5400000214576721, 0.5600000023841858, 0.5899999737739563, 0.6200000047683716, 0.6700000166893005], [0.4399999976158142, 0.4399999976158142, 0.44999998807907104, 0.46000000834465027, 0.5299999713897705], [0.5400000214576721, 0.5400000214576721, 0.5400000214576721, 0.5600000023841858, 0.5600000023841858], [0.550000011920929, 0.5699999928474426, 0.5699999928474426, 0.5699999928474426, 0.5799999833106995], [0.5600000023841858, 0.5600000023841858, 0.5699999928474426, 0.5699999928474426, 0.6299999952316284], [0.5299999713897705, 0.550000011920929, 0.5600000023841858, 0.5899999737739563, 0.6100000143051147], [0.47999998927116394, 0.47999998927116394, 0.49000000953674316, 0.49000000953674316, 0.49000000953674316], [0.49000000953674316, 0.49000000953674316, 0.5, 0.5, 0.5], [0.5099999904632568, 0.5099999904632568, 0.5299999713897705, 0.550000011920929, 0.550000011920929], [0.5400000214576721, 0.5400000214576721, 0.5400000214576721, 0.5600000023841858, 0.6000000238418579], [0.5199999809265137, 0.5199999809265137, 0.5400000214576721, 0.550000011920929, 0.5799999833106995], [0.4699999988079071, 0.47999998927116394, 0.49000000953674316, 0.5, 0.5099999904632568], [0.44999998807907104, 0.44999998807907104, 0.46000000834465027, 0.47999998927116394, 0.49000000953674316], [0.6100000143051147, 0.6100000143051147, 0.6200000047683716, 0.6200000047683716, 0.6299999952316284], [0.5299999713897705, 0.5299999713897705, 0.550000011920929, 0.5699999928474426, 0.5799999833106995], [0.47999998927116394, 0.47999998927116394, 0.49000000953674316, 0.49000000953674316, 0.550000011920929], [0.5, 0.5, 0.5099999904632568, 0.5299999713897705, 0.5400000214576721], [0.4300000071525574, 0.4300000071525574, 0.4300000071525574, 0.4300000071525574, 0.4399999976158142], [0.46000000834465027, 0.47999998927116394, 0.49000000953674316, 0.5099999904632568, 0.5099999904632568], [0.5400000214576721, 0.5400000214576721, 0.5600000023841858, 0.5600000023841858, 0.5799999833106995], [0.4399999976158142, 0.4399999976158142, 0.4399999976158142, 0.44999998807907104, 0.46000000834465027], [0.5, 0.5400000214576721, 0.5400000214576721, 0.5699999928474426, 0.5799999833106995], [0.5600000023841858, 0.5600000023841858, 0.5799999833106995, 0.5799999833106995, 0.6200000047683716], [0.49000000953674316, 0.49000000953674316, 0.5, 0.5299999713897705, 0.5400000214576721], [0.4099999964237213, 0.4099999964237213, 0.41999998688697815, 0.4399999976158142, 0.4399999976158142], [0.5799999833106995, 0.5899999737739563, 0.5899999737739563, 0.6000000238418579, 0.6000000238418579], [0.47999998927116394, 0.49000000953674316, 0.49000000953674316, 0.5, 0.5099999904632568], [0.5400000214576721, 0.550000011920929, 0.5600000023841858, 0.5699999928474426, 0.5699999928474426], [0.5099999904632568, 0.5199999809265137, 0.5199999809265137, 0.5400000214576721, 0.5600000023841858], [0.4399999976158142, 0.4399999976158142, 0.44999998807907104, 0.44999998807907104, 0.46000000834465027], [0.5799999833106995, 0.6000000238418579, 0.6100000143051147, 0.6100000143051147, 0.6399999856948853], [0.5199999809265137, 0.5199999809265137, 0.5299999713897705, 0.5299999713897705, 0.550000011920929], [0.5299999713897705, 0.5600000023841858, 0.5600000023841858, 0.5799999833106995, 0.5799999833106995], [0.5600000023841858, 0.5699999928474426, 0.5699999928474426, 0.5799999833106995, 0.5799999833106995], [0.5199999809265137, 0.5199999809265137, 0.5299999713897705, 0.550000011920929, 0.550000011920929], [0.5699999928474426, 0.5699999928474426, 0.5899999737739563, 0.5899999737739563, 0.6100000143051147], [0.49000000953674316, 0.49000000953674316, 0.5, 0.5, 0.5199999809265137], [0.5899999737739563, 0.5899999737739563, 0.6000000238418579, 0.6200000047683716, 0.6200000047683716], [0.4099999964237213, 0.4099999964237213, 0.4099999964237213, 0.41999998688697815, 0.44999998807907104], [0.46000000834465027, 0.4699999988079071, 0.4699999988079071, 0.4699999988079071, 0.5299999713897705], [0.5799999833106995, 0.5799999833106995, 0.5799999833106995, 0.5799999833106995, 0.6299999952316284], [0.6100000143051147, 0.6200000047683716, 0.6200000047683716, 0.6299999952316284, 0.6499999761581421], [0.5699999928474426, 0.5699999928474426, 0.5799999833106995, 0.6000000238418579, 0.6100000143051147], [0.49000000953674316, 0.49000000953674316, 0.5, 0.5, 0.5], [0.5299999713897705, 0.5400000214576721, 0.550000011920929, 0.550000011920929, 0.5699999928474426], [0.5899999737739563, 0.6000000238418579, 0.6100000143051147, 0.6100000143051147, 0.6299999952316284], [0.5600000023841858, 0.5600000023841858, 0.5699999928474426, 0.5699999928474426, 0.5799999833106995], [0.4399999976158142, 0.4399999976158142, 0.46000000834465027, 0.46000000834465027, 0.5099999904632568], [0.5, 0.5, 0.5, 0.5, 0.5099999904632568], [0.5199999809265137, 0.5299999713897705, 0.550000011920929, 0.5699999928474426, 0.5899999737739563], [0.5600000023841858, 0.5699999928474426, 0.5699999928474426, 0.5699999928474426, 0.5799999833106995], [0.46000000834465027, 0.46000000834465027, 0.4699999988079071, 0.47999998927116394, 0.47999998927116394], [0.5600000023841858, 0.5799999833106995, 0.5799999833106995, 0.5899999737739563, 0.6100000143051147], [0.5199999809265137, 0.5299999713897705, 0.5299999713897705, 0.550000011920929, 0.5600000023841858], [0.5, 0.5, 0.5099999904632568, 0.5099999904632568, 0.5199999809265137], [0.5199999809265137, 0.5199999809265137, 0.5199999809265137, 0.5199999809265137, 0.5299999713897705], [0.4399999976158142, 0.4399999976158142, 0.4399999976158142, 0.4399999976158142, 0.46000000834465027], [0.47999998927116394, 0.47999998927116394, 0.49000000953674316, 0.5, 0.5], [0.5600000023841858, 0.5600000023841858, 0.5799999833106995, 0.5899999737739563, 0.6000000238418579], [0.5199999809265137, 0.5199999809265137, 0.5299999713897705, 0.5400000214576721, 0.550000011920929], [0.5699999928474426, 0.5799999833106995, 0.6000000238418579, 0.6299999952316284, 0.6499999761581421], [0.5699999928474426, 0.5699999928474426, 0.5899999737739563, 0.6000000238418579, 0.6000000238418579], [0.4699999988079071, 0.4699999988079071, 0.47999998927116394, 0.47999998927116394, 0.49000000953674316], [0.550000011920929, 0.5699999928474426, 0.5699999928474426, 0.5799999833106995, 0.5799999833106995], [0.5099999904632568, 0.5199999809265137, 0.5199999809265137, 0.5400000214576721, 0.550000011920929], [0.5199999809265137, 0.5299999713897705, 0.5299999713897705, 0.5299999713897705, 0.5400000214576721], [0.47999998927116394, 0.47999998927116394, 0.47999998927116394, 0.49000000953674316, 0.49000000953674316], [0.49000000953674316, 0.49000000953674316, 0.5199999809265137, 0.5199999809265137, 0.5199999809265137], [0.5099999904632568, 0.5099999904632568, 0.5199999809265137, 0.5199999809265137, 0.5400000214576721], [0.46000000834465027, 0.4699999988079071, 0.4699999988079071, 0.4699999988079071, 0.47999998927116394], [0.5199999809265137, 0.5299999713897705, 0.5400000214576721, 0.550000011920929, 0.5600000023841858], [0.49000000953674316, 0.5, 0.5099999904632568, 0.5299999713897705, 0.550000011920929], [0.6200000047683716, 0.6299999952316284, 0.6399999856948853, 0.6399999856948853, 0.6499999761581421], [0.6000000238418579, 0.6100000143051147, 0.6200000047683716, 0.6299999952316284, 0.6499999761581421], [0.47999998927116394, 0.47999998927116394, 0.47999998927116394, 0.49000000953674316, 0.5400000214576721], [0.5600000023841858, 0.5600000023841858, 0.5600000023841858, 0.5699999928474426, 0.5799999833106995], [0.49000000953674316, 0.49000000953674316, 0.5, 0.5, 0.5099999904632568], [0.5600000023841858, 0.5600000023841858, 0.5699999928474426, 0.6100000143051147, 0.6200000047683716], [0.4300000071525574, 0.44999998807907104, 0.46000000834465027, 0.46000000834465027, 0.49000000953674316], [0.4699999988079071, 0.47999998927116394, 0.5099999904632568, 0.5099999904632568, 0.5099999904632568], [0.5199999809265137, 0.5299999713897705, 0.5299999713897705, 0.550000011920929, 0.550000011920929], [0.4399999976158142, 0.44999998807907104, 0.46000000834465027, 0.46000000834465027, 0.4699999988079071], [0.5699999928474426, 0.6000000238418579, 0.6000000238418579, 0.6000000238418579, 0.6100000143051147], [0.5099999904632568, 0.5199999809265137, 0.5199999809265137, 0.5299999713897705, 0.5400000214576721], [0.6499999761581421, 0.6700000166893005, 0.6899999976158142, 0.6899999976158142, 0.6899999976158142], [0.550000011920929, 0.5799999833106995, 0.5799999833106995, 0.5799999833106995, 0.5899999737739563], [0.550000011920929, 0.5600000023841858, 0.5600000023841858, 0.5799999833106995, 0.6100000143051147], [0.5600000023841858, 0.5600000023841858, 0.5600000023841858, 0.5799999833106995, 0.6000000238418579], [0.4699999988079071, 0.5, 0.5099999904632568, 0.5299999713897705, 0.5799999833106995], [0.5799999833106995, 0.5799999833106995, 0.5899999737739563, 0.6100000143051147, 0.6200000047683716], [0.5199999809265137, 0.5199999809265137, 0.5199999809265137, 0.5400000214576721, 0.5400000214576721], [0.550000011920929, 0.5600000023841858, 0.5600000023841858, 0.5600000023841858, 0.6000000238418579], [0.5299999713897705, 0.5299999713897705, 0.5299999713897705, 0.5400000214576721, 0.5400000214576721], [0.5099999904632568, 0.5199999809265137, 0.5199999809265137, 0.5600000023841858, 0.5600000023841858], [0.49000000953674316, 0.5, 0.5, 0.5099999904632568, 0.5299999713897705], [0.5899999737739563, 0.5899999737739563, 0.6100000143051147, 0.6200000047683716, 0.6299999952316284]]\n",
            "[0.09, 0.07, 0.06, 0.17, 0.05, 0.1, 0.09, 0.0, 0.13, 0.08, 0.07, 0.03, -0.01, 0.1, 0.07, 0.14, 0.07, -0.02, 0.13, 0.13, 0.01, 0.08, 0.03, 0.12, 0.08, 0.06, 0.04, 0.08, 0.05, 0.06, 0.13, 0.05, 0.03, 0.1, -0.05, -0.03, 0.11, 0.1, 0.1, 0.13, 0.06, 0.09, 0.03, 0.03, 0.12, 0.04, 0.18, 0.09, 0.13, 0.12, 0.13, 0.11, 0.12, 0.11, -0.01, 0.12, 0.09, 0.09, 0.09, 0.04, 0.07, 0.13, 0.14, 0.08, 0.06, 0.08, 0.02, 0.02, 0.05, 0.11, 0.05, 0.09, 0.05, 0.18, 0.05, 0.13, 0.1, 0.13, 0.09, 0.12, 0.08, 0.09, 0.07, 0.03, 0.12, 0.01, 0.05, 0.09, 0.07, 0.04, 0.1, 0.06, 0.16, 0.04, -0.01, -0.03, 0.08, 0.12, 0.11, -0.06, -0.03, 0.08, -0.05, 0.08, 0.1, 0.05, 0.12, 0.06, 0.08, 0.07, 0.13, 0.16, 0.13, -0.0, 0.03, 0.04, 0.1, 0.1, 0.18, 0.09, 0.06, 0.03, 0.02, 0.12, 0.13, 0.04, 0.13, 0.09, 0.12, 0.02, 0.08, 0.08, 0.05, 0.12, 0.01, 0.12, 0.02, 0.06, 0.06, 0.06, 0.04, 0.03, 0.09, 0.01, 0.03, 0.17, 0.11, 0.1, -0.05, 0.1, 0.14, 0.11, 0.14, 0.0, 0.11, 0.05, 0.04, 0.13, 0.03, 0.0, 0.11, 0.08, 0.1, 0.03, 0.1, 0.04, 0.06, 0.12, -0.01, 0.06, 0.05, 0.06, 0.13, 0.12, 0.13, 0.02, -0.01, 0.05, 0.04, -0.09, 0.09, 0.04, 0.14, 0.1, 0.15, 0.14, 0.08, 0.09, 0.06, 0.02, 0.04, 0.1, 0.03, 0.04, 0.01, 0.16, 0.03, 0.07, 0.11, 0.1, 0.04, 0.06, 0.01, 0.11, 0.08, 0.06, 0.14, 0.13, 0.13, 0.07, 0.04, 0.13, 0.08, 0.06, 0.09, 0.08, 0.08, -0.02, 0.0, 0.01, 0.11, 0.11, 0.05, 0.12, 0.04, 0.1, 0.09, -0.01, 0.01, 0.1, 0.03, 0.1, 0.13, 0.11, 0.1, 0.12, 0.04, 0.1, 0.14, -0.06, 0.02, -0.0, 0.04, 0.07, 0.14, 0.11, 0.02, 0.09, 0.05, 0.14, 0.1, 0.08, 0.12, 0.03, 0.13, 0.06, 0.14, 0.13, 0.09, 0.11, 0.11, 0.02, 0.09, 0.13, 0.08, 0.09, 0.03, 0.16, 0.13, 0.14, 0.1, 0.11, 0.09, 0.13, 0.05, 0.11, 0.12, 0.02, 0.12, 0.07, -0.03, 0.02, 0.1, 0.0, 0.04, 0.15, 0.06, 0.09, -0.09, 0.11, 0.12, 0.15, 0.04, 0.06, 0.04, 0.15, -0.03, 0.02, 0.02, 0.05, -0.0, 0.02, 0.19, -0.03, 0.06, 0.02, 0.09, 0.13, 0.06, -0.03, 0.12, 0.12, 0.09, 0.12, 0.02, 0.05, 0.01, 0.08, 0.1, 0.05, 0.04, 0.1, 0.08, 0.15, -0.03, 0.07, 0.05, 0.01, 0.16, 0.09, 0.14, 0.1, 0.05, 0.12, 0.11, 0.06, 0.07, 0.03, 0.12, 0.08, 0.15, 0.15, 0.02, 0.12, 0.0, 0.08, 0.12, 0.13, 0.01, 0.05, 0.13, 0.09, 0.14, 0.15, 0.15, 0.04, 0.09, 0.12, 0.07, 0.11, 0.12, 0.09, 0.18, 0.09, 0.09, 0.09, 0.08, 0.05, 0.01, 0.13, 0.07, 0.13, 0.07, 0.06, 0.15, 0.11, 0.07, 0.09, 0.04, 0.07, 0.07, 0.05, 0.11, 0.06, 0.1, 0.13, 0.05, 0.13, 0.13, 0.16, 0.08, 0.11, 0.13, 0.07, 0.07, 0.03, 0.12, 0.01, 0.0, 0.04, 0.07, 0.1, 0.14, 0.01, 0.03, 0.14, 0.1, 0.01, 0.1, -0.02, 0.14, 0.15, 0.09, 0.08]\n",
            "0.19\n",
            "-0.09\n"
          ]
        }
      ],
      "source": [
        "z_list = []\n",
        "u = cosine_similarity(sentence_embeddings0, sentence_embeddings2)\n",
        "array = np.array(u)\n",
        "array = numpy.around(array, decimals=2)\n",
        "\n",
        "#sorted_array = np.sort(array)\n",
        "# [1, 2, 3, 4, 5, 6, 7]\n",
        "#print(sorted_array)\n",
        "# Reverse the sorted array\n",
        "#reverse_array = sorted_array[::-1]\n",
        "#print(array)\n",
        "array = numpy.sort(array)\n",
        "#print(array)\n",
        "tm = []\n",
        "#np_array = np.array(a_list)\n",
        "#array = array.tolist()\n",
        "#print(array[0][-1,-2,-3,-4,-5])\n",
        "for i in range(0, len(sentence_embeddings0)):\n",
        "  temp = numpy.sort(array[i])\n",
        "  tm.append(min(temp))\n",
        "  z_list.append(temp[len(temp)-5:].tolist())\n",
        "  #print(z_list)\n",
        "print(z_list)\n",
        "print(tm)\n",
        "print(max(tm))\n",
        "print(min(tm))"
      ]
    },
    {
      "cell_type": "code",
      "execution_count": null,
      "metadata": {
        "colab": {
          "base_uri": "https://localhost:8080/"
        },
        "id": "0-O7MebBsAZl",
        "outputId": "9b4dc340-6a57-42f4-ba61-05bf885a7f3a"
      },
      "outputs": [
        {
          "name": "stdout",
          "output_type": "stream",
          "text": [
            "[[0.6399999856948853, 0.6399999856948853, 0.6499999761581421, 0.6499999761581421, 0.6499999761581421], [0.7200000286102295, 0.7300000190734863, 0.7300000190734863, 0.75, 0.75], [0.7099999785423279, 0.7099999785423279, 0.7200000286102295, 0.7300000190734863, 0.75], [0.6200000047683716, 0.6200000047683716, 0.6299999952316284, 0.6299999952316284, 0.6499999761581421], [0.6800000071525574, 0.699999988079071, 0.7300000190734863, 0.7400000095367432, 0.7400000095367432], [0.699999988079071, 0.699999988079071, 0.699999988079071, 0.699999988079071, 0.7099999785423279], [0.5600000023841858, 0.5600000023841858, 0.5699999928474426, 0.5699999928474426, 0.6000000238418579], [0.699999988079071, 0.699999988079071, 0.699999988079071, 0.7300000190734863, 0.75], [0.7099999785423279, 0.7099999785423279, 0.7300000190734863, 0.7300000190734863, 0.7400000095367432], [0.6600000262260437, 0.6600000262260437, 0.6700000166893005, 0.6700000166893005, 0.699999988079071], [0.6800000071525574, 0.6800000071525574, 0.6899999976158142, 0.6899999976158142, 0.699999988079071], [0.6499999761581421, 0.6600000262260437, 0.6700000166893005, 0.699999988079071, 0.7200000286102295], [0.6499999761581421, 0.6600000262260437, 0.6600000262260437, 0.6700000166893005, 0.6700000166893005], [0.6800000071525574, 0.6899999976158142, 0.699999988079071, 0.7200000286102295, 0.7300000190734863], [0.7599999904632568, 0.7599999904632568, 0.7699999809265137, 0.7699999809265137, 0.7900000214576721], [0.6800000071525574, 0.6800000071525574, 0.6899999976158142, 0.6899999976158142, 0.6899999976158142], [0.6800000071525574, 0.6800000071525574, 0.6800000071525574, 0.7099999785423279, 0.7099999785423279], [0.6800000071525574, 0.6800000071525574, 0.6899999976158142, 0.6899999976158142, 0.699999988079071], [0.6800000071525574, 0.6800000071525574, 0.6899999976158142, 0.699999988079071, 0.7099999785423279], [0.6299999952316284, 0.6299999952316284, 0.6399999856948853, 0.6399999856948853, 0.6499999761581421], [0.6200000047683716, 0.6200000047683716, 0.6299999952316284, 0.6299999952316284, 0.6499999761581421], [0.6299999952316284, 0.6499999761581421, 0.6499999761581421, 0.6600000262260437, 0.6700000166893005], [0.6800000071525574, 0.6899999976158142, 0.6899999976158142, 0.699999988079071, 0.7400000095367432], [0.6899999976158142, 0.699999988079071, 0.7099999785423279, 0.7699999809265137, 0.7699999809265137], [0.6399999856948853, 0.6499999761581421, 0.6499999761581421, 0.6700000166893005, 0.699999988079071], [0.7799999713897705, 0.7900000214576721, 0.800000011920929, 0.800000011920929, 0.8199999928474426], [0.7400000095367432, 0.7400000095367432, 0.7400000095367432, 0.75, 0.7599999904632568], [0.7599999904632568, 0.7599999904632568, 0.7699999809265137, 0.7799999713897705, 0.7900000214576721], [0.7300000190734863, 0.7300000190734863, 0.7400000095367432, 0.7400000095367432, 0.7400000095367432], [0.699999988079071, 0.7200000286102295, 0.7200000286102295, 0.7200000286102295, 0.7400000095367432], [0.550000011920929, 0.550000011920929, 0.5600000023841858, 0.5799999833106995, 0.5799999833106995], [0.5799999833106995, 0.5899999737739563, 0.5899999737739563, 0.5899999737739563, 0.5899999737739563], [0.6000000238418579, 0.6000000238418579, 0.6100000143051147, 0.6200000047683716, 0.6200000047683716], [0.75, 0.7599999904632568, 0.7699999809265137, 0.7699999809265137, 0.7699999809265137], [0.7900000214576721, 0.7900000214576721, 0.800000011920929, 0.8100000023841858, 0.8100000023841858], [0.7300000190734863, 0.7300000190734863, 0.7300000190734863, 0.7400000095367432, 0.7400000095367432], [0.7300000190734863, 0.7400000095367432, 0.7400000095367432, 0.7400000095367432, 0.7400000095367432], [0.7400000095367432, 0.7400000095367432, 0.75, 0.75, 0.7900000214576721], [0.7099999785423279, 0.7099999785423279, 0.7200000286102295, 0.7200000286102295, 0.7300000190734863], [0.6899999976158142, 0.6899999976158142, 0.6899999976158142, 0.699999988079071, 0.7300000190734863], [0.7400000095367432, 0.75, 0.75, 0.75, 0.7599999904632568], [0.6200000047683716, 0.6299999952316284, 0.6399999856948853, 0.6399999856948853, 0.6800000071525574], [0.699999988079071, 0.7099999785423279, 0.7200000286102295, 0.7200000286102295, 0.75], [0.7099999785423279, 0.7099999785423279, 0.7099999785423279, 0.7099999785423279, 0.7400000095367432], [0.6700000166893005, 0.6700000166893005, 0.6800000071525574, 0.6800000071525574, 0.7099999785423279], [0.6600000262260437, 0.6600000262260437, 0.6600000262260437, 0.6700000166893005, 0.6700000166893005], [0.7300000190734863, 0.7300000190734863, 0.7400000095367432, 0.7400000095367432, 0.7699999809265137], [0.7099999785423279, 0.7099999785423279, 0.7200000286102295, 0.7300000190734863, 0.7400000095367432], [0.6600000262260437, 0.6600000262260437, 0.6700000166893005, 0.6800000071525574, 0.7200000286102295], [0.6700000166893005, 0.6700000166893005, 0.6800000071525574, 0.6800000071525574, 0.6800000071525574], [0.6700000166893005, 0.6700000166893005, 0.6700000166893005, 0.6800000071525574, 0.6899999976158142], [0.75, 0.75, 0.7699999809265137, 0.7799999713897705, 0.800000011920929], [0.75, 0.7599999904632568, 0.7599999904632568, 0.7699999809265137, 0.7699999809265137], [0.7200000286102295, 0.7200000286102295, 0.7200000286102295, 0.7300000190734863, 0.7400000095367432], [0.7300000190734863, 0.7400000095367432, 0.75, 0.7599999904632568, 0.7699999809265137], [0.6200000047683716, 0.6200000047683716, 0.6200000047683716, 0.6399999856948853, 0.6399999856948853], [0.5600000023841858, 0.5699999928474426, 0.5699999928474426, 0.5799999833106995, 0.6100000143051147], [0.7599999904632568, 0.7599999904632568, 0.7599999904632568, 0.7699999809265137, 0.7799999713897705], [0.7400000095367432, 0.7599999904632568, 0.7699999809265137, 0.7900000214576721, 0.8100000023841858], [0.6600000262260437, 0.6600000262260437, 0.6600000262260437, 0.699999988079071, 0.7099999785423279], [0.699999988079071, 0.7099999785423279, 0.7200000286102295, 0.7200000286102295, 0.7400000095367432], [0.7599999904632568, 0.7599999904632568, 0.7699999809265137, 0.7699999809265137, 0.7699999809265137], [0.7300000190734863, 0.7300000190734863, 0.7300000190734863, 0.7400000095367432, 0.7400000095367432], [0.7599999904632568, 0.7699999809265137, 0.7699999809265137, 0.7699999809265137, 0.7699999809265137], [0.7300000190734863, 0.7300000190734863, 0.7300000190734863, 0.75, 0.7699999809265137], [0.7699999809265137, 0.7699999809265137, 0.7799999713897705, 0.8100000023841858, 0.8199999928474426], [0.6499999761581421, 0.6700000166893005, 0.6800000071525574, 0.6800000071525574, 0.699999988079071], [0.7200000286102295, 0.7300000190734863, 0.7400000095367432, 0.7400000095367432, 0.75], [0.699999988079071, 0.7099999785423279, 0.7200000286102295, 0.7300000190734863, 0.7300000190734863], [0.7300000190734863, 0.7300000190734863, 0.7400000095367432, 0.75, 0.7599999904632568], [0.6899999976158142, 0.699999988079071, 0.699999988079071, 0.7099999785423279, 0.7200000286102295], [0.6600000262260437, 0.6800000071525574, 0.6800000071525574, 0.6800000071525574, 0.6899999976158142], [0.6299999952316284, 0.6299999952316284, 0.6399999856948853, 0.6399999856948853, 0.6399999856948853], [0.75, 0.7599999904632568, 0.7599999904632568, 0.7699999809265137, 0.7900000214576721], [0.7400000095367432, 0.7400000095367432, 0.75, 0.7599999904632568, 0.7699999809265137], [0.6899999976158142, 0.699999988079071, 0.699999988079071, 0.7099999785423279, 0.7300000190734863], [0.6600000262260437, 0.6800000071525574, 0.6800000071525574, 0.6800000071525574, 0.6800000071525574], [0.5699999928474426, 0.5799999833106995, 0.5799999833106995, 0.5899999737739563, 0.6000000238418579], [0.699999988079071, 0.7099999785423279, 0.7200000286102295, 0.7300000190734863, 0.7400000095367432], [0.7200000286102295, 0.7200000286102295, 0.7200000286102295, 0.7300000190734863, 0.7400000095367432], [0.6899999976158142, 0.699999988079071, 0.7099999785423279, 0.7099999785423279, 0.7099999785423279], [0.7200000286102295, 0.7200000286102295, 0.7400000095367432, 0.7400000095367432, 0.7400000095367432], [0.699999988079071, 0.699999988079071, 0.699999988079071, 0.7099999785423279, 0.7099999785423279], [0.7300000190734863, 0.7400000095367432, 0.7400000095367432, 0.7599999904632568, 0.7699999809265137], [0.6100000143051147, 0.6299999952316284, 0.6299999952316284, 0.6299999952316284, 0.6700000166893005], [0.7400000095367432, 0.7400000095367432, 0.75, 0.7599999904632568, 0.7599999904632568], [0.6700000166893005, 0.6700000166893005, 0.6899999976158142, 0.699999988079071, 0.7200000286102295], [0.7099999785423279, 0.7200000286102295, 0.7200000286102295, 0.7300000190734863, 0.7300000190734863], [0.6399999856948853, 0.6399999856948853, 0.6499999761581421, 0.6499999761581421, 0.6800000071525574], [0.75, 0.75, 0.75, 0.7799999713897705, 0.7799999713897705], [0.6700000166893005, 0.6800000071525574, 0.6800000071525574, 0.6899999976158142, 0.6899999976158142], [0.7400000095367432, 0.7400000095367432, 0.75, 0.75, 0.7799999713897705], [0.6399999856948853, 0.6399999856948853, 0.6399999856948853, 0.6499999761581421, 0.6700000166893005], [0.6200000047683716, 0.6299999952316284, 0.6399999856948853, 0.6499999761581421, 0.6499999761581421], [0.7099999785423279, 0.7200000286102295, 0.7200000286102295, 0.7300000190734863, 0.75], [0.6100000143051147, 0.6100000143051147, 0.6299999952316284, 0.6299999952316284, 0.6499999761581421], [0.7200000286102295, 0.7200000286102295, 0.7300000190734863, 0.7400000095367432, 0.7400000095367432], [0.75, 0.7699999809265137, 0.7900000214576721, 0.8199999928474426, 0.8299999833106995], [0.6899999976158142, 0.7099999785423279, 0.7200000286102295, 0.7200000286102295, 0.7300000190734863], [0.75, 0.7599999904632568, 0.7599999904632568, 0.7599999904632568, 0.7599999904632568], [0.6700000166893005, 0.6700000166893005, 0.6700000166893005, 0.6800000071525574, 0.6800000071525574], [0.6299999952316284, 0.6299999952316284, 0.6499999761581421, 0.6499999761581421, 0.6600000262260437], [0.7300000190734863, 0.7300000190734863, 0.7400000095367432, 0.75, 0.75], [0.7300000190734863, 0.7300000190734863, 0.75, 0.7699999809265137, 0.7699999809265137], [0.6700000166893005, 0.6800000071525574, 0.6800000071525574, 0.6899999976158142, 0.6899999976158142], [0.7099999785423279, 0.7099999785423279, 0.7099999785423279, 0.7300000190734863, 0.7300000190734863], [0.7200000286102295, 0.7300000190734863, 0.7400000095367432, 0.7400000095367432, 0.75], [0.699999988079071, 0.699999988079071, 0.699999988079071, 0.7099999785423279, 0.7599999904632568], [0.699999988079071, 0.7099999785423279, 0.7200000286102295, 0.7200000286102295, 0.7300000190734863], [0.6700000166893005, 0.6700000166893005, 0.6800000071525574, 0.6899999976158142, 0.699999988079071], [0.7300000190734863, 0.7300000190734863, 0.7300000190734863, 0.7400000095367432, 0.7400000095367432], [0.6499999761581421, 0.6499999761581421, 0.6600000262260437, 0.6600000262260437, 0.6700000166893005], [0.7699999809265137, 0.7699999809265137, 0.7799999713897705, 0.7799999713897705, 0.7900000214576721], [0.6899999976158142, 0.7099999785423279, 0.7200000286102295, 0.7300000190734863, 0.7400000095367432], [0.6299999952316284, 0.6299999952316284, 0.6399999856948853, 0.6399999856948853, 0.6499999761581421], [0.7799999713897705, 0.7799999713897705, 0.7900000214576721, 0.7900000214576721, 0.800000011920929], [0.6800000071525574, 0.6800000071525574, 0.6800000071525574, 0.6800000071525574, 0.699999988079071], [0.7400000095367432, 0.7400000095367432, 0.7400000095367432, 0.75, 0.7599999904632568], [0.6800000071525574, 0.6899999976158142, 0.6899999976158142, 0.6899999976158142, 0.699999988079071], [0.75, 0.75, 0.7599999904632568, 0.7799999713897705, 0.800000011920929], [0.7300000190734863, 0.7300000190734863, 0.7400000095367432, 0.75, 0.7599999904632568], [0.7900000214576721, 0.7900000214576721, 0.7900000214576721, 0.7900000214576721, 0.8100000023841858], [0.7799999713897705, 0.7799999713897705, 0.7900000214576721, 0.7900000214576721, 0.800000011920929], [0.6899999976158142, 0.6899999976158142, 0.699999988079071, 0.7099999785423279, 0.7300000190734863], [0.6600000262260437, 0.6600000262260437, 0.6700000166893005, 0.6700000166893005, 0.699999988079071], [0.6700000166893005, 0.6700000166893005, 0.6700000166893005, 0.6899999976158142, 0.6899999976158142], [0.7599999904632568, 0.7699999809265137, 0.7699999809265137, 0.7699999809265137, 0.7699999809265137], [0.7900000214576721, 0.800000011920929, 0.8100000023841858, 0.8299999833106995, 0.8399999737739563], [0.6600000262260437, 0.6700000166893005, 0.6700000166893005, 0.6700000166893005, 0.6700000166893005], [0.7400000095367432, 0.7400000095367432, 0.7400000095367432, 0.7599999904632568, 0.7599999904632568], [0.6600000262260437, 0.6700000166893005, 0.6700000166893005, 0.6800000071525574, 0.699999988079071], [0.6200000047683716, 0.6200000047683716, 0.6299999952316284, 0.6399999856948853, 0.6399999856948853], [0.7099999785423279, 0.7099999785423279, 0.7099999785423279, 0.7200000286102295, 0.7300000190734863], [0.7099999785423279, 0.7099999785423279, 0.7200000286102295, 0.7200000286102295, 0.7300000190734863], [0.5400000214576721, 0.5400000214576721, 0.550000011920929, 0.550000011920929, 0.5799999833106995], [0.6200000047683716, 0.6299999952316284, 0.6299999952316284, 0.6499999761581421, 0.6499999761581421], [0.6200000047683716, 0.6200000047683716, 0.6200000047683716, 0.6200000047683716, 0.6399999856948853], [0.6700000166893005, 0.6700000166893005, 0.6800000071525574, 0.6899999976158142, 0.7099999785423279], [0.6700000166893005, 0.6700000166893005, 0.6700000166893005, 0.6800000071525574, 0.6899999976158142], [0.7699999809265137, 0.7699999809265137, 0.7699999809265137, 0.7799999713897705, 0.7799999713897705], [0.7200000286102295, 0.7200000286102295, 0.7200000286102295, 0.7300000190734863, 0.7599999904632568], [0.6399999856948853, 0.6399999856948853, 0.6399999856948853, 0.6499999761581421, 0.6499999761581421], [0.6200000047683716, 0.6299999952316284, 0.6299999952316284, 0.6299999952316284, 0.6499999761581421], [0.7300000190734863, 0.7300000190734863, 0.7400000095367432, 0.75, 0.7599999904632568], [0.6800000071525574, 0.6899999976158142, 0.699999988079071, 0.7099999785423279, 0.7200000286102295], [0.7699999809265137, 0.7699999809265137, 0.7699999809265137, 0.7699999809265137, 0.7799999713897705], [0.6499999761581421, 0.6600000262260437, 0.6600000262260437, 0.6800000071525574, 0.7099999785423279], [0.6299999952316284, 0.6299999952316284, 0.6399999856948853, 0.6399999856948853, 0.6399999856948853], [0.6899999976158142, 0.6899999976158142, 0.6899999976158142, 0.699999988079071, 0.699999988079071], [0.7599999904632568, 0.7599999904632568, 0.7599999904632568, 0.7599999904632568, 0.7799999713897705], [0.75, 0.75, 0.7599999904632568, 0.7799999713897705, 0.800000011920929], [0.6800000071525574, 0.6899999976158142, 0.6899999976158142, 0.699999988079071, 0.699999988079071], [0.6499999761581421, 0.6600000262260437, 0.6600000262260437, 0.6600000262260437, 0.6700000166893005], [0.7400000095367432, 0.7400000095367432, 0.7599999904632568, 0.7599999904632568, 0.7699999809265137], [0.6499999761581421, 0.6600000262260437, 0.6600000262260437, 0.6600000262260437, 0.6700000166893005], [0.6399999856948853, 0.6499999761581421, 0.6600000262260437, 0.6600000262260437, 0.6600000262260437], [0.699999988079071, 0.699999988079071, 0.7200000286102295, 0.7200000286102295, 0.7400000095367432], [0.6299999952316284, 0.6399999856948853, 0.6399999856948853, 0.6399999856948853, 0.6499999761581421], [0.7300000190734863, 0.7300000190734863, 0.7400000095367432, 0.7400000095367432, 0.75], [0.7200000286102295, 0.7200000286102295, 0.7300000190734863, 0.7300000190734863, 0.7400000095367432], [0.6800000071525574, 0.6899999976158142, 0.699999988079071, 0.7200000286102295, 0.7200000286102295], [0.7300000190734863, 0.7300000190734863, 0.7400000095367432, 0.7400000095367432, 0.75], [0.7099999785423279, 0.7300000190734863, 0.7300000190734863, 0.7400000095367432, 0.7699999809265137], [0.699999988079071, 0.699999988079071, 0.7099999785423279, 0.7099999785423279, 0.7300000190734863], [0.6800000071525574, 0.6800000071525574, 0.6899999976158142, 0.699999988079071, 0.7099999785423279], [0.7099999785423279, 0.7099999785423279, 0.7200000286102295, 0.7300000190734863, 0.7300000190734863], [0.7099999785423279, 0.7200000286102295, 0.7200000286102295, 0.7200000286102295, 0.7300000190734863], [0.7799999713897705, 0.7900000214576721, 0.7900000214576721, 0.7900000214576721, 0.8199999928474426], [0.800000011920929, 0.8100000023841858, 0.8100000023841858, 0.8100000023841858, 0.8199999928474426], [0.699999988079071, 0.699999988079071, 0.699999988079071, 0.699999988079071, 0.7099999785423279], [0.7099999785423279, 0.7200000286102295, 0.7400000095367432, 0.7599999904632568, 0.7799999713897705], [0.6700000166893005, 0.6700000166893005, 0.6800000071525574, 0.6800000071525574, 0.6899999976158142], [0.6899999976158142, 0.6899999976158142, 0.699999988079071, 0.7200000286102295, 0.7300000190734863], [0.699999988079071, 0.7099999785423279, 0.7099999785423279, 0.7099999785423279, 0.7300000190734863], [0.699999988079071, 0.699999988079071, 0.7099999785423279, 0.7200000286102295, 0.7300000190734863], [0.6600000262260437, 0.6600000262260437, 0.6600000262260437, 0.6899999976158142, 0.6899999976158142], [0.699999988079071, 0.7099999785423279, 0.7099999785423279, 0.7099999785423279, 0.7300000190734863], [0.6800000071525574, 0.6899999976158142, 0.699999988079071, 0.699999988079071, 0.699999988079071], [0.7300000190734863, 0.7400000095367432, 0.7400000095367432, 0.7400000095367432, 0.7599999904632568], [0.6399999856948853, 0.6499999761581421, 0.6499999761581421, 0.6499999761581421, 0.6499999761581421], [0.699999988079071, 0.7099999785423279, 0.7099999785423279, 0.7400000095367432, 0.7599999904632568], [0.6700000166893005, 0.6800000071525574, 0.6800000071525574, 0.6800000071525574, 0.6899999976158142], [0.7200000286102295, 0.7200000286102295, 0.7200000286102295, 0.7300000190734863, 0.75], [0.7699999809265137, 0.7699999809265137, 0.7799999713897705, 0.7799999713897705, 0.8199999928474426], [0.7699999809265137, 0.7799999713897705, 0.7799999713897705, 0.7900000214576721, 0.7900000214576721], [0.5799999833106995, 0.5799999833106995, 0.5899999737739563, 0.6000000238418579, 0.6000000238418579], [0.6899999976158142, 0.6899999976158142, 0.699999988079071, 0.699999988079071, 0.7200000286102295], [0.7300000190734863, 0.7300000190734863, 0.7400000095367432, 0.7400000095367432, 0.75], [0.6700000166893005, 0.6700000166893005, 0.6700000166893005, 0.6800000071525574, 0.6899999976158142], [0.6600000262260437, 0.6800000071525574, 0.6800000071525574, 0.6899999976158142, 0.7099999785423279], [0.7200000286102295, 0.7200000286102295, 0.7300000190734863, 0.7400000095367432, 0.7400000095367432], [0.6700000166893005, 0.6700000166893005, 0.6700000166893005, 0.6700000166893005, 0.7099999785423279], [0.6700000166893005, 0.6800000071525574, 0.6800000071525574, 0.6800000071525574, 0.699999988079071], [0.7300000190734863, 0.7300000190734863, 0.7400000095367432, 0.7599999904632568, 0.7599999904632568], [0.6299999952316284, 0.6499999761581421, 0.6499999761581421, 0.6499999761581421, 0.6600000262260437], [0.7400000095367432, 0.7400000095367432, 0.75, 0.75, 0.7599999904632568], [0.75, 0.75, 0.75, 0.7599999904632568, 0.7599999904632568], [0.6899999976158142, 0.7099999785423279, 0.7099999785423279, 0.7200000286102295, 0.7200000286102295], [0.6899999976158142, 0.699999988079071, 0.699999988079071, 0.7099999785423279, 0.7400000095367432], [0.8100000023841858, 0.8100000023841858, 0.8199999928474426, 0.8199999928474426, 0.8299999833106995], [0.6499999761581421, 0.6499999761581421, 0.6600000262260437, 0.6700000166893005, 0.6700000166893005], [0.6899999976158142, 0.699999988079071, 0.7200000286102295, 0.7200000286102295, 0.7300000190734863], [0.7300000190734863, 0.7400000095367432, 0.75, 0.75, 0.7599999904632568], [0.7300000190734863, 0.7300000190734863, 0.7400000095367432, 0.75, 0.7599999904632568], [0.5899999737739563, 0.5899999737739563, 0.5899999737739563, 0.6000000238418579, 0.6000000238418579], [0.7400000095367432, 0.75, 0.75, 0.75, 0.7599999904632568], [0.6700000166893005, 0.6800000071525574, 0.6800000071525574, 0.6800000071525574, 0.7099999785423279], [0.699999988079071, 0.7099999785423279, 0.7099999785423279, 0.7200000286102295, 0.7400000095367432], [0.75, 0.75, 0.75, 0.75, 0.7699999809265137], [0.7099999785423279, 0.7099999785423279, 0.7200000286102295, 0.7200000286102295, 0.75], [0.7300000190734863, 0.7300000190734863, 0.7300000190734863, 0.7400000095367432, 0.75], [0.7099999785423279, 0.7200000286102295, 0.7300000190734863, 0.7400000095367432, 0.7599999904632568], [0.75, 0.7599999904632568, 0.7599999904632568, 0.7599999904632568, 0.7699999809265137], [0.6800000071525574, 0.6899999976158142, 0.6899999976158142, 0.699999988079071, 0.699999988079071], [0.7200000286102295, 0.7300000190734863, 0.7400000095367432, 0.7400000095367432, 0.75], [0.7300000190734863, 0.7300000190734863, 0.7300000190734863, 0.7900000214576721, 0.800000011920929], [0.5199999809265137, 0.5400000214576721, 0.550000011920929, 0.550000011920929, 0.5600000023841858], [0.5899999737739563, 0.5899999737739563, 0.6000000238418579, 0.6000000238418579, 0.6200000047683716], [0.7300000190734863, 0.7400000095367432, 0.7400000095367432, 0.7599999904632568, 0.7699999809265137], [0.699999988079071, 0.699999988079071, 0.699999988079071, 0.7099999785423279, 0.7200000286102295], [0.6200000047683716, 0.6399999856948853, 0.6399999856948853, 0.6499999761581421, 0.6600000262260437], [0.6899999976158142, 0.699999988079071, 0.7099999785423279, 0.7200000286102295, 0.7400000095367432], [0.6200000047683716, 0.6299999952316284, 0.6299999952316284, 0.6299999952316284, 0.6499999761581421], [0.5899999737739563, 0.5899999737739563, 0.6000000238418579, 0.6100000143051147, 0.6600000262260437], [0.7300000190734863, 0.7300000190734863, 0.7300000190734863, 0.7400000095367432, 0.75], [0.6700000166893005, 0.6700000166893005, 0.6800000071525574, 0.699999988079071, 0.699999988079071], [0.7300000190734863, 0.7300000190734863, 0.7400000095367432, 0.7799999713897705, 0.7799999713897705], [0.6200000047683716, 0.6200000047683716, 0.6200000047683716, 0.6200000047683716, 0.6299999952316284], [0.7400000095367432, 0.7400000095367432, 0.75, 0.7599999904632568, 0.7699999809265137], [0.7400000095367432, 0.7400000095367432, 0.7400000095367432, 0.7400000095367432, 0.7599999904632568], [0.7900000214576721, 0.800000011920929, 0.800000011920929, 0.8100000023841858, 0.8100000023841858], [0.6800000071525574, 0.6899999976158142, 0.6899999976158142, 0.6899999976158142, 0.699999988079071], [0.75, 0.7599999904632568, 0.7699999809265137, 0.7799999713897705, 0.7900000214576721], [0.7200000286102295, 0.7300000190734863, 0.7300000190734863, 0.7300000190734863, 0.7300000190734863], [0.6600000262260437, 0.6600000262260437, 0.6700000166893005, 0.6899999976158142, 0.7099999785423279], [0.7200000286102295, 0.7200000286102295, 0.7300000190734863, 0.7300000190734863, 0.7599999904632568], [0.7200000286102295, 0.7200000286102295, 0.7300000190734863, 0.7400000095367432, 0.7400000095367432], [0.699999988079071, 0.699999988079071, 0.7099999785423279, 0.7200000286102295, 0.7900000214576721], [0.75, 0.7599999904632568, 0.7699999809265137, 0.7699999809265137, 0.7799999713897705], [0.6899999976158142, 0.699999988079071, 0.699999988079071, 0.7099999785423279, 0.7099999785423279], [0.75, 0.75, 0.75, 0.7699999809265137, 0.7799999713897705], [0.7099999785423279, 0.7099999785423279, 0.7200000286102295, 0.7300000190734863, 0.75], [0.7099999785423279, 0.7099999785423279, 0.7300000190734863, 0.7400000095367432, 0.75], [0.6899999976158142, 0.6899999976158142, 0.6899999976158142, 0.6899999976158142, 0.6899999976158142], [0.5, 0.5199999809265137, 0.5299999713897705, 0.5400000214576721, 0.5799999833106995], [0.6800000071525574, 0.6800000071525574, 0.6899999976158142, 0.699999988079071, 0.7099999785423279], [0.7099999785423279, 0.7200000286102295, 0.7300000190734863, 0.7300000190734863, 0.7400000095367432], [0.5600000023841858, 0.5600000023841858, 0.5699999928474426, 0.5799999833106995, 0.5799999833106995], [0.6399999856948853, 0.6399999856948853, 0.6499999761581421, 0.6600000262260437, 0.6600000262260437], [0.7599999904632568, 0.7599999904632568, 0.7599999904632568, 0.7699999809265137, 0.7799999713897705], [0.6499999761581421, 0.6499999761581421, 0.6499999761581421, 0.6600000262260437, 0.7099999785423279], [0.7699999809265137, 0.7699999809265137, 0.7799999713897705, 0.7900000214576721, 0.800000011920929], [0.7200000286102295, 0.7200000286102295, 0.7300000190734863, 0.7300000190734863, 0.7400000095367432], [0.6800000071525574, 0.6800000071525574, 0.6899999976158142, 0.699999988079071, 0.7200000286102295], [0.699999988079071, 0.699999988079071, 0.7300000190734863, 0.7400000095367432, 0.7400000095367432], [0.7099999785423279, 0.7099999785423279, 0.7200000286102295, 0.75, 0.7699999809265137], [0.7799999713897705, 0.7799999713897705, 0.7799999713897705, 0.7799999713897705, 0.7900000214576721], [0.699999988079071, 0.699999988079071, 0.7099999785423279, 0.75, 0.75], [0.6700000166893005, 0.6700000166893005, 0.6800000071525574, 0.6899999976158142, 0.6899999976158142], [0.7099999785423279, 0.7099999785423279, 0.7200000286102295, 0.7300000190734863, 0.7400000095367432], [0.7099999785423279, 0.7099999785423279, 0.7099999785423279, 0.75, 0.75], [0.6399999856948853, 0.6499999761581421, 0.6499999761581421, 0.6499999761581421, 0.6600000262260437], [0.6499999761581421, 0.6499999761581421, 0.6499999761581421, 0.6600000262260437, 0.6700000166893005], [0.6600000262260437, 0.6800000071525574, 0.6800000071525574, 0.6899999976158142, 0.6899999976158142], [0.6600000262260437, 0.6600000262260437, 0.6600000262260437, 0.6700000166893005, 0.6700000166893005], [0.7300000190734863, 0.7400000095367432, 0.7400000095367432, 0.7400000095367432, 0.7400000095367432], [0.6700000166893005, 0.6800000071525574, 0.6800000071525574, 0.6899999976158142, 0.699999988079071], [0.550000011920929, 0.550000011920929, 0.550000011920929, 0.5600000023841858, 0.5600000023841858], [0.7099999785423279, 0.7099999785423279, 0.7300000190734863, 0.7300000190734863, 0.7699999809265137], [0.550000011920929, 0.5600000023841858, 0.5699999928474426, 0.5699999928474426, 0.6000000238418579], [0.6100000143051147, 0.6100000143051147, 0.6100000143051147, 0.6100000143051147, 0.6399999856948853], [0.7599999904632568, 0.7599999904632568, 0.7699999809265137, 0.800000011920929, 0.8299999833106995], [0.699999988079071, 0.699999988079071, 0.7099999785423279, 0.7200000286102295, 0.7300000190734863], [0.6000000238418579, 0.6000000238418579, 0.6000000238418579, 0.6100000143051147, 0.6100000143051147], [0.49000000953674316, 0.49000000953674316, 0.49000000953674316, 0.5099999904632568, 0.5299999713897705], [0.6399999856948853, 0.6399999856948853, 0.6399999856948853, 0.6499999761581421, 0.6499999761581421], [0.699999988079071, 0.699999988079071, 0.7099999785423279, 0.7200000286102295, 0.7400000095367432], [0.7300000190734863, 0.7300000190734863, 0.7300000190734863, 0.7400000095367432, 0.7400000095367432], [0.7699999809265137, 0.7699999809265137, 0.7799999713897705, 0.7799999713897705, 0.7900000214576721], [0.7400000095367432, 0.75, 0.75, 0.7599999904632568, 0.7599999904632568], [0.5899999737739563, 0.6000000238418579, 0.6000000238418579, 0.6000000238418579, 0.6200000047683716], [0.6100000143051147, 0.6299999952316284, 0.6299999952316284, 0.6399999856948853, 0.6700000166893005], [0.6800000071525574, 0.6800000071525574, 0.6800000071525574, 0.699999988079071, 0.699999988079071], [0.7699999809265137, 0.7799999713897705, 0.7799999713897705, 0.7799999713897705, 0.7900000214576721], [0.6899999976158142, 0.6899999976158142, 0.6899999976158142, 0.6899999976158142, 0.699999988079071], [0.699999988079071, 0.699999988079071, 0.699999988079071, 0.7099999785423279, 0.7300000190734863], [0.7599999904632568, 0.7699999809265137, 0.7699999809265137, 0.7699999809265137, 0.7699999809265137], [0.6800000071525574, 0.6800000071525574, 0.6899999976158142, 0.6899999976158142, 0.7099999785423279], [0.5699999928474426, 0.5699999928474426, 0.5799999833106995, 0.5799999833106995, 0.5899999737739563], [0.6600000262260437, 0.6700000166893005, 0.6700000166893005, 0.6700000166893005, 0.6800000071525574], [0.6200000047683716, 0.6200000047683716, 0.6200000047683716, 0.6299999952316284, 0.6299999952316284], [0.6000000238418579, 0.6000000238418579, 0.6100000143051147, 0.6100000143051147, 0.6299999952316284], [0.6899999976158142, 0.699999988079071, 0.7099999785423279, 0.7200000286102295, 0.7400000095367432], [0.7300000190734863, 0.7300000190734863, 0.7400000095367432, 0.75, 0.7599999904632568], [0.6800000071525574, 0.6800000071525574, 0.6800000071525574, 0.6800000071525574, 0.7099999785423279], [0.6800000071525574, 0.6800000071525574, 0.6899999976158142, 0.6899999976158142, 0.7099999785423279], [0.6700000166893005, 0.6700000166893005, 0.6800000071525574, 0.6899999976158142, 0.6899999976158142], [0.5799999833106995, 0.5899999737739563, 0.5899999737739563, 0.6000000238418579, 0.6100000143051147], [0.6499999761581421, 0.6499999761581421, 0.6499999761581421, 0.6700000166893005, 0.7099999785423279], [0.6600000262260437, 0.6600000262260437, 0.6700000166893005, 0.6800000071525574, 0.6899999976158142], [0.6800000071525574, 0.6800000071525574, 0.6899999976158142, 0.699999988079071, 0.7099999785423279], [0.6499999761581421, 0.6499999761581421, 0.6499999761581421, 0.6600000262260437, 0.6700000166893005], [0.7699999809265137, 0.7799999713897705, 0.7900000214576721, 0.8100000023841858, 0.8100000023841858], [0.7200000286102295, 0.7200000286102295, 0.7200000286102295, 0.7300000190734863, 0.7599999904632568], [0.5099999904632568, 0.5099999904632568, 0.5199999809265137, 0.5600000023841858, 0.6100000143051147], [0.7099999785423279, 0.7099999785423279, 0.7200000286102295, 0.7300000190734863, 0.7400000095367432], [0.7200000286102295, 0.7200000286102295, 0.7300000190734863, 0.7400000095367432, 0.7599999904632568], [0.6200000047683716, 0.6200000047683716, 0.6299999952316284, 0.6299999952316284, 0.6299999952316284], [0.7400000095367432, 0.7400000095367432, 0.75, 0.75, 0.7599999904632568], [0.7099999785423279, 0.7099999785423279, 0.7099999785423279, 0.7099999785423279, 0.7200000286102295], [0.7200000286102295, 0.7200000286102295, 0.7200000286102295, 0.7300000190734863, 0.7300000190734863], [0.7300000190734863, 0.7300000190734863, 0.7300000190734863, 0.7300000190734863, 0.7300000190734863], [0.6200000047683716, 0.6299999952316284, 0.6299999952316284, 0.6399999856948853, 0.6399999856948853], [0.699999988079071, 0.699999988079071, 0.7099999785423279, 0.7099999785423279, 0.7300000190734863], [0.6200000047683716, 0.6399999856948853, 0.6399999856948853, 0.6800000071525574, 0.6800000071525574], [0.699999988079071, 0.699999988079071, 0.699999988079071, 0.699999988079071, 0.7400000095367432], [0.6499999761581421, 0.6499999761581421, 0.6700000166893005, 0.6800000071525574, 0.6800000071525574], [0.6000000238418579, 0.6100000143051147, 0.6200000047683716, 0.6399999856948853, 0.6399999856948853], [0.7400000095367432, 0.7400000095367432, 0.75, 0.75, 0.75], [0.5899999737739563, 0.6100000143051147, 0.6200000047683716, 0.6299999952316284, 0.6299999952316284], [0.550000011920929, 0.550000011920929, 0.550000011920929, 0.550000011920929, 0.5699999928474426], [0.7200000286102295, 0.7200000286102295, 0.7300000190734863, 0.7400000095367432, 0.7400000095367432], [0.699999988079071, 0.699999988079071, 0.7099999785423279, 0.7200000286102295, 0.7300000190734863], [0.6299999952316284, 0.6399999856948853, 0.6399999856948853, 0.6499999761581421, 0.6499999761581421], [0.6200000047683716, 0.6399999856948853, 0.6399999856948853, 0.6499999761581421, 0.6600000262260437], [0.7300000190734863, 0.7400000095367432, 0.75, 0.7599999904632568, 0.7699999809265137], [0.75, 0.7599999904632568, 0.7599999904632568, 0.7699999809265137, 0.7900000214576721], [0.6600000262260437, 0.6600000262260437, 0.6600000262260437, 0.6700000166893005, 0.699999988079071], [0.699999988079071, 0.699999988079071, 0.7099999785423279, 0.7200000286102295, 0.75], [0.6800000071525574, 0.6899999976158142, 0.6899999976158142, 0.6899999976158142, 0.7099999785423279], [0.7400000095367432, 0.75, 0.75, 0.75, 0.75], [0.5899999737739563, 0.5899999737739563, 0.5899999737739563, 0.6000000238418579, 0.6100000143051147], [0.6499999761581421, 0.6499999761581421, 0.6600000262260437, 0.6600000262260437, 0.6899999976158142], [0.6000000238418579, 0.6100000143051147, 0.6200000047683716, 0.6399999856948853, 0.6499999761581421], [0.5899999737739563, 0.6000000238418579, 0.6000000238418579, 0.6000000238418579, 0.6100000143051147], [0.7900000214576721, 0.7900000214576721, 0.800000011920929, 0.800000011920929, 0.8100000023841858], [0.7200000286102295, 0.7200000286102295, 0.7300000190734863, 0.7400000095367432, 0.7699999809265137], [0.6899999976158142, 0.699999988079071, 0.699999988079071, 0.7099999785423279, 0.7099999785423279], [0.6700000166893005, 0.6700000166893005, 0.6899999976158142, 0.6899999976158142, 0.7099999785423279], [0.6899999976158142, 0.6899999976158142, 0.7099999785423279, 0.7300000190734863, 0.7400000095367432], [0.6800000071525574, 0.6800000071525574, 0.6800000071525574, 0.6899999976158142, 0.699999988079071], [0.6800000071525574, 0.6800000071525574, 0.6899999976158142, 0.7099999785423279, 0.7099999785423279], [0.6899999976158142, 0.699999988079071, 0.699999988079071, 0.7200000286102295, 0.7200000286102295], [0.5899999737739563, 0.6000000238418579, 0.6000000238418579, 0.6100000143051147, 0.6100000143051147], [0.7799999713897705, 0.7900000214576721, 0.8100000023841858, 0.8100000023841858, 0.8399999737739563], [0.7599999904632568, 0.7599999904632568, 0.7699999809265137, 0.7699999809265137, 0.7799999713897705], [0.7200000286102295, 0.7200000286102295, 0.7300000190734863, 0.7400000095367432, 0.7400000095367432], [0.6399999856948853, 0.6399999856948853, 0.6399999856948853, 0.6600000262260437, 0.6600000262260437], [0.5400000214576721, 0.5400000214576721, 0.5600000023841858, 0.5600000023841858, 0.5699999928474426], [0.6800000071525574, 0.6800000071525574, 0.6899999976158142, 0.699999988079071, 0.699999988079071], [0.7200000286102295, 0.7200000286102295, 0.7200000286102295, 0.7200000286102295, 0.7400000095367432], [0.7699999809265137, 0.7699999809265137, 0.7900000214576721, 0.7900000214576721, 0.7900000214576721], [0.699999988079071, 0.7099999785423279, 0.7200000286102295, 0.7400000095367432, 0.7599999904632568], [0.5799999833106995, 0.5799999833106995, 0.5799999833106995, 0.5899999737739563, 0.6100000143051147], [0.5899999737739563, 0.5899999737739563, 0.6000000238418579, 0.6000000238418579, 0.6100000143051147], [0.5799999833106995, 0.5799999833106995, 0.5899999737739563, 0.6100000143051147, 0.6100000143051147], [0.6800000071525574, 0.6899999976158142, 0.6899999976158142, 0.699999988079071, 0.699999988079071], [0.7200000286102295, 0.7200000286102295, 0.7200000286102295, 0.7400000095367432, 0.7400000095367432], [0.6800000071525574, 0.6800000071525574, 0.699999988079071, 0.7099999785423279, 0.7300000190734863], [0.6100000143051147, 0.6100000143051147, 0.6200000047683716, 0.6299999952316284, 0.6299999952316284], [0.5600000023841858, 0.5600000023841858, 0.5600000023841858, 0.5699999928474426, 0.5799999833106995], [0.6600000262260437, 0.6600000262260437, 0.6800000071525574, 0.6800000071525574, 0.699999988079071], [0.5799999833106995, 0.5799999833106995, 0.5799999833106995, 0.5899999737739563, 0.6000000238418579], [0.699999988079071, 0.7099999785423279, 0.7099999785423279, 0.7200000286102295, 0.7300000190734863], [0.6100000143051147, 0.6100000143051147, 0.6200000047683716, 0.6299999952316284, 0.6299999952316284], [0.6399999856948853, 0.6399999856948853, 0.6499999761581421, 0.6499999761581421, 0.6800000071525574], [0.699999988079071, 0.699999988079071, 0.699999988079071, 0.7200000286102295, 0.7200000286102295], [0.75, 0.75, 0.75, 0.75, 0.7599999904632568], [0.75, 0.75, 0.7599999904632568, 0.7599999904632568, 0.7599999904632568], [0.7599999904632568, 0.7599999904632568, 0.7699999809265137, 0.7799999713897705, 0.7799999713897705], [0.7099999785423279, 0.7200000286102295, 0.7300000190734863, 0.7400000095367432, 0.75], [0.5699999928474426, 0.5699999928474426, 0.5699999928474426, 0.5799999833106995, 0.6000000238418579], [0.6499999761581421, 0.6499999761581421, 0.6499999761581421, 0.6600000262260437, 0.6600000262260437], [0.6899999976158142, 0.6899999976158142, 0.699999988079071, 0.699999988079071, 0.699999988079071], [0.6899999976158142, 0.699999988079071, 0.699999988079071, 0.7099999785423279, 0.7200000286102295], [0.6399999856948853, 0.6499999761581421, 0.6600000262260437, 0.6700000166893005, 0.6899999976158142], [0.699999988079071, 0.7099999785423279, 0.7099999785423279, 0.7099999785423279, 0.7099999785423279], [0.5099999904632568, 0.5099999904632568, 0.5199999809265137, 0.5600000023841858, 0.6100000143051147], [0.44999998807907104, 0.44999998807907104, 0.4699999988079071, 0.4699999988079071, 0.47999998927116394], [0.6600000262260437, 0.6600000262260437, 0.6700000166893005, 0.6800000071525574, 0.7099999785423279], [0.6700000166893005, 0.6700000166893005, 0.6800000071525574, 0.6800000071525574, 0.6800000071525574], [0.7200000286102295, 0.7200000286102295, 0.7200000286102295, 0.7300000190734863, 0.75], [0.6800000071525574, 0.699999988079071, 0.699999988079071, 0.7200000286102295, 0.75], [0.6600000262260437, 0.6600000262260437, 0.6600000262260437, 0.6700000166893005, 0.6899999976158142], [0.7200000286102295, 0.7300000190734863, 0.7300000190734863, 0.7699999809265137, 0.7900000214576721], [0.6800000071525574, 0.6899999976158142, 0.6899999976158142, 0.699999988079071, 0.7099999785423279], [0.6899999976158142, 0.6899999976158142, 0.6899999976158142, 0.6899999976158142, 0.699999988079071], [0.6899999976158142, 0.699999988079071, 0.699999988079071, 0.7099999785423279, 0.7200000286102295], [0.6899999976158142, 0.6899999976158142, 0.6899999976158142, 0.6899999976158142, 0.699999988079071], [0.5600000023841858, 0.5699999928474426, 0.5699999928474426, 0.5699999928474426, 0.5799999833106995], [0.5299999713897705, 0.5400000214576721, 0.550000011920929, 0.550000011920929, 0.5600000023841858], [0.699999988079071, 0.7099999785423279, 0.7099999785423279, 0.7200000286102295, 0.7300000190734863], [0.6600000262260437, 0.6700000166893005, 0.6800000071525574, 0.7099999785423279, 0.7099999785423279], [0.7099999785423279, 0.7099999785423279, 0.7099999785423279, 0.7099999785423279, 0.7300000190734863], [0.7400000095367432, 0.75, 0.7699999809265137, 0.800000011920929, 0.800000011920929], [0.6700000166893005, 0.6700000166893005, 0.6800000071525574, 0.6899999976158142, 0.699999988079071], [0.6800000071525574, 0.6800000071525574, 0.699999988079071, 0.7099999785423279, 0.7099999785423279], [0.5299999713897705, 0.5299999713897705, 0.5400000214576721, 0.5400000214576721, 0.5600000023841858], [0.6000000238418579, 0.6000000238418579, 0.6000000238418579, 0.6200000047683716, 0.6700000166893005], [0.5600000023841858, 0.5600000023841858, 0.5699999928474426, 0.5699999928474426, 0.5799999833106995], [0.5799999833106995, 0.5799999833106995, 0.5799999833106995, 0.5899999737739563, 0.5899999737739563], [0.6800000071525574, 0.6899999976158142, 0.6899999976158142, 0.699999988079071, 0.7099999785423279], [0.5799999833106995, 0.5899999737739563, 0.5899999737739563, 0.5899999737739563, 0.6100000143051147], [0.6399999856948853, 0.6499999761581421, 0.6499999761581421, 0.6600000262260437, 0.6600000262260437], [0.6700000166893005, 0.6700000166893005, 0.6700000166893005, 0.6700000166893005, 0.6700000166893005], [0.7300000190734863, 0.7300000190734863, 0.7300000190734863, 0.75, 0.7599999904632568], [0.7300000190734863, 0.7300000190734863, 0.7400000095367432, 0.7400000095367432, 0.7400000095367432], [0.7099999785423279, 0.7099999785423279, 0.7099999785423279, 0.7099999785423279, 0.7400000095367432], [0.6200000047683716, 0.6200000047683716, 0.6299999952316284, 0.6499999761581421, 0.6499999761581421], [0.7300000190734863, 0.7300000190734863, 0.7300000190734863, 0.7400000095367432, 0.7699999809265137], [0.6499999761581421, 0.6499999761581421, 0.6700000166893005, 0.6700000166893005, 0.6800000071525574], [0.7599999904632568, 0.7599999904632568, 0.7599999904632568, 0.7699999809265137, 0.7699999809265137], [0.6200000047683716, 0.6200000047683716, 0.6299999952316284, 0.6600000262260437, 0.6800000071525574], [0.6499999761581421, 0.6700000166893005, 0.6700000166893005, 0.6800000071525574, 0.699999988079071], [0.6700000166893005, 0.6800000071525574, 0.6800000071525574, 0.6800000071525574, 0.699999988079071]]\n",
            "-0.12\n",
            "0.19\n"
          ]
        }
      ],
      "source": [
        "o_list = []\n",
        "u = cosine_similarity(sentence_embeddings1, sentence_embeddings2)\n",
        "array = np.array(u)\n",
        "array = numpy.around(array, decimals=2)\n",
        "\n",
        "#sorted_array = np.sort(array)\n",
        "# [1, 2, 3, 4, 5, 6, 7]\n",
        "#print(sorted_array)\n",
        "# Reverse the sorted array\n",
        "#reverse_array = sorted_array[::-1]\n",
        "#print(array)\n",
        "array = numpy.sort(array)\n",
        "#print(array)\n",
        "tem = []\n",
        "#np_array = np.array(a_list)\n",
        "#array = array.tolist()\n",
        "#print(array[0][-1,-2,-3,-4,-5])\n",
        "for i in range(0, len(sentence_embeddings1)):\n",
        "  temp = numpy.sort(array[i])\n",
        "  tem.append(min(temp))\n",
        "  o_list.append(temp[len(temp)-5:].tolist())\n",
        "  #print(z_list)\n",
        "print(o_list)\n",
        "print(min(tem))\n",
        "print(max(tem))"
      ]
    },
    {
      "cell_type": "code",
      "execution_count": null,
      "metadata": {
        "colab": {
          "base_uri": "https://localhost:8080/"
        },
        "id": "9SS2DWxP6v20",
        "outputId": "fbb96ef2-d3d2-4f0b-ce15-88a5e00c29df"
      },
      "outputs": [
        {
          "name": "stdout",
          "output_type": "stream",
          "text": [
            "[[0.699999988079071, 0.7200000286102295, 0.7400000095367432, 0.7599999904632568, 0.7799999713897705], [0.6399999856948853, 0.6600000262260437, 0.6600000262260437, 0.6700000166893005, 0.6899999976158142], [0.6399999856948853, 0.6399999856948853, 0.6499999761581421, 0.6600000262260437, 0.6600000262260437], [0.6600000262260437, 0.6700000166893005, 0.6700000166893005, 0.6800000071525574, 0.6899999976158142], [0.7099999785423279, 0.7200000286102295, 0.7400000095367432, 0.75, 0.75], [0.6600000262260437, 0.6700000166893005, 0.6700000166893005, 0.6700000166893005, 0.6899999976158142], [0.7099999785423279, 0.7200000286102295, 0.7300000190734863, 0.7300000190734863, 0.7699999809265137], [0.7300000190734863, 0.7300000190734863, 0.7400000095367432, 0.7599999904632568, 0.8100000023841858], [0.6399999856948853, 0.6399999856948853, 0.6499999761581421, 0.6600000262260437, 0.6800000071525574], [0.7799999713897705, 0.800000011920929, 0.8199999928474426, 0.8199999928474426, 0.8299999833106995], [0.6800000071525574, 0.6800000071525574, 0.6800000071525574, 0.699999988079071, 0.699999988079071], [0.6700000166893005, 0.6800000071525574, 0.6800000071525574, 0.6899999976158142, 0.6899999976158142], [0.7099999785423279, 0.7200000286102295, 0.7400000095367432, 0.7400000095367432, 0.75], [0.5400000214576721, 0.5400000214576721, 0.5400000214576721, 0.550000011920929, 0.5799999833106995], [0.6399999856948853, 0.6499999761581421, 0.6499999761581421, 0.6600000262260437, 0.6600000262260437], [0.7300000190734863, 0.7400000095367432, 0.75, 0.7599999904632568, 0.7599999904632568], [0.6700000166893005, 0.6700000166893005, 0.6899999976158142, 0.6899999976158142, 0.699999988079071], [0.699999988079071, 0.7099999785423279, 0.7200000286102295, 0.7200000286102295, 0.75], [0.7099999785423279, 0.7200000286102295, 0.7400000095367432, 0.75, 0.75], [0.6600000262260437, 0.6700000166893005, 0.6700000166893005, 0.6700000166893005, 0.6899999976158142], [0.7099999785423279, 0.7200000286102295, 0.7300000190734863, 0.7300000190734863, 0.7699999809265137], [0.7300000190734863, 0.7300000190734863, 0.7400000095367432, 0.7599999904632568, 0.8100000023841858], [0.6899999976158142, 0.699999988079071, 0.7099999785423279, 0.7200000286102295, 0.7300000190734863], [0.7799999713897705, 0.800000011920929, 0.8199999928474426, 0.8199999928474426, 0.8299999833106995], [0.6800000071525574, 0.6800000071525574, 0.6800000071525574, 0.699999988079071, 0.699999988079071], [0.6700000166893005, 0.6800000071525574, 0.6800000071525574, 0.6899999976158142, 0.6899999976158142], [0.7099999785423279, 0.7200000286102295, 0.7400000095367432, 0.7400000095367432, 0.75], [0.7900000214576721, 0.7900000214576721, 0.7900000214576721, 0.7900000214576721, 0.8100000023841858], [0.7300000190734863, 0.7300000190734863, 0.7400000095367432, 0.75, 0.75], [0.7300000190734863, 0.7400000095367432, 0.75, 0.7599999904632568, 0.7599999904632568], [0.6399999856948853, 0.6499999761581421, 0.6499999761581421, 0.6499999761581421, 0.6600000262260437], [0.7699999809265137, 0.7799999713897705, 0.8199999928474426, 0.8299999833106995, 0.8399999737739563], [0.6700000166893005, 0.6800000071525574, 0.7099999785423279, 0.7200000286102295, 0.7400000095367432], [0.6899999976158142, 0.6899999976158142, 0.699999988079071, 0.7200000286102295, 0.7300000190734863], [0.7300000190734863, 0.75, 0.75, 0.7599999904632568, 0.7699999809265137], [0.6100000143051147, 0.6200000047683716, 0.6399999856948853, 0.6399999856948853, 0.6600000262260437], [0.6499999761581421, 0.6499999761581421, 0.6600000262260437, 0.6600000262260437, 0.6700000166893005], [0.6100000143051147, 0.6100000143051147, 0.6299999952316284, 0.6399999856948853, 0.6499999761581421], [0.7599999904632568, 0.7699999809265137, 0.7900000214576721, 0.8100000023841858, 0.8199999928474426], [0.699999988079071, 0.7200000286102295, 0.7400000095367432, 0.7599999904632568, 0.7799999713897705], [0.7200000286102295, 0.7200000286102295, 0.7200000286102295, 0.7400000095367432, 0.7599999904632568], [0.6700000166893005, 0.6800000071525574, 0.6899999976158142, 0.7099999785423279, 0.7400000095367432], [0.7099999785423279, 0.7200000286102295, 0.7300000190734863, 0.7400000095367432, 0.7400000095367432], [0.7799999713897705, 0.800000011920929, 0.8199999928474426, 0.8199999928474426, 0.8299999833106995], [0.6700000166893005, 0.6800000071525574, 0.6800000071525574, 0.6899999976158142, 0.6899999976158142], [0.7099999785423279, 0.7200000286102295, 0.7400000095367432, 0.7400000095367432, 0.75], [0.6800000071525574, 0.6800000071525574, 0.7099999785423279, 0.7200000286102295, 0.7400000095367432], [0.7900000214576721, 0.7900000214576721, 0.7900000214576721, 0.7900000214576721, 0.8100000023841858], [0.6899999976158142, 0.7300000190734863, 0.7300000190734863, 0.7400000095367432, 0.7599999904632568], [0.6399999856948853, 0.6499999761581421, 0.6499999761581421, 0.6499999761581421, 0.6600000262260437], [0.7699999809265137, 0.7799999713897705, 0.8199999928474426, 0.8299999833106995, 0.8399999737739563], [0.6499999761581421, 0.6499999761581421, 0.6700000166893005, 0.6899999976158142, 0.699999988079071], [0.6100000143051147, 0.6200000047683716, 0.6399999856948853, 0.6399999856948853, 0.6600000262260437], [0.699999988079071, 0.699999988079071, 0.699999988079071, 0.7300000190734863, 0.75], [0.7900000214576721, 0.800000011920929, 0.800000011920929, 0.8999999761581421, 1.0], [0.5099999904632568, 0.5199999809265137, 0.5199999809265137, 0.5199999809265137, 0.5299999713897705], [0.38999998569488525, 0.38999998569488525, 0.4000000059604645, 0.4300000071525574, 0.4399999976158142], [0.3400000035762787, 0.36000001430511475, 0.36000001430511475, 0.36000001430511475, 0.3700000047683716], [0.5299999713897705, 0.5299999713897705, 0.5400000214576721, 0.5400000214576721, 0.550000011920929], [0.4099999964237213, 0.41999998688697815, 0.41999998688697815, 0.41999998688697815, 0.4399999976158142], [0.4300000071525574, 0.4300000071525574, 0.46000000834465027, 0.47999998927116394, 0.5], [0.5600000023841858, 0.5600000023841858, 0.5699999928474426, 0.5899999737739563, 0.6000000238418579], [0.46000000834465027, 0.4699999988079071, 0.4699999988079071, 0.47999998927116394, 0.49000000953674316], [0.5899999737739563, 0.6000000238418579, 0.6100000143051147, 0.6200000047683716, 0.6399999856948853], [0.5099999904632568, 0.5199999809265137, 0.5199999809265137, 0.5299999713897705, 0.5699999928474426], [0.4000000059604645, 0.41999998688697815, 0.4300000071525574, 0.49000000953674316, 0.49000000953674316], [0.38999998569488525, 0.4000000059604645, 0.4000000059604645, 0.4000000059604645, 0.4099999964237213], [0.4300000071525574, 0.4300000071525574, 0.44999998807907104, 0.46000000834465027, 0.46000000834465027], [0.5099999904632568, 0.5199999809265137, 0.5199999809265137, 0.5299999713897705, 0.5400000214576721], [0.5, 0.5199999809265137, 0.5299999713897705, 0.5299999713897705, 0.550000011920929], [0.5699999928474426, 0.5799999833106995, 0.5799999833106995, 0.5899999737739563, 0.5899999737739563], [0.5899999737739563, 0.6000000238418579, 0.6200000047683716, 0.6299999952316284, 0.6299999952316284], [0.4399999976158142, 0.44999998807907104, 0.4699999988079071, 0.47999998927116394, 0.47999998927116394], [0.4399999976158142, 0.4399999976158142, 0.4399999976158142, 0.44999998807907104, 0.44999998807907104], [0.6000000238418579, 0.6000000238418579, 0.6200000047683716, 0.6200000047683716, 0.6299999952316284], [0.5799999833106995, 0.5799999833106995, 0.5799999833106995, 0.5899999737739563, 0.5899999737739563], [0.4300000071525574, 0.4300000071525574, 0.4399999976158142, 0.44999998807907104, 0.44999998807907104], [0.550000011920929, 0.550000011920929, 0.5799999833106995, 0.5899999737739563, 0.5899999737739563], [0.4300000071525574, 0.4300000071525574, 0.4399999976158142, 0.44999998807907104, 0.44999998807907104], [0.4000000059604645, 0.4000000059604645, 0.4099999964237213, 0.4099999964237213, 0.4399999976158142], [0.4000000059604645, 0.4099999964237213, 0.4099999964237213, 0.4099999964237213, 0.4399999976158142], [0.4399999976158142, 0.4399999976158142, 0.44999998807907104, 0.44999998807907104, 0.47999998927116394], [0.5799999833106995, 0.5899999737739563, 0.6000000238418579, 0.6100000143051147, 0.6399999856948853], [0.5400000214576721, 0.5400000214576721, 0.5400000214576721, 0.550000011920929, 0.5600000023841858], [0.5099999904632568, 0.5099999904632568, 0.5199999809265137, 0.5400000214576721, 0.5600000023841858], [0.5099999904632568, 0.5099999904632568, 0.5199999809265137, 0.5199999809265137, 0.5600000023841858], [0.4699999988079071, 0.4699999988079071, 0.4699999988079071, 0.47999998927116394, 0.49000000953674316], [0.3400000035762787, 0.3499999940395355, 0.36000001430511475, 0.3700000047683716, 0.3799999952316284], [0.5099999904632568, 0.5099999904632568, 0.5199999809265137, 0.550000011920929, 0.550000011920929], [0.5199999809265137, 0.5199999809265137, 0.5299999713897705, 0.5400000214576721, 0.5600000023841858], [0.550000011920929, 0.550000011920929, 0.5699999928474426, 0.5899999737739563, 0.6000000238418579], [0.5, 0.5099999904632568, 0.5199999809265137, 0.5299999713897705, 0.550000011920929], [0.41999998688697815, 0.41999998688697815, 0.4300000071525574, 0.4300000071525574, 0.4300000071525574], [0.41999998688697815, 0.41999998688697815, 0.4399999976158142, 0.4699999988079071, 0.4699999988079071], [0.5199999809265137, 0.5199999809265137, 0.5299999713897705, 0.5400000214576721, 0.5600000023841858], [0.5099999904632568, 0.5199999809265137, 0.5199999809265137, 0.5299999713897705, 0.5299999713897705], [0.46000000834465027, 0.46000000834465027, 0.46000000834465027, 0.4699999988079071, 0.4699999988079071], [0.4399999976158142, 0.4399999976158142, 0.44999998807907104, 0.46000000834465027, 0.47999998927116394], [0.4099999964237213, 0.41999998688697815, 0.41999998688697815, 0.4300000071525574, 0.4300000071525574], [0.46000000834465027, 0.46000000834465027, 0.4699999988079071, 0.47999998927116394, 0.47999998927116394], [0.41999998688697815, 0.4300000071525574, 0.4399999976158142, 0.44999998807907104, 0.44999998807907104], [0.4699999988079071, 0.47999998927116394, 0.47999998927116394, 0.49000000953674316, 0.5899999737739563], [0.4099999964237213, 0.4099999964237213, 0.4099999964237213, 0.4099999964237213, 0.4099999964237213], [0.4399999976158142, 0.4399999976158142, 0.44999998807907104, 0.44999998807907104, 0.44999998807907104], [0.4300000071525574, 0.4300000071525574, 0.4399999976158142, 0.44999998807907104, 0.44999998807907104], [0.3799999952316284, 0.3799999952316284, 0.38999998569488525, 0.38999998569488525, 0.4300000071525574], [0.47999998927116394, 0.47999998927116394, 0.47999998927116394, 0.47999998927116394, 0.49000000953674316], [0.4000000059604645, 0.4000000059604645, 0.41999998688697815, 0.41999998688697815, 0.41999998688697815], [0.4300000071525574, 0.4300000071525574, 0.4399999976158142, 0.44999998807907104, 0.44999998807907104], [0.4300000071525574, 0.4300000071525574, 0.4300000071525574, 0.44999998807907104, 0.44999998807907104], [0.5199999809265137, 0.5299999713897705, 0.5299999713897705, 0.5400000214576721, 0.550000011920929], [0.550000011920929, 0.5699999928474426, 0.5699999928474426, 0.5699999928474426, 0.6100000143051147], [0.5799999833106995, 0.5899999737739563, 0.5899999737739563, 0.6200000047683716, 0.6499999761581421], [0.4300000071525574, 0.4300000071525574, 0.4300000071525574, 0.44999998807907104, 0.44999998807907104], [0.3799999952316284, 0.3799999952316284, 0.38999998569488525, 0.4099999964237213, 0.46000000834465027], [0.4000000059604645, 0.4000000059604645, 0.4099999964237213, 0.4099999964237213, 0.41999998688697815], [0.4699999988079071, 0.47999998927116394, 0.47999998927116394, 0.5099999904632568, 0.5199999809265137], [0.4000000059604645, 0.4000000059604645, 0.4099999964237213, 0.4099999964237213, 0.41999998688697815], [0.3100000023841858, 0.3100000023841858, 0.3199999928474426, 0.3199999928474426, 0.4699999988079071], [0.4399999976158142, 0.4399999976158142, 0.4399999976158142, 0.4399999976158142, 0.44999998807907104], [0.44999998807907104, 0.4699999988079071, 0.47999998927116394, 0.47999998927116394, 0.47999998927116394], [0.3700000047683716, 0.38999998569488525, 0.4000000059604645, 0.4099999964237213, 0.41999998688697815], [0.4300000071525574, 0.4699999988079071, 0.4699999988079071, 0.49000000953674316, 0.5199999809265137], [0.36000001430511475, 0.3700000047683716, 0.3700000047683716, 0.38999998569488525, 0.4099999964237213], [0.4000000059604645, 0.4000000059604645, 0.4099999964237213, 0.41999998688697815, 0.4300000071525574], [0.4300000071525574, 0.4300000071525574, 0.4300000071525574, 0.44999998807907104, 0.44999998807907104], [0.46000000834465027, 0.4699999988079071, 0.4699999988079071, 0.47999998927116394, 0.47999998927116394], [0.5600000023841858, 0.5699999928474426, 0.5799999833106995, 0.5799999833106995, 0.6000000238418579], [0.4099999964237213, 0.4099999964237213, 0.41999998688697815, 0.41999998688697815, 0.4300000071525574], [0.46000000834465027, 0.46000000834465027, 0.4699999988079071, 0.5, 0.5099999904632568], [0.3700000047683716, 0.3799999952316284, 0.3799999952316284, 0.38999998569488525, 0.4000000059604645], [0.4699999988079071, 0.47999998927116394, 0.49000000953674316, 0.5, 0.5], [0.5699999928474426, 0.5899999737739563, 0.5899999737739563, 0.6000000238418579, 0.6299999952316284], [0.4399999976158142, 0.44999998807907104, 0.46000000834465027, 0.47999998927116394, 0.49000000953674316], [0.5699999928474426, 0.5699999928474426, 0.5799999833106995, 0.5899999737739563, 0.5899999737739563], [0.4300000071525574, 0.4300000071525574, 0.4399999976158142, 0.4399999976158142, 0.44999998807907104], [0.4000000059604645, 0.4000000059604645, 0.4099999964237213, 0.4099999964237213, 0.5099999904632568], [0.4099999964237213, 0.4099999964237213, 0.41999998688697815, 0.41999998688697815, 0.4399999976158142], [0.4000000059604645, 0.4099999964237213, 0.4300000071525574, 0.4399999976158142, 0.47999998927116394], [0.4000000059604645, 0.4000000059604645, 0.4099999964237213, 0.4099999964237213, 0.41999998688697815], [0.4000000059604645, 0.4000000059604645, 0.4099999964237213, 0.4099999964237213, 0.44999998807907104], [0.3799999952316284, 0.38999998569488525, 0.38999998569488525, 0.4099999964237213, 0.44999998807907104], [0.49000000953674316, 0.49000000953674316, 0.5, 0.5199999809265137, 0.5400000214576721], [0.4300000071525574, 0.4300000071525574, 0.4399999976158142, 0.44999998807907104, 0.44999998807907104], [0.3499999940395355, 0.3499999940395355, 0.3499999940395355, 0.36000001430511475, 0.38999998569488525], [0.38999998569488525, 0.4000000059604645, 0.4000000059604645, 0.4000000059604645, 0.46000000834465027], [0.4699999988079071, 0.4699999988079071, 0.4699999988079071, 0.47999998927116394, 0.49000000953674316], [0.4399999976158142, 0.4399999976158142, 0.44999998807907104, 0.4699999988079071, 0.47999998927116394], [0.4000000059604645, 0.4099999964237213, 0.4099999964237213, 0.4399999976158142, 0.4399999976158142], [0.4000000059604645, 0.4000000059604645, 0.4000000059604645, 0.4000000059604645, 0.4099999964237213], [0.4699999988079071, 0.47999998927116394, 0.5, 0.5, 0.5099999904632568], [0.5699999928474426, 0.5699999928474426, 0.5799999833106995, 0.5799999833106995, 0.5899999737739563], [0.4399999976158142, 0.44999998807907104, 0.44999998807907104, 0.46000000834465027, 0.4699999988079071], [0.5799999833106995, 0.5799999833106995, 0.5799999833106995, 0.5799999833106995, 0.6000000238418579], [0.5799999833106995, 0.6000000238418579, 0.6000000238418579, 0.6100000143051147, 0.6299999952316284], [0.4699999988079071, 0.49000000953674316, 0.5199999809265137, 0.5199999809265137, 0.5400000214576721], [0.47999998927116394, 0.47999998927116394, 0.49000000953674316, 0.49000000953674316, 0.49000000953674316], [0.5299999713897705, 0.5299999713897705, 0.5299999713897705, 0.5299999713897705, 0.5400000214576721], [0.5899999737739563, 0.5899999737739563, 0.6000000238418579, 0.6100000143051147, 0.6399999856948853], [0.5400000214576721, 0.550000011920929, 0.5600000023841858, 0.5600000023841858, 0.6200000047683716], [0.41999998688697815, 0.4300000071525574, 0.4300000071525574, 0.4399999976158142, 0.4399999976158142], [0.5400000214576721, 0.5400000214576721, 0.550000011920929, 0.5600000023841858, 0.5600000023841858], [0.44999998807907104, 0.44999998807907104, 0.46000000834465027, 0.46000000834465027, 0.47999998927116394], [0.4099999964237213, 0.4099999964237213, 0.4099999964237213, 0.41999998688697815, 0.4300000071525574], [0.4399999976158142, 0.4399999976158142, 0.4399999976158142, 0.44999998807907104, 0.46000000834465027], [0.5699999928474426, 0.5699999928474426, 0.5799999833106995, 0.6200000047683716, 0.6399999856948853], [0.49000000953674316, 0.49000000953674316, 0.49000000953674316, 0.5299999713897705, 0.5400000214576721], [0.5, 0.5099999904632568, 0.5099999904632568, 0.5199999809265137, 0.5299999713897705], [0.5600000023841858, 0.5600000023841858, 0.5699999928474426, 0.5799999833106995, 0.6000000238418579], [0.4399999976158142, 0.4399999976158142, 0.4399999976158142, 0.44999998807907104, 0.46000000834465027], [0.44999998807907104, 0.44999998807907104, 0.46000000834465027, 0.46000000834465027, 0.46000000834465027], [0.4399999976158142, 0.4399999976158142, 0.4399999976158142, 0.44999998807907104, 0.46000000834465027], [0.6000000238418579, 0.6000000238418579, 0.6000000238418579, 0.6200000047683716, 0.6299999952316284], [0.4699999988079071, 0.4699999988079071, 0.4699999988079071, 0.47999998927116394, 0.49000000953674316], [0.41999998688697815, 0.41999998688697815, 0.41999998688697815, 0.4300000071525574, 0.46000000834465027], [0.44999998807907104, 0.44999998807907104, 0.46000000834465027, 0.47999998927116394, 0.5], [0.5, 0.5, 0.5, 0.5099999904632568, 0.5199999809265137], [0.4399999976158142, 0.44999998807907104, 0.44999998807907104, 0.4699999988079071, 0.4699999988079071], [0.550000011920929, 0.550000011920929, 0.550000011920929, 0.5600000023841858, 0.6299999952316284], [0.5400000214576721, 0.5400000214576721, 0.5400000214576721, 0.5400000214576721, 0.550000011920929], [0.5600000023841858, 0.5600000023841858, 0.5699999928474426, 0.6299999952316284, 0.6299999952316284], [0.6000000238418579, 0.6000000238418579, 0.6000000238418579, 0.6200000047683716, 0.6600000262260437], [0.5699999928474426, 0.5899999737739563, 0.5899999737739563, 0.5899999737739563, 0.5899999737739563], [0.41999998688697815, 0.4399999976158142, 0.4399999976158142, 0.44999998807907104, 0.46000000834465027], [0.4699999988079071, 0.47999998927116394, 0.47999998927116394, 0.49000000953674316, 0.5299999713897705], [0.44999998807907104, 0.46000000834465027, 0.46000000834465027, 0.4699999988079071, 0.47999998927116394], [0.46000000834465027, 0.46000000834465027, 0.4699999988079071, 0.49000000953674316, 0.49000000953674316], [0.5, 0.5099999904632568, 0.5199999809265137, 0.5199999809265137, 0.5299999713897705], [0.5400000214576721, 0.5400000214576721, 0.550000011920929, 0.550000011920929, 0.5600000023841858], [0.41999998688697815, 0.4300000071525574, 0.4300000071525574, 0.4399999976158142, 0.46000000834465027], [0.38999998569488525, 0.38999998569488525, 0.4000000059604645, 0.4000000059604645, 0.4300000071525574], [0.4300000071525574, 0.4300000071525574, 0.4300000071525574, 0.44999998807907104, 0.44999998807907104], [0.3199999928474426, 0.33000001311302185, 0.33000001311302185, 0.33000001311302185, 0.3400000035762787], [0.4399999976158142, 0.4399999976158142, 0.44999998807907104, 0.44999998807907104, 0.46000000834465027], [0.4399999976158142, 0.4399999976158142, 0.4399999976158142, 0.44999998807907104, 0.46000000834465027], [0.5299999713897705, 0.5299999713897705, 0.5400000214576721, 0.550000011920929, 0.5600000023841858], [0.44999998807907104, 0.46000000834465027, 0.46000000834465027, 0.46000000834465027, 0.5199999809265137], [0.5400000214576721, 0.5400000214576721, 0.5400000214576721, 0.550000011920929, 0.5699999928474426], [0.5299999713897705, 0.550000011920929, 0.550000011920929, 0.550000011920929, 0.6000000238418579], [0.5, 0.5, 0.5099999904632568, 0.5099999904632568, 0.5199999809265137], [0.3799999952316284, 0.3799999952316284, 0.4000000059604645, 0.4099999964237213, 0.4399999976158142], [0.4300000071525574, 0.4399999976158142, 0.4399999976158142, 0.46000000834465027, 0.47999998927116394], [0.36000001430511475, 0.36000001430511475, 0.3700000047683716, 0.3799999952316284, 0.4000000059604645], [0.3700000047683716, 0.3700000047683716, 0.3700000047683716, 0.3700000047683716, 0.3799999952316284], [0.5899999737739563, 0.5899999737739563, 0.6000000238418579, 0.6100000143051147, 0.6399999856948853], [0.4699999988079071, 0.47999998927116394, 0.47999998927116394, 0.5, 0.5], [0.41999998688697815, 0.4300000071525574, 0.4300000071525574, 0.4300000071525574, 0.46000000834465027], [0.5299999713897705, 0.5299999713897705, 0.5400000214576721, 0.5400000214576721, 0.5699999928474426], [0.550000011920929, 0.550000011920929, 0.550000011920929, 0.5799999833106995, 0.5799999833106995], [0.5099999904632568, 0.5099999904632568, 0.5199999809265137, 0.5299999713897705, 0.5400000214576721], [0.5699999928474426, 0.5899999737739563, 0.6100000143051147, 0.6100000143051147, 0.6299999952316284], [0.4099999964237213, 0.41999998688697815, 0.41999998688697815, 0.41999998688697815, 0.44999998807907104], [0.4399999976158142, 0.4399999976158142, 0.44999998807907104, 0.44999998807907104, 0.4699999988079071], [0.4300000071525574, 0.4399999976158142, 0.4399999976158142, 0.44999998807907104, 0.46000000834465027], [0.4399999976158142, 0.44999998807907104, 0.44999998807907104, 0.44999998807907104, 0.46000000834465027], [0.4699999988079071, 0.4699999988079071, 0.47999998927116394, 0.49000000953674316, 0.5099999904632568], [0.49000000953674316, 0.5, 0.5, 0.5299999713897705, 0.5299999713897705], [0.49000000953674316, 0.49000000953674316, 0.49000000953674316, 0.5199999809265137, 0.5199999809265137], [0.4699999988079071, 0.4699999988079071, 0.49000000953674316, 0.5, 0.5099999904632568], [0.4000000059604645, 0.4000000059604645, 0.41999998688697815, 0.41999998688697815, 0.4300000071525574], [0.46000000834465027, 0.46000000834465027, 0.4699999988079071, 0.49000000953674316, 0.550000011920929], [0.4300000071525574, 0.4399999976158142, 0.4399999976158142, 0.4399999976158142, 0.4699999988079071], [0.4300000071525574, 0.4300000071525574, 0.4300000071525574, 0.4300000071525574, 0.44999998807907104], [0.41999998688697815, 0.41999998688697815, 0.4399999976158142, 0.4399999976158142, 0.46000000834465027], [0.4099999964237213, 0.41999998688697815, 0.4399999976158142, 0.44999998807907104, 0.44999998807907104], [0.3400000035762787, 0.3400000035762787, 0.3499999940395355, 0.3499999940395355, 0.36000001430511475], [0.46000000834465027, 0.46000000834465027, 0.4699999988079071, 0.49000000953674316, 0.5400000214576721], [0.4300000071525574, 0.4399999976158142, 0.4399999976158142, 0.4399999976158142, 0.44999998807907104], [0.36000001430511475, 0.36000001430511475, 0.36000001430511475, 0.3700000047683716, 0.38999998569488525], [0.6200000047683716, 0.6299999952316284, 0.6399999856948853, 0.6399999856948853, 0.6700000166893005], [0.5199999809265137, 0.5299999713897705, 0.5299999713897705, 0.5400000214576721, 0.5400000214576721], [0.5899999737739563, 0.6000000238418579, 0.6100000143051147, 0.6100000143051147, 0.6399999856948853], [0.6499999761581421, 0.6600000262260437, 0.6899999976158142, 0.6899999976158142, 0.7099999785423279], [0.5899999737739563, 0.6000000238418579, 0.6000000238418579, 0.6200000047683716, 0.6200000047683716], [0.47999998927116394, 0.47999998927116394, 0.47999998927116394, 0.47999998927116394, 0.47999998927116394], [0.5899999737739563, 0.5899999737739563, 0.6100000143051147, 0.6100000143051147, 0.6299999952316284], [0.5699999928474426, 0.5699999928474426, 0.5799999833106995, 0.5899999737739563, 0.5899999737739563], [0.6200000047683716, 0.6299999952316284, 0.6499999761581421, 0.6700000166893005, 0.6700000166893005], [0.6299999952316284, 0.6299999952316284, 0.6399999856948853, 0.6499999761581421, 0.6700000166893005]]\n",
            "-0.1\n",
            "0.2\n"
          ]
        }
      ],
      "source": [
        "t_list = []\n",
        "u = cosine_similarity(sentence_embeddings3, sentence_embeddings2)\n",
        "array = np.array(u)\n",
        "array = numpy.around(array, decimals=2)\n",
        "\n",
        "#sorted_array = np.sort(array)\n",
        "# [1, 2, 3, 4, 5, 6, 7]\n",
        "#print(sorted_array)\n",
        "# Reverse the sorted array\n",
        "#reverse_array = sorted_array[::-1]\n",
        "#print(array)\n",
        "array = numpy.sort(array)\n",
        "#print(array)\n",
        "tem = []\n",
        "#np_array = np.array(a_list)\n",
        "#array = array.tolist()\n",
        "#print(array[0][-1,-2,-3,-4,-5])\n",
        "for i in range(0, len(sentence_embeddings3)):\n",
        "  temp = numpy.sort(array[i])\n",
        "  tem.append(min(temp))\n",
        "  t_list.append(temp[len(temp)-5:].tolist())\n",
        "  #print(z_list)\n",
        "print(t_list)\n",
        "print(min(tem))\n",
        "print(max(tem))"
      ]
    },
    {
      "cell_type": "code",
      "execution_count": null,
      "metadata": {
        "colab": {
          "base_uri": "https://localhost:8080/"
        },
        "id": "MXFOeVsrnZQH",
        "outputId": "077133f0-14cc-4006-c3a5-cb5e40020ad2"
      },
      "outputs": [
        {
          "data": {
            "text/plain": [
              "829"
            ]
          },
          "execution_count": 21,
          "metadata": {},
          "output_type": "execute_result"
        }
      ],
      "source": [
        "z_list.extend(o_list)\n",
        "len(z_list)"
      ]
    },
    {
      "cell_type": "code",
      "execution_count": null,
      "metadata": {
        "colab": {
          "base_uri": "https://localhost:8080/"
        },
        "id": "umea0ztyneH2",
        "outputId": "2ee9e7e3-b69e-40e2-954e-ba02ca8a4c95"
      },
      "outputs": [
        {
          "name": "stdout",
          "output_type": "stream",
          "text": [
            "414\n",
            "829\n"
          ]
        }
      ],
      "source": [
        "zerolabel = [0] * 414\n",
        "onelabel = [1] * 415\n",
        "zerolabel.extend(onelabel)\n",
        "print(len(txtzero))\n",
        "txtzero.extend(txtone)\n",
        "print(len(txtzero))"
      ]
    },
    {
      "cell_type": "code",
      "execution_count": null,
      "metadata": {
        "colab": {
          "base_uri": "https://localhost:8080/",
          "height": 461
        },
        "id": "dnktTjyXiJdL",
        "outputId": "76177a21-2469-4136-c582-96c201d03ba3"
      },
      "outputs": [
        {
          "name": "stdout",
          "output_type": "stream",
          "text": [
            "829\n"
          ]
        },
        {
          "ename": "ValueError",
          "evalue": "ignored",
          "output_type": "error",
          "traceback": [
            "\u001b[0;31m---------------------------------------------------------------------------\u001b[0m",
            "\u001b[0;31mValueError\u001b[0m                                Traceback (most recent call last)",
            "\u001b[0;32m<ipython-input-45-924f0a318dfe>\u001b[0m in \u001b[0;36m<module>\u001b[0;34m\u001b[0m\n\u001b[1;32m      4\u001b[0m \u001b[0;31m#df.insert(5, \"label\", zerolabel)\u001b[0m\u001b[0;34m\u001b[0m\u001b[0;34m\u001b[0m\u001b[0;34m\u001b[0m\u001b[0m\n\u001b[1;32m      5\u001b[0m \u001b[0;31m#df1 = pd.DataFrame (t_list, columns = ['zero_embed','one_embed','two_embed','three_embed','four_embed'])\u001b[0m\u001b[0;34m\u001b[0m\u001b[0;34m\u001b[0m\u001b[0;34m\u001b[0m\u001b[0m\n\u001b[0;32m----> 6\u001b[0;31m percentile_list = pd.DataFrame(np.column_stack([txt0, t_list]), \n\u001b[0m\u001b[1;32m      7\u001b[0m                                columns=['tweet', 'lst1Title', 'lst2Title', 'lst3Title', 'lst4Title', 'lst5Title'])\n\u001b[1;32m      8\u001b[0m \u001b[0mprint\u001b[0m\u001b[0;34m(\u001b[0m\u001b[0mpercentile_list\u001b[0m\u001b[0;34m)\u001b[0m\u001b[0;34m\u001b[0m\u001b[0;34m\u001b[0m\u001b[0m\n",
            "\u001b[0;32m<__array_function__ internals>\u001b[0m in \u001b[0;36mcolumn_stack\u001b[0;34m(*args, **kwargs)\u001b[0m\n",
            "\u001b[0;32m/usr/local/lib/python3.7/dist-packages/numpy/lib/shape_base.py\u001b[0m in \u001b[0;36mcolumn_stack\u001b[0;34m(tup)\u001b[0m\n\u001b[1;32m    654\u001b[0m             \u001b[0marr\u001b[0m \u001b[0;34m=\u001b[0m \u001b[0marray\u001b[0m\u001b[0;34m(\u001b[0m\u001b[0marr\u001b[0m\u001b[0;34m,\u001b[0m \u001b[0mcopy\u001b[0m\u001b[0;34m=\u001b[0m\u001b[0;32mFalse\u001b[0m\u001b[0;34m,\u001b[0m \u001b[0msubok\u001b[0m\u001b[0;34m=\u001b[0m\u001b[0;32mTrue\u001b[0m\u001b[0;34m,\u001b[0m \u001b[0mndmin\u001b[0m\u001b[0;34m=\u001b[0m\u001b[0;36m2\u001b[0m\u001b[0;34m)\u001b[0m\u001b[0;34m.\u001b[0m\u001b[0mT\u001b[0m\u001b[0;34m\u001b[0m\u001b[0;34m\u001b[0m\u001b[0m\n\u001b[1;32m    655\u001b[0m         \u001b[0marrays\u001b[0m\u001b[0;34m.\u001b[0m\u001b[0mappend\u001b[0m\u001b[0;34m(\u001b[0m\u001b[0marr\u001b[0m\u001b[0;34m)\u001b[0m\u001b[0;34m\u001b[0m\u001b[0;34m\u001b[0m\u001b[0m\n\u001b[0;32m--> 656\u001b[0;31m     \u001b[0;32mreturn\u001b[0m \u001b[0m_nx\u001b[0m\u001b[0;34m.\u001b[0m\u001b[0mconcatenate\u001b[0m\u001b[0;34m(\u001b[0m\u001b[0marrays\u001b[0m\u001b[0;34m,\u001b[0m \u001b[0;36m1\u001b[0m\u001b[0;34m)\u001b[0m\u001b[0;34m\u001b[0m\u001b[0;34m\u001b[0m\u001b[0m\n\u001b[0m\u001b[1;32m    657\u001b[0m \u001b[0;34m\u001b[0m\u001b[0m\n\u001b[1;32m    658\u001b[0m \u001b[0;34m\u001b[0m\u001b[0m\n",
            "\u001b[0;32m<__array_function__ internals>\u001b[0m in \u001b[0;36mconcatenate\u001b[0;34m(*args, **kwargs)\u001b[0m\n",
            "\u001b[0;31mValueError\u001b[0m: all the input array dimensions for the concatenation axis must match exactly, but along dimension 0, the array at index 0 has size 829 and the array at index 1 has size 239"
          ]
        }
      ],
      "source": [
        "\n",
        "print(len(zerolabel))\n",
        "\n",
        "df = pd.DataFrame (z_list, columns = ['zero_embed','one_embed','two_embed','three_embed','four_embed'])\n",
        "#df.insert(5, \"label\", zerolabel)\n",
        "#df1 = pd.DataFrame (t_list, columns = ['zero_embed','one_embed','two_embed','three_embed','four_embed'])\n",
        "percentile_list = pd.DataFrame(np.column_stack([txt0, t_list]),\n",
        "                               columns=['tweet', 'lst1Title', 'lst2Title', 'lst3Title', 'lst4Title', 'lst5Title'])\n",
        "print(percentile_list)"
      ]
    },
    {
      "cell_type": "code",
      "execution_count": null,
      "metadata": {
        "colab": {
          "background_save": true,
          "base_uri": "https://localhost:8080/"
        },
        "id": "XlXp9QUsGcFZ",
        "outputId": "056dfc07-5704-48cb-ef25-b170cae008b3"
      },
      "outputs": [
        {
          "name": "stdout",
          "output_type": "stream",
          "text": [
            "                                               tweet            lst1Title  \\\n",
            "0  states shall wait thier Vidhan Sabha election ...  0.09000000357627869   \n",
            "1  said vaccine . Free Covid vaccine new 15 lakhs...  0.07000000029802322   \n",
            "2  BJP really presenting \" free COVID vaccine \" s...  0.05999999865889549   \n",
            "3  Another dose daily miserablism Planet Grauniad...  0.17000000178813934   \n",
            "4  shame-facedness BJP crossed boundaries . Getti...  0.05000000074505806   \n",
            "\n",
            "             lst2Title            lst3Title            lst4Title  \\\n",
            "0  0.12999999523162842  0.12999999523162842  0.14000000059604645   \n",
            "1  0.07999999821186066  0.10999999940395355  0.11999999731779099   \n",
            "2  0.07000000029802322  0.10000000149011612  0.10999999940395355   \n",
            "3  0.17000000178813934  0.17000000178813934  0.18000000715255737   \n",
            "4  0.10000000149011612  0.10000000149011612  0.10000000149011612   \n",
            "\n",
            "             lst5Title  \n",
            "0  0.15000000596046448  \n",
            "1  0.11999999731779099  \n",
            "2  0.10999999940395355  \n",
            "3  0.18000000715255737  \n",
            "4  0.10000000149011612  \n"
          ]
        }
      ],
      "source": [
        "df = pd.DataFrame (z_list, columns = ['zero_embed','one_embed','two_embed','three_embed','four_embed'])\n",
        "\n",
        "percentile_list = pd.DataFrame(np.column_stack([txtzero, z_list]),\n",
        "                               columns=['tweet', 'lst1Title', 'lst2Title', 'lst3Title', 'lst4Title', 'lst5Title'])\n",
        "print(percentile_list.head())"
      ]
    },
    {
      "cell_type": "code",
      "execution_count": null,
      "metadata": {
        "colab": {
          "background_save": true,
          "base_uri": "https://localhost:8080/"
        },
        "id": "gyxwKUr9g4R_",
        "outputId": "86a3320c-3c1b-4e08-b4ee-86126b5bc903"
      },
      "outputs": [
        {
          "name": "stdout",
          "output_type": "stream",
          "text": [
            "     zero_embed  one_embed  two_embed  three_embed  four_embed\n",
            "169        0.06       0.11       0.11         0.11        0.12\n",
            "165        0.04       0.07       0.09         0.10        0.10\n",
            "383        0.06       0.08       0.12         0.13        0.14\n",
            "62         0.14       0.14       0.14         0.14        0.16\n",
            "744        0.09       0.14       0.15         0.16        0.19\n",
            "..          ...        ...        ...          ...         ...\n",
            "357        0.12       0.12       0.13         0.13        0.13\n",
            "651        0.09       0.12       0.16         0.18        0.18\n",
            "545       -0.03       0.08       0.11         0.12        0.12\n",
            "813        0.11       0.14       0.15         0.16        0.17\n",
            "329        0.09       0.12       0.13         0.13        0.13\n",
            "\n",
            "[249 rows x 5 columns]\n",
            "y_train [0, 0, 0, 0, 1, 0, 0, 1, 1, 1, 0, 1, 1, 1, 0, 0, 1, 0, 0, 0, 0, 0, 1, 0, 0, 1, 0, 0, 1, 0, 0, 1, 1, 1, 1, 0, 0, 1, 0, 0, 0, 1, 0, 0, 0, 1, 1, 1, 1, 1, 1, 0, 1, 0, 1, 1, 0, 1, 0, 1, 1, 1, 1, 0, 1, 1, 1, 1, 1, 1, 1, 0, 1, 1, 1, 0, 0, 0, 1, 0, 0, 0, 0, 1, 0, 0, 1, 0, 0, 1, 1, 1, 1, 0, 0, 1, 1, 0, 0, 0, 0, 1, 0, 1, 1, 1, 0, 1, 0, 1, 0, 1, 1, 1, 1, 1, 0, 0, 1, 0, 0, 1, 1, 0, 0, 0, 0, 1, 1, 0, 1, 1, 1, 1, 0, 0, 1, 1, 1, 0, 0, 0, 0, 1, 0, 0, 1, 0, 1, 1, 1, 1, 0, 1, 1, 0, 1, 1, 0, 1, 0, 1, 1, 1, 1, 1, 1, 1, 1, 0, 1, 0, 0, 0, 0, 0, 1, 0, 1, 0, 0, 1, 0, 1, 1, 1, 1, 1, 1, 1, 1, 0, 1, 1, 1, 0, 1, 1, 0, 1, 1, 0, 0, 0, 0, 0, 0, 1, 1, 1, 1, 1, 1, 1, 0, 1, 0, 0, 0, 1, 1, 1, 1, 1, 1, 1, 1, 1, 0, 1, 1, 1, 1, 1, 0, 0, 1, 0, 1, 0, 1, 1, 0, 0, 0, 1, 1, 1, 0]\n",
            "[0, 0, 1, 0, 1, 1, 0, 1, 1, 1, 0, 1, 0, 1, 0, 0, 0, 0, 0, 0, 0, 0, 1, 0, 0, 1, 0, 0, 1, 0, 0, 1, 1, 1, 0, 0, 1, 1, 1, 1, 0, 0, 0, 0, 0, 1, 1, 1, 1, 1, 1, 0, 0, 1, 1, 1, 1, 1, 0, 1, 1, 1, 1, 1, 1, 1, 1, 1, 1, 1, 1, 0, 1, 1, 1, 1, 1, 0, 1, 0, 0, 0, 1, 1, 0, 0, 1, 1, 0, 0, 1, 0, 1, 0, 0, 1, 1, 0, 1, 0, 0, 1, 0, 1, 1, 0, 0, 1, 0, 1, 0, 1, 1, 1, 1, 1, 0, 1, 1, 0, 0, 0, 1, 1, 0, 0, 0, 0, 1, 0, 1, 1, 1, 1, 0, 0, 1, 0, 0, 0, 0, 0, 0, 1, 1, 0, 1, 0, 1, 1, 1, 1, 0, 1, 1, 0, 0, 0, 0, 1, 0, 0, 1, 1, 1, 1, 1, 1, 1, 0, 1, 0, 0, 0, 0, 0, 1, 0, 1, 1, 0, 1, 0, 1, 1, 1, 1, 1, 1, 1, 1, 0, 0, 1, 1, 1, 1, 1, 0, 1, 1, 0, 0, 0, 0, 0, 1, 1, 0, 1, 1, 1, 1, 0, 0, 0, 0, 0, 0, 1, 1, 0, 1, 1, 1, 1, 1, 1, 0, 1, 1, 1, 0, 1, 0, 0, 1, 0, 1, 0, 1, 1, 0, 0, 0, 1, 0, 1, 0]\n",
            "     zero_embed  one_embed  two_embed  three_embed  four_embed  label\n",
            "169        0.06       0.11       0.11         0.11        0.12      0\n",
            "165        0.04       0.07       0.09         0.10        0.10      0\n",
            "383        0.06       0.08       0.12         0.13        0.14      1\n",
            "62         0.14       0.14       0.14         0.14        0.16      0\n",
            "744        0.09       0.14       0.15         0.16        0.19      1\n",
            "..          ...        ...        ...          ...         ...    ...\n",
            "357        0.12       0.12       0.13         0.13        0.13      0\n",
            "651        0.09       0.12       0.16         0.18        0.18      1\n",
            "545       -0.03       0.08       0.11         0.12        0.12      0\n",
            "813        0.11       0.14       0.15         0.16        0.17      1\n",
            "329        0.09       0.12       0.13         0.13        0.13      0\n",
            "\n",
            "[249 rows x 6 columns]\n"
          ]
        }
      ],
      "source": [
        "# Import train_test_split function\n",
        "from sklearn.model_selection import train_test_split\n",
        "\n",
        "# Split dataset into training set and test set\n",
        "X_train, X_test, y_train, y_test = train_test_split(df, zerolabel, test_size=0.3, random_state=109) # 70% training and 30% test\n",
        "print(X_test)\n",
        "print(\"y_train\",y_test)\n",
        "from sklearn.ensemble import RandomForestClassifier\n",
        "rf_model = RandomForestClassifier(n_estimators=50, max_features=\"auto\", random_state=44)\n",
        "rf_model.fit(X_train, y_train)\n",
        "predictions = rf_model.predict(X_test)\n",
        "print(predictions.tolist())\n",
        "X_test['label'] = predictions\n",
        "#X_test['label'] = np.array(predictions)\n",
        "print(X_test)"
      ]
    },
    {
      "cell_type": "markdown",
      "metadata": {
        "id": "ZkLTEEVJFFTM"
      },
      "source": [
        "# ***Randomforest***"
      ]
    },
    {
      "cell_type": "code",
      "execution_count": null,
      "metadata": {
        "colab": {
          "base_uri": "https://localhost:8080/"
        },
        "id": "T6A07ueYEFYz",
        "outputId": "d4aaa825-85c8-4c1d-b3e3-f205e0600b91"
      },
      "outputs": [
        {
          "name": "stdout",
          "output_type": "stream",
          "text": [
            "Accuracy: 0.9236947791164659\n",
            "              precision    recall  f1-score   support\n",
            "\n",
            "           0       0.90      0.93      0.91       109\n",
            "           1       0.94      0.92      0.93       140\n",
            "\n",
            "    accuracy                           0.92       249\n",
            "   macro avg       0.92      0.92      0.92       249\n",
            "weighted avg       0.92      0.92      0.92       249\n",
            "\n"
          ]
        }
      ],
      "source": [
        "#Import scikit-learn metrics module for accuracy calculation\n",
        "from sklearn import metrics\n",
        "from sklearn.metrics import confusion_matrix, classification_report, recall_score, f1_score, accuracy_score, average_precision_score\n",
        "# Model Accuracy: how often is the classifier correct?\n",
        "print(\"Accuracy:\",metrics.accuracy_score(y_test, predictions))\n",
        "print(metrics.classification_report(y_test, predictions))"
      ]
    },
    {
      "cell_type": "code",
      "execution_count": null,
      "metadata": {
        "colab": {
          "background_save": true,
          "base_uri": "https://localhost:8080/"
        },
        "id": "WvJEHWR-M_HA",
        "outputId": "aebd62d6-6427-4e4d-a376-5b91d52b8994"
      },
      "outputs": [
        {
          "name": "stdout",
          "output_type": "stream",
          "text": [
            "249\n",
            "     zero_embed  one_embed  two_embed  three_embed  four_embed  label\n",
            "383        0.06       0.08       0.12         0.13        0.14      1\n",
            "744        0.09       0.14       0.15         0.16        0.19      1\n",
            "161        0.08       0.11       0.14         0.14        0.14      1\n",
            "434       -0.03       0.06       0.09         0.10        0.11      1\n",
            "469        0.15       0.16       0.19         0.24        0.24      1\n",
            "..          ...        ...        ...          ...         ...    ...\n",
            "807       -0.02       0.04       0.12         0.14        0.14      1\n",
            "531        0.05       0.08       0.10         0.13        0.13      1\n",
            "753        0.06       0.09       0.12         0.14        0.15      1\n",
            "651        0.09       0.12       0.16         0.18        0.18      1\n",
            "813        0.11       0.14       0.15         0.16        0.17      1\n",
            "\n",
            "[137 rows x 6 columns]\n",
            "823\n"
          ]
        }
      ],
      "source": [
        "\"\"\"percentile_list = pd.DataFrame(np.column_stack([txt0, z_list]),\n",
        "                               columns=['tweet', 'lst1Title', 'lst2Title', 'lst3Title', 'lst4Title', 'lst5Title'])\n",
        "print(percentile_list.head())\"\"\"\n",
        "print(len(X_test))\n",
        "t = X_test. loc[X_test['label'] == 1]\n",
        "print(X_test. loc[X_test['label'] == 1])\n",
        "one_indexes = t.index\n",
        "print(max(one_indexes))"
      ]
    },
    {
      "cell_type": "code",
      "execution_count": null,
      "metadata": {
        "colab": {
          "background_save": true,
          "base_uri": "https://localhost:8080/",
          "height": 441
        },
        "id": "fxEQHIp6RykK",
        "outputId": "830090ad-aa00-44ef-ecad-de55de5da45b"
      },
      "outputs": [
        {
          "data": {
            "text/html": [
              "\n",
              "  <div id=\"df-b40f5452-c10a-4c72-a7cf-97957f79d587\">\n",
              "    <div class=\"colab-df-container\">\n",
              "      <div>\n",
              "<style scoped>\n",
              "    .dataframe tbody tr th:only-of-type {\n",
              "        vertical-align: middle;\n",
              "    }\n",
              "\n",
              "    .dataframe tbody tr th {\n",
              "        vertical-align: top;\n",
              "    }\n",
              "\n",
              "    .dataframe thead th {\n",
              "        text-align: right;\n",
              "    }\n",
              "</style>\n",
              "<table border=\"1\" class=\"dataframe\">\n",
              "  <thead>\n",
              "    <tr style=\"text-align: right;\">\n",
              "      <th></th>\n",
              "      <th>tweet</th>\n",
              "    </tr>\n",
              "  </thead>\n",
              "  <tbody>\n",
              "    <tr>\n",
              "      <th>0</th>\n",
              "      <td>states shall wait thier Vidhan Sabha election ...</td>\n",
              "    </tr>\n",
              "    <tr>\n",
              "      <th>1</th>\n",
              "      <td>said vaccine . Free Covid vaccine new 15 lakhs...</td>\n",
              "    </tr>\n",
              "    <tr>\n",
              "      <th>2</th>\n",
              "      <td>BJP really presenting \" free COVID vaccine \" s...</td>\n",
              "    </tr>\n",
              "    <tr>\n",
              "      <th>3</th>\n",
              "      <td>Another dose daily miserablism Planet Grauniad...</td>\n",
              "    </tr>\n",
              "    <tr>\n",
              "      <th>4</th>\n",
              "      <td>shame-facedness BJP crossed boundaries . Getti...</td>\n",
              "    </tr>\n",
              "    <tr>\n",
              "      <th>...</th>\n",
              "      <td>...</td>\n",
              "    </tr>\n",
              "    <tr>\n",
              "      <th>824</th>\n",
              "      <td>Looks like Moderna reaction Sinopharm . Sinoph...</td>\n",
              "    </tr>\n",
              "    <tr>\n",
              "      <th>825</th>\n",
              "      <td>father ( 60 + ) reaction sinopharm , sore arm ...</td>\n",
              "    </tr>\n",
              "    <tr>\n",
              "      <th>826</th>\n",
              "      <td>mother bad hypertensive reaction Sinopharm's 1...</td>\n",
              "    </tr>\n",
              "    <tr>\n",
              "      <th>827</th>\n",
              "      <td>Someone know got days long feverish reaction ,...</td>\n",
              "    </tr>\n",
              "    <tr>\n",
              "      <th>828</th>\n",
              "      <td>Parents 50 , got Sinopharm , know means lot he...</td>\n",
              "    </tr>\n",
              "  </tbody>\n",
              "</table>\n",
              "<p>829 rows × 1 columns</p>\n",
              "</div>\n",
              "      <button class=\"colab-df-convert\" onclick=\"convertToInteractive('df-b40f5452-c10a-4c72-a7cf-97957f79d587')\"\n",
              "              title=\"Convert this dataframe to an interactive table.\"\n",
              "              style=\"display:none;\">\n",
              "        \n",
              "  <svg xmlns=\"http://www.w3.org/2000/svg\" height=\"24px\"viewBox=\"0 0 24 24\"\n",
              "       width=\"24px\">\n",
              "    <path d=\"M0 0h24v24H0V0z\" fill=\"none\"/>\n",
              "    <path d=\"M18.56 5.44l.94 2.06.94-2.06 2.06-.94-2.06-.94-.94-2.06-.94 2.06-2.06.94zm-11 1L8.5 8.5l.94-2.06 2.06-.94-2.06-.94L8.5 2.5l-.94 2.06-2.06.94zm10 10l.94 2.06.94-2.06 2.06-.94-2.06-.94-.94-2.06-.94 2.06-2.06.94z\"/><path d=\"M17.41 7.96l-1.37-1.37c-.4-.4-.92-.59-1.43-.59-.52 0-1.04.2-1.43.59L10.3 9.45l-7.72 7.72c-.78.78-.78 2.05 0 2.83L4 21.41c.39.39.9.59 1.41.59.51 0 1.02-.2 1.41-.59l7.78-7.78 2.81-2.81c.8-.78.8-2.07 0-2.86zM5.41 20L4 18.59l7.72-7.72 1.47 1.35L5.41 20z\"/>\n",
              "  </svg>\n",
              "      </button>\n",
              "      \n",
              "  <style>\n",
              "    .colab-df-container {\n",
              "      display:flex;\n",
              "      flex-wrap:wrap;\n",
              "      gap: 12px;\n",
              "    }\n",
              "\n",
              "    .colab-df-convert {\n",
              "      background-color: #E8F0FE;\n",
              "      border: none;\n",
              "      border-radius: 50%;\n",
              "      cursor: pointer;\n",
              "      display: none;\n",
              "      fill: #1967D2;\n",
              "      height: 32px;\n",
              "      padding: 0 0 0 0;\n",
              "      width: 32px;\n",
              "    }\n",
              "\n",
              "    .colab-df-convert:hover {\n",
              "      background-color: #E2EBFA;\n",
              "      box-shadow: 0px 1px 2px rgba(60, 64, 67, 0.3), 0px 1px 3px 1px rgba(60, 64, 67, 0.15);\n",
              "      fill: #174EA6;\n",
              "    }\n",
              "\n",
              "    [theme=dark] .colab-df-convert {\n",
              "      background-color: #3B4455;\n",
              "      fill: #D2E3FC;\n",
              "    }\n",
              "\n",
              "    [theme=dark] .colab-df-convert:hover {\n",
              "      background-color: #434B5C;\n",
              "      box-shadow: 0px 1px 3px 1px rgba(0, 0, 0, 0.15);\n",
              "      filter: drop-shadow(0px 1px 2px rgba(0, 0, 0, 0.3));\n",
              "      fill: #FFFFFF;\n",
              "    }\n",
              "  </style>\n",
              "\n",
              "      <script>\n",
              "        const buttonEl =\n",
              "          document.querySelector('#df-b40f5452-c10a-4c72-a7cf-97957f79d587 button.colab-df-convert');\n",
              "        buttonEl.style.display =\n",
              "          google.colab.kernel.accessAllowed ? 'block' : 'none';\n",
              "\n",
              "        async function convertToInteractive(key) {\n",
              "          const element = document.querySelector('#df-b40f5452-c10a-4c72-a7cf-97957f79d587');\n",
              "          const dataTable =\n",
              "            await google.colab.kernel.invokeFunction('convertToInteractive',\n",
              "                                                     [key], {});\n",
              "          if (!dataTable) return;\n",
              "\n",
              "          const docLinkHtml = 'Like what you see? Visit the ' +\n",
              "            '<a target=\"_blank\" href=https://colab.research.google.com/notebooks/data_table.ipynb>data table notebook</a>'\n",
              "            + ' to learn more about interactive tables.';\n",
              "          element.innerHTML = '';\n",
              "          dataTable['output_type'] = 'display_data';\n",
              "          await google.colab.output.renderOutput(dataTable, element);\n",
              "          const docLink = document.createElement('div');\n",
              "          docLink.innerHTML = docLinkHtml;\n",
              "          element.appendChild(docLink);\n",
              "        }\n",
              "      </script>\n",
              "    </div>\n",
              "  </div>\n",
              "  "
            ],
            "text/plain": [
              "                                                 tweet\n",
              "0    states shall wait thier Vidhan Sabha election ...\n",
              "1    said vaccine . Free Covid vaccine new 15 lakhs...\n",
              "2    BJP really presenting \" free COVID vaccine \" s...\n",
              "3    Another dose daily miserablism Planet Grauniad...\n",
              "4    shame-facedness BJP crossed boundaries . Getti...\n",
              "..                                                 ...\n",
              "824  Looks like Moderna reaction Sinopharm . Sinoph...\n",
              "825  father ( 60 + ) reaction sinopharm , sore arm ...\n",
              "826  mother bad hypertensive reaction Sinopharm's 1...\n",
              "827  Someone know got days long feverish reaction ,...\n",
              "828  Parents 50 , got Sinopharm , know means lot he...\n",
              "\n",
              "[829 rows x 1 columns]"
            ]
          },
          "metadata": {},
          "output_type": "display_data"
        },
        {
          "name": "stdout",
          "output_type": "stream",
          "text": [
            "829\n"
          ]
        }
      ],
      "source": [
        "concat_dataset = pd.concat([tweetszero,tweetsone], ignore_index=True)\n",
        "display(concat_dataset)\n",
        "print(len(txtzero))"
      ]
    },
    {
      "cell_type": "code",
      "execution_count": null,
      "metadata": {
        "colab": {
          "background_save": true,
          "base_uri": "https://localhost:8080/",
          "height": 493
        },
        "id": "8kFlLu9oVLGr",
        "outputId": "12eeeeee-ecce-4a5b-d1dc-e8d740561c1b"
      },
      "outputs": [
        {
          "name": "stdout",
          "output_type": "stream",
          "text": [
            "Int64Index([383, 744, 161, 434, 469, 522, 715, 490, 674, 524,\n",
            "            ...\n",
            "            660, 515, 676, 601, 640, 807, 531, 753, 651, 813],\n",
            "           dtype='int64', length=137)\n"
          ]
        },
        {
          "data": {
            "text/html": [
              "\n",
              "  <div id=\"df-eef38376-074d-43e9-aa35-5391a21433df\">\n",
              "    <div class=\"colab-df-container\">\n",
              "      <div>\n",
              "<style scoped>\n",
              "    .dataframe tbody tr th:only-of-type {\n",
              "        vertical-align: middle;\n",
              "    }\n",
              "\n",
              "    .dataframe tbody tr th {\n",
              "        vertical-align: top;\n",
              "    }\n",
              "\n",
              "    .dataframe thead th {\n",
              "        text-align: right;\n",
              "    }\n",
              "</style>\n",
              "<table border=\"1\" class=\"dataframe\">\n",
              "  <thead>\n",
              "    <tr style=\"text-align: right;\">\n",
              "      <th></th>\n",
              "      <th>tweet</th>\n",
              "    </tr>\n",
              "  </thead>\n",
              "  <tbody>\n",
              "    <tr>\n",
              "      <th>383</th>\n",
              "      <td>people said elderly parents grandparents talke...</td>\n",
              "    </tr>\n",
              "    <tr>\n",
              "      <th>744</th>\n",
              "      <td>Day 2 side effects covid - 19 vaccine ( Pfizer...</td>\n",
              "    </tr>\n",
              "    <tr>\n",
              "      <th>161</th>\n",
              "      <td>bandaids place * ump's COVID “ vaccine ” ?</td>\n",
              "    </tr>\n",
              "    <tr>\n",
              "      <th>434</th>\n",
              "      <td>32 - year-old Victoria woman says regrets gett...</td>\n",
              "    </tr>\n",
              "    <tr>\n",
              "      <th>469</th>\n",
              "      <td>got Covid - 19 Vaccine today side effects far ...</td>\n",
              "    </tr>\n",
              "    <tr>\n",
              "      <th>...</th>\n",
              "      <td>...</td>\n",
              "    </tr>\n",
              "    <tr>\n",
              "      <th>807</th>\n",
              "      <td>finally got side effect vaccine . left arm lit...</td>\n",
              "    </tr>\n",
              "    <tr>\n",
              "      <th>531</th>\n",
              "      <td>Side effects second Moderna Vaccine . woke maj...</td>\n",
              "    </tr>\n",
              "    <tr>\n",
              "      <th>753</th>\n",
              "      <td>I'm fully vaccinated got infected covid - 19 &amp;...</td>\n",
              "    </tr>\n",
              "    <tr>\n",
              "      <th>651</th>\n",
              "      <td>forgot mention yesterday got like covid - 19 v...</td>\n",
              "    </tr>\n",
              "    <tr>\n",
              "      <th>813</th>\n",
              "      <td>alhamdulillah first dose side effects tak kuat...</td>\n",
              "    </tr>\n",
              "  </tbody>\n",
              "</table>\n",
              "<p>137 rows × 1 columns</p>\n",
              "</div>\n",
              "      <button class=\"colab-df-convert\" onclick=\"convertToInteractive('df-eef38376-074d-43e9-aa35-5391a21433df')\"\n",
              "              title=\"Convert this dataframe to an interactive table.\"\n",
              "              style=\"display:none;\">\n",
              "        \n",
              "  <svg xmlns=\"http://www.w3.org/2000/svg\" height=\"24px\"viewBox=\"0 0 24 24\"\n",
              "       width=\"24px\">\n",
              "    <path d=\"M0 0h24v24H0V0z\" fill=\"none\"/>\n",
              "    <path d=\"M18.56 5.44l.94 2.06.94-2.06 2.06-.94-2.06-.94-.94-2.06-.94 2.06-2.06.94zm-11 1L8.5 8.5l.94-2.06 2.06-.94-2.06-.94L8.5 2.5l-.94 2.06-2.06.94zm10 10l.94 2.06.94-2.06 2.06-.94-2.06-.94-.94-2.06-.94 2.06-2.06.94z\"/><path d=\"M17.41 7.96l-1.37-1.37c-.4-.4-.92-.59-1.43-.59-.52 0-1.04.2-1.43.59L10.3 9.45l-7.72 7.72c-.78.78-.78 2.05 0 2.83L4 21.41c.39.39.9.59 1.41.59.51 0 1.02-.2 1.41-.59l7.78-7.78 2.81-2.81c.8-.78.8-2.07 0-2.86zM5.41 20L4 18.59l7.72-7.72 1.47 1.35L5.41 20z\"/>\n",
              "  </svg>\n",
              "      </button>\n",
              "      \n",
              "  <style>\n",
              "    .colab-df-container {\n",
              "      display:flex;\n",
              "      flex-wrap:wrap;\n",
              "      gap: 12px;\n",
              "    }\n",
              "\n",
              "    .colab-df-convert {\n",
              "      background-color: #E8F0FE;\n",
              "      border: none;\n",
              "      border-radius: 50%;\n",
              "      cursor: pointer;\n",
              "      display: none;\n",
              "      fill: #1967D2;\n",
              "      height: 32px;\n",
              "      padding: 0 0 0 0;\n",
              "      width: 32px;\n",
              "    }\n",
              "\n",
              "    .colab-df-convert:hover {\n",
              "      background-color: #E2EBFA;\n",
              "      box-shadow: 0px 1px 2px rgba(60, 64, 67, 0.3), 0px 1px 3px 1px rgba(60, 64, 67, 0.15);\n",
              "      fill: #174EA6;\n",
              "    }\n",
              "\n",
              "    [theme=dark] .colab-df-convert {\n",
              "      background-color: #3B4455;\n",
              "      fill: #D2E3FC;\n",
              "    }\n",
              "\n",
              "    [theme=dark] .colab-df-convert:hover {\n",
              "      background-color: #434B5C;\n",
              "      box-shadow: 0px 1px 3px 1px rgba(0, 0, 0, 0.15);\n",
              "      filter: drop-shadow(0px 1px 2px rgba(0, 0, 0, 0.3));\n",
              "      fill: #FFFFFF;\n",
              "    }\n",
              "  </style>\n",
              "\n",
              "      <script>\n",
              "        const buttonEl =\n",
              "          document.querySelector('#df-eef38376-074d-43e9-aa35-5391a21433df button.colab-df-convert');\n",
              "        buttonEl.style.display =\n",
              "          google.colab.kernel.accessAllowed ? 'block' : 'none';\n",
              "\n",
              "        async function convertToInteractive(key) {\n",
              "          const element = document.querySelector('#df-eef38376-074d-43e9-aa35-5391a21433df');\n",
              "          const dataTable =\n",
              "            await google.colab.kernel.invokeFunction('convertToInteractive',\n",
              "                                                     [key], {});\n",
              "          if (!dataTable) return;\n",
              "\n",
              "          const docLinkHtml = 'Like what you see? Visit the ' +\n",
              "            '<a target=\"_blank\" href=https://colab.research.google.com/notebooks/data_table.ipynb>data table notebook</a>'\n",
              "            + ' to learn more about interactive tables.';\n",
              "          element.innerHTML = '';\n",
              "          dataTable['output_type'] = 'display_data';\n",
              "          await google.colab.output.renderOutput(dataTable, element);\n",
              "          const docLink = document.createElement('div');\n",
              "          docLink.innerHTML = docLinkHtml;\n",
              "          element.appendChild(docLink);\n",
              "        }\n",
              "      </script>\n",
              "    </div>\n",
              "  </div>\n",
              "  "
            ],
            "text/plain": [
              "                                                 tweet\n",
              "383  people said elderly parents grandparents talke...\n",
              "744  Day 2 side effects covid - 19 vaccine ( Pfizer...\n",
              "161         bandaids place * ump's COVID “ vaccine ” ?\n",
              "434  32 - year-old Victoria woman says regrets gett...\n",
              "469  got Covid - 19 Vaccine today side effects far ...\n",
              "..                                                 ...\n",
              "807  finally got side effect vaccine . left arm lit...\n",
              "531  Side effects second Moderna Vaccine . woke maj...\n",
              "753  I'm fully vaccinated got infected covid - 19 &...\n",
              "651  forgot mention yesterday got like covid - 19 v...\n",
              "813  alhamdulillah first dose side effects tak kuat...\n",
              "\n",
              "[137 rows x 1 columns]"
            ]
          },
          "metadata": {},
          "output_type": "display_data"
        }
      ],
      "source": [
        "\"\"\"for i in one_indexes:\n",
        "  print(i)\n",
        "  if i == 53:\n",
        "    #print(*\"yes\")\"\"\"\n",
        "print(one_indexes)\n",
        "concat_dataset = concat_dataset.iloc[one_indexes]\n",
        "display(concat_dataset)"
      ]
    },
    {
      "cell_type": "code",
      "execution_count": null,
      "metadata": {
        "colab": {
          "base_uri": "https://localhost:8080/"
        },
        "id": "rmY5Nl2_hDAT",
        "outputId": "32a411f8-d3a5-4989-e9dd-e694d0b09dcf"
      },
      "outputs": [
        {
          "name": "stderr",
          "output_type": "stream",
          "text": [
            "Some weights of the model checkpoint at digitalepidemiologylab/covid-twitter-bert were not used when initializing BertModel: ['cls.predictions.transform.LayerNorm.bias', 'cls.predictions.transform.dense.weight', 'cls.predictions.transform.dense.bias', 'cls.seq_relationship.weight', 'cls.predictions.decoder.bias', 'cls.predictions.bias', 'cls.predictions.transform.LayerNorm.weight', 'cls.predictions.decoder.weight', 'cls.seq_relationship.bias']\n",
            "- This IS expected if you are initializing BertModel from the checkpoint of a model trained on another task or with another architecture (e.g. initializing a BertForSequenceClassification model from a BertForPreTraining model).\n",
            "- This IS NOT expected if you are initializing BertModel from the checkpoint of a model that you expect to be exactly identical (initializing a BertForSequenceClassification model from a BertForSequenceClassification model).\n"
          ]
        }
      ],
      "source": [
        "from transformers.pipelines import pipeline\n",
        "\n",
        "hf_model = pipeline(\"feature-extraction\", model=\"digitalepidemiologylab/covid-twitter-bert\")\n",
        "kw_model = KeyBERT(model=hf_model)\n"
      ]
    },
    {
      "cell_type": "code",
      "execution_count": null,
      "metadata": {
        "id": "-tIZTpRPh3ls"
      },
      "outputs": [],
      "source": [
        "import tensorflow_hub\n",
        "embedding_model = tensorflow_hub.load(\"https://tfhub.dev/google/universal-sentence-encoder/4\")\n",
        "kw_model = KeyBERT(model=embedding_model)\n"
      ]
    },
    {
      "cell_type": "code",
      "execution_count": null,
      "metadata": {
        "id": "Ry27z4tqEQ48"
      },
      "outputs": [],
      "source": [
        "#flair\n",
        "#kw_model = KeyBERT('digitalepidemiologylab/covid-twitter-bert')\n",
        "roberta = TransformerDocumentEmbeddings('digitalepidemiologylab/covid-twitter-bert')\n",
        "kw_model = KeyBERT(model=roberta)"
      ]
    },
    {
      "cell_type": "code",
      "execution_count": null,
      "metadata": {
        "id": "a7TWfMebIDGS"
      },
      "outputs": [],
      "source": [
        "import spacy\n",
        "\n",
        "nlp = spacy.load(\"en_core_sci_md\")\n",
        "\n",
        "kw_model = KeyBERT(model=nlp)\n"
      ]
    },
    {
      "cell_type": "code",
      "execution_count": null,
      "metadata": {
        "id": "jYL_WQciMNHY"
      },
      "outputs": [],
      "source": []
    },
    {
      "cell_type": "code",
      "execution_count": null,
      "metadata": {
        "colab": {
          "base_uri": "https://localhost:8080/",
          "height": 609
        },
        "id": "aQc6UCIhtfJR",
        "outputId": "17a0dd91-824a-47d2-dad8-0ec954f23c25"
      },
      "outputs": [
        {
          "name": "stdout",
          "output_type": "stream",
          "text": [
            "[('pfizer extreme', 0.4213), ('mild body', 0.4655), ('today day', 0.491), ('tired', 0.4998), ('headache far', 0.5618), ('aches joint', 0.5641), ('joint pains', 0.5641), ('headache working', 0.5756), ('minor headache', 0.5774), ('day tired', 0.6076)]\n",
            "[('vaccine despite', 0.4114), ('extremely rare', 0.4258), ('19 vaccine', 0.4295), ('says', 0.432), ('reaction shot', 0.4388), ('old', 0.4442), ('rare allergic', 0.4727), ('32 year', 0.4776), ('suffering', 0.4799), ('says regrets', 0.5103)]\n",
            "[('effects', 0.1929), ('vaccine', 0.2104), ('arm', 0.2153), ('arm headache', 0.2434), ('thread', 0.2716), ('need', 0.2939), ('far', 0.3208), ('update', 0.3955), ('got covid', 0.4424), ('today', 0.4519)]\n",
            "[('feeling', 0.4194), ('dose covid', 0.447), ('dose', 0.447), ('received', 0.4501), ('headache', 0.4536), ('friday major', 0.4669), ('feeling lethargic', 0.5037), ('symptoms', 0.5115), ('second', 0.5129), ('present second', 0.5235)]\n",
            "[('covid', 0.0), ('19', 0.2005), ('covid 19', 0.2005), ('vaccine', 0.2998), ('took covid', 0.4536), ('took', 0.4536), ('today', 0.4953), ('headache', 0.5194), ('feverish', 0.5202), ('feeling', 0.5928)]\n",
            "[('vomitting health', 0.4733), ('complaining', 0.4831), ('saturday', 0.5184), ('complaining fever', 0.5274), ('years working', 0.5592), ('hospitalised', 0.5599), ('ujjain district', 0.5641), ('vaccine saturday', 0.5723), ('nurses aged', 0.5755), ('hospital taken', 0.606)]\n",
            "[('lot', 0.4186), ('10 pm', 0.4198), ('check_mark_button headache', 0.425), ('manifesting 12', 0.4312), ('started', 0.4489), ('muscles aching', 0.4592), ('26 second', 0.463), ('getting vaccinated', 0.4638), ('night effects', 0.4661), ('vaccine feeling', 0.4909)]\n",
            "[('protecting population', 0.4142), ('convince', 0.4175), ('vaccines regulated', 0.4219), ('hoping', 0.4294), ('glasgow participant', 0.4387), ('vaccine', 0.4509), ('placebo eyes', 0.4527), ('population 12', 0.4569), ('months placebo', 0.4974), ('trial', 0.5559)]\n",
            "[('grateful', 0.3651), ('bed', 0.3877), ('soreness far', 0.3941), ('pad water', 0.397), ('grateful vaccines', 0.4018), ('headache arm', 0.4212), ('far ready', 0.441), ('sleeping', 0.444), ('pm', 0.4485), ('30 pm', 0.4826)]\n",
            "[('astrazenica', 0.0), ('astrazenica covid', 0.0), ('covid', 0.0), ('end', 0.3607), ('trails', 0.4191), ('2022', 0.4279), ('covid vaccine', 0.4481), ('vaccine', 0.4481), ('date', 0.4867), ('end date', 0.5232)]\n",
            "[('2nd covid', 0.261), ('weather', 0.3436), ('arthritis', 0.3538), ('headache muscle', 0.5118), ('headache', 0.5157), ('vaccine awe', 0.5215), ('bit', 0.5438), ('muscle ache', 0.548), ('awe', 0.5557), ('feel', 0.6612)]\n",
            "[('mild headaches', 0.4686), ('fatigue mild', 0.4823), ('overall feeling', 0.4896), ('1st dose', 0.4956), ('pad warm', 0.5091), ('2days overall', 0.5116), ('sore arm', 0.5384), ('days', 0.5764), ('lasted', 0.5811), ('exactly week', 0.6354)]\n",
            "[('share', 0.4022), ('pls share', 0.4065), ('body temp', 0.416), ('symptoms normal', 0.4218), ('temp high', 0.4421), ('days body', 0.4438), ('experience', 0.4714), ('experience 24hrs', 0.5121), ('like', 0.5897), ('getting', 0.6119)]\n"
          ]
        },
        {
          "ename": "KeyboardInterrupt",
          "evalue": "ignored",
          "output_type": "error",
          "traceback": [
            "\u001b[0;31m---------------------------------------------------------------------------\u001b[0m",
            "\u001b[0;31mKeyboardInterrupt\u001b[0m                         Traceback (most recent call last)",
            "\u001b[0;32m<ipython-input-36-7ada296b59d2>\u001b[0m in \u001b[0;36m<module>\u001b[0;34m\u001b[0m\n\u001b[1;32m      4\u001b[0m   kw_model.extract_keywords(i, keyphrase_ngram_range=(1, 3), stop_words=True) \"\"\"\n\u001b[1;32m      5\u001b[0m \u001b[0;32mfor\u001b[0m \u001b[0mindex\u001b[0m\u001b[0;34m,\u001b[0m \u001b[0mrow\u001b[0m \u001b[0;32min\u001b[0m \u001b[0mconcat_dataset\u001b[0m\u001b[0;34m.\u001b[0m\u001b[0miterrows\u001b[0m\u001b[0;34m(\u001b[0m\u001b[0;34m)\u001b[0m\u001b[0;34m:\u001b[0m\u001b[0;34m\u001b[0m\u001b[0;34m\u001b[0m\u001b[0m\n\u001b[0;32m----> 6\u001b[0;31m   \u001b[0mprint\u001b[0m\u001b[0;34m(\u001b[0m\u001b[0mkw_model\u001b[0m\u001b[0;34m.\u001b[0m\u001b[0mextract_keywords\u001b[0m\u001b[0;34m(\u001b[0m\u001b[0mrow\u001b[0m\u001b[0;34m[\u001b[0m\u001b[0;34m'tweet'\u001b[0m\u001b[0;34m]\u001b[0m\u001b[0;34m,\u001b[0m \u001b[0mkeyphrase_ngram_range\u001b[0m\u001b[0;34m=\u001b[0m\u001b[0;34m(\u001b[0m\u001b[0;36m1\u001b[0m\u001b[0;34m,\u001b[0m \u001b[0;36m2\u001b[0m\u001b[0;34m)\u001b[0m\u001b[0;34m,\u001b[0m \u001b[0mstop_words\u001b[0m\u001b[0;34m=\u001b[0m\u001b[0;34m'english'\u001b[0m\u001b[0;34m,\u001b[0m \u001b[0muse_maxsum\u001b[0m\u001b[0;34m=\u001b[0m\u001b[0;32mTrue\u001b[0m\u001b[0;34m,\u001b[0m \u001b[0mnr_candidates\u001b[0m\u001b[0;34m=\u001b[0m\u001b[0;36m20\u001b[0m\u001b[0;34m,\u001b[0m \u001b[0mtop_n\u001b[0m\u001b[0;34m=\u001b[0m\u001b[0;36m10\u001b[0m\u001b[0;34m)\u001b[0m\u001b[0;34m)\u001b[0m\u001b[0;34m\u001b[0m\u001b[0;34m\u001b[0m\u001b[0m\n\u001b[0m",
            "\u001b[0;32m/usr/local/lib/python3.8/dist-packages/keybert/_model.py\u001b[0m in \u001b[0;36mextract_keywords\u001b[0;34m(self, docs, candidates, keyphrase_ngram_range, stop_words, top_n, min_df, use_maxsum, use_mmr, diversity, nr_candidates, vectorizer, highlight, seed_keywords, doc_embeddings, word_embeddings)\u001b[0m\n\u001b[1;32m    209\u001b[0m                 \u001b[0;31m# Max Sum Distance\u001b[0m\u001b[0;34m\u001b[0m\u001b[0;34m\u001b[0m\u001b[0;34m\u001b[0m\u001b[0m\n\u001b[1;32m    210\u001b[0m                 \u001b[0;32melif\u001b[0m \u001b[0muse_maxsum\u001b[0m\u001b[0;34m:\u001b[0m\u001b[0;34m\u001b[0m\u001b[0;34m\u001b[0m\u001b[0m\n\u001b[0;32m--> 211\u001b[0;31m                     keywords = max_sum_distance(\n\u001b[0m\u001b[1;32m    212\u001b[0m                         \u001b[0mdoc_embedding\u001b[0m\u001b[0;34m,\u001b[0m\u001b[0;34m\u001b[0m\u001b[0;34m\u001b[0m\u001b[0m\n\u001b[1;32m    213\u001b[0m                         \u001b[0mcandidate_embeddings\u001b[0m\u001b[0;34m,\u001b[0m\u001b[0;34m\u001b[0m\u001b[0;34m\u001b[0m\u001b[0m\n",
            "\u001b[0;32m/usr/local/lib/python3.8/dist-packages/keybert/_maxsum.py\u001b[0m in \u001b[0;36mmax_sum_distance\u001b[0;34m(doc_embedding, word_embeddings, words, top_n, nr_candidates)\u001b[0m\n\u001b[1;32m     53\u001b[0m     \u001b[0;32mfor\u001b[0m \u001b[0mcombination\u001b[0m \u001b[0;32min\u001b[0m \u001b[0mitertools\u001b[0m\u001b[0;34m.\u001b[0m\u001b[0mcombinations\u001b[0m\u001b[0;34m(\u001b[0m\u001b[0mrange\u001b[0m\u001b[0;34m(\u001b[0m\u001b[0mlen\u001b[0m\u001b[0;34m(\u001b[0m\u001b[0mwords_idx\u001b[0m\u001b[0;34m)\u001b[0m\u001b[0;34m)\u001b[0m\u001b[0;34m,\u001b[0m \u001b[0mtop_n\u001b[0m\u001b[0;34m)\u001b[0m\u001b[0;34m:\u001b[0m\u001b[0;34m\u001b[0m\u001b[0;34m\u001b[0m\u001b[0m\n\u001b[1;32m     54\u001b[0m         sim = sum(\n\u001b[0;32m---> 55\u001b[0;31m             \u001b[0;34m[\u001b[0m\u001b[0mcandidates\u001b[0m\u001b[0;34m[\u001b[0m\u001b[0mi\u001b[0m\u001b[0;34m]\u001b[0m\u001b[0;34m[\u001b[0m\u001b[0mj\u001b[0m\u001b[0;34m]\u001b[0m \u001b[0;32mfor\u001b[0m \u001b[0mi\u001b[0m \u001b[0;32min\u001b[0m \u001b[0mcombination\u001b[0m \u001b[0;32mfor\u001b[0m \u001b[0mj\u001b[0m \u001b[0;32min\u001b[0m \u001b[0mcombination\u001b[0m \u001b[0;32mif\u001b[0m \u001b[0mi\u001b[0m \u001b[0;34m!=\u001b[0m \u001b[0mj\u001b[0m\u001b[0;34m]\u001b[0m\u001b[0;34m\u001b[0m\u001b[0;34m\u001b[0m\u001b[0m\n\u001b[0m\u001b[1;32m     56\u001b[0m         )\n\u001b[1;32m     57\u001b[0m         \u001b[0;32mif\u001b[0m \u001b[0msim\u001b[0m \u001b[0;34m<\u001b[0m \u001b[0mmin_sim\u001b[0m\u001b[0;34m:\u001b[0m\u001b[0;34m\u001b[0m\u001b[0;34m\u001b[0m\u001b[0m\n",
            "\u001b[0;32m/usr/local/lib/python3.8/dist-packages/keybert/_maxsum.py\u001b[0m in \u001b[0;36m<listcomp>\u001b[0;34m(.0)\u001b[0m\n\u001b[1;32m     53\u001b[0m     \u001b[0;32mfor\u001b[0m \u001b[0mcombination\u001b[0m \u001b[0;32min\u001b[0m \u001b[0mitertools\u001b[0m\u001b[0;34m.\u001b[0m\u001b[0mcombinations\u001b[0m\u001b[0;34m(\u001b[0m\u001b[0mrange\u001b[0m\u001b[0;34m(\u001b[0m\u001b[0mlen\u001b[0m\u001b[0;34m(\u001b[0m\u001b[0mwords_idx\u001b[0m\u001b[0;34m)\u001b[0m\u001b[0;34m)\u001b[0m\u001b[0;34m,\u001b[0m \u001b[0mtop_n\u001b[0m\u001b[0;34m)\u001b[0m\u001b[0;34m:\u001b[0m\u001b[0;34m\u001b[0m\u001b[0;34m\u001b[0m\u001b[0m\n\u001b[1;32m     54\u001b[0m         sim = sum(\n\u001b[0;32m---> 55\u001b[0;31m             \u001b[0;34m[\u001b[0m\u001b[0mcandidates\u001b[0m\u001b[0;34m[\u001b[0m\u001b[0mi\u001b[0m\u001b[0;34m]\u001b[0m\u001b[0;34m[\u001b[0m\u001b[0mj\u001b[0m\u001b[0;34m]\u001b[0m \u001b[0;32mfor\u001b[0m \u001b[0mi\u001b[0m \u001b[0;32min\u001b[0m \u001b[0mcombination\u001b[0m \u001b[0;32mfor\u001b[0m \u001b[0mj\u001b[0m \u001b[0;32min\u001b[0m \u001b[0mcombination\u001b[0m \u001b[0;32mif\u001b[0m \u001b[0mi\u001b[0m \u001b[0;34m!=\u001b[0m \u001b[0mj\u001b[0m\u001b[0;34m]\u001b[0m\u001b[0;34m\u001b[0m\u001b[0;34m\u001b[0m\u001b[0m\n\u001b[0m\u001b[1;32m     56\u001b[0m         )\n\u001b[1;32m     57\u001b[0m         \u001b[0;32mif\u001b[0m \u001b[0msim\u001b[0m \u001b[0;34m<\u001b[0m \u001b[0mmin_sim\u001b[0m\u001b[0;34m:\u001b[0m\u001b[0;34m\u001b[0m\u001b[0;34m\u001b[0m\u001b[0m\n",
            "\u001b[0;31mKeyboardInterrupt\u001b[0m: "
          ]
        }
      ],
      "source": [
        "final = concat_dataset['tweet'].tolist()\n",
        "\"\"\"for i in final:\n",
        "  print(i)\n",
        "  kw_model.extract_keywords(i, keyphrase_ngram_range=(1, 3), stop_words=True) \"\"\"\n",
        "for index, row in concat_dataset.iterrows():\n",
        "  print(kw_model.extract_keywords(row['tweet'], keyphrase_ngram_range=(1, 2), stop_words='english', use_maxsum=True, nr_candidates=20, top_n=10))"
      ]
    },
    {
      "cell_type": "markdown",
      "metadata": {
        "id": "Vu-ked9N_PwP"
      },
      "source": [
        "# ***Rake-nltk***"
      ]
    },
    {
      "cell_type": "code",
      "execution_count": null,
      "metadata": {
        "colab": {
          "base_uri": "https://localhost:8080/"
        },
        "id": "oF_ogBvq_QWQ",
        "outputId": "bc5e9f10-8033-4789-e01f-13e0c48988f1"
      },
      "outputs": [
        {
          "name": "stdout",
          "output_type": "stream",
          "text": [
            "['minor body aches', 'still tired', 'minor headache', 'far today', 'day 3', '19 vaccine', 'headache', 'pfizer']\n",
            "['19 vaccine', 'year', '32']\n",
            "['painful arm', 'got covid']\n",
            "['including bell palsy', 'eyes']\n",
            "['took first covid', 'please']\n",
            "['19 vaccine saturday', 'vomitting', 'headache', 'effects']\n",
            "['sobrang lala nito', 'joints muscles aching', 'feeling lot better', '19 pfizer vaccine', 'headache', 'fatigue', 'chills', 'check_mark_button', 'check_mark_button', 'check_mark_button', 'approx']\n",
            "['eyes']\n",
            "['sweater bed 7', 'sleeping yet resting', 'vaccines available', 'ready tylenol', 'hot pad', 'go get', '30 pm', 'water', 'vaccineswork', 'vaccinated', 'grateful', 'covid']\n",
            "[]\n",
            "['feel horrible', '2nd covid', 'headache']\n",
            "['lasted two days', 'lasted 2days', 'mild headaches', 'fatigue']\n",
            "['normal']\n",
            "['still lethargic headache', 'sore arm shoulder', '19 vaccine saturday']\n",
            "['much sick covid', 'guys — joke', '1st moderna', 'nausea', 'heads', 'headaches', 'fatigue', 'double_exclamation_mark', 'double_exclamation_mark', 'dizziness', '19']\n",
            "['wanted share pfizer', '19 vaccine updates', 'mild back pain', 'muscle pain', 'mild headache', 'biontech covid', '1st dose']\n",
            "['see day goes', 'fever chills yet', 'awakened around 2', '12 hrs post', 'hrs post', '2 update', 'feel shaky', 'feel achy', '19 vaccine', 'injection', 'injection', 'headache', 'covid', '7', '30']\n",
            "['19 vaccine already', '10 headache right', 'went smoothly', '6', '5']\n",
            "['hoping paracetamol trick', 'fever etc', 'apparently common', '19 though', 'headache']\n",
            "['19 vaccine symptoms', '5', '2', '1']\n",
            "['side effect vaccine', 'got fever', 'got covid', 'today', 'hot_face', 'hope', 'headache', 'face_with_head', 'bandage']\n",
            "['experiencing mild headache', 'blessed week guys', 'arm really sore', '19 vaccine yesterday', 'taking covid', 'feel great', 'tiredness', 'smiling_face_with_smiling_eyes', 'red_heart', 'love', 'expecting']\n",
            "['tiny arm aches', 'also slight headache', '19 vaccine', 'tired']\n",
            "[]\n",
            "['joint pains headache', 'rather covid', 'thank', 'nausea', '19']\n",
            "['sore left arm', '19 vaccine', 'headache', '1']\n",
            "['even feel injection', 'well', 'safe']\n",
            "['numb 🙍\\u200d', 'got covid', 'fever morning', 'body ache', 'smiling_face_with_halo', 'common', 'better']\n",
            "['nausea dizziness resolved', 'body knows covid', '19 vaccine regrets', 'slightly_smiling_face', 'however', 'headache', 'doctors4vax', 'covidvaccinationja']\n",
            "['19 vaccine']\n",
            "['getting covid', 'back soon', '19 vaccine', 'heart_suit', 'everyone']\n",
            "['took aztrazeneca covid', 'felt little sleepy', 'fever dizziness', '19 vaccine', 'normal', 'letnormallifereturns', 'headaches', 'covidvaccine', '36hrs']\n",
            "['someone kill', 'moving hurts', 'moving hurts', 'killer headaches', 'vaccine', 'slept', 'pfizer', '19']\n",
            "['yesterday following covid', 'sorry sorry antivaxxers', 'muscle pain', 'followed myalgia', 'male_sign', 'evening']\n",
            "[]\n",
            "['fatigue joint pain', 'post covid', 'syringe', 'covid19vaccine']\n",
            "['sweating like crazy', '19 vaccine']\n",
            "['fever chills', 'body ache', 'headache']\n",
            "['mild fever', '19 vaccine']\n",
            "['19 vaccine today', 'got covid', 'great']\n",
            "['got 3rd covid']\n",
            "['got covid']\n",
            "['never covid vaccine', 'makes zero sense', 'hopefully one different', 'eradication goal', 'done']\n",
            "['syringe', '19']\n",
            "['nausea aches pains', 'headache', 'handle', 'fluey', 'chills']\n",
            "['19 vaccine', 'tip', 'j', 'covid']\n",
            "['19 vaccine today', 'like suggested', 'white_heart', 'maderna', 'far']\n",
            "['whole body aches', '19 vaccine', 'headache', 'chills']\n",
            "['body aches', 'fever', 'covidvaccine', 'chills', '19']\n",
            "['headache sickness', 'fatigue']\n",
            "['swollen itchy', '19 vaccine', 'loudly_crying_face']\n",
            "['slight headache expected', '19 vaccine ..', 'biontech covid', 'well', 'updated', 'keep']\n",
            "['took sinopharm jan', 'time took pfizer', 'insomnia 2 days', '2nd dose feb', 'get booster']\n",
            "['bad night sweats', 'johnson vaccine yesterday', 'got johnson', 'holy shit', 'head foggy', 'headache', 'covid_19']\n",
            "['19 vaccine yesterday', 'namely chills', 'body aches', 'nausea', 'last', 'headache', 'awesome']\n",
            "['reaction first two', 'mild fever', 'sinopharm', 'however', 'doses']\n",
            "['side effects far', 'sore arm', 'body malaise', 'nausea', 'headache']\n",
            "['biontech covid', '19 vaccine']\n",
            "['received second covid', 'know vaccine working', '19 vaccination yesterday', 'headache bad', '30']\n",
            "['slight soreness arm', 'feel bit tired', 'feeling good morning', 'good morning', 'headache morning', '19 vaccine']\n",
            "['think rest 1', 'little fever headache', 'took covid', 'victory_hand', 'flexed_biceps']\n",
            "['slight uneasiness stomach', 'guess last days', 'feel kind sick', 'sore muscles', 'arm sore', '19 vaccine', 'worth', 'headache']\n",
            "['early phases']\n",
            "['washington submits virus']\n",
            "['vaccine totally worth', 'please get vaccine', 'gone 30 hours', '2nd moderna covid', '19 vaccine shot', 'headache', 'exhaustion']\n",
            "['first dose', '19 vaccine', '19 vaccine', 'moderna covid', 'vaccine', 'moderna', 'covid', 'texas', 'grapevine']\n",
            "['19 vaccine yesterday', 'injection covid', 'good morning']\n",
            "['19 vaccine shot', 'seemed worst', 'means working', 'day 3', 'yesterday', 'read', 'go', 'according']\n",
            "['arm soreness', '19 vaccine', 'headache', 'fatigue']\n",
            "['19 vaccine']\n",
            "['‘ magic wand', 'mondaymotivation full read']\n",
            "['natural reaction though', 'got 1st covid', 'rough 24hrs', 'means working', 'body aches', 'slight headache', 'headache', 'vaccinated', 'thumbs_up', 'pain', 'chills']\n",
            "['oxford covid', 'headaches', 'fatigue', '___']\n",
            "[]\n",
            "['took first covid', 'dealing expected fever']\n",
            "['covid19']\n",
            "['moderate joint pain', 'moderate fatigue', 'chest pain', 'yesterday morning', 'took 16', 'symptoms first', 'mild headache', 'chills nausea', '19 vaccine', 'worth', 'moderna', 'fever', 'checked']\n",
            "['first dose', 'arm sore', '19 vaccine', 'pfizer', 'normal', 'fatigue']\n",
            "[]\n",
            "['got first covid', 'even side effects', '19 vaccination yesterday', 'mild nausea', 'arm soreness', 'worth', 'vaccineadvocate', 'vaccine', 'pfizervaccine', 'healthcareworker', 'headache', 'covid19', '1000']\n",
            "['second dose covid', 'dry throat', 'body aches', 'sniffles', 'headache', 'chills']\n",
            "['scare 2nd dose', 'reported probability covid', '19 last march', 'sure enough', 'said ...', 'later chills', 'headache first', 'developed reaction', 'nausea', 'inconvenient']\n",
            "['mild myalgias 4', 'mild headache 3', 'disgust symptoms 2', 'arm soreness 2', 'received yesterday', 'anger 5', '19 vaccine', '1']\n",
            "['headache fatigued today', '19 vaccine yesterday', 'pfizer mixture', 'covid19vaccination']\n",
            "['mrna vaccines exciting', 'ing love science', 'happy part', 'experienced headache', 'biontech covid', '19 vaccine', 'via', 'f']\n",
            "['taste', 'nausea', 'know', 'immunocompromised', 'headache', 'getvaccinated', 'fever', 'dying', 'chills', '19']\n",
            "['shots ran fever', 'got moderna', 'slept', 'headache', 'chills', 'aches', '19']\n",
            "['19 vaccine today', 'grateful covid', 'tired']\n",
            "['still sleepy', 'side effect']\n",
            "['first felt symptoms', '19 vaccine tuesday', 'slight headache', 'day 3', 'covid']\n",
            "['19 vaccine today', 'little headache', 'glad hurt', 'get covid']\n",
            "['sinopharm ones 1st', 'better catching covid', 'extreme tiredness', 'slightly_smiling_face', 'nothing', '2nd']\n",
            "['suffering dizziness headache', '19 vaccine today', 'got covid']\n",
            "['woke slight fever', '19 vaccine update', 'sleep 6am', 'especially arm', 'body soreness', 'headache', 'covid']\n",
            "['johnson vaccine u', 'adverse reactions covid', '19 vaccines rare', 'astrazeneca europe', '\\u200b']\n",
            "['severe adverse reactions', 'feel secure virus', '19 vaccine', 'covid']\n",
            "['knocked ass w', 'imagine covid', 'gnarly headache', 'body aches', 'pensive_face', 'fever', 'fatigue', 'chills', '19']\n",
            "['early next morning', 'vaccinated']\n",
            "['unamused_face']\n",
            "['relieved paracetamol tablets', 'muscle pain', '19 vaccine', 'headache', 'fatigue']\n",
            "['besides one', 'rolling_on_the_floor_laughing', 'covid']\n",
            "['side effects covid']\n",
            "['muscle pains', 'jiminy cricket', 'tiredness', 'nausea', 'headaches', 'fever', 'covid', 'chills']\n",
            "['19 vaccine', 'yesterday', 'covidvaccine', 'covid19', 'besides', 'astrazeneca']\n",
            "['slight headache chills', 'mild annoyance', 'get vaccinated', 'comparison covid', '19']\n",
            "['19 vaccine today', 'got covid', 'vaccination', 'trust', 'ok', '100']\n",
            "['side effect headache', 'hopefully nothing happen', 'important get vaccine', '19 vaccine', 'got covid', 'easy simple', 'please', 'far', 'afternoon']\n",
            "['19 shot vaccine', 'many people']\n",
            "['dfw area']\n",
            "['term sacrifice protection', 'least means working', 'definitely spiked fever', '19 vaccine yesterday', 'short', 'headache', 'chills']\n",
            "['muscle joint pain', 'received moderna vaccine', '19 vaccine', 'side effects', 'yesterday', 'headache', 'bad']\n",
            "['happy getting vaccine', 'party_popper', 'clinking_glasses', '19']\n",
            "['nausea', 'headaches', 'cough']\n",
            "['headache gi upset', '19 vaccine sunday', 'take vax', 'fraction virus', 'astrazeneca covid', 'sunday', 'tx', 'sucks', 'got']\n",
            "['still worth effort', 'received pfizer vaccine', 'everyone different reaction', '19']\n",
            "[]\n",
            "['fa ... safelyhq', '19 vaccine reports', '19 vaccine', 'headache day', 'featured covid', 'moderna covid', 'vaccine', 'moderna', 'texas', 'frisco']\n",
            "['handle mild headache', 'handle covid', 'one shot', 'nah wrong', 'yeah', '19']\n",
            "['got pfizer vaccine', 'enjoyed nice weekend', 'side effects', 'gotten covid', 'good luck', '2nd dose', '1st dose', '19']\n",
            "['feeling ridiculously cold', 'muscle soreness', 'headache', 'grinning_face_with_sweat']\n",
            "['choice remember covid', '19 harm vaccine']\n",
            "['j vaccine march', 'even teeth hurt', 'body aches everywhere', 'today rough', 'slight nausea', 'slight headache', 'fever 100', '5 °', 'getvaccinated', 'booster', '19']\n",
            "['slight fever headache', 'fine']\n",
            "['yesterday took j', 'j covid']\n",
            "['day gettin covid']\n",
            "['grateful vaccinated', 'nurse', 'cried', '2']\n",
            "['please get vaccinated', '19 vaccine wednesday', 'thursday']\n",
            "['2 books', 'waving_hand', 'vaccine', 'syringe', 'resolved', 'dose', 'covid_19', 'bye', 'buh', 'allergistmom']\n",
            "['sore arm', 'even flu', 'better covid', '19']\n",
            "['serious neck pain', 'joints aching', 'wsj', 'headache', 'covid', '4']\n",
            "['three days covid', 'still experiencing fever', 'nausea joint pain', 'loss appetite', '19 vaccine', 'hourglass_not_done', 'headache', 'astrazeneca']\n",
            "['happily live']\n",
            "['become anti', 'wait', 'vaxxer']\n",
            "['world vaccinated', 'wait 70', 'headache', 'fatigue']\n",
            "['please get vaccinated', 'lil bit fever', 'vaccine works', 'runny nose', 'mild asthma', 'sneezing', 'headache', '19']\n",
            "[]\n",
            "['weary_face']\n"
          ]
        },
        {
          "name": "stderr",
          "output_type": "stream",
          "text": [
            "[nltk_data] Downloading package punkt to /root/nltk_data...\n",
            "[nltk_data]   Package punkt is already up-to-date!\n"
          ]
        }
      ],
      "source": [
        "import nltk\n",
        "\n",
        "from rake_nltk import Rake\n",
        "rake_nltk_var = Rake(min_length=1, max_length=3)\n",
        "nltk.download('punkt')\n",
        "#r = Rake(min_length=2, max_length=4)\n",
        "text = \"\"\"spaCy is an open-source software library for advanced natural language processing,\n",
        "written in the programming languages Python and Cython. The library is published under the MIT license\n",
        "and its main developers are Matthew Honnibal and Ines Montani, the founders of the software company Explosion.\"\"\"\n",
        "for index, row in concat_dataset.iterrows():\n",
        "  #print(row)\n",
        "  rake_nltk_var.extract_keywords_from_text(row['tweet'])\n",
        "  keyword_extracted = rake_nltk_var.get_ranked_phrases()\n",
        "  print(keyword_extracted)"
      ]
    },
    {
      "cell_type": "markdown",
      "metadata": {
        "id": "MlXVSQBS7txT"
      },
      "source": [
        "# ***Yake***"
      ]
    },
    {
      "cell_type": "code",
      "execution_count": null,
      "metadata": {
        "colab": {
          "base_uri": "https://localhost:8080/",
          "height": 208
        },
        "id": "VvAXPnro7ta6",
        "outputId": "38a7bf2a-3c53-4e07-ed09-38458240a86e"
      },
      "outputs": [
        {
          "name": "stdout",
          "output_type": "stream",
          "text": [
            "22034\n"
          ]
        },
        {
          "data": {
            "text/plain": [
              "[('covid', 0.0006300589460505169),\n",
              " ('Pfizer COVID', 0.0011278564092939635),\n",
              " ('dose Covid', 0.0011914318793469403),\n",
              " ('vaccine', 0.0012975994708022804),\n",
              " ('covid vaccine', 0.0021504898355950283),\n",
              " ('Moderna COVID', 0.0023245786643485257),\n",
              " ('Headache', 0.00240248056292468),\n",
              " ('side effects', 0.0026123593148957825),\n",
              " ('Pfizer vaccine', 0.003710539754464686),\n",
              " ('Pfizer', 0.004037674288698391)]"
            ]
          },
          "metadata": {},
          "output_type": "display_data"
        }
      ],
      "source": [
        "#print(final)\n",
        "listToStr = ' '.join([str(elem) for elem in final])\n",
        "#print(listToStr)\n",
        "import yake\n",
        "kw_extractor = yake.KeywordExtractor()\n",
        "text = \"\"\"spaCy is an open-source software library for advanced natural language processing, written in the programming languages Python and Cython. The library is published under the MIT license and its main developers are Matthew Honnibal and Ines Montani, the founders of the software company Explosion.\"\"\"\n",
        "language = \"en\"\n",
        "max_ngram_size = 2\n",
        "deduplication_threshold = 0.7\n",
        "numOfKeywords = 10\n",
        "#keywords=[]\n",
        "print(len(listToStr))\n",
        "custom_kw_extractor = yake.KeywordExtractor(lan=language, n=max_ngram_size, dedupLim=deduplication_threshold, top=numOfKeywords, features=None)\n",
        "keywords=custom_kw_extractor.extract_keywords(listToStr)\n",
        "#for index, row in concat_dataset.iterrows():\n",
        "  #keywords.extend(custom_kw_extractor.extract_keywords(row['tweet']))\n",
        "display(keywords)\n",
        "from nltk.probability import FreqDist\n",
        "fdist = FreqDist(keywords)\n",
        "top_ten = fdist.most_common(100)\n",
        "#display(top_ten)"
      ]
    },
    {
      "cell_type": "markdown",
      "metadata": {
        "id": "1Qoj7Ef7kv4A"
      },
      "source": [
        "# ***spacy***"
      ]
    },
    {
      "cell_type": "code",
      "execution_count": null,
      "metadata": {
        "colab": {
          "background_save": true
        },
        "id": "aZCDPjpCkpYy",
        "outputId": "3fa57c6b-b6b5-4aed-859b-2995d58b94ef"
      },
      "outputs": [
        {
          "name": "stdout",
          "output_type": "stream",
          "text": [
            "(people, elderly, parents, grandparents, talked, Flu Injections, trialing, Covid Vaccine, parents, grandparents, signing)\n",
            "(side effects, vaccine, Pfizer, Extreme tiredness, Mild body aches joint pains, Headache, day, tired, Minor body aches, Minor headache, I'm, working, restrictions)\n",
            "(bandaids, place, ump's, COVID, vaccine)\n",
            "(year-old, Victoria, woman, COVID, vaccine, suffering, allergic reaction)\n",
            "(Covid, Vaccine, today, side effects, PAINFUL, ARM, HEADACHE, update)\n",
            "(second dose, Covid, vaccine, Friday, symptoms, headache, lethargic, nervous, anxious second dose, symptoms, second dose, sever, bell palsy, eyes)\n",
            "(covid, vaccine, headache, feverish)\n",
            "(nurses, aged, years, working Ujjain District Hospital, dose, COVID, vaccine, Saturday, hospitalised, complaining, fever, headache-vomitting, Health department rules, vaccine, side-effects)\n",
            "(COVID, second dose doneeee ! ! !, soreness, Ready Tylenol, hot pad, water, sweater bed 7:30, sleeping, resting, vaccines)\n",
            "(COVID, vaccine, weather, ! Headache, muscle ache arthritis pain)\n",
            "(week, day, dose, COVID, vaccine, sx sore arm, heating pad warm bath, days, fatigue, mild headaches)\n",
            "(Anyone, sinopharm pls, experience, reaction, vaccine, days, body temp, getting cold, symptoms, normal)\n",
            "(Moderna, COVID, vaccine, Saturday, lethargic headache, sore arm shoulder, body aches, fever, shot, lots)\n",
            "(guys, vaccine, sick, COVID, chills, body aches, night, headaches, nausea, dizziness, fatigue, Heads)\n",
            "(Mary, Claims, Evidence, COVID, Vaccine Yahoo)\n",
            "(Covid, vaccine, today, headaches, modernavaccine)\n",
            "(Extend HS2, pls, years, vaccine)\n",
            "(Flu, shots, year, running rampant, Trump failures, Trump endorsement peak, safe, CoVid, vaccine, American)\n",
            "(COVID, Vaccine, update, awakened, post-injection, pain, post-injection, feel achy, headache, fever chills, day)\n",
            "(dose, COVID, vaccine, medical clearance, headache right, body pain, day)\n",
            "(vaccine I, severe, side effects, headache, fever, paracetamol, trick, protection, COVID)\n",
            "(post, Pfizer, COVID, vaccine, Symptoms, Mild headache, red wine lager, type headache, Dead arm needle, muscle aches, cold, train)\n",
            "(COVID, vaccine, 2nd dose yesterday, fever, headache, arm sore joint pain, side effect, vaccine)\n",
            "(COVID, Vaccine, I'm, mild headache, tiredness, arm really sore, soreness, week)\n",
            "(Oxford University, vaccine, penicillin, discovery)\n",
            "(shitty, covid, vaccine, feel, headaches, truck, whole body sore, tired, fever)\n",
            "(Nausea, joint pains headache, Covid, happy, vaccine, NHS, volunteers, administering, vaccine)\n",
            "(Vaccine, ASA, water, fish)\n",
            "(days, Sore left arm, headache, running temperature, torementing, side effects, COVID, vaccine, I'm, drugs, vaccine)\n",
            "(Moderna, COVID, vaccine, next dose Feb 9th, injection, arm sore, days, headache right vaccine, tylenol)\n",
            "(covid, vaccine, yesterday, side effects massive headache, fever morning, body ache, feet, pain, snow, cold, numb)\n",
            "(post, COVID, vaccine, REGRETS, chills body aches, Panadol, nausea dizziness, resolved, body, COVID, army fight ! !, Doctors4Vax)\n",
            "(post, Covid, vaccine, arm pain, day, headache)\n",
            "(Eric tRUmp, Claims, Daddy Invented, COVID, Vaccine)\n",
            "(Everyone I'm, COVID, Vaccine I'm, Pain Redness, Swelling arm, shot Tiredness, Headache Muscle pain)\n",
            "(Aztrazeneca, Covid, vaccine, night sleep, headaches, fever dizziness, normal, CovidVaccine, LetNormalLifeReturns)\n",
            "(Pfizer, Covid, days, slept, killer headaches, nausea arm feels, beat, Moving hurts, moving hurts, Constant bad taste mouth, kill, vaccine, Pfizer)\n",
            "(COVID, vaccine, lunch time, followed myalgia, muscle pain, evening, Vaccines, lives, drop, dead, vaccination, Sorry sorry, antivaxxers, male_sign:)\n",
            "(Grandma, AZ, vaccine, mild headache, observation, people, mild, COVID, vaccines, Share, vaccination, stories)\n",
            "(Pfizer, covid, vaccine, lethargic, soreness, kicking, Nap, home work)\n",
            "(Post, COVID, Vaccine, headache, Fatigue joint pain, I'm, arm sore, vaccinated)\n",
            "(Took final, dose, COVID, vaccine, sweating like crazy, headache, tired, scar, vaccine, job)\n",
            "(injecting, dose, vaccine, headache, body ache, fever chills)\n",
            "(mild fever, headache, COVID, vaccine, dose, weeks, grow, extra heads)\n",
            "(vaccine, cure, pandemic)\n",
            "(differences, vaccine, trial, news)\n",
            "(COVID, vaccine, today, fatigue, precursor, deadline, homework days, finish, homework weeks)\n",
            "(recollection significant, moments, peaceful, moments, days, susceptible, repetition, COVID, vaccine)\n",
            "(vaccine, side effects, Tetanus, shot, side effect pfizer pfizer, vaccine)\n",
            "(covid, vaccine, Wednesday, day, headaches)\n",
            "(Biden, scientists, federal, funding, creation, distribution, COVID, vaccine, Expand testing, testing centers, back partnership)\n",
            "(vaccine, days, shit, minutes, dizzy, next day, chills, nausea aches pains, headache, fluey, backpain shooting pains legs)\n",
            "(vaccinated, covid-19, vaccine, headache Fever, tip)\n",
            "(dose, COVID, vaccine, Maderna, side effect, sore feel, fatigued, side effects)\n",
            "(Pfizer, Covid, vaccine, chills, whole body aches, headache, see die)\n",
            "(OK, COVID, MONTHS RIGHT)\n",
            "(vaccine, shot day, body aches, chills, headache, fever, Small price, Covid, COVIDvaccine)\n",
            "(vaccine, Side effects, dead arm, fatigue, headache sickness, Tbh, crap)\n",
            "(Welp, allergic reaction, Covid, vaccine, vaccinated, week, left arm, covid, vaccine, shot red, swollen itchy)\n",
            "(Sinopharm Jan, dose, adverse reactions, 2nd dose, dose, hang 2, days, insomnia, days, booster, Pfizer, flu, shot)\n",
            "(HOLY, SHIT, Comet killed, Dinosaurs, body aches, headache, head foggy, hot last, night, night sweats)\n",
            "(Covid, vaccine, experience, adverse side effects, chills, headache, nausea, body aches, Feeling, nap)\n",
            "(reaction, Sinopharm, doses, Pfizer, booster, mild fever, headache, general feeling, lethargy day)\n",
            "(dose, Covid, mRNA, NBiotech vaccine, Side effects, sore arm, body malaise, nausea & headache)\n",
            "(mild headache chills, Covid, vaccine, Feels, symptoms)\n",
            "(COVID, vaccination, side effects, headache, vaccine, working)\n",
            "(Can't wait, vaccine, time, denials, sigh)\n",
            "(Good Morning, first dose, Pfizer, COVID, vaccine, soreness arm, headache morning, feel, tired, tired felt yesterday, afternoon)\n",
            "(vaccinated, side effects, COVID, Vaccine, sick, Headache, sore muscles, uneasiness stomach, arm sore, days)\n",
            "(lick cum, pussy, vaccine)\n",
            "(COVID, Vaccine, Moderna, COVID, Vaccine, Moderna, Vaccine, Grapevine, Texas, got, Moderna, January, first dose, headache, SafelyHQ)\n",
            "(Good morning, injection, COVID, vaccine, pain injection headache, stay, home rest, I'm happy, cappuccino fluffy)\n",
            "(Day, Covid, vaccine, shot, yesterday, headache, extremely, tired early afternoon, day, I, read, means working)\n",
            "(day, post, COVID, vaccine, I'm, happy, spouse, mild, day, shot, arm soreness, fatigue, headache)\n",
            "(vaccine, update, headache, muscle aches)\n",
            "(covid, vaccine, shot yesterday morning, rough, Body aches & pain, Chills & headache, sore arm, shot, Natural reaction)\n",
            "(Took first, COVID, vaccine, shot yesterday I'm, fever, headache, injection site pain, Normal reactions, vaccination)\n",
            "(funds, COVID, vaccine, tomorrow Italy, lockdown, anticipation, countries)\n",
            "(Received, dose, COVID, vaccine, Moderna, morning, symptoms, ish, symptoms, kick, fever, chills nausea, mild headache, chest pain, moderate, fatigue, moderate joint pain, Worth)\n",
            "(hours, second dose, Covid, Vaccine, Pfizer, arm sore, first dose, I'm, mild headache, fatigue, normal)\n",
            "(vaccine, knocked, days, tired sleepy headache)\n",
            "(COVID, vaccination, Mild nausea, headache, arm soreness, side effects, Pfizervaccine, vaccine, COVID19, healthcareworker)\n",
            "(second, dose, COVID, vaccine, kicking, ass, Chills, Dry throat, Sniffles, Headache & body aches, wake)\n",
            "(Pfizer, vaccine, probability, Covid, minutes, reaction, Headache, later chills, nausea, Inconvenient, 2nd dose)\n",
            "(Side effects dose, Pfizer, Covid, vaccine, Arm soreness 2, Mild headache 3, Mild myalgias 4, Anger, Disgust Symptoms, coup traitor)\n",
            "(vaccine, shot yesterday, Fever, headache, chills, nausea, taste, day, COVID, dying I'm immunocompromised)\n",
            "(COVID, vaccine, today, mild, tired, headache, body aches)\n",
            "(side effect, second dose, slept, log, sleepy, torrid time, vaccine, shot, sleep)\n",
            "(COVID, vaccine, Tuesday, symptoms, headache, headache)\n",
            "(COVID, vaccine, today, I'm glad, headache)\n",
            "(reaction Pfizer, sore arm, Sinopharm ones, nothing, 2nd, extreme, tiredness)\n",
            "(Oh gosh, vaccine, reeeeally icky, Pull-Ups, soooo, back sleep girl, bigger bedtime diapers)\n",
            "(COVID, vaccine, pfizer, headache, vaccinated, Pfizer, COVID19)\n",
            "(COVID, vaccine, today, I, suffering, dizziness, headache I'm, okay, ibuprofen)\n",
            "(COVID, vaccine, update, sleep, fever, body soreness, arm, headache)\n",
            "(Adverse reactions, COVID, vaccines, rare, people, blood clots Johnson & Johnson vaccine U, AstraZeneca, Europe, FDA, pause, shots, stateside)\n",
            "(BJP, vaccine, vaccine, vaccine)\n",
            "(Receive, anti-COVID, vaccine, adverse reactions, pain, injection site, virus)\n",
            "(COVID, vaccine, knocked ass, w, fever, chills, body aches, gnarly headache, fatigue)\n",
            "(Moderna, COVID, vaccine, weeks, side effect headache, night, early, next morning, vaccinated)\n",
            "(Sinopharm, vaccinated, days, skin reaction 2 times, vaccine, skin)\n",
            "(Side effect, Pfizer, COVID, vaccine, headache, muscle pain, fatigue, throat pain, fullness, ears, paracetamol tablets)\n",
            "(COVID, vaccine, side effect, voracious appetite, headache, nausea, paracetamol)\n",
            "(vaccine, headache, coronavirus)\n",
            "(side effects, COVID, vaccine, booster, pain, middle night, stuffy nose, Happy, headache)\n",
            "(Jiminy, Cricket, Covid, vaccine, kicking, side effect, tiredness, headaches, muscle pains, chills, fever, nausea, virus)\n",
            "(second dose, vaccine, headache chills I, covid, mild, annoyance, vaccinated)\n",
            "(Covid, vaccine, today, vaccination, headache, heartbeat, OK ! ! Trust, side effect)\n",
            "(Right, vaccine, headline)\n",
            "(vaccine, feel, cold, Xx)\n",
            "(afternoon, COVID, vaccine, mins, vaccine, side effect headache)\n",
            "(get, dose, COVID, vaccine, plan, absolute, headache, body aches)\n",
            "(people's, reaction, vaccine, spasms, vaccine)\n",
            "(wal greens, vaccine, threat)\n",
            "(Pfizer, COVID, vaccine, chills, headache, fatigue, night, day, Short-term, sacrifice, protection)\n",
            "(Happy, vaccine, clinking_glasses, parents, Pfizer, Sore arm thru night headache, Ibuprofen, Covid)\n",
            "(children, Covid, vaccines, flu shots, doses, adults, kids, adverse side, body aches, cough, headaches, nausea)\n",
            "(AstraZeneca, COVID, vaccine, Sunday, Sunday, Monday, knocked arse, Tuesday, battled, fever, headache, GI, sucks, fraction virus, vax)\n",
            "(reaction, Pfizer, day, week, shot, friend sore arm, days, Covid)\n",
            "(Yeah, nah, headaches, Pfizer vaccine, Covid, otc pain medicine, U sound, sister)\n",
            "(Pfizer vaccine, dose, side effect soreness, injection, dose, side effects, Enjoyed, nice weekend, Covid, positive)\n",
            "(Pfizer, side effects, sensitive, second time sensitive arm, COVID, vaccine)\n",
            "(Moderna, booster yesterday top J & J vaccine, rough, Fever, body aches, teeth, headache, nausea, COVID)\n",
            "(dose, vaccine, fever headache)\n",
            "(Took J & J, COVID, Vaccine, headache, body pain, medicine)\n",
            "(day, COVID, vaccine headache, lightheaded hour, arm injected sore 2, days)\n",
            "(effects, Moderna, shot, headache sore arm, vaccinated, cried, nurse, risks, COVID, infection, potential, side effects, vaccine)\n",
            "(Pfizer, COVID, vaccine, Wednesday, Thursday, headache, body aches, nap, Friday, miles, vaccinated)\n",
            "(Dose, hours, shot-I, resolved, armed ready Hey Covid, buh-bye, allergistmom, covid_19, vaccine)\n",
            "(Hi, Mel, issues, vaccine, medical reasons, AstraZeneca vaccine Headache, Covid, flu)\n",
            "(days, COVID, vaccine, Astrazeneca, fever, headache, right side head mostly, loss appetite, nausea joint pain, Recovery)\n",
            "(Oxford, vaccine, sore arm dull headache, live)\n",
            "(side effect, vaccine, left arm little sore, dose, vaccine, injected, anti-vaxxer)\n",
            "(Side effects, Moderna, Vaccine, body aches, headache, fatigue, COVID, World, vaccinated)\n",
            "(vaccinated, infected, covid, symptoms, cold allergic reaction, sneezing, lil bit fever, headache, runny nose, mild asthma, symptoms, Vaccine, vaccinated)\n",
            "(covid, vaccine, shot side effects, pain, ass, headache I, fever, chills, night)\n",
            "(dose, side effects, sore, increased, temp, side effect dia, jugak)\n"
          ]
        }
      ],
      "source": [
        "#final = concat_dataset['tweet'].tolist()\n",
        "#listToStr = ' '.join([str(elem) for elem in final])\n",
        "import scispacy\n",
        "import spacy\n",
        "nlp = spacy.load(\"en_core_sci_md\")\n",
        "doc = nlp(final)\n",
        "#display(doc.ents)\n",
        "from nltk.probability import FreqDist\n",
        "fdist = FreqDist(doc.ents)\n",
        "top_ten = fdist.most_common(100)\n",
        "display(top_ten)\n",
        "text = \"\"\"spaCy is an open-source software library for advanced natural language processing,\n",
        "written in the programming languages Python and Cython. The library is published under the MIT license\n",
        "and its main developers are Matthew Honnibal and Ines Montani, the founders of the software company Explosion.\"\"\"\n",
        "\"\"\"for index, row in concat_dataset.iterrows():\n",
        "  doc = nlp(row['tweet'])\n",
        "  print(doc.ents)\"\"\""
      ]
    },
    {
      "cell_type": "code",
      "execution_count": null,
      "metadata": {
        "colab": {
          "base_uri": "https://localhost:8080/"
        },
        "id": "MoJIW8pzvH64",
        "outputId": "a705e9b2-e1da-4ddd-ca23-b8e4caf68301"
      },
      "outputs": [
        {
          "data": {
            "text/plain": [
              "[('salan hgh', 0.7642),\n",
              " ('hgh sky doctor', 0.7322),\n",
              " ('salan hgh sky', 0.7065),\n",
              " ('salan', 0.6593),\n",
              " ('sky doctor', 0.57)]"
            ]
          },
          "execution_count": 70,
          "metadata": {},
          "output_type": "execute_result"
        }
      ],
      "source": [
        "kw_model.extract_keywords(\"salan hgh sky doctor\", keyphrase_ngram_range=(1, 3), stop_words=None)"
      ]
    },
    {
      "cell_type": "markdown",
      "metadata": {
        "id": "eYjxnEtrFUNY"
      },
      "source": [
        "# *svm-kernel linear*"
      ]
    },
    {
      "cell_type": "code",
      "execution_count": null,
      "metadata": {
        "colab": {
          "background_save": true,
          "base_uri": "https://localhost:8080/",
          "height": 364
        },
        "id": "meeHiIoAhN6T",
        "outputId": "72bcbbd6-844e-43e8-9b6d-1c9a57b116d4"
      },
      "outputs": [
        {
          "name": "stdout",
          "output_type": "stream",
          "text": [
            "[0 0 0 0 1 0 0 0 1 1 0 1 0 0 1 1 0 1 1 0 0 0 1 0 0 1 0 0 1 0 0 1 1 1 0 0 1\n",
            " 1 0 0 0 0 0 0 0 1 1 1 1 1 1 0 0 1 1 1 0 1 0 1 1 0 1 0 1 0 1 1 1 1 1 0 1 0\n",
            " 1 1 0 0 1 0 1 0 1 1 0 0 1 1 0 0 1 0 1 0 1 1 1 0 0 0 1 0 0 1 0 1 1 1 0 1 0\n",
            " 1 1 1 1 1 0 1 1 0 0 1 1 0 0 1 0 0 1 0 1 1 1 1 0 1 1 0 1 1 0 0 0 1 1 0 1 0\n",
            " 1 1 0 1 0 1 1 0 0 0 0 0 0 0 1 1 1 1 1 1 0 0 1 0 0 1 0 0 1 1 0 0 0 1 0 1 0\n",
            " 1 0 1 1 1 1 0 0 1 1 0 1 1 0 1 1 0 0 0 0 0 0 1 0 1 0 1 1 0 0 1 0 0 0 1 0 0\n",
            " 1 1 1 1 1 1 1 0 1 1 1 1 0 0 1 1 1 0 0 1 0 0 0 1 1 1 0]\n"
          ]
        }
      ],
      "source": [
        "from sklearn import svm\n",
        "\n",
        "#Create a svm Classifier\n",
        "clf = svm.SVC(kernel='linear') # Linear Kernel\n",
        "\n",
        "#Train the model using the training sets\n",
        "clf.fit(df, zerolabel)\n",
        "\n",
        "#Predict the response for test dataset\n",
        "y_pred = clf.predict(X_test)\n",
        "print(y_pred)"
      ]
    },
    {
      "cell_type": "code",
      "execution_count": null,
      "metadata": {
        "colab": {
          "background_save": true,
          "base_uri": "https://localhost:8080/"
        },
        "id": "uB-SV_u2hTNX",
        "outputId": "58ac60cc-7f2f-47b0-b477-c1404ebcfc5e"
      },
      "outputs": [
        {
          "name": "stdout",
          "output_type": "stream",
          "text": [
            "Accuracy: 0.7791164658634538\n",
            "              precision    recall  f1-score   support\n",
            "\n",
            "           0       0.72      0.80      0.76       109\n",
            "           1       0.83      0.76      0.80       140\n",
            "\n",
            "    accuracy                           0.78       249\n",
            "   macro avg       0.78      0.78      0.78       249\n",
            "weighted avg       0.78      0.78      0.78       249\n",
            "\n"
          ]
        }
      ],
      "source": [
        "#Import scikit-learn metrics module for accuracy calculation\n",
        "from sklearn import metrics\n",
        "from sklearn.metrics import confusion_matrix, classification_report, recall_score, f1_score, accuracy_score, average_precision_score\n",
        "# Model Accuracy: how often is the classifier correct?\n",
        "print(\"Accuracy:\",metrics.accuracy_score(y_test, y_pred))\n",
        "print(metrics.classification_report(y_test, y_pred))"
      ]
    },
    {
      "cell_type": "markdown",
      "metadata": {
        "id": "psxApFzqGuM8"
      },
      "source": [
        "# *svm-kernel sigmoid*"
      ]
    },
    {
      "cell_type": "code",
      "execution_count": null,
      "metadata": {
        "colab": {
          "base_uri": "https://localhost:8080/"
        },
        "id": "JJ-EMCcTFz5U",
        "outputId": "3a15d3a9-0e7f-442c-da60-fec49d652131"
      },
      "outputs": [
        {
          "name": "stdout",
          "output_type": "stream",
          "text": [
            "[1 1 1 1 1 1 1 1 1 1 1 1 1 1 1 1 1 1 1 1 1 1 1 1 1 1 1 1 1 1 1 1 1 1 1 1 1\n",
            " 1 1 1 1 1 1 1 1 1 1 1 1 1 1 1 1 1 1 1 1 1 1 1 1 1 1 1 1 1 1 1 1 1 1 1 1 1\n",
            " 1 1 1 1 1 1 1 1 1 1 1 1 1 1 1 1 1 1 1 1 1 1 1 1 1 1 1 1 1 1 1 1 1 1 1 1 1\n",
            " 1 1 1 1 1 1 1 1 1 1 1 1 1 1 1 1 1 1 1 1 1 1 1 1 1 1 1 1 1 1 1 1 1 1 1 1 1\n",
            " 1 1 1 1 1 1 1 1 1 1 1 1 1 1 1 1 1 1 1 1 1 1 1 1 1 1 1 1 1 1 1 1 1 1 1 1 1\n",
            " 1 1 1 1 1 1 1 1 1 1 1 1 1 1 1 1 1 1 1 1 1 1 1 1 1 1 1 1 1 1 1 1 1 1 1 1 1\n",
            " 1 1 1 1 1 1 1 1 1 1 1 1 1 1 1 1 1 1 1 1 1 1 1 1 1 1 1]\n",
            "Accuracy: 0.5622489959839357\n",
            "              precision    recall  f1-score   support\n",
            "\n",
            "           0       0.00      0.00      0.00       109\n",
            "           1       0.56      1.00      0.72       140\n",
            "\n",
            "    accuracy                           0.56       249\n",
            "   macro avg       0.28      0.50      0.36       249\n",
            "weighted avg       0.32      0.56      0.40       249\n",
            "\n"
          ]
        },
        {
          "name": "stderr",
          "output_type": "stream",
          "text": [
            "/usr/local/lib/python3.7/dist-packages/sklearn/metrics/_classification.py:1318: UndefinedMetricWarning: Precision and F-score are ill-defined and being set to 0.0 in labels with no predicted samples. Use `zero_division` parameter to control this behavior.\n",
            "  _warn_prf(average, modifier, msg_start, len(result))\n",
            "/usr/local/lib/python3.7/dist-packages/sklearn/metrics/_classification.py:1318: UndefinedMetricWarning: Precision and F-score are ill-defined and being set to 0.0 in labels with no predicted samples. Use `zero_division` parameter to control this behavior.\n",
            "  _warn_prf(average, modifier, msg_start, len(result))\n",
            "/usr/local/lib/python3.7/dist-packages/sklearn/metrics/_classification.py:1318: UndefinedMetricWarning: Precision and F-score are ill-defined and being set to 0.0 in labels with no predicted samples. Use `zero_division` parameter to control this behavior.\n",
            "  _warn_prf(average, modifier, msg_start, len(result))\n"
          ]
        }
      ],
      "source": [
        "clf = svm.SVC(kernel='sigmoid') # Linear Kernel\n",
        "\n",
        "#Train the model using the training sets\n",
        "clf.fit(df, zerolabel)\n",
        "\n",
        "#Predict the response for test dataset\n",
        "y_pred = clf.predict(X_test)\n",
        "print(y_pred)\n",
        "print(\"Accuracy:\",metrics.accuracy_score(y_test, y_pred))\n",
        "print(metrics.classification_report(y_test, y_pred))"
      ]
    },
    {
      "cell_type": "code",
      "execution_count": null,
      "metadata": {
        "colab": {
          "base_uri": "https://localhost:8080/"
        },
        "id": "cJc7ZL3jG3xH",
        "outputId": "e32f3ceb-9d90-4c91-ab83-a6b115938193"
      },
      "outputs": [
        {
          "name": "stdout",
          "output_type": "stream",
          "text": [
            "[0 0 0 0 1 0 0 1 1 1 0 1 0 1 0 0 1 0 1 0 0 0 1 0 0 1 0 0 1 0 0 1 1 1 0 0 0\n",
            " 1 0 0 0 1 0 0 0 1 1 1 1 1 1 0 1 0 1 1 0 1 0 1 1 1 1 0 0 1 1 1 0 1 1 0 1 1\n",
            " 1 0 0 0 1 0 0 1 0 1 0 0 1 0 0 1 1 0 1 0 0 1 1 0 0 0 0 1 0 1 1 1 0 1 0 1 0\n",
            " 1 1 1 1 1 1 0 1 0 0 1 1 0 1 0 0 1 1 0 1 1 1 1 0 0 1 1 1 0 0 0 0 1 0 0 1 0\n",
            " 1 0 1 1 0 1 1 0 1 1 0 1 0 1 1 1 1 1 1 1 1 0 1 0 0 0 0 0 1 0 1 0 0 1 0 1 1\n",
            " 1 1 0 0 1 1 0 1 1 1 0 0 1 0 1 1 0 0 1 0 0 0 1 1 1 1 1 1 1 0 1 0 0 0 1 1 1\n",
            " 1 1 1 1 1 1 0 1 1 1 1 1 0 0 1 0 1 0 1 1 0 0 0 1 1 0 0]\n",
            "Accuracy: 0.9397590361445783\n",
            "              precision    recall  f1-score   support\n",
            "\n",
            "           0       0.91      0.95      0.93       109\n",
            "           1       0.96      0.93      0.95       140\n",
            "\n",
            "    accuracy                           0.94       249\n",
            "   macro avg       0.94      0.94      0.94       249\n",
            "weighted avg       0.94      0.94      0.94       249\n",
            "\n"
          ]
        }
      ],
      "source": [
        "clf = svm.SVC(kernel='rbf', random_state = 0) # Linear Kernel\n",
        "\n",
        "#Train the model using the training sets\n",
        "clf.fit(df, zerolabel)\n",
        "\n",
        "#Predict the response for test dataset\n",
        "y_pred = clf.predict(X_test)\n",
        "print(y_pred)\n",
        "print(\"Accuracy:\",metrics.accuracy_score(y_test, y_pred))\n",
        "print(metrics.classification_report(y_test, y_pred))"
      ]
    },
    {
      "cell_type": "markdown",
      "metadata": {
        "id": "LRNJuT3ZHcoP"
      },
      "source": [
        "# *svm-kernel poly*"
      ]
    },
    {
      "cell_type": "code",
      "execution_count": null,
      "metadata": {
        "colab": {
          "background_save": true,
          "base_uri": "https://localhost:8080/"
        },
        "id": "aHhm4JClHmQt",
        "outputId": "ca848702-06a0-40fe-86c2-b1fdc6c76212"
      },
      "outputs": [
        {
          "name": "stdout",
          "output_type": "stream",
          "text": [
            "[0 0 1 0 1 0 0 1 1 1 0 1 0 1 0 0 0 0 0 0 0 0 1 0 0 1 0 0 0 0 0 1 1 1 0 0 0\n",
            " 0 0 0 0 0 0 0 0 1 1 1 1 1 1 0 0 1 1 1 0 1 0 1 1 1 1 0 1 1 1 1 1 1 1 0 1 1\n",
            " 1 1 0 0 1 0 0 0 1 1 0 0 1 0 0 0 1 0 1 0 0 1 1 0 0 0 0 1 0 1 1 0 0 1 0 1 0\n",
            " 1 1 1 1 1 0 0 1 0 0 0 1 0 0 0 0 0 1 0 1 1 1 1 0 0 1 1 1 0 0 0 0 1 1 0 1 0\n",
            " 1 1 0 1 0 0 1 0 0 0 0 1 0 0 1 1 1 1 1 0 0 0 1 0 0 0 0 0 1 0 1 1 0 1 0 1 1\n",
            " 0 1 1 1 1 1 0 0 1 1 1 1 1 0 0 1 0 0 0 0 0 0 1 1 1 0 1 1 0 0 1 0 0 0 1 1 0\n",
            " 1 0 1 1 0 1 0 1 1 1 0 1 0 0 1 0 1 0 1 1 0 0 0 1 1 1 0]\n",
            "Accuracy: 0.8594377510040161\n",
            "              precision    recall  f1-score   support\n",
            "\n",
            "           0       0.78      0.94      0.85       109\n",
            "           1       0.94      0.80      0.86       140\n",
            "\n",
            "    accuracy                           0.86       249\n",
            "   macro avg       0.86      0.87      0.86       249\n",
            "weighted avg       0.87      0.86      0.86       249\n",
            "\n"
          ]
        }
      ],
      "source": [
        "clf = svm.SVC(kernel='poly', degree = 4) # Linear Kernel\n",
        "\n",
        "#Train the model using the training sets\n",
        "clf.fit(df, zerolabel)\n",
        "\n",
        "#Predict the response for test dataset\n",
        "y_pred = clf.predict(X_test)\n",
        "print(y_pred)\n",
        "print(\"Accuracy:\",metrics.accuracy_score(y_test, y_pred))\n",
        "print(metrics.classification_report(y_test, y_pred))"
      ]
    },
    {
      "cell_type": "code",
      "execution_count": null,
      "metadata": {
        "colab": {
          "background_save": true,
          "base_uri": "https://localhost:8080/"
        },
        "id": "xWL_ekyJhYyT",
        "outputId": "232b62e5-b510-41c7-d478-d0744c4b6d02"
      },
      "outputs": [
        {
          "name": "stdout",
          "output_type": "stream",
          "text": [
            "Precision: 0.9411764705882353\n",
            "Recall: 0.8\n"
          ]
        }
      ],
      "source": [
        "# Model Precision: what percentage of positive tuples are labeled as such?\n",
        "print(\"Precision:\",metrics.precision_score(y_test, y_pred))\n",
        "\n",
        "# Model Recall: what percentage of positive tuples are labelled as such?\n",
        "print(\"Recall:\",metrics.recall_score(y_test, y_pred))\n"
      ]
    },
    {
      "cell_type": "markdown",
      "metadata": {
        "id": "-AfJm3f_eLQa"
      },
      "source": [
        "# ***final code***"
      ]
    },
    {
      "cell_type": "code",
      "execution_count": null,
      "metadata": {
        "id": "YHTg0A1hcK5J"
      },
      "outputs": [],
      "source": [
        "from sentence_transformers import SentenceTransformer\n",
        "model = SentenceTransformer('vinai/bertweet-covid19-base-uncased')\n",
        "print(model)\n",
        "    #tweets = tweets.replace(to_replace=['\\,'], value=' ', regex = True)\n",
        "    #print(tweets)"
      ]
    },
    {
      "cell_type": "code",
      "execution_count": null,
      "metadata": {
        "id": "zvdfzbGVcgVe"
      },
      "outputs": [],
      "source": [
        "embeddings0 = model.encode(txtzero,normalize_embeddings=True,convert_to_numpy=True)\n",
        "embeddings1 = model.encode(txtone,normalize_embeddings=True,convert_to_numpy=True)\n",
        "embeddings2 = model.encode(txtreview,normalize_embeddings=True,convert_to_numpy=True)\n",
        "print(embeddings0)"
      ]
    },
    {
      "cell_type": "code",
      "execution_count": null,
      "metadata": {
        "id": "Tb9Y8EUWfTRC"
      },
      "outputs": [],
      "source": [
        "cosine = cosine_similarity(embeddings0, embeddings2)\n",
        "print(cosine)"
      ]
    },
    {
      "cell_type": "code",
      "execution_count": null,
      "metadata": {
        "id": "tAO4H4Qlc8Tt"
      },
      "outputs": [],
      "source": [
        "cosine_scores = util.cos_sim(embeddings0, embeddings2)\n",
        "print(cosine_scores)\n",
        "cosine_scores = util.cos_sim(embeddings1, embeddings2)\n",
        "print(cosine_scores)"
      ]
    },
    {
      "cell_type": "code",
      "execution_count": null,
      "metadata": {
        "id": "3OMo72XZrygx"
      },
      "outputs": [],
      "source": [
        "from sklearn.feature_extraction.text import TfidfVectorizer\n",
        "from sklearn.metrics.pairwise import cosine_similarity\n",
        "import pandas as pd\n",
        "import numpy as np\n",
        "\n",
        "#string = 'Them Phillips toothbrush refills ARE NOT CHEAP'\n",
        "#string_list = ['abc', 'abcd', 'abec', 'ab', 'abcde', 'qwe']\n",
        "\n",
        "tfidf_vectorizer = TfidfVectorizer(analyzer=\"char\")\n",
        "\n",
        "sparse_matrix = tfidf_vectorizer.fit_transform(txtzero+txtreview)\n",
        "cosine = cosine_similarity(sparse_matrix[0,:],sparse_matrix[1:,:])\n",
        "print(cosine)\n",
        "#pd.DataFrame({'cosine':cosine[0],'strings':txtreview}).sort_values('cosine',ascending=False)\n"
      ]
    },
    {
      "cell_type": "code",
      "execution_count": null,
      "metadata": {
        "id": "AHwvxEYxs0YJ"
      },
      "outputs": [],
      "source": [
        "from sklearn.feature_extraction.text import TfidfVectorizer\n",
        "from sklearn.metrics.pairwise import cosine_similarity\n",
        "import pandas as pd\n",
        "import numpy as np\n",
        "\n",
        "string = 'I had a lot of nausea, bad headache, muscle aches, fatigue, arm pain and a few other side effects for about 48 hours after my second dose of the Pfizer Covid-19 vaccine'\n",
        "#string_list = ['abc', 'abcd', 'abec', 'ab', 'abcde', 'qwe']\n",
        "\n",
        "tfidf_vectorizer = TfidfVectorizer(analyzer=\"char\")\n",
        "\n",
        "sparse_matrix = tfidf_vectorizer.fit_transform(txtone+txtreview)\n",
        "cosine = cosine_similarity(sparse_matrix[0:],sparse_matrix[0:])\n",
        "print(len(cosine[0]))\n",
        "print(cosine)\n",
        "#pd.DataFrame({'cosine':cosine[0],'strings':txtreview}).sort_values('cosine',ascending=False)\n"
      ]
    },
    {
      "cell_type": "code",
      "execution_count": null,
      "metadata": {
        "id": "-lVdaNjvMRHS"
      },
      "outputs": [],
      "source": [
        "\n",
        "\n",
        "!pip install sentence-transformers\n",
        "\n"
      ]
    },
    {
      "cell_type": "code",
      "execution_count": null,
      "metadata": {
        "id": "dM4GbAzzMWlu"
      },
      "outputs": [],
      "source": [
        "from sentence_transformers import SentenceTransformer\n",
        "sbert_model = SentenceTransformer(\"vinai/bertweet-covid19-base-uncased\")"
      ]
    },
    {
      "cell_type": "code",
      "execution_count": null,
      "metadata": {
        "id": "10BJx08CMxXm"
      },
      "outputs": [],
      "source": [
        "sentence_embeddings = sbert_model.encode(txtone)\n",
        "sentence_embeddings.tolist()"
      ]
    },
    {
      "cell_type": "code",
      "execution_count": null,
      "metadata": {
        "id": "o23Z1BAuNGrI"
      },
      "outputs": [],
      "source": [
        "query = \"Fever of 101, headache, sore arm\"\n",
        "query_vec = sbert_model.encode([query])[0]\n"
      ]
    },
    {
      "cell_type": "code",
      "execution_count": null,
      "metadata": {
        "id": "VHS8OngVNUQ2"
      },
      "outputs": [],
      "source": [
        "for sent in sentences:\n",
        "  sim = cosine(query_vec, model.encode([sent])[0])\n",
        "  print(\"Sentence = \", sent, \"; similarity = \", sim)"
      ]
    },
    {
      "cell_type": "code",
      "execution_count": null,
      "metadata": {
        "id": "4sokfuUIE2nY"
      },
      "outputs": [],
      "source": [
        "bertweet = AutoModel.from_pretrained(\"vinai/bertweet-covid19-base-uncased\")\n",
        "\n",
        "tokenizer = AutoTokenizer.from_pretrained(\"vinai/bertweet-covid19-base-uncased\", normalization = True)\n",
        "#bertweet.eval()"
      ]
    },
    {
      "cell_type": "code",
      "execution_count": null,
      "metadata": {
        "id": "Dg1_i268Z9EP"
      },
      "outputs": [],
      "source": [
        "sent = \"salam fever ilness\"\n",
        "print(tokenizer.encode(sent, add_special_tokens=True, padding='max_length', max_length=130))\n",
        "input_ids = torch.tensor([tokenizer.encode(,)])\n",
        "print(input_ids)\n"
      ]
    },
    {
      "cell_type": "code",
      "execution_count": null,
      "metadata": {
        "id": "ztlORrHS_pzw"
      },
      "outputs": [],
      "source": [
        "\"\"\"from numpy.ma.core import maximum\n",
        "texts = []\n",
        "co=0\n",
        "u=[]\n",
        "\n",
        "twt = []\n",
        "texts = tweets[[\"tweet\"]].values\n",
        "\n",
        "tt = TweetTokenizer()\n",
        "#print(tt.tokenize(texts))\n",
        "tweet = \"DHEC confirms HTTPURL via @USER :crying_face:\"\n",
        "for k in texts:\n",
        "\n",
        "  twt.append(tt.tokenize(k))\n",
        "print(twt)\n",
        "#print(type(texts[15]))\"\"\"\n",
        "T = 0\n",
        "def tokenizer_encode(listoftexts):\n",
        "  indexed_tokens = []\n",
        "  padded_tokens = []\n",
        "  length = []\n",
        "  for t in listoftexts:\n",
        "    #print(tokenizer.tokenize(t))\n",
        "    indexed_tokens.append(tokenizer.encode(t))\n",
        "    length.append(len(tokenizer.encode(t)))\n",
        "  T=max(length)\n",
        "  for j in indexed_tokens:\n",
        "    padded_tokens.append(j + [0 for _ in range(T-len(j))])\n",
        "  #print(padded_tokens)\n",
        "  return padded_tokens\n",
        "\n",
        "#print(max(u))\n",
        "#print(indexed_tokens)\n",
        "#print(tuple(indexed_tokens))\n",
        "#df = pd.DataFrame(indexed_tokens, columns =['1','2','3','4','5','6','7','8','9','12','13','14','15','16','17','18','19','20','21','22','23','24','25'])\n",
        "#print(df )"
      ]
    },
    {
      "cell_type": "code",
      "execution_count": null,
      "metadata": {
        "id": "hW8cssRwwwDa"
      },
      "outputs": [],
      "source": [
        "token_encode_one = tokenizer_encode(txtone)\n",
        "token_encode_zero = tokenizer_encode(txtzero)\n",
        "token_encode_review = tokenizer_encode(txtreview)\n",
        "#print(token_encode_review)"
      ]
    },
    {
      "cell_type": "code",
      "execution_count": null,
      "metadata": {
        "id": "WpMrMhNqyGOb"
      },
      "outputs": [],
      "source": [
        "\"\"\"def bertmodel(tokenencode):\n",
        "  input_ids = torch.tensor([tokenencode]).squeeze(0)\n",
        "  #input_ids = t.resize_(2,T)\n",
        "  #input_ids = input_ids.squeeze(0)\n",
        "  print(input_ids.shape)\n",
        "  #print(input_ids)\n",
        "  with torch.no_grad():\n",
        "      features_vec = bertweet(input_ids)\n",
        "  print(\"**************\")\n",
        "  print(features_vec[0].shape)\n",
        "  #print(features_vec)\n",
        "  print(\"ok\")\n",
        "  Bert_hidden_states = features_vec[2]\n",
        "  print(\"layer\", len(Bert_hidden_states))\n",
        "  print(\"batches\", len(Bert_hidden_states[0]))\n",
        "  print(\"tokens\", len(Bert_hidden_states[0][0]))\n",
        "  print(\"hidden unit\", len(Bert_hidden_states[0][0][0]))\n",
        "  return Bert_hidden_states\"\"\"\n"
      ]
    },
    {
      "cell_type": "code",
      "execution_count": null,
      "metadata": {
        "id": "BdAoUNQwIE08"
      },
      "outputs": [],
      "source": [
        "def bertmodel(tokenencode):\n",
        "  input_ids = torch.tensor([tokenencode]).squeeze(0)\n",
        "  #input_ids = t.resize_(2,T)\n",
        "  #input_ids = input_ids.squeeze(0)\n",
        "  print(input_ids.shape)\n",
        "  #print(input_ids)\n",
        "  with torch.no_grad():\n",
        "      features_vec = bertweet(input_ids)\n",
        "  print(\"**************\")\n",
        "  print(features_vec[0].shape)\n",
        "  print(features_vec)\n",
        "  print(\"ok\")\n",
        "  Bert_hidden_states = features_vec[1]\n",
        "  print(\"layer\", len(Bert_hidden_states))\n",
        "  print(Bert_hidden_states)\n",
        "  print(\"batches\", len(Bert_hidden_states[0]))\n",
        "  return Bert_hidden_states\n"
      ]
    },
    {
      "cell_type": "code",
      "execution_count": null,
      "metadata": {
        "id": "88jPOA_0zOC1"
      },
      "outputs": [],
      "source": [
        "bert_hidden_one = bertmodel(token_encode_one)\n",
        "bert_hidden_zero = bertmodel(token_encode_zero)\n"
      ]
    },
    {
      "cell_type": "code",
      "execution_count": null,
      "metadata": {
        "id": "VqszbeTWwKed"
      },
      "outputs": [],
      "source": [
        "a = [ ]\n",
        "while(1):\n",
        "  a.append('1')"
      ]
    },
    {
      "cell_type": "code",
      "execution_count": null,
      "metadata": {
        "id": "leltlrLL8kLJ"
      },
      "outputs": [],
      "source": [
        "bert_hidden_review = bertmodel(token_encode_review)"
      ]
    },
    {
      "cell_type": "code",
      "execution_count": null,
      "metadata": {
        "id": "-hDIwDXgzfpU"
      },
      "outputs": [],
      "source": [
        "def sentence_embedding(Bert_hidden_states):\n",
        "  sentence_embed = []\n",
        "  for i in range(0,len(Bert_hidden_states[0])):\n",
        "    token_vecs = Bert_hidden_states[11][i]\n",
        "    #print(token_vecs)\n",
        "    #sentence_embed.append(torch.mean(token_vecs, dim=0))\n",
        "    sentence = torch.mean(token_vecs, dim=0)\n",
        "    sentence = sentence.numpy()\n",
        "    #print(sentence)\n",
        "    sentence_embed.append(sentence)\n",
        "  #print(sentence_embed[100])\n",
        "  #print(len(sentence_embed[209]))\n",
        "  #print(len(sentence_embed[441]))\n",
        "  return sentence_embed"
      ]
    },
    {
      "cell_type": "code",
      "execution_count": null,
      "metadata": {
        "id": "2LAHv5y42e11"
      },
      "outputs": [],
      "source": [
        "sent_embed_one = sentence_embedding(bert_hidden_one)\n",
        "sent_embed_zero = sentence_embedding(bert_hidden_zero)\n",
        "sent_embed_review = sentence_embedding(bert_hidden_review)\n",
        "#sent_embed_review = sent_embed_review.numpy()\n",
        "x = sent_embed_one[0:1]\n",
        "y = sent_embed_zero[0:1]\n",
        "b = sent_embed_one + sent_embed_zero\n",
        "print(len(sent_embed_zero))\n",
        "print(\"sent_embed_one\", sent_embed_one[0:1])\n",
        "print(\"sent_embed_zero\", sent_embed_zero[0:1])\n",
        "print(\"sent_embed_review\", sent_embed_review[0:1])"
      ]
    },
    {
      "cell_type": "code",
      "execution_count": null,
      "metadata": {
        "id": "2QuuMpQFq7N3"
      },
      "outputs": [],
      "source": [
        "cosine_similarity(bert_hidden_zero[0:], bert_hidden_review[644:645])"
      ]
    },
    {
      "cell_type": "code",
      "execution_count": null,
      "metadata": {
        "id": "c60iWYVuS5yw"
      },
      "outputs": [],
      "source": [
        "cosine_similarity(bert_hidden_one[0:], bert_hidden_review[644:645])"
      ]
    },
    {
      "cell_type": "code",
      "execution_count": null,
      "metadata": {
        "id": "g8mlUjxBzQeU"
      },
      "outputs": [],
      "source": [
        "o_list = []\n",
        "t = cosine_similarity(bert_hidden_one[0:], bert_hidden_review[0:]).tolist()\n",
        "arr = np.array(t)\n",
        "arr = numpy.around(arr, decimals=2)\n",
        "\n",
        "#sorted_array = np.sort(array)\n",
        "# [1, 2, 3, 4, 5, 6, 7]\n",
        "#print(sorted_array)\n",
        "# Reverse the sorted array\n",
        "#reverse_array = sorted_array[::-1]\n",
        "#print(array)\n",
        "#array = numpy.sort(array)\n",
        "#print(array)\n",
        "tm2 = []\n",
        "#np_array = np.array(a_list)\n",
        "#array = array.tolist()\n",
        "#print(array[0][-1,-2,-3,-4,-5])\n",
        "for i in range(0, len(sent_embed_one)):\n",
        "  temp2 = numpy.sort(arr[i])\n",
        "  tm2.append(min(temp2))\n",
        "  o_list.append(temp2[len(temp2)-5:].tolist())\n",
        "  #print(z_list)\n",
        "print(o_list)\n",
        "print(min(tm2))"
      ]
    },
    {
      "cell_type": "code",
      "execution_count": null,
      "metadata": {
        "id": "NHaZ9LZYktA2"
      },
      "outputs": [],
      "source": []
    },
    {
      "cell_type": "code",
      "execution_count": null,
      "metadata": {
        "id": "fTSPIHxoDFNp"
      },
      "outputs": [],
      "source": [
        "zero_list = []\n",
        "for i in range(0, len(sent_embed_zero)):\n",
        "  zero_list.append(cosine_similarity(sent_embed_zero[0:], sent_embed_review[0:])[i])\n",
        "  zero_list.sort()\n",
        "print(zero_list)\n",
        "print(len(zero_list))"
      ]
    },
    {
      "cell_type": "code",
      "execution_count": null,
      "metadata": {
        "id": "okTuYl8ryuT8"
      },
      "outputs": [],
      "source": [
        "print(max(cosine_similarity(sent_embed_review[0:], sent_embed_one[7:13])[4]))"
      ]
    },
    {
      "cell_type": "code",
      "execution_count": null,
      "metadata": {
        "id": "5X_YaGAMeLLm"
      },
      "outputs": [],
      "source": [
        "one_svm = OneClassSVM(gamma='auto', nu=0.01, kernel= \"linear\").fit(sent_embed_review)"
      ]
    },
    {
      "cell_type": "code",
      "execution_count": null,
      "metadata": {
        "id": "_XGekoVAmed7"
      },
      "outputs": [],
      "source": [
        "one_svm.predict(b)"
      ]
    },
    {
      "cell_type": "code",
      "execution_count": null,
      "metadata": {
        "id": "-eilBKqGnJSU"
      },
      "outputs": [],
      "source": [
        "one_svm.predict(sent_embed_one)"
      ]
    },
    {
      "cell_type": "code",
      "execution_count": null,
      "metadata": {
        "id": "pF8bTOPIF5np"
      },
      "outputs": [],
      "source": [
        "#print(\"batches\", Bert_hidden_states[0])\n",
        "#print(\"batches\", len(Bert_hidden_states[15]))\n",
        "#print(\"batches\", len(Bert_hidden_states[24]))\n",
        "#print(\"tokens\", Bert_hidden_states[0][0])\n",
        "#print(\"tokens\", Bert_hidden_states[1][0])\n",
        "#print(\"tokens\", Bert_hidden_states[24][0])\n",
        "#print(\"hidden unit\", Bert_hidden_states[0][0][0])\n",
        "#print(len(token_vecs))\n",
        "#token_vecs = Bert_hidden_states[24][0]\n",
        "#print(len(token_vecs))\n",
        "token_vecs = Bert_hidden_states[-2][441]\n",
        "print(len(token_vecs))\n",
        "sentence_embedding = torch.mean(token_vecs, dim=0)\n",
        "print(sentence_embedding)\n",
        "print(token_vecs.shape)\n",
        "# Calculate the average of all 23 token vectors.\n",
        "sentence_embedding = torch.mean(token_vecs, dim=0)\n",
        "print (\"Our final sentence embedding vector of shape:\", sentence_embedding.size())\n",
        "print(len(sentence_embedding))"
      ]
    },
    {
      "cell_type": "code",
      "execution_count": null,
      "metadata": {
        "id": "AAqndxlrsdFs"
      },
      "outputs": [],
      "source": [
        "nsamples, nx, ny = train_dataset.shape\n",
        "d2_train_dataset = train_dataset.reshape((nsamples,nx*ny))"
      ]
    },
    {
      "cell_type": "code",
      "execution_count": null,
      "metadata": {
        "id": "TFl_iGweVndU"
      },
      "outputs": [],
      "source": [
        "sentence_embedding = []\n",
        "for i in range(0,442):\n",
        "  token_vecs = Bert_hidden_states[-2][i]\n",
        "  sentence_embedding.append(torch.mean(token_vecs, dim=0))\n",
        "print(len(sentence_embedding))\n",
        "print(sentence_embedding[441])\n",
        "print(len(sentence_embedding[441]))"
      ]
    },
    {
      "cell_type": "code",
      "execution_count": null,
      "metadata": {
        "id": "j3WXXU9ROQR9"
      },
      "outputs": [],
      "source": [
        "one_list = []\n",
        "for i in range(0, len(sent_embed_one)):\n",
        "  one_list.append(max(cosine_similarity(sent_embed_one[0:], sent_embed_review[0:])[i]))\n",
        "one_list.sort(reverse = True)\n",
        "print(one_list)\n",
        "print(len(one_list))"
      ]
    },
    {
      "cell_type": "code",
      "execution_count": null,
      "metadata": {
        "id": "QqrOya21SPFH"
      },
      "outputs": [],
      "source": [
        "indexed_tokens0 = []\n",
        "padded_tokens0 = []\n",
        "T=146\n",
        "for i in txtzero:\n",
        "  #print(\"gggggggg\",i.item())\n",
        "  #print(type(i))\n",
        "  indexed_tokens0.append(tokenizer.encode(i))\n",
        "  #u.append(len(tokenizer.encode(i)))\n",
        "  #padded_tokens.append(indexed_tokens + [0 for o in range(T-len(tokenizer.encode(i)))])\n",
        "  #print(padded_tokens)\n",
        "#print(max(u))\n",
        "for j in indexed_tokens0:\n",
        "  padded_tokens0.append(j + [0 for _ in range(T-len(j))])\n",
        "print(padded_tokens0)"
      ]
    },
    {
      "cell_type": "code",
      "execution_count": null,
      "metadata": {
        "id": "ASBAEX-N8orV"
      },
      "outputs": [],
      "source": [
        "_!git clone --single-branch --branch fast_tokenizers_BARTpho_PhoBERT_BERTweet https://github.com/datquocnguyen/transformers.git\n",
        "!cd transformers\n",
        "!pip3 install -e"
      ]
    },
    {
      "cell_type": "code",
      "execution_count": null,
      "metadata": {
        "id": "2LRm1bmLw5sB"
      },
      "outputs": [],
      "source": [
        "print(sentence_embedding[:10])"
      ]
    },
    {
      "cell_type": "code",
      "execution_count": null,
      "metadata": {
        "id": "CRXdFlVOCz8E"
      },
      "outputs": [],
      "source": [
        "co = 0\n",
        "#t = \"salam kkjk\"\n",
        "#indexed_tokens = tokenizer.encode(t, add_special_tokens=True)\n",
        "#print(type(indexed_tokens))\n",
        "input_ids = torch.tensor(indexed_tokens)\n",
        "for i in texts:\n",
        "  co = co + 1\n",
        "  #print(co)\n",
        "  input_ids = (torch.tensor([tokenizer.encode(i)]))\n",
        "  #torch.save(input_ids, 'tensor.pt')\n",
        "  #with torch.no_grad():\n",
        "    #features = bertweet(input_ids)\n",
        "\n",
        "\n",
        "#print(features[0])\n",
        "print(input_ids)\n",
        "print(input_ids.shape)\n",
        "with torch.no_grad():\n",
        "    features = bertweet('tensor.pt')\n",
        "print(features[0])\n",
        "#print(features['last_hidden_state'].shape)\n",
        "zeros_tensor4 = torch.zeros([1,2,3])\n",
        "#print(zeros_tensor4)\n",
        "#print(zeros_tensor4.shape)\n",
        "#print(features.keys())\n",
        "#features (shape (batch_size, sequence_length, hidden_size))"
      ]
    },
    {
      "cell_type": "code",
      "execution_count": null,
      "metadata": {
        "id": "YXIQMd3PCGiM"
      },
      "outputs": [],
      "source": [
        "from transformers.utils.dummy_tokenizers_objects import BertTokenizerFast\n",
        "import torch\n",
        "from transformers import AutoModel, AutoTokenizer, BertTokenizer\n",
        "bertweet = AutoModel.from_pretrained(\"vinai/bertweet-large\")\n",
        "\n",
        "tokenizer = AutoTokenizer.from_pretrained(\"roberta-large\")\n",
        "# INPUT TWEET IS ALREADY NORMALIZED!\n",
        "line = \"DHEC confirms HTTPURL via @USER :crying_face:\"\n",
        "t = tokenizer.tokenize(line)\n",
        "\n",
        "#inputs = tokenizer(line, return_tensors=\"tf\")\n",
        "\n",
        "print(t)\n",
        "#input_ids = torch.tensor([tokenizer.encode(line, max_length=512)])\n",
        "print(input_ids.shape)\n",
        "with torch.no_grad():\n",
        "    features = bertweet(input_ids)\n",
        "print( features[0].shape)"
      ]
    },
    {
      "cell_type": "code",
      "execution_count": null,
      "metadata": {
        "id": "JfDjHbzrUWid"
      },
      "outputs": [],
      "source": [
        "jupyter notebook --NotebookApp.iopub_data_rate_limit=1.0e10"
      ]
    },
    {
      "cell_type": "code",
      "execution_count": null,
      "metadata": {
        "id": "jRDRHzUgAaWb"
      },
      "outputs": [],
      "source": [
        "text = \"[CLS] Who was Jim Henson ? [SEP] Jim Henson was a puppeteer [SEP]\"\n",
        "tokenized_text = tokenizer.encode(\"salam\")\n",
        "print(tokenized_text)"
      ]
    },
    {
      "cell_type": "code",
      "execution_count": null,
      "metadata": {
        "id": "D2r0UpumSsIM"
      },
      "outputs": [],
      "source": [
        "input_ids0 = torch.tensor([padded_tokens0]).squeeze(0)\n",
        "#input_ids = input_ids.squeeze(0)\n",
        "print(input_ids0.shape)\n",
        "print(input_ids0)\n",
        "with torch.no_grad():\n",
        "    features_vec = bertweet(input_ids0)\n",
        "features_vec.keys()\n",
        "print(\"**************\")\n",
        "print(features_vec[0].shape)\n",
        "#print(features[2].shape)\n",
        "print(\"ok\")\n",
        "Bert_hidden_states_zero = features_vec[2]\n",
        "print(\"layer\", len(Bert_hidden_states_zero))\n",
        "\n",
        "\n",
        "print(\"batches\", len(Bert_hidden_states_zero[0]))\n",
        "print(\"tokens\", len(Bert_hidden_states_zero[0][0]))\n",
        "print(\"hidden unit\", len(Bert_hidden_states_zero[0][0][0]))"
      ]
    },
    {
      "cell_type": "code",
      "execution_count": null,
      "metadata": {
        "id": "GC7XZBQ6vFBe"
      },
      "outputs": [],
      "source": [
        "input_ids1 = torch.tensor([padded_tokens1]).squeeze(0)\n",
        "#input_ids = input_ids.squeeze(0)\n",
        "print(input_ids1.shape)\n",
        "print(input_ids1)\n",
        "with torch.no_grad():\n",
        "    features = bertweet(input_ids1)\n",
        "features.keys()\n",
        "print(\"**************\")\n",
        "print(features[0].shape)\n",
        "#print(features[2].shape)\n",
        "print(\"ok\")\n",
        "Bert_hidden_states = features[2]\n",
        "print(\"layer\", len(Bert_hidden_states))\n",
        "\n",
        "\n",
        "print(\"batches\", len(Bert_hidden_states[0]))\n",
        "print(\"tokens\", len(Bert_hidden_states[0][0]))\n",
        "print(\"hidden unit\", len(Bert_hidden_states[0][0][0]))"
      ]
    },
    {
      "cell_type": "code",
      "execution_count": null,
      "metadata": {
        "id": "vj2934WNWptO"
      },
      "outputs": [],
      "source": [
        "#txts = tuple(texts)"
      ]
    },
    {
      "cell_type": "code",
      "execution_count": null,
      "metadata": {
        "id": "Ae-1dU8QAXmp"
      },
      "outputs": [],
      "source": [
        "#import tensorflow as tf"
      ]
    }
  ],
  "metadata": {
    "accelerator": "GPU",
    "colab": {
      "provenance": [],
      "mount_file_id": "16_DRY0xNl7uNsVGtdXZzcdepvs1ym5L0",
      "authorship_tag": "ABX9TyMNmYT14Uc4CML1reNEsnhl",
      "include_colab_link": true
    },
    "gpuClass": "standard",
    "kernelspec": {
      "display_name": "Python 3",
      "name": "python3"
    },
    "language_info": {
      "name": "python"
    },
    "widgets": {
      "application/vnd.jupyter.widget-state+json": {
        "0307d81778f74c67a0791d22687a77b6": {
          "model_module": "@jupyter-widgets/controls",
          "model_module_version": "1.5.0",
          "model_name": "HBoxModel",
          "state": {
            "_dom_classes": [],
            "_model_module": "@jupyter-widgets/controls",
            "_model_module_version": "1.5.0",
            "_model_name": "HBoxModel",
            "_view_count": null,
            "_view_module": "@jupyter-widgets/controls",
            "_view_module_version": "1.5.0",
            "_view_name": "HBoxView",
            "box_style": "",
            "children": [
              "IPY_MODEL_c8477ae1ed92441a966da6a35bcab835",
              "IPY_MODEL_47c67a3b20ac4683bfb2170fb125a32e",
              "IPY_MODEL_98780fbd2e9146479dcdccd052ee2a00"
            ],
            "layout": "IPY_MODEL_caf0b23a5f3d4e809847d5bc3df269eb"
          }
        },
        "05265285583b4ab3bb01b99c5901efaf": {
          "model_module": "@jupyter-widgets/controls",
          "model_module_version": "1.5.0",
          "model_name": "FloatProgressModel",
          "state": {
            "_dom_classes": [],
            "_model_module": "@jupyter-widgets/controls",
            "_model_module_version": "1.5.0",
            "_model_name": "FloatProgressModel",
            "_view_count": null,
            "_view_module": "@jupyter-widgets/controls",
            "_view_module_version": "1.5.0",
            "_view_name": "ProgressView",
            "bar_style": "success",
            "description": "",
            "description_tooltip": null,
            "layout": "IPY_MODEL_fa144d58d3514122836503f240dd96b4",
            "max": 231508,
            "min": 0,
            "orientation": "horizontal",
            "style": "IPY_MODEL_fbdcbf2b3d284d28a6fdf0a565625f25",
            "value": 231508
          }
        },
        "0c06ed0a66c34c5da5614e98fd225152": {
          "model_module": "@jupyter-widgets/controls",
          "model_module_version": "1.5.0",
          "model_name": "HBoxModel",
          "state": {
            "_dom_classes": [],
            "_model_module": "@jupyter-widgets/controls",
            "_model_module_version": "1.5.0",
            "_model_name": "HBoxModel",
            "_view_count": null,
            "_view_module": "@jupyter-widgets/controls",
            "_view_module_version": "1.5.0",
            "_view_name": "HBoxView",
            "box_style": "",
            "children": [
              "IPY_MODEL_dcb0f61db07249168f6ed3a2682be516",
              "IPY_MODEL_4e65b387a42a47ed93b43f57c273a41d",
              "IPY_MODEL_613fc903a93f444287d6a7c5c3eabdd3"
            ],
            "layout": "IPY_MODEL_dd4a5d8653b44f1c931658736ebd16e4"
          }
        },
        "1697b42719d44d6d92b25ae4441c8a51": {
          "model_module": "@jupyter-widgets/base",
          "model_module_version": "1.2.0",
          "model_name": "LayoutModel",
          "state": {
            "_model_module": "@jupyter-widgets/base",
            "_model_module_version": "1.2.0",
            "_model_name": "LayoutModel",
            "_view_count": null,
            "_view_module": "@jupyter-widgets/base",
            "_view_module_version": "1.2.0",
            "_view_name": "LayoutView",
            "align_content": null,
            "align_items": null,
            "align_self": null,
            "border": null,
            "bottom": null,
            "display": null,
            "flex": null,
            "flex_flow": null,
            "grid_area": null,
            "grid_auto_columns": null,
            "grid_auto_flow": null,
            "grid_auto_rows": null,
            "grid_column": null,
            "grid_gap": null,
            "grid_row": null,
            "grid_template_areas": null,
            "grid_template_columns": null,
            "grid_template_rows": null,
            "height": null,
            "justify_content": null,
            "justify_items": null,
            "left": null,
            "margin": null,
            "max_height": null,
            "max_width": null,
            "min_height": null,
            "min_width": null,
            "object_fit": null,
            "object_position": null,
            "order": null,
            "overflow": null,
            "overflow_x": null,
            "overflow_y": null,
            "padding": null,
            "right": null,
            "top": null,
            "visibility": null,
            "width": null
          }
        },
        "1acabd9f4a70431893b972228376e0f0": {
          "model_module": "@jupyter-widgets/controls",
          "model_module_version": "1.5.0",
          "model_name": "FloatProgressModel",
          "state": {
            "_dom_classes": [],
            "_model_module": "@jupyter-widgets/controls",
            "_model_module_version": "1.5.0",
            "_model_name": "FloatProgressModel",
            "_view_count": null,
            "_view_module": "@jupyter-widgets/controls",
            "_view_module_version": "1.5.0",
            "_view_name": "ProgressView",
            "bar_style": "success",
            "description": "",
            "description_tooltip": null,
            "layout": "IPY_MODEL_1f891242a1de49bca41656c5fc4d0ded",
            "max": 62,
            "min": 0,
            "orientation": "horizontal",
            "style": "IPY_MODEL_e51171b86bea428f80e834d1f49b4ef3",
            "value": 62
          }
        },
        "1f891242a1de49bca41656c5fc4d0ded": {
          "model_module": "@jupyter-widgets/base",
          "model_module_version": "1.2.0",
          "model_name": "LayoutModel",
          "state": {
            "_model_module": "@jupyter-widgets/base",
            "_model_module_version": "1.2.0",
            "_model_name": "LayoutModel",
            "_view_count": null,
            "_view_module": "@jupyter-widgets/base",
            "_view_module_version": "1.2.0",
            "_view_name": "LayoutView",
            "align_content": null,
            "align_items": null,
            "align_self": null,
            "border": null,
            "bottom": null,
            "display": null,
            "flex": null,
            "flex_flow": null,
            "grid_area": null,
            "grid_auto_columns": null,
            "grid_auto_flow": null,
            "grid_auto_rows": null,
            "grid_column": null,
            "grid_gap": null,
            "grid_row": null,
            "grid_template_areas": null,
            "grid_template_columns": null,
            "grid_template_rows": null,
            "height": null,
            "justify_content": null,
            "justify_items": null,
            "left": null,
            "margin": null,
            "max_height": null,
            "max_width": null,
            "min_height": null,
            "min_width": null,
            "object_fit": null,
            "object_position": null,
            "order": null,
            "overflow": null,
            "overflow_x": null,
            "overflow_y": null,
            "padding": null,
            "right": null,
            "top": null,
            "visibility": null,
            "width": null
          }
        },
        "20622f70f98e4d77a727b7ed09499216": {
          "model_module": "@jupyter-widgets/controls",
          "model_module_version": "1.5.0",
          "model_name": "DescriptionStyleModel",
          "state": {
            "_model_module": "@jupyter-widgets/controls",
            "_model_module_version": "1.5.0",
            "_model_name": "DescriptionStyleModel",
            "_view_count": null,
            "_view_module": "@jupyter-widgets/base",
            "_view_module_version": "1.2.0",
            "_view_name": "StyleView",
            "description_width": ""
          }
        },
        "2082fb060cdd4d5d8ab0a2672d9664be": {
          "model_module": "@jupyter-widgets/controls",
          "model_module_version": "1.5.0",
          "model_name": "DescriptionStyleModel",
          "state": {
            "_model_module": "@jupyter-widgets/controls",
            "_model_module_version": "1.5.0",
            "_model_name": "DescriptionStyleModel",
            "_view_count": null,
            "_view_module": "@jupyter-widgets/base",
            "_view_module_version": "1.2.0",
            "_view_name": "StyleView",
            "description_width": ""
          }
        },
        "22a6a755cdcf42ca890e9d85d506757b": {
          "model_module": "@jupyter-widgets/controls",
          "model_module_version": "1.5.0",
          "model_name": "FloatProgressModel",
          "state": {
            "_dom_classes": [],
            "_model_module": "@jupyter-widgets/controls",
            "_model_module_version": "1.5.0",
            "_model_name": "FloatProgressModel",
            "_view_count": null,
            "_view_module": "@jupyter-widgets/controls",
            "_view_module_version": "1.5.0",
            "_view_name": "ProgressView",
            "bar_style": "success",
            "description": "",
            "description_tooltip": null,
            "layout": "IPY_MODEL_fd09155cd2f446e9adcccea78124dd39",
            "max": 1345068539,
            "min": 0,
            "orientation": "horizontal",
            "style": "IPY_MODEL_fae13b903e3248f38fee68d53779efac",
            "value": 1345068539
          }
        },
        "2367e86ea5f94733a5062bd896f18c68": {
          "model_module": "@jupyter-widgets/controls",
          "model_module_version": "1.5.0",
          "model_name": "DescriptionStyleModel",
          "state": {
            "_model_module": "@jupyter-widgets/controls",
            "_model_module_version": "1.5.0",
            "_model_name": "DescriptionStyleModel",
            "_view_count": null,
            "_view_module": "@jupyter-widgets/base",
            "_view_module_version": "1.2.0",
            "_view_name": "StyleView",
            "description_width": ""
          }
        },
        "246acdda88d04a169408b24f837b1667": {
          "model_module": "@jupyter-widgets/base",
          "model_module_version": "1.2.0",
          "model_name": "LayoutModel",
          "state": {
            "_model_module": "@jupyter-widgets/base",
            "_model_module_version": "1.2.0",
            "_model_name": "LayoutModel",
            "_view_count": null,
            "_view_module": "@jupyter-widgets/base",
            "_view_module_version": "1.2.0",
            "_view_name": "LayoutView",
            "align_content": null,
            "align_items": null,
            "align_self": null,
            "border": null,
            "bottom": null,
            "display": null,
            "flex": null,
            "flex_flow": null,
            "grid_area": null,
            "grid_auto_columns": null,
            "grid_auto_flow": null,
            "grid_auto_rows": null,
            "grid_column": null,
            "grid_gap": null,
            "grid_row": null,
            "grid_template_areas": null,
            "grid_template_columns": null,
            "grid_template_rows": null,
            "height": null,
            "justify_content": null,
            "justify_items": null,
            "left": null,
            "margin": null,
            "max_height": null,
            "max_width": null,
            "min_height": null,
            "min_width": null,
            "object_fit": null,
            "object_position": null,
            "order": null,
            "overflow": null,
            "overflow_x": null,
            "overflow_y": null,
            "padding": null,
            "right": null,
            "top": null,
            "visibility": null,
            "width": null
          }
        },
        "253b4e03f6794567bf9f492bb7c33c82": {
          "model_module": "@jupyter-widgets/controls",
          "model_module_version": "1.5.0",
          "model_name": "HTMLModel",
          "state": {
            "_dom_classes": [],
            "_model_module": "@jupyter-widgets/controls",
            "_model_module_version": "1.5.0",
            "_model_name": "HTMLModel",
            "_view_count": null,
            "_view_module": "@jupyter-widgets/controls",
            "_view_module_version": "1.5.0",
            "_view_name": "HTMLView",
            "description": "",
            "description_tooltip": null,
            "layout": "IPY_MODEL_6e8fd37f265241f184097da39657840a",
            "placeholder": "​",
            "style": "IPY_MODEL_2367e86ea5f94733a5062bd896f18c68",
            "value": "Downloading: 100%"
          }
        },
        "271fefa47e6f41a885665279ea9a28f0": {
          "model_module": "@jupyter-widgets/base",
          "model_module_version": "1.2.0",
          "model_name": "LayoutModel",
          "state": {
            "_model_module": "@jupyter-widgets/base",
            "_model_module_version": "1.2.0",
            "_model_name": "LayoutModel",
            "_view_count": null,
            "_view_module": "@jupyter-widgets/base",
            "_view_module_version": "1.2.0",
            "_view_name": "LayoutView",
            "align_content": null,
            "align_items": null,
            "align_self": null,
            "border": null,
            "bottom": null,
            "display": null,
            "flex": null,
            "flex_flow": null,
            "grid_area": null,
            "grid_auto_columns": null,
            "grid_auto_flow": null,
            "grid_auto_rows": null,
            "grid_column": null,
            "grid_gap": null,
            "grid_row": null,
            "grid_template_areas": null,
            "grid_template_columns": null,
            "grid_template_rows": null,
            "height": null,
            "justify_content": null,
            "justify_items": null,
            "left": null,
            "margin": null,
            "max_height": null,
            "max_width": null,
            "min_height": null,
            "min_width": null,
            "object_fit": null,
            "object_position": null,
            "order": null,
            "overflow": null,
            "overflow_x": null,
            "overflow_y": null,
            "padding": null,
            "right": null,
            "top": null,
            "visibility": null,
            "width": null
          }
        },
        "2d188c7bb13d460db59ee252cd4b1149": {
          "model_module": "@jupyter-widgets/controls",
          "model_module_version": "1.5.0",
          "model_name": "ProgressStyleModel",
          "state": {
            "_model_module": "@jupyter-widgets/controls",
            "_model_module_version": "1.5.0",
            "_model_name": "ProgressStyleModel",
            "_view_count": null,
            "_view_module": "@jupyter-widgets/base",
            "_view_module_version": "1.2.0",
            "_view_name": "StyleView",
            "bar_color": null,
            "description_width": ""
          }
        },
        "338834df2ed44aec82fd5232c9f80c28": {
          "model_module": "@jupyter-widgets/base",
          "model_module_version": "1.2.0",
          "model_name": "LayoutModel",
          "state": {
            "_model_module": "@jupyter-widgets/base",
            "_model_module_version": "1.2.0",
            "_model_name": "LayoutModel",
            "_view_count": null,
            "_view_module": "@jupyter-widgets/base",
            "_view_module_version": "1.2.0",
            "_view_name": "LayoutView",
            "align_content": null,
            "align_items": null,
            "align_self": null,
            "border": null,
            "bottom": null,
            "display": null,
            "flex": null,
            "flex_flow": null,
            "grid_area": null,
            "grid_auto_columns": null,
            "grid_auto_flow": null,
            "grid_auto_rows": null,
            "grid_column": null,
            "grid_gap": null,
            "grid_row": null,
            "grid_template_areas": null,
            "grid_template_columns": null,
            "grid_template_rows": null,
            "height": null,
            "justify_content": null,
            "justify_items": null,
            "left": null,
            "margin": null,
            "max_height": null,
            "max_width": null,
            "min_height": null,
            "min_width": null,
            "object_fit": null,
            "object_position": null,
            "order": null,
            "overflow": null,
            "overflow_x": null,
            "overflow_y": null,
            "padding": null,
            "right": null,
            "top": null,
            "visibility": null,
            "width": null
          }
        },
        "33e4e83d5aef47b5876f46f29ef28b1e": {
          "model_module": "@jupyter-widgets/controls",
          "model_module_version": "1.5.0",
          "model_name": "DescriptionStyleModel",
          "state": {
            "_model_module": "@jupyter-widgets/controls",
            "_model_module_version": "1.5.0",
            "_model_name": "DescriptionStyleModel",
            "_view_count": null,
            "_view_module": "@jupyter-widgets/base",
            "_view_module_version": "1.2.0",
            "_view_name": "StyleView",
            "description_width": ""
          }
        },
        "35560400f4bd44d29b0dbf55b978290d": {
          "model_module": "@jupyter-widgets/controls",
          "model_module_version": "1.5.0",
          "model_name": "DescriptionStyleModel",
          "state": {
            "_model_module": "@jupyter-widgets/controls",
            "_model_module_version": "1.5.0",
            "_model_name": "DescriptionStyleModel",
            "_view_count": null,
            "_view_module": "@jupyter-widgets/base",
            "_view_module_version": "1.2.0",
            "_view_name": "StyleView",
            "description_width": ""
          }
        },
        "3f42077bc0344675a811103d9c04f2c2": {
          "model_module": "@jupyter-widgets/base",
          "model_module_version": "1.2.0",
          "model_name": "LayoutModel",
          "state": {
            "_model_module": "@jupyter-widgets/base",
            "_model_module_version": "1.2.0",
            "_model_name": "LayoutModel",
            "_view_count": null,
            "_view_module": "@jupyter-widgets/base",
            "_view_module_version": "1.2.0",
            "_view_name": "LayoutView",
            "align_content": null,
            "align_items": null,
            "align_self": null,
            "border": null,
            "bottom": null,
            "display": null,
            "flex": null,
            "flex_flow": null,
            "grid_area": null,
            "grid_auto_columns": null,
            "grid_auto_flow": null,
            "grid_auto_rows": null,
            "grid_column": null,
            "grid_gap": null,
            "grid_row": null,
            "grid_template_areas": null,
            "grid_template_columns": null,
            "grid_template_rows": null,
            "height": null,
            "justify_content": null,
            "justify_items": null,
            "left": null,
            "margin": null,
            "max_height": null,
            "max_width": null,
            "min_height": null,
            "min_width": null,
            "object_fit": null,
            "object_position": null,
            "order": null,
            "overflow": null,
            "overflow_x": null,
            "overflow_y": null,
            "padding": null,
            "right": null,
            "top": null,
            "visibility": null,
            "width": null
          }
        },
        "42e3f70f30ab4dfeb545b033c0d2666a": {
          "model_module": "@jupyter-widgets/controls",
          "model_module_version": "1.5.0",
          "model_name": "DescriptionStyleModel",
          "state": {
            "_model_module": "@jupyter-widgets/controls",
            "_model_module_version": "1.5.0",
            "_model_name": "DescriptionStyleModel",
            "_view_count": null,
            "_view_module": "@jupyter-widgets/base",
            "_view_module_version": "1.2.0",
            "_view_name": "StyleView",
            "description_width": ""
          }
        },
        "44d61af4faf74718a494f3be30c2f526": {
          "model_module": "@jupyter-widgets/controls",
          "model_module_version": "1.5.0",
          "model_name": "DescriptionStyleModel",
          "state": {
            "_model_module": "@jupyter-widgets/controls",
            "_model_module_version": "1.5.0",
            "_model_name": "DescriptionStyleModel",
            "_view_count": null,
            "_view_module": "@jupyter-widgets/base",
            "_view_module_version": "1.2.0",
            "_view_name": "StyleView",
            "description_width": ""
          }
        },
        "47c67a3b20ac4683bfb2170fb125a32e": {
          "model_module": "@jupyter-widgets/controls",
          "model_module_version": "1.5.0",
          "model_name": "FloatProgressModel",
          "state": {
            "_dom_classes": [],
            "_model_module": "@jupyter-widgets/controls",
            "_model_module_version": "1.5.0",
            "_model_name": "FloatProgressModel",
            "_view_count": null,
            "_view_module": "@jupyter-widgets/controls",
            "_view_module_version": "1.5.0",
            "_view_name": "ProgressView",
            "bar_style": "success",
            "description": "",
            "description_tooltip": null,
            "layout": "IPY_MODEL_b00b64d59aee4e8aa9f1bf1b48a684af",
            "max": 112,
            "min": 0,
            "orientation": "horizontal",
            "style": "IPY_MODEL_2d188c7bb13d460db59ee252cd4b1149",
            "value": 112
          }
        },
        "4d85106d4c4745fcb71604a3f441e14d": {
          "model_module": "@jupyter-widgets/base",
          "model_module_version": "1.2.0",
          "model_name": "LayoutModel",
          "state": {
            "_model_module": "@jupyter-widgets/base",
            "_model_module_version": "1.2.0",
            "_model_name": "LayoutModel",
            "_view_count": null,
            "_view_module": "@jupyter-widgets/base",
            "_view_module_version": "1.2.0",
            "_view_name": "LayoutView",
            "align_content": null,
            "align_items": null,
            "align_self": null,
            "border": null,
            "bottom": null,
            "display": null,
            "flex": null,
            "flex_flow": null,
            "grid_area": null,
            "grid_auto_columns": null,
            "grid_auto_flow": null,
            "grid_auto_rows": null,
            "grid_column": null,
            "grid_gap": null,
            "grid_row": null,
            "grid_template_areas": null,
            "grid_template_columns": null,
            "grid_template_rows": null,
            "height": null,
            "justify_content": null,
            "justify_items": null,
            "left": null,
            "margin": null,
            "max_height": null,
            "max_width": null,
            "min_height": null,
            "min_width": null,
            "object_fit": null,
            "object_position": null,
            "order": null,
            "overflow": null,
            "overflow_x": null,
            "overflow_y": null,
            "padding": null,
            "right": null,
            "top": null,
            "visibility": null,
            "width": null
          }
        },
        "4e65b387a42a47ed93b43f57c273a41d": {
          "model_module": "@jupyter-widgets/controls",
          "model_module_version": "1.5.0",
          "model_name": "FloatProgressModel",
          "state": {
            "_dom_classes": [],
            "_model_module": "@jupyter-widgets/controls",
            "_model_module_version": "1.5.0",
            "_model_name": "FloatProgressModel",
            "_view_count": null,
            "_view_module": "@jupyter-widgets/controls",
            "_view_module_version": "1.5.0",
            "_view_name": "ProgressView",
            "bar_style": "success",
            "description": "",
            "description_tooltip": null,
            "layout": "IPY_MODEL_a3852769ca2b4d858394bddc22943cdf",
            "max": 421,
            "min": 0,
            "orientation": "horizontal",
            "style": "IPY_MODEL_bb9cdd2489f14b5f843283807a14285c",
            "value": 421
          }
        },
        "53b15c7040564bdda2ae6c53f3aa9422": {
          "model_module": "@jupyter-widgets/controls",
          "model_module_version": "1.5.0",
          "model_name": "HBoxModel",
          "state": {
            "_dom_classes": [],
            "_model_module": "@jupyter-widgets/controls",
            "_model_module_version": "1.5.0",
            "_model_name": "HBoxModel",
            "_view_count": null,
            "_view_module": "@jupyter-widgets/controls",
            "_view_module_version": "1.5.0",
            "_view_name": "HBoxView",
            "box_style": "",
            "children": [
              "IPY_MODEL_5f6404db4dca40fda3e9d40d564974a9",
              "IPY_MODEL_05265285583b4ab3bb01b99c5901efaf",
              "IPY_MODEL_71e13b4fa9e6447483c140c7cbed12ef"
            ],
            "layout": "IPY_MODEL_4d85106d4c4745fcb71604a3f441e14d"
          }
        },
        "5f6404db4dca40fda3e9d40d564974a9": {
          "model_module": "@jupyter-widgets/controls",
          "model_module_version": "1.5.0",
          "model_name": "HTMLModel",
          "state": {
            "_dom_classes": [],
            "_model_module": "@jupyter-widgets/controls",
            "_model_module_version": "1.5.0",
            "_model_name": "HTMLModel",
            "_view_count": null,
            "_view_module": "@jupyter-widgets/controls",
            "_view_module_version": "1.5.0",
            "_view_name": "HTMLView",
            "description": "",
            "description_tooltip": null,
            "layout": "IPY_MODEL_246acdda88d04a169408b24f837b1667",
            "placeholder": "​",
            "style": "IPY_MODEL_2082fb060cdd4d5d8ab0a2672d9664be",
            "value": "Downloading: 100%"
          }
        },
        "613fc903a93f444287d6a7c5c3eabdd3": {
          "model_module": "@jupyter-widgets/controls",
          "model_module_version": "1.5.0",
          "model_name": "HTMLModel",
          "state": {
            "_dom_classes": [],
            "_model_module": "@jupyter-widgets/controls",
            "_model_module_version": "1.5.0",
            "_model_name": "HTMLModel",
            "_view_count": null,
            "_view_module": "@jupyter-widgets/controls",
            "_view_module_version": "1.5.0",
            "_view_name": "HTMLView",
            "description": "",
            "description_tooltip": null,
            "layout": "IPY_MODEL_3f42077bc0344675a811103d9c04f2c2",
            "placeholder": "​",
            "style": "IPY_MODEL_7447f348e1714da28cf034db5d80a9e7",
            "value": " 421/421 [00:00&lt;00:00, 10.4kB/s]"
          }
        },
        "6cc6d5232386447b91afb972b496fad5": {
          "model_module": "@jupyter-widgets/controls",
          "model_module_version": "1.5.0",
          "model_name": "HBoxModel",
          "state": {
            "_dom_classes": [],
            "_model_module": "@jupyter-widgets/controls",
            "_model_module_version": "1.5.0",
            "_model_name": "HBoxModel",
            "_view_count": null,
            "_view_module": "@jupyter-widgets/controls",
            "_view_module_version": "1.5.0",
            "_view_name": "HBoxView",
            "box_style": "",
            "children": [
              "IPY_MODEL_253b4e03f6794567bf9f492bb7c33c82",
              "IPY_MODEL_22a6a755cdcf42ca890e9d85d506757b",
              "IPY_MODEL_a2f1470c389644ca921797428b7bcc8f"
            ],
            "layout": "IPY_MODEL_a9e28fee887a42b296492c0698375cfc"
          }
        },
        "6d1ce145bdc44acb80e7c82f6a431aa2": {
          "model_module": "@jupyter-widgets/controls",
          "model_module_version": "1.5.0",
          "model_name": "HBoxModel",
          "state": {
            "_dom_classes": [],
            "_model_module": "@jupyter-widgets/controls",
            "_model_module_version": "1.5.0",
            "_model_name": "HBoxModel",
            "_view_count": null,
            "_view_module": "@jupyter-widgets/controls",
            "_view_module_version": "1.5.0",
            "_view_name": "HBoxView",
            "box_style": "",
            "children": [
              "IPY_MODEL_f6eb1fd4012145a5a0f8a547eac11a23",
              "IPY_MODEL_1acabd9f4a70431893b972228376e0f0",
              "IPY_MODEL_b76f6218acd34de5856f13a5f7f9cff4"
            ],
            "layout": "IPY_MODEL_e499f3487fd4464f9acde72369eafbcf"
          }
        },
        "6e8fd37f265241f184097da39657840a": {
          "model_module": "@jupyter-widgets/base",
          "model_module_version": "1.2.0",
          "model_name": "LayoutModel",
          "state": {
            "_model_module": "@jupyter-widgets/base",
            "_model_module_version": "1.2.0",
            "_model_name": "LayoutModel",
            "_view_count": null,
            "_view_module": "@jupyter-widgets/base",
            "_view_module_version": "1.2.0",
            "_view_name": "LayoutView",
            "align_content": null,
            "align_items": null,
            "align_self": null,
            "border": null,
            "bottom": null,
            "display": null,
            "flex": null,
            "flex_flow": null,
            "grid_area": null,
            "grid_auto_columns": null,
            "grid_auto_flow": null,
            "grid_auto_rows": null,
            "grid_column": null,
            "grid_gap": null,
            "grid_row": null,
            "grid_template_areas": null,
            "grid_template_columns": null,
            "grid_template_rows": null,
            "height": null,
            "justify_content": null,
            "justify_items": null,
            "left": null,
            "margin": null,
            "max_height": null,
            "max_width": null,
            "min_height": null,
            "min_width": null,
            "object_fit": null,
            "object_position": null,
            "order": null,
            "overflow": null,
            "overflow_x": null,
            "overflow_y": null,
            "padding": null,
            "right": null,
            "top": null,
            "visibility": null,
            "width": null
          }
        },
        "71e13b4fa9e6447483c140c7cbed12ef": {
          "model_module": "@jupyter-widgets/controls",
          "model_module_version": "1.5.0",
          "model_name": "HTMLModel",
          "state": {
            "_dom_classes": [],
            "_model_module": "@jupyter-widgets/controls",
            "_model_module_version": "1.5.0",
            "_model_name": "HTMLModel",
            "_view_count": null,
            "_view_module": "@jupyter-widgets/controls",
            "_view_module_version": "1.5.0",
            "_view_name": "HTMLView",
            "description": "",
            "description_tooltip": null,
            "layout": "IPY_MODEL_e09a4b5627be492da80931953e149b3d",
            "placeholder": "​",
            "style": "IPY_MODEL_44d61af4faf74718a494f3be30c2f526",
            "value": " 232k/232k [00:00&lt;00:00, 1.41MB/s]"
          }
        },
        "7447f348e1714da28cf034db5d80a9e7": {
          "model_module": "@jupyter-widgets/controls",
          "model_module_version": "1.5.0",
          "model_name": "DescriptionStyleModel",
          "state": {
            "_model_module": "@jupyter-widgets/controls",
            "_model_module_version": "1.5.0",
            "_model_name": "DescriptionStyleModel",
            "_view_count": null,
            "_view_module": "@jupyter-widgets/base",
            "_view_module_version": "1.2.0",
            "_view_name": "StyleView",
            "description_width": ""
          }
        },
        "98780fbd2e9146479dcdccd052ee2a00": {
          "model_module": "@jupyter-widgets/controls",
          "model_module_version": "1.5.0",
          "model_name": "HTMLModel",
          "state": {
            "_dom_classes": [],
            "_model_module": "@jupyter-widgets/controls",
            "_model_module_version": "1.5.0",
            "_model_name": "HTMLModel",
            "_view_count": null,
            "_view_module": "@jupyter-widgets/controls",
            "_view_module_version": "1.5.0",
            "_view_name": "HTMLView",
            "description": "",
            "description_tooltip": null,
            "layout": "IPY_MODEL_9cf5ec984f3b4919960b2f3db8147970",
            "placeholder": "​",
            "style": "IPY_MODEL_a0eff78aade24ed7bf9cf459ffcc39ad",
            "value": " 112/112 [00:00&lt;00:00, 1.99kB/s]"
          }
        },
        "9cf5ec984f3b4919960b2f3db8147970": {
          "model_module": "@jupyter-widgets/base",
          "model_module_version": "1.2.0",
          "model_name": "LayoutModel",
          "state": {
            "_model_module": "@jupyter-widgets/base",
            "_model_module_version": "1.2.0",
            "_model_name": "LayoutModel",
            "_view_count": null,
            "_view_module": "@jupyter-widgets/base",
            "_view_module_version": "1.2.0",
            "_view_name": "LayoutView",
            "align_content": null,
            "align_items": null,
            "align_self": null,
            "border": null,
            "bottom": null,
            "display": null,
            "flex": null,
            "flex_flow": null,
            "grid_area": null,
            "grid_auto_columns": null,
            "grid_auto_flow": null,
            "grid_auto_rows": null,
            "grid_column": null,
            "grid_gap": null,
            "grid_row": null,
            "grid_template_areas": null,
            "grid_template_columns": null,
            "grid_template_rows": null,
            "height": null,
            "justify_content": null,
            "justify_items": null,
            "left": null,
            "margin": null,
            "max_height": null,
            "max_width": null,
            "min_height": null,
            "min_width": null,
            "object_fit": null,
            "object_position": null,
            "order": null,
            "overflow": null,
            "overflow_x": null,
            "overflow_y": null,
            "padding": null,
            "right": null,
            "top": null,
            "visibility": null,
            "width": null
          }
        },
        "a0eff78aade24ed7bf9cf459ffcc39ad": {
          "model_module": "@jupyter-widgets/controls",
          "model_module_version": "1.5.0",
          "model_name": "DescriptionStyleModel",
          "state": {
            "_model_module": "@jupyter-widgets/controls",
            "_model_module_version": "1.5.0",
            "_model_name": "DescriptionStyleModel",
            "_view_count": null,
            "_view_module": "@jupyter-widgets/base",
            "_view_module_version": "1.2.0",
            "_view_name": "StyleView",
            "description_width": ""
          }
        },
        "a2f1470c389644ca921797428b7bcc8f": {
          "model_module": "@jupyter-widgets/controls",
          "model_module_version": "1.5.0",
          "model_name": "HTMLModel",
          "state": {
            "_dom_classes": [],
            "_model_module": "@jupyter-widgets/controls",
            "_model_module_version": "1.5.0",
            "_model_name": "HTMLModel",
            "_view_count": null,
            "_view_module": "@jupyter-widgets/controls",
            "_view_module_version": "1.5.0",
            "_view_name": "HTMLView",
            "description": "",
            "description_tooltip": null,
            "layout": "IPY_MODEL_ff06595be3df443fb6ee5ba08a800fe5",
            "placeholder": "​",
            "style": "IPY_MODEL_20622f70f98e4d77a727b7ed09499216",
            "value": " 1.35G/1.35G [00:35&lt;00:00, 46.2MB/s]"
          }
        },
        "a3852769ca2b4d858394bddc22943cdf": {
          "model_module": "@jupyter-widgets/base",
          "model_module_version": "1.2.0",
          "model_name": "LayoutModel",
          "state": {
            "_model_module": "@jupyter-widgets/base",
            "_model_module_version": "1.2.0",
            "_model_name": "LayoutModel",
            "_view_count": null,
            "_view_module": "@jupyter-widgets/base",
            "_view_module_version": "1.2.0",
            "_view_name": "LayoutView",
            "align_content": null,
            "align_items": null,
            "align_self": null,
            "border": null,
            "bottom": null,
            "display": null,
            "flex": null,
            "flex_flow": null,
            "grid_area": null,
            "grid_auto_columns": null,
            "grid_auto_flow": null,
            "grid_auto_rows": null,
            "grid_column": null,
            "grid_gap": null,
            "grid_row": null,
            "grid_template_areas": null,
            "grid_template_columns": null,
            "grid_template_rows": null,
            "height": null,
            "justify_content": null,
            "justify_items": null,
            "left": null,
            "margin": null,
            "max_height": null,
            "max_width": null,
            "min_height": null,
            "min_width": null,
            "object_fit": null,
            "object_position": null,
            "order": null,
            "overflow": null,
            "overflow_x": null,
            "overflow_y": null,
            "padding": null,
            "right": null,
            "top": null,
            "visibility": null,
            "width": null
          }
        },
        "a9e28fee887a42b296492c0698375cfc": {
          "model_module": "@jupyter-widgets/base",
          "model_module_version": "1.2.0",
          "model_name": "LayoutModel",
          "state": {
            "_model_module": "@jupyter-widgets/base",
            "_model_module_version": "1.2.0",
            "_model_name": "LayoutModel",
            "_view_count": null,
            "_view_module": "@jupyter-widgets/base",
            "_view_module_version": "1.2.0",
            "_view_name": "LayoutView",
            "align_content": null,
            "align_items": null,
            "align_self": null,
            "border": null,
            "bottom": null,
            "display": null,
            "flex": null,
            "flex_flow": null,
            "grid_area": null,
            "grid_auto_columns": null,
            "grid_auto_flow": null,
            "grid_auto_rows": null,
            "grid_column": null,
            "grid_gap": null,
            "grid_row": null,
            "grid_template_areas": null,
            "grid_template_columns": null,
            "grid_template_rows": null,
            "height": null,
            "justify_content": null,
            "justify_items": null,
            "left": null,
            "margin": null,
            "max_height": null,
            "max_width": null,
            "min_height": null,
            "min_width": null,
            "object_fit": null,
            "object_position": null,
            "order": null,
            "overflow": null,
            "overflow_x": null,
            "overflow_y": null,
            "padding": null,
            "right": null,
            "top": null,
            "visibility": null,
            "width": null
          }
        },
        "b00b64d59aee4e8aa9f1bf1b48a684af": {
          "model_module": "@jupyter-widgets/base",
          "model_module_version": "1.2.0",
          "model_name": "LayoutModel",
          "state": {
            "_model_module": "@jupyter-widgets/base",
            "_model_module_version": "1.2.0",
            "_model_name": "LayoutModel",
            "_view_count": null,
            "_view_module": "@jupyter-widgets/base",
            "_view_module_version": "1.2.0",
            "_view_name": "LayoutView",
            "align_content": null,
            "align_items": null,
            "align_self": null,
            "border": null,
            "bottom": null,
            "display": null,
            "flex": null,
            "flex_flow": null,
            "grid_area": null,
            "grid_auto_columns": null,
            "grid_auto_flow": null,
            "grid_auto_rows": null,
            "grid_column": null,
            "grid_gap": null,
            "grid_row": null,
            "grid_template_areas": null,
            "grid_template_columns": null,
            "grid_template_rows": null,
            "height": null,
            "justify_content": null,
            "justify_items": null,
            "left": null,
            "margin": null,
            "max_height": null,
            "max_width": null,
            "min_height": null,
            "min_width": null,
            "object_fit": null,
            "object_position": null,
            "order": null,
            "overflow": null,
            "overflow_x": null,
            "overflow_y": null,
            "padding": null,
            "right": null,
            "top": null,
            "visibility": null,
            "width": null
          }
        },
        "b76f6218acd34de5856f13a5f7f9cff4": {
          "model_module": "@jupyter-widgets/controls",
          "model_module_version": "1.5.0",
          "model_name": "HTMLModel",
          "state": {
            "_dom_classes": [],
            "_model_module": "@jupyter-widgets/controls",
            "_model_module_version": "1.5.0",
            "_model_name": "HTMLModel",
            "_view_count": null,
            "_view_module": "@jupyter-widgets/controls",
            "_view_module_version": "1.5.0",
            "_view_name": "HTMLView",
            "description": "",
            "description_tooltip": null,
            "layout": "IPY_MODEL_271fefa47e6f41a885665279ea9a28f0",
            "placeholder": "​",
            "style": "IPY_MODEL_33e4e83d5aef47b5876f46f29ef28b1e",
            "value": " 62.0/62.0 [00:00&lt;00:00, 1.68kB/s]"
          }
        },
        "bacbc844d6eb4aa18dc73846574171c0": {
          "model_module": "@jupyter-widgets/base",
          "model_module_version": "1.2.0",
          "model_name": "LayoutModel",
          "state": {
            "_model_module": "@jupyter-widgets/base",
            "_model_module_version": "1.2.0",
            "_model_name": "LayoutModel",
            "_view_count": null,
            "_view_module": "@jupyter-widgets/base",
            "_view_module_version": "1.2.0",
            "_view_name": "LayoutView",
            "align_content": null,
            "align_items": null,
            "align_self": null,
            "border": null,
            "bottom": null,
            "display": null,
            "flex": null,
            "flex_flow": null,
            "grid_area": null,
            "grid_auto_columns": null,
            "grid_auto_flow": null,
            "grid_auto_rows": null,
            "grid_column": null,
            "grid_gap": null,
            "grid_row": null,
            "grid_template_areas": null,
            "grid_template_columns": null,
            "grid_template_rows": null,
            "height": null,
            "justify_content": null,
            "justify_items": null,
            "left": null,
            "margin": null,
            "max_height": null,
            "max_width": null,
            "min_height": null,
            "min_width": null,
            "object_fit": null,
            "object_position": null,
            "order": null,
            "overflow": null,
            "overflow_x": null,
            "overflow_y": null,
            "padding": null,
            "right": null,
            "top": null,
            "visibility": null,
            "width": null
          }
        },
        "bb9cdd2489f14b5f843283807a14285c": {
          "model_module": "@jupyter-widgets/controls",
          "model_module_version": "1.5.0",
          "model_name": "ProgressStyleModel",
          "state": {
            "_model_module": "@jupyter-widgets/controls",
            "_model_module_version": "1.5.0",
            "_model_name": "ProgressStyleModel",
            "_view_count": null,
            "_view_module": "@jupyter-widgets/base",
            "_view_module_version": "1.2.0",
            "_view_name": "StyleView",
            "bar_color": null,
            "description_width": ""
          }
        },
        "bf3821b36aa045bc9e6e4407f1ff8f3a": {
          "model_module": "@jupyter-widgets/controls",
          "model_module_version": "1.5.0",
          "model_name": "DescriptionStyleModel",
          "state": {
            "_model_module": "@jupyter-widgets/controls",
            "_model_module_version": "1.5.0",
            "_model_name": "DescriptionStyleModel",
            "_view_count": null,
            "_view_module": "@jupyter-widgets/base",
            "_view_module_version": "1.2.0",
            "_view_name": "StyleView",
            "description_width": ""
          }
        },
        "c8477ae1ed92441a966da6a35bcab835": {
          "model_module": "@jupyter-widgets/controls",
          "model_module_version": "1.5.0",
          "model_name": "HTMLModel",
          "state": {
            "_dom_classes": [],
            "_model_module": "@jupyter-widgets/controls",
            "_model_module_version": "1.5.0",
            "_model_name": "HTMLModel",
            "_view_count": null,
            "_view_module": "@jupyter-widgets/controls",
            "_view_module_version": "1.5.0",
            "_view_name": "HTMLView",
            "description": "",
            "description_tooltip": null,
            "layout": "IPY_MODEL_338834df2ed44aec82fd5232c9f80c28",
            "placeholder": "​",
            "style": "IPY_MODEL_42e3f70f30ab4dfeb545b033c0d2666a",
            "value": "Downloading: 100%"
          }
        },
        "caf0b23a5f3d4e809847d5bc3df269eb": {
          "model_module": "@jupyter-widgets/base",
          "model_module_version": "1.2.0",
          "model_name": "LayoutModel",
          "state": {
            "_model_module": "@jupyter-widgets/base",
            "_model_module_version": "1.2.0",
            "_model_name": "LayoutModel",
            "_view_count": null,
            "_view_module": "@jupyter-widgets/base",
            "_view_module_version": "1.2.0",
            "_view_name": "LayoutView",
            "align_content": null,
            "align_items": null,
            "align_self": null,
            "border": null,
            "bottom": null,
            "display": null,
            "flex": null,
            "flex_flow": null,
            "grid_area": null,
            "grid_auto_columns": null,
            "grid_auto_flow": null,
            "grid_auto_rows": null,
            "grid_column": null,
            "grid_gap": null,
            "grid_row": null,
            "grid_template_areas": null,
            "grid_template_columns": null,
            "grid_template_rows": null,
            "height": null,
            "justify_content": null,
            "justify_items": null,
            "left": null,
            "margin": null,
            "max_height": null,
            "max_width": null,
            "min_height": null,
            "min_width": null,
            "object_fit": null,
            "object_position": null,
            "order": null,
            "overflow": null,
            "overflow_x": null,
            "overflow_y": null,
            "padding": null,
            "right": null,
            "top": null,
            "visibility": null,
            "width": null
          }
        },
        "dcb0f61db07249168f6ed3a2682be516": {
          "model_module": "@jupyter-widgets/controls",
          "model_module_version": "1.5.0",
          "model_name": "HTMLModel",
          "state": {
            "_dom_classes": [],
            "_model_module": "@jupyter-widgets/controls",
            "_model_module_version": "1.5.0",
            "_model_name": "HTMLModel",
            "_view_count": null,
            "_view_module": "@jupyter-widgets/controls",
            "_view_module_version": "1.5.0",
            "_view_name": "HTMLView",
            "description": "",
            "description_tooltip": null,
            "layout": "IPY_MODEL_1697b42719d44d6d92b25ae4441c8a51",
            "placeholder": "​",
            "style": "IPY_MODEL_bf3821b36aa045bc9e6e4407f1ff8f3a",
            "value": "Downloading: 100%"
          }
        },
        "dd4a5d8653b44f1c931658736ebd16e4": {
          "model_module": "@jupyter-widgets/base",
          "model_module_version": "1.2.0",
          "model_name": "LayoutModel",
          "state": {
            "_model_module": "@jupyter-widgets/base",
            "_model_module_version": "1.2.0",
            "_model_name": "LayoutModel",
            "_view_count": null,
            "_view_module": "@jupyter-widgets/base",
            "_view_module_version": "1.2.0",
            "_view_name": "LayoutView",
            "align_content": null,
            "align_items": null,
            "align_self": null,
            "border": null,
            "bottom": null,
            "display": null,
            "flex": null,
            "flex_flow": null,
            "grid_area": null,
            "grid_auto_columns": null,
            "grid_auto_flow": null,
            "grid_auto_rows": null,
            "grid_column": null,
            "grid_gap": null,
            "grid_row": null,
            "grid_template_areas": null,
            "grid_template_columns": null,
            "grid_template_rows": null,
            "height": null,
            "justify_content": null,
            "justify_items": null,
            "left": null,
            "margin": null,
            "max_height": null,
            "max_width": null,
            "min_height": null,
            "min_width": null,
            "object_fit": null,
            "object_position": null,
            "order": null,
            "overflow": null,
            "overflow_x": null,
            "overflow_y": null,
            "padding": null,
            "right": null,
            "top": null,
            "visibility": null,
            "width": null
          }
        },
        "e09a4b5627be492da80931953e149b3d": {
          "model_module": "@jupyter-widgets/base",
          "model_module_version": "1.2.0",
          "model_name": "LayoutModel",
          "state": {
            "_model_module": "@jupyter-widgets/base",
            "_model_module_version": "1.2.0",
            "_model_name": "LayoutModel",
            "_view_count": null,
            "_view_module": "@jupyter-widgets/base",
            "_view_module_version": "1.2.0",
            "_view_name": "LayoutView",
            "align_content": null,
            "align_items": null,
            "align_self": null,
            "border": null,
            "bottom": null,
            "display": null,
            "flex": null,
            "flex_flow": null,
            "grid_area": null,
            "grid_auto_columns": null,
            "grid_auto_flow": null,
            "grid_auto_rows": null,
            "grid_column": null,
            "grid_gap": null,
            "grid_row": null,
            "grid_template_areas": null,
            "grid_template_columns": null,
            "grid_template_rows": null,
            "height": null,
            "justify_content": null,
            "justify_items": null,
            "left": null,
            "margin": null,
            "max_height": null,
            "max_width": null,
            "min_height": null,
            "min_width": null,
            "object_fit": null,
            "object_position": null,
            "order": null,
            "overflow": null,
            "overflow_x": null,
            "overflow_y": null,
            "padding": null,
            "right": null,
            "top": null,
            "visibility": null,
            "width": null
          }
        },
        "e499f3487fd4464f9acde72369eafbcf": {
          "model_module": "@jupyter-widgets/base",
          "model_module_version": "1.2.0",
          "model_name": "LayoutModel",
          "state": {
            "_model_module": "@jupyter-widgets/base",
            "_model_module_version": "1.2.0",
            "_model_name": "LayoutModel",
            "_view_count": null,
            "_view_module": "@jupyter-widgets/base",
            "_view_module_version": "1.2.0",
            "_view_name": "LayoutView",
            "align_content": null,
            "align_items": null,
            "align_self": null,
            "border": null,
            "bottom": null,
            "display": null,
            "flex": null,
            "flex_flow": null,
            "grid_area": null,
            "grid_auto_columns": null,
            "grid_auto_flow": null,
            "grid_auto_rows": null,
            "grid_column": null,
            "grid_gap": null,
            "grid_row": null,
            "grid_template_areas": null,
            "grid_template_columns": null,
            "grid_template_rows": null,
            "height": null,
            "justify_content": null,
            "justify_items": null,
            "left": null,
            "margin": null,
            "max_height": null,
            "max_width": null,
            "min_height": null,
            "min_width": null,
            "object_fit": null,
            "object_position": null,
            "order": null,
            "overflow": null,
            "overflow_x": null,
            "overflow_y": null,
            "padding": null,
            "right": null,
            "top": null,
            "visibility": null,
            "width": null
          }
        },
        "e51171b86bea428f80e834d1f49b4ef3": {
          "model_module": "@jupyter-widgets/controls",
          "model_module_version": "1.5.0",
          "model_name": "ProgressStyleModel",
          "state": {
            "_model_module": "@jupyter-widgets/controls",
            "_model_module_version": "1.5.0",
            "_model_name": "ProgressStyleModel",
            "_view_count": null,
            "_view_module": "@jupyter-widgets/base",
            "_view_module_version": "1.2.0",
            "_view_name": "StyleView",
            "bar_color": null,
            "description_width": ""
          }
        },
        "f6eb1fd4012145a5a0f8a547eac11a23": {
          "model_module": "@jupyter-widgets/controls",
          "model_module_version": "1.5.0",
          "model_name": "HTMLModel",
          "state": {
            "_dom_classes": [],
            "_model_module": "@jupyter-widgets/controls",
            "_model_module_version": "1.5.0",
            "_model_name": "HTMLModel",
            "_view_count": null,
            "_view_module": "@jupyter-widgets/controls",
            "_view_module_version": "1.5.0",
            "_view_name": "HTMLView",
            "description": "",
            "description_tooltip": null,
            "layout": "IPY_MODEL_bacbc844d6eb4aa18dc73846574171c0",
            "placeholder": "​",
            "style": "IPY_MODEL_35560400f4bd44d29b0dbf55b978290d",
            "value": "Downloading: 100%"
          }
        },
        "fa144d58d3514122836503f240dd96b4": {
          "model_module": "@jupyter-widgets/base",
          "model_module_version": "1.2.0",
          "model_name": "LayoutModel",
          "state": {
            "_model_module": "@jupyter-widgets/base",
            "_model_module_version": "1.2.0",
            "_model_name": "LayoutModel",
            "_view_count": null,
            "_view_module": "@jupyter-widgets/base",
            "_view_module_version": "1.2.0",
            "_view_name": "LayoutView",
            "align_content": null,
            "align_items": null,
            "align_self": null,
            "border": null,
            "bottom": null,
            "display": null,
            "flex": null,
            "flex_flow": null,
            "grid_area": null,
            "grid_auto_columns": null,
            "grid_auto_flow": null,
            "grid_auto_rows": null,
            "grid_column": null,
            "grid_gap": null,
            "grid_row": null,
            "grid_template_areas": null,
            "grid_template_columns": null,
            "grid_template_rows": null,
            "height": null,
            "justify_content": null,
            "justify_items": null,
            "left": null,
            "margin": null,
            "max_height": null,
            "max_width": null,
            "min_height": null,
            "min_width": null,
            "object_fit": null,
            "object_position": null,
            "order": null,
            "overflow": null,
            "overflow_x": null,
            "overflow_y": null,
            "padding": null,
            "right": null,
            "top": null,
            "visibility": null,
            "width": null
          }
        },
        "fae13b903e3248f38fee68d53779efac": {
          "model_module": "@jupyter-widgets/controls",
          "model_module_version": "1.5.0",
          "model_name": "ProgressStyleModel",
          "state": {
            "_model_module": "@jupyter-widgets/controls",
            "_model_module_version": "1.5.0",
            "_model_name": "ProgressStyleModel",
            "_view_count": null,
            "_view_module": "@jupyter-widgets/base",
            "_view_module_version": "1.2.0",
            "_view_name": "StyleView",
            "bar_color": null,
            "description_width": ""
          }
        },
        "fbdcbf2b3d284d28a6fdf0a565625f25": {
          "model_module": "@jupyter-widgets/controls",
          "model_module_version": "1.5.0",
          "model_name": "ProgressStyleModel",
          "state": {
            "_model_module": "@jupyter-widgets/controls",
            "_model_module_version": "1.5.0",
            "_model_name": "ProgressStyleModel",
            "_view_count": null,
            "_view_module": "@jupyter-widgets/base",
            "_view_module_version": "1.2.0",
            "_view_name": "StyleView",
            "bar_color": null,
            "description_width": ""
          }
        },
        "fd09155cd2f446e9adcccea78124dd39": {
          "model_module": "@jupyter-widgets/base",
          "model_module_version": "1.2.0",
          "model_name": "LayoutModel",
          "state": {
            "_model_module": "@jupyter-widgets/base",
            "_model_module_version": "1.2.0",
            "_model_name": "LayoutModel",
            "_view_count": null,
            "_view_module": "@jupyter-widgets/base",
            "_view_module_version": "1.2.0",
            "_view_name": "LayoutView",
            "align_content": null,
            "align_items": null,
            "align_self": null,
            "border": null,
            "bottom": null,
            "display": null,
            "flex": null,
            "flex_flow": null,
            "grid_area": null,
            "grid_auto_columns": null,
            "grid_auto_flow": null,
            "grid_auto_rows": null,
            "grid_column": null,
            "grid_gap": null,
            "grid_row": null,
            "grid_template_areas": null,
            "grid_template_columns": null,
            "grid_template_rows": null,
            "height": null,
            "justify_content": null,
            "justify_items": null,
            "left": null,
            "margin": null,
            "max_height": null,
            "max_width": null,
            "min_height": null,
            "min_width": null,
            "object_fit": null,
            "object_position": null,
            "order": null,
            "overflow": null,
            "overflow_x": null,
            "overflow_y": null,
            "padding": null,
            "right": null,
            "top": null,
            "visibility": null,
            "width": null
          }
        },
        "ff06595be3df443fb6ee5ba08a800fe5": {
          "model_module": "@jupyter-widgets/base",
          "model_module_version": "1.2.0",
          "model_name": "LayoutModel",
          "state": {
            "_model_module": "@jupyter-widgets/base",
            "_model_module_version": "1.2.0",
            "_model_name": "LayoutModel",
            "_view_count": null,
            "_view_module": "@jupyter-widgets/base",
            "_view_module_version": "1.2.0",
            "_view_name": "LayoutView",
            "align_content": null,
            "align_items": null,
            "align_self": null,
            "border": null,
            "bottom": null,
            "display": null,
            "flex": null,
            "flex_flow": null,
            "grid_area": null,
            "grid_auto_columns": null,
            "grid_auto_flow": null,
            "grid_auto_rows": null,
            "grid_column": null,
            "grid_gap": null,
            "grid_row": null,
            "grid_template_areas": null,
            "grid_template_columns": null,
            "grid_template_rows": null,
            "height": null,
            "justify_content": null,
            "justify_items": null,
            "left": null,
            "margin": null,
            "max_height": null,
            "max_width": null,
            "min_height": null,
            "min_width": null,
            "object_fit": null,
            "object_position": null,
            "order": null,
            "overflow": null,
            "overflow_x": null,
            "overflow_y": null,
            "padding": null,
            "right": null,
            "top": null,
            "visibility": null,
            "width": null
          }
        }
      }
    }
  },
  "nbformat": 4,
  "nbformat_minor": 0
}